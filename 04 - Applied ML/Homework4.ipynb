{
 "cells": [
  {
   "cell_type": "markdown",
   "metadata": {},
   "source": [
    "# Answer 1 :  Propensity score matching\n",
    "\n",
    "## 1.1 The Naive Method\n",
    "\n",
    "We first import and load the data."
   ]
  },
  {
   "cell_type": "code",
   "execution_count": 162,
   "metadata": {
    "collapsed": true
   },
   "outputs": [],
   "source": [
    "import numpy as np\n",
    "import pandas as pd\n",
    "import matplotlib\n",
    "import matplotlib.pyplot as plt\n",
    "import seaborn as sbs\n",
    "from sklearn import linear_model\n",
    "import networkx as nx"
   ]
  },
  {
   "cell_type": "code",
   "execution_count": 163,
   "metadata": {
    "collapsed": true
   },
   "outputs": [],
   "source": [
    "def load_data(filename):\n",
    "    df = pd.read_csv(filename)\n",
    "    return df"
   ]
  },
  {
   "cell_type": "code",
   "execution_count": 164,
   "metadata": {},
   "outputs": [
    {
     "data": {
      "text/html": [
       "<div>\n",
       "<style>\n",
       "    .dataframe thead tr:only-child th {\n",
       "        text-align: right;\n",
       "    }\n",
       "\n",
       "    .dataframe thead th {\n",
       "        text-align: left;\n",
       "    }\n",
       "\n",
       "    .dataframe tbody tr th {\n",
       "        vertical-align: top;\n",
       "    }\n",
       "</style>\n",
       "<table border=\"1\" class=\"dataframe\">\n",
       "  <thead>\n",
       "    <tr style=\"text-align: right;\">\n",
       "      <th></th>\n",
       "      <th>id</th>\n",
       "      <th>treat</th>\n",
       "      <th>age</th>\n",
       "      <th>educ</th>\n",
       "      <th>black</th>\n",
       "      <th>hispan</th>\n",
       "      <th>married</th>\n",
       "      <th>nodegree</th>\n",
       "      <th>re74</th>\n",
       "      <th>re75</th>\n",
       "      <th>re78</th>\n",
       "    </tr>\n",
       "  </thead>\n",
       "  <tbody>\n",
       "    <tr>\n",
       "      <th>0</th>\n",
       "      <td>NSW1</td>\n",
       "      <td>1</td>\n",
       "      <td>37</td>\n",
       "      <td>11</td>\n",
       "      <td>1</td>\n",
       "      <td>0</td>\n",
       "      <td>1</td>\n",
       "      <td>1</td>\n",
       "      <td>0.0</td>\n",
       "      <td>0.0</td>\n",
       "      <td>9930.0460</td>\n",
       "    </tr>\n",
       "    <tr>\n",
       "      <th>1</th>\n",
       "      <td>NSW2</td>\n",
       "      <td>1</td>\n",
       "      <td>22</td>\n",
       "      <td>9</td>\n",
       "      <td>0</td>\n",
       "      <td>1</td>\n",
       "      <td>0</td>\n",
       "      <td>1</td>\n",
       "      <td>0.0</td>\n",
       "      <td>0.0</td>\n",
       "      <td>3595.8940</td>\n",
       "    </tr>\n",
       "    <tr>\n",
       "      <th>2</th>\n",
       "      <td>NSW3</td>\n",
       "      <td>1</td>\n",
       "      <td>30</td>\n",
       "      <td>12</td>\n",
       "      <td>1</td>\n",
       "      <td>0</td>\n",
       "      <td>0</td>\n",
       "      <td>0</td>\n",
       "      <td>0.0</td>\n",
       "      <td>0.0</td>\n",
       "      <td>24909.4500</td>\n",
       "    </tr>\n",
       "    <tr>\n",
       "      <th>3</th>\n",
       "      <td>NSW4</td>\n",
       "      <td>1</td>\n",
       "      <td>27</td>\n",
       "      <td>11</td>\n",
       "      <td>1</td>\n",
       "      <td>0</td>\n",
       "      <td>0</td>\n",
       "      <td>1</td>\n",
       "      <td>0.0</td>\n",
       "      <td>0.0</td>\n",
       "      <td>7506.1460</td>\n",
       "    </tr>\n",
       "    <tr>\n",
       "      <th>4</th>\n",
       "      <td>NSW5</td>\n",
       "      <td>1</td>\n",
       "      <td>33</td>\n",
       "      <td>8</td>\n",
       "      <td>1</td>\n",
       "      <td>0</td>\n",
       "      <td>0</td>\n",
       "      <td>1</td>\n",
       "      <td>0.0</td>\n",
       "      <td>0.0</td>\n",
       "      <td>289.7899</td>\n",
       "    </tr>\n",
       "  </tbody>\n",
       "</table>\n",
       "</div>"
      ],
      "text/plain": [
       "     id  treat  age  educ  black  hispan  married  nodegree  re74  re75  \\\n",
       "0  NSW1      1   37    11      1       0        1         1   0.0   0.0   \n",
       "1  NSW2      1   22     9      0       1        0         1   0.0   0.0   \n",
       "2  NSW3      1   30    12      1       0        0         0   0.0   0.0   \n",
       "3  NSW4      1   27    11      1       0        0         1   0.0   0.0   \n",
       "4  NSW5      1   33     8      1       0        0         1   0.0   0.0   \n",
       "\n",
       "         re78  \n",
       "0   9930.0460  \n",
       "1   3595.8940  \n",
       "2  24909.4500  \n",
       "3   7506.1460  \n",
       "4    289.7899  "
      ]
     },
     "execution_count": 164,
     "metadata": {},
     "output_type": "execute_result"
    }
   ],
   "source": [
    "filename = r'./lalonde.csv'\n",
    "df = load_data(filename)\n",
    "df.head()"
   ]
  },
  {
   "cell_type": "code",
   "execution_count": 165,
   "metadata": {},
   "outputs": [
    {
     "data": {
      "image/png": "[encoded data removed]",
      "text/plain": [
       "<matplotlib.figure.Figure at 0x7f04aa3f1fd0>"
      ]
     },
     "metadata": {},
     "output_type": "display_data"
    }
   ],
   "source": [
    "# Extract the two categories.\n",
    "treat = df[df.treat == 1]\n",
    "control = df[df.treat == 0]\n",
    "\n",
    "#Box plot\n",
    "x = df['treat']\n",
    "y = df['re78']\n",
    "ylim = (0,30000)\n",
    "ax = sbs.boxplot(x=x,y=y)\n",
    "ax.set(ylim=ylim,)\n",
    "plt.show()\n"
   ]
  },
  {
   "cell_type": "markdown",
   "metadata": {},
   "source": [
    "We limit the y-axis is order to see the mean of the revenues. We see that the mean revenu of the control group is lower than the mean revenu of the control group. Naively, we conclude that the training program do not increase the revenue of the individual. "
   ]
  },
  {
   "cell_type": "markdown",
   "metadata": {},
   "source": [
    "## 1.2 A closer look at the data\n",
    "The naive method is not analytic and smart. Let's learn more about the distribution by analysing by features. We first expose the distribution of each feature. At the end, we analyse them."
   ]
  },
  {
   "cell_type": "markdown",
   "metadata": {},
   "source": [
    "### ethnicity\n",
    "The ethnicity is divided into three category: Black, White or Hispanic."
   ]
  },
  {
   "cell_type": "code",
   "execution_count": 166,
   "metadata": {
    "collapsed": true
   },
   "outputs": [],
   "source": [
    "# This function extract the index that belongs to each category.\n",
    "def ethnicity(df):\n",
    "    # Black\n",
    "    b = df[df.black == 1]\n",
    "    # Hispanic\n",
    "    h = df[df.hispan == 1]\n",
    "    #White\n",
    "    w = df[(df.black == 0 )& (df.hispan == 0)]\n",
    "    return (b,h,w)\n",
    "\n",
    "#Define constance for furthur use\n",
    "label_treatment = 'treatement' # used for title of the plots.\n",
    "label_control = 'control'"
   ]
  },
  {
   "cell_type": "markdown",
   "metadata": {},
   "source": [
    "We use the pie chart representation in order to know the proportion of the individual in each ethny."
   ]
  },
  {
   "cell_type": "code",
   "execution_count": 167,
   "metadata": {},
   "outputs": [
    {
     "data": {
      "image/png": "[encoded data removed]",
      "text/plain": [
       "<matplotlib.figure.Figure at 0x7f04a83ee080>"
      ]
     },
     "metadata": {},
     "output_type": "display_data"
    }
   ],
   "source": [
    "labels_ = ['black', 'hispan' , 'white']\n",
    "\n",
    "(b_t,h_t,w_t) = ethnicity(treat)\n",
    "(b_c,h_c,w_c) = ethnicity(control)\n",
    "\n",
    "f, (ax1, ax2) = plt.subplots(1, 2, sharey=True)\n",
    "\n",
    "ax1.pie(x=[b_t.shape[0],w_t.shape[0],h_t.shape[0]],labels = labels_)\n",
    "ax1.set_title(label_treatment)\n",
    "ax2.pie(x=[b_c.shape[0],w_c.shape[0],h_c.shape[0]],labels = labels_)\n",
    "ax2.set_title(label_control)\n",
    "plt.show()\n"
   ]
  },
  {
   "cell_type": "code",
   "execution_count": 168,
   "metadata": {
    "collapsed": true
   },
   "outputs": [],
   "source": [
    "# This funtion is used to represent the distribition of the feature.\n",
    "def plot_dist_bis(t,c):\n",
    "    sbs.kdeplot(t)\n",
    "    sbs.kdeplot(c)\n",
    "    plt.show()    "
   ]
  },
  {
   "cell_type": "markdown",
   "metadata": {},
   "source": [
    "### Degree "
   ]
  },
  {
   "cell_type": "code",
   "execution_count": 169,
   "metadata": {
    "collapsed": true
   },
   "outputs": [],
   "source": [
    "def pie_2_dist(d,n_d,ax,labels_,title):\n",
    "    \n",
    "    ax.pie(x=[d.shape[0],n_d.shape[0]],labels = labels_)\n",
    "    ax.set_title(title)\n",
    "\n",
    "               "
   ]
  },
  {
   "cell_type": "code",
   "execution_count": 170,
   "metadata": {},
   "outputs": [
    {
     "data": {
      "image/png": "[encoded data removed]",
      "text/plain": [
       "<matplotlib.figure.Figure at 0x7f04a890c860>"
      ]
     },
     "metadata": {},
     "output_type": "display_data"
    }
   ],
   "source": [
    "degree_t = treat[treat.nodegree == 0]\n",
    "not_degree_t = treat[treat.nodegree == 1]\n",
    "\n",
    "degree_c = control[control.nodegree == 0]\n",
    "not_degree_c = control[control.nodegree == 1]\n",
    "\n",
    "\n",
    "\n",
    "fig,(ax1,ax2) = plt.subplots(1,2,sharey=True)\n",
    "labels_ = ['degree' , 'not degree']\n",
    "pie_2_dist(degree_t,not_degree_t,ax1,labels_,label_treatment)\n",
    "pie_2_dist(degree_c,not_degree_c,ax2,labels_,label_control)\n",
    "plt.show()\n"
   ]
  },
  {
   "cell_type": "markdown",
   "metadata": {},
   "source": [
    "### Mariage\n",
    "Let's study the effect on earnings on maried individials."
   ]
  },
  {
   "cell_type": "code",
   "execution_count": 171,
   "metadata": {},
   "outputs": [
    {
     "data": {
      "image/png": "[encoded data removed]",
      "text/plain": [
       "<matplotlib.figure.Figure at 0x7f04aa51bb00>"
      ]
     },
     "metadata": {},
     "output_type": "display_data"
    }
   ],
   "source": [
    "m_t = treat[treat.married == 1]\n",
    "m_c = treat[treat.married == 0]\n",
    "\n",
    "not_m_t = control[control.married == 1]\n",
    "not_m_c = control[control.married == 0]\n",
    "\n",
    "f, (ax1,ax2) = plt.subplots(1,2, sharey=True)\n",
    "labels_ = ['married', 'not married']\n",
    "pie_2_dist(m_t,not_m_t,ax1,labels_, label_treatment)\n",
    "pie_2_dist(m_c,not_m_c,ax2,labels_, label_control)\n",
    "plt.show()\n"
   ]
  },
  {
   "cell_type": "markdown",
   "metadata": {},
   "source": [
    "### age"
   ]
  },
  {
   "cell_type": "code",
   "execution_count": 192,
   "metadata": {},
   "outputs": [
    {
     "data": {
      "image/png": "[encoded data removed]",
      "text/plain": [
       "<matplotlib.figure.Figure at 0x7f04a890c7b8>"
      ]
     },
     "metadata": {},
     "output_type": "display_data"
    }
   ],
   "source": [
    "plot_dist_bis(treat['age'], control['age'])"
   ]
  },
  {
   "cell_type": "markdown",
   "metadata": {},
   "source": [
    "### Education year\n"
   ]
  },
  {
   "cell_type": "code",
   "execution_count": 173,
   "metadata": {},
   "outputs": [
    {
     "data": {
      "image/png": "[encoded data removed]",
      "text/plain": [
       "<matplotlib.figure.Figure at 0x7f04a910da58>"
      ]
     },
     "metadata": {},
     "output_type": "display_data"
    }
   ],
   "source": [
    "plot_dist_bis(treat['educ'], control['educ'])"
   ]
  },
  {
   "cell_type": "markdown",
   "metadata": {},
   "source": [
    "### Correlation educ and nodegree\n",
    "This section answer the following question : Is there any linear correlation between the number years of education and the obtention of the degree?"
   ]
  },
  {
   "cell_type": "code",
   "execution_count": 174,
   "metadata": {},
   "outputs": [
    {
     "data": {
      "text/plain": [
       "-0.7014518555979844"
      ]
     },
     "execution_count": 174,
     "metadata": {},
     "output_type": "execute_result"
    }
   ],
   "source": [
    "educ = df['educ']\n",
    "nodegree = df['nodegree']\n",
    "nodegree.corr(educ)"
   ]
  },
  {
   "cell_type": "markdown",
   "metadata": {},
   "source": [
    "As excepted, the reasoning is obvious. The more year a person study, the more likely he is to obtain a diploma."
   ]
  },
  {
   "cell_type": "markdown",
   "metadata": {},
   "source": [
    "### Revenue in 1974"
   ]
  },
  {
   "cell_type": "code",
   "execution_count": 175,
   "metadata": {},
   "outputs": [
    {
     "data": {
      "image/png": "[encoded data removed]",
      "text/plain": [
       "<matplotlib.figure.Figure at 0x7f04a86049e8>"
      ]
     },
     "metadata": {},
     "output_type": "display_data"
    }
   ],
   "source": [
    "rev74 = 're74'\n",
    "plot_dist_bis(treat[rev74], control[rev74])"
   ]
  },
  {
   "cell_type": "markdown",
   "metadata": {},
   "source": [
    "Most of the revenue are 0. One explanation is to assume that missing revenue information are replaced by 0's. Let's see the proportion of the known revenue against unknown."
   ]
  },
  {
   "cell_type": "code",
   "execution_count": 176,
   "metadata": {},
   "outputs": [
    {
     "data": {
      "image/png": "[encoded data removed]",
      "text/plain": [
       "<matplotlib.figure.Figure at 0x7f04a83e0c50>"
      ]
     },
     "metadata": {},
     "output_type": "display_data"
    }
   ],
   "source": [
    "# For the treatment group\n",
    "re74_t = treat[treat.re74 != 0]\n",
    "n_re74_t = treat[treat.re74 == 0]\n",
    "\n",
    "# For the control group\n",
    "re74_c = control[control.re74 !=0]\n",
    "n_re74_c = control[control.re74 ==0]\n",
    "\n",
    "labels_ = ['missing', 'known']\n",
    "\n",
    "# plot the distribution\n",
    "f, (ax1,ax2) = plt.subplots(1,2,sharey=True)\n",
    "pie_2_dist(re74_t,n_re74_t,ax1,labels_ , 'treatment')\n",
    "pie_2_dist(re74_c,n_re74_c,ax2,labels_ , 'control')\n",
    "plt.show()"
   ]
  },
  {
   "cell_type": "markdown",
   "metadata": {},
   "source": [
    "### Revenue in 1975\n",
    "We do the same with the year 1975"
   ]
  },
  {
   "cell_type": "code",
   "execution_count": 177,
   "metadata": {},
   "outputs": [
    {
     "data": {
      "image/png": "[encoded data removed]",
      "text/plain": [
       "<matplotlib.figure.Figure at 0x7f04a8af15c0>"
      ]
     },
     "metadata": {},
     "output_type": "display_data"
    }
   ],
   "source": [
    "# For the treatment group\n",
    "re75_t = treat[treat.re75 != 0]\n",
    "n_re75_t = treat[treat.re75 == 0]\n",
    "\n",
    "# For the control group\n",
    "re75_c = control[control.re75 !=0]\n",
    "n_re75_c = control[control.re75 ==0]\n",
    "\n",
    "labels_ = ['missing', 'known']\n",
    "\n",
    "# plot the distribution\n",
    "f, (ax1,ax2) = plt.subplots(1,2,sharey=True)\n",
    "pie_2_dist(re75_t,n_re75_t,ax1,labels_ , 'treatment')\n",
    "pie_2_dist(re75_c,n_re75_c,ax2,labels_ , 'control')\n",
    "plt.show()\n"
   ]
  },
  {
   "cell_type": "markdown",
   "metadata": {},
   "source": [
    "### Analyse\n",
    "\n",
    "We notice that the distribution of the features are not proportional to the number of individual. For example, for the ethnicity feature, the number of black individual is very large compared to the other ethny in the treatment group. Those diparencies between the 2 groups implies that they are not comparable in the globality. As for the number of individual in a feature or the distribution of them are not proportionnaly equal, the result of the naive comparison imply a non-effectiveness of the training programs.\n",
    "\n",
    "In order to compare properly the two groups, each treatment row need to be linked with the control group row with the approximative same parameter (features). In order to link, we need to compute the propensity score."
   ]
  },
  {
   "cell_type": "markdown",
   "metadata": {},
   "source": [
    "## 1.3 A propensity score model\n",
    "\n",
    "Recall that propensity score compute using the features the probability of recieving a threatment. "
   ]
  },
  {
   "cell_type": "markdown",
   "metadata": {},
   "source": [
    "The computation of the propensity score is straight-forward. We first extract the feature and output pair. Then we train the logistic regression model. By calling ´predict_proba´ we compute the propensity score with is the conditionnal probability that the treatement output is 1 knowing the values of the parameters."
   ]
  },
  {
   "cell_type": "code",
   "execution_count": 178,
   "metadata": {},
   "outputs": [
    {
     "name": "stderr",
     "output_type": "stream",
     "text": [
      "/home/remi/anaconda3/lib/python3.6/site-packages/sklearn/utils/validation.py:547: DataConversionWarning: A column-vector y was passed when a 1d array was expected. Please change the shape of y to (n_samples, ), for example using ravel().\n",
      "  y = column_or_1d(y, warn=True)\n"
     ]
    },
    {
     "data": {
      "text/html": [
       "<div>\n",
       "<style>\n",
       "    .dataframe thead tr:only-child th {\n",
       "        text-align: right;\n",
       "    }\n",
       "\n",
       "    .dataframe thead th {\n",
       "        text-align: left;\n",
       "    }\n",
       "\n",
       "    .dataframe tbody tr th {\n",
       "        vertical-align: top;\n",
       "    }\n",
       "</style>\n",
       "<table border=\"1\" class=\"dataframe\">\n",
       "  <thead>\n",
       "    <tr style=\"text-align: right;\">\n",
       "      <th></th>\n",
       "      <th>id</th>\n",
       "      <th>treat</th>\n",
       "      <th>age</th>\n",
       "      <th>educ</th>\n",
       "      <th>black</th>\n",
       "      <th>hispan</th>\n",
       "      <th>married</th>\n",
       "      <th>nodegree</th>\n",
       "      <th>re74</th>\n",
       "      <th>re75</th>\n",
       "      <th>re78</th>\n",
       "      <th>propensity score</th>\n",
       "    </tr>\n",
       "  </thead>\n",
       "  <tbody>\n",
       "    <tr>\n",
       "      <th>0</th>\n",
       "      <td>NSW1</td>\n",
       "      <td>1</td>\n",
       "      <td>37</td>\n",
       "      <td>11</td>\n",
       "      <td>1</td>\n",
       "      <td>0</td>\n",
       "      <td>1</td>\n",
       "      <td>1</td>\n",
       "      <td>0.0</td>\n",
       "      <td>0.0</td>\n",
       "      <td>9930.0460</td>\n",
       "      <td>0.458074</td>\n",
       "    </tr>\n",
       "    <tr>\n",
       "      <th>1</th>\n",
       "      <td>NSW2</td>\n",
       "      <td>1</td>\n",
       "      <td>22</td>\n",
       "      <td>9</td>\n",
       "      <td>0</td>\n",
       "      <td>1</td>\n",
       "      <td>0</td>\n",
       "      <td>1</td>\n",
       "      <td>0.0</td>\n",
       "      <td>0.0</td>\n",
       "      <td>3595.8940</td>\n",
       "      <td>0.151980</td>\n",
       "    </tr>\n",
       "    <tr>\n",
       "      <th>2</th>\n",
       "      <td>NSW3</td>\n",
       "      <td>1</td>\n",
       "      <td>30</td>\n",
       "      <td>12</td>\n",
       "      <td>1</td>\n",
       "      <td>0</td>\n",
       "      <td>0</td>\n",
       "      <td>0</td>\n",
       "      <td>0.0</td>\n",
       "      <td>0.0</td>\n",
       "      <td>24909.4500</td>\n",
       "      <td>0.750966</td>\n",
       "    </tr>\n",
       "    <tr>\n",
       "      <th>3</th>\n",
       "      <td>NSW4</td>\n",
       "      <td>1</td>\n",
       "      <td>27</td>\n",
       "      <td>11</td>\n",
       "      <td>1</td>\n",
       "      <td>0</td>\n",
       "      <td>0</td>\n",
       "      <td>1</td>\n",
       "      <td>0.0</td>\n",
       "      <td>0.0</td>\n",
       "      <td>7506.1460</td>\n",
       "      <td>0.674020</td>\n",
       "    </tr>\n",
       "    <tr>\n",
       "      <th>4</th>\n",
       "      <td>NSW5</td>\n",
       "      <td>1</td>\n",
       "      <td>33</td>\n",
       "      <td>8</td>\n",
       "      <td>1</td>\n",
       "      <td>0</td>\n",
       "      <td>0</td>\n",
       "      <td>1</td>\n",
       "      <td>0.0</td>\n",
       "      <td>0.0</td>\n",
       "      <td>289.7899</td>\n",
       "      <td>0.670590</td>\n",
       "    </tr>\n",
       "  </tbody>\n",
       "</table>\n",
       "</div>"
      ],
      "text/plain": [
       "     id  treat  age  educ  black  hispan  married  nodegree  re74  re75  \\\n",
       "0  NSW1      1   37    11      1       0        1         1   0.0   0.0   \n",
       "1  NSW2      1   22     9      0       1        0         1   0.0   0.0   \n",
       "2  NSW3      1   30    12      1       0        0         0   0.0   0.0   \n",
       "3  NSW4      1   27    11      1       0        0         1   0.0   0.0   \n",
       "4  NSW5      1   33     8      1       0        0         1   0.0   0.0   \n",
       "\n",
       "         re78  propensity score  \n",
       "0   9930.0460          0.458074  \n",
       "1   3595.8940          0.151980  \n",
       "2  24909.4500          0.750966  \n",
       "3   7506.1460          0.674020  \n",
       "4    289.7899          0.670590  "
      ]
     },
     "execution_count": 178,
     "metadata": {},
     "output_type": "execute_result"
    }
   ],
   "source": [
    "logistic = linear_model.LogisticRegression()\n",
    "x_key= ['age', 'educ', 'black', 'hispan', 'married' , 'nodegree', 're74', 're75', 're78'] # the list of feature\n",
    "y_key= ['treat']\n",
    "X = df[x_key]\n",
    "y = df[y_key]\n",
    "logistic.fit(X,y)\n",
    "\n",
    "y_pred = logistic.predict_proba(X)\n",
    "df_y_pred = pd.DataFrame(y_pred).drop(0,axis=1)\n",
    "df_y_pred = df_y_pred.rename_axis({1 : 'propensity score'}, axis =1)\n",
    "\n",
    "df_prop = pd.concat([df, df_y_pred],axis=1)\n",
    "df_prop.head()"
   ]
  },
  {
   "cell_type": "markdown",
   "metadata": {},
   "source": [
    "## 1.4 Matching"
   ]
  },
  {
   "cell_type": "markdown",
   "metadata": {},
   "source": [
    "### Creation of the graph"
   ]
  },
  {
   "cell_type": "markdown",
   "metadata": {},
   "source": [
    "The first step is to create the bipartite graph with (inversed) weight being the absolute difference between propensity scores. The inversion is due to the algorithm being **max weigthing** and we want a **min weighting**"
   ]
  },
  {
   "cell_type": "code",
   "execution_count": 179,
   "metadata": {},
   "outputs": [
    {
     "data": {
      "text/plain": [
       "[('NSW92', 'PSID79'),\n",
       " ('PSID392', 'NSW62'),\n",
       " ('NSW53', 'PSID280'),\n",
       " ('PSID374', 'NSW78'),\n",
       " ('NSW34', 'PSID300'),\n",
       " ('PSID373', 'NSW27'),\n",
       " ('PSID6', 'NSW109'),\n",
       " ('NSW184', 'PSID407'),\n",
       " ('PSID231', 'NSW94'),\n",
       " ('NSW79', 'PSID419'),\n",
       " ('PSID336', 'NSW83'),\n",
       " ('NSW83', 'PSID336'),\n",
       " ('PSID221', 'NSW70'),\n",
       " ('NSW68', 'PSID270'),\n",
       " ('PSID167', 'NSW129'),\n",
       " ('NSW129', 'PSID167'),\n",
       " ('PSID263', 'NSW167'),\n",
       " ('NSW167', 'PSID263'),\n",
       " ('PSID266', 'NSW88'),\n",
       " ('NSW6', 'PSID352')]"
      ]
     },
     "execution_count": 179,
     "metadata": {},
     "output_type": "execute_result"
    }
   ],
   "source": [
    "nodes = [df_prop.iloc[i] for i in range(len(df_prop))]\n",
    "nodes_t = [n for n in nodes if n['treat'] == 1]\n",
    "nodes_c = [n for n in nodes if n['treat'] == 0]\n",
    "\n",
    "G = nx.Graph()\n",
    "\n",
    "for nt in nodes_t:\n",
    "    for nc in nodes_c:\n",
    "        G.add_edge(nt['id'], nc['id'], weight= 1 - abs(nt['propensity score'] - nc['propensity score']))\n",
    "        \n",
    "matching = nx.max_weight_matching(G)\n",
    "        \n",
    "list(matching.items())[:20]"
   ]
  },
  {
   "cell_type": "markdown",
   "metadata": {},
   "source": [
    "We then make a list of the nodes to keep (the one matched), and filter the origin DataFrame."
   ]
  },
  {
   "cell_type": "code",
   "execution_count": 180,
   "metadata": {},
   "outputs": [
    {
     "data": {
      "text/plain": [
       "['NSW36',\n",
       " 'PSID164',\n",
       " 'PSID322',\n",
       " 'PSID140',\n",
       " 'NSW33',\n",
       " 'NSW107',\n",
       " 'NSW154',\n",
       " 'NSW94',\n",
       " 'NSW69',\n",
       " 'NSW56',\n",
       " 'NSW133',\n",
       " 'PSID267',\n",
       " 'NSW14',\n",
       " 'PSID225',\n",
       " 'PSID46',\n",
       " 'NSW27',\n",
       " 'PSID213',\n",
       " 'NSW171',\n",
       " 'NSW68',\n",
       " 'NSW53']"
      ]
     },
     "execution_count": 180,
     "metadata": {},
     "output_type": "execute_result"
    }
   ],
   "source": [
    "kept_nodes = []\n",
    "\n",
    "for a, b in list(matching.items()):\n",
    "    kept_nodes.append(a)\n",
    "    kept_nodes.append(b)\n",
    "    \n",
    "kept_nodes = list(set(kept_nodes))\n",
    "kept_nodes[:20]"
   ]
  },
  {
   "cell_type": "code",
   "execution_count": 181,
   "metadata": {},
   "outputs": [
    {
     "data": {
      "text/html": [
       "<div>\n",
       "<style>\n",
       "    .dataframe thead tr:only-child th {\n",
       "        text-align: right;\n",
       "    }\n",
       "\n",
       "    .dataframe thead th {\n",
       "        text-align: left;\n",
       "    }\n",
       "\n",
       "    .dataframe tbody tr th {\n",
       "        vertical-align: top;\n",
       "    }\n",
       "</style>\n",
       "<table border=\"1\" class=\"dataframe\">\n",
       "  <thead>\n",
       "    <tr style=\"text-align: right;\">\n",
       "      <th></th>\n",
       "      <th>id</th>\n",
       "      <th>treat</th>\n",
       "      <th>age</th>\n",
       "      <th>educ</th>\n",
       "      <th>black</th>\n",
       "      <th>hispan</th>\n",
       "      <th>married</th>\n",
       "      <th>nodegree</th>\n",
       "      <th>re74</th>\n",
       "      <th>re75</th>\n",
       "      <th>re78</th>\n",
       "      <th>propensity score</th>\n",
       "      <th>matching</th>\n",
       "    </tr>\n",
       "  </thead>\n",
       "  <tbody>\n",
       "    <tr>\n",
       "      <th>0</th>\n",
       "      <td>NSW1</td>\n",
       "      <td>1</td>\n",
       "      <td>37</td>\n",
       "      <td>11</td>\n",
       "      <td>1</td>\n",
       "      <td>0</td>\n",
       "      <td>1</td>\n",
       "      <td>1</td>\n",
       "      <td>0.0</td>\n",
       "      <td>0.0</td>\n",
       "      <td>9930.0460</td>\n",
       "      <td>0.458074</td>\n",
       "      <td>PSID357</td>\n",
       "    </tr>\n",
       "    <tr>\n",
       "      <th>1</th>\n",
       "      <td>NSW2</td>\n",
       "      <td>1</td>\n",
       "      <td>22</td>\n",
       "      <td>9</td>\n",
       "      <td>0</td>\n",
       "      <td>1</td>\n",
       "      <td>0</td>\n",
       "      <td>1</td>\n",
       "      <td>0.0</td>\n",
       "      <td>0.0</td>\n",
       "      <td>3595.8940</td>\n",
       "      <td>0.151980</td>\n",
       "      <td>PSID241</td>\n",
       "    </tr>\n",
       "    <tr>\n",
       "      <th>2</th>\n",
       "      <td>NSW3</td>\n",
       "      <td>1</td>\n",
       "      <td>30</td>\n",
       "      <td>12</td>\n",
       "      <td>1</td>\n",
       "      <td>0</td>\n",
       "      <td>0</td>\n",
       "      <td>0</td>\n",
       "      <td>0.0</td>\n",
       "      <td>0.0</td>\n",
       "      <td>24909.4500</td>\n",
       "      <td>0.750966</td>\n",
       "      <td>PSID388</td>\n",
       "    </tr>\n",
       "    <tr>\n",
       "      <th>3</th>\n",
       "      <td>NSW4</td>\n",
       "      <td>1</td>\n",
       "      <td>27</td>\n",
       "      <td>11</td>\n",
       "      <td>1</td>\n",
       "      <td>0</td>\n",
       "      <td>0</td>\n",
       "      <td>1</td>\n",
       "      <td>0.0</td>\n",
       "      <td>0.0</td>\n",
       "      <td>7506.1460</td>\n",
       "      <td>0.674020</td>\n",
       "      <td>PSID191</td>\n",
       "    </tr>\n",
       "    <tr>\n",
       "      <th>4</th>\n",
       "      <td>NSW5</td>\n",
       "      <td>1</td>\n",
       "      <td>33</td>\n",
       "      <td>8</td>\n",
       "      <td>1</td>\n",
       "      <td>0</td>\n",
       "      <td>0</td>\n",
       "      <td>1</td>\n",
       "      <td>0.0</td>\n",
       "      <td>0.0</td>\n",
       "      <td>289.7899</td>\n",
       "      <td>0.670590</td>\n",
       "      <td>PSID124</td>\n",
       "    </tr>\n",
       "    <tr>\n",
       "      <th>5</th>\n",
       "      <td>NSW6</td>\n",
       "      <td>1</td>\n",
       "      <td>22</td>\n",
       "      <td>9</td>\n",
       "      <td>1</td>\n",
       "      <td>0</td>\n",
       "      <td>0</td>\n",
       "      <td>1</td>\n",
       "      <td>0.0</td>\n",
       "      <td>0.0</td>\n",
       "      <td>4056.4940</td>\n",
       "      <td>0.711254</td>\n",
       "      <td>PSID352</td>\n",
       "    </tr>\n",
       "    <tr>\n",
       "      <th>6</th>\n",
       "      <td>NSW7</td>\n",
       "      <td>1</td>\n",
       "      <td>23</td>\n",
       "      <td>12</td>\n",
       "      <td>1</td>\n",
       "      <td>0</td>\n",
       "      <td>0</td>\n",
       "      <td>0</td>\n",
       "      <td>0.0</td>\n",
       "      <td>0.0</td>\n",
       "      <td>0.0000</td>\n",
       "      <td>0.649616</td>\n",
       "      <td>PSID193</td>\n",
       "    </tr>\n",
       "    <tr>\n",
       "      <th>7</th>\n",
       "      <td>NSW8</td>\n",
       "      <td>1</td>\n",
       "      <td>32</td>\n",
       "      <td>11</td>\n",
       "      <td>1</td>\n",
       "      <td>0</td>\n",
       "      <td>0</td>\n",
       "      <td>1</td>\n",
       "      <td>0.0</td>\n",
       "      <td>0.0</td>\n",
       "      <td>8472.1580</td>\n",
       "      <td>0.660434</td>\n",
       "      <td>PSID385</td>\n",
       "    </tr>\n",
       "    <tr>\n",
       "      <th>8</th>\n",
       "      <td>NSW9</td>\n",
       "      <td>1</td>\n",
       "      <td>22</td>\n",
       "      <td>16</td>\n",
       "      <td>1</td>\n",
       "      <td>0</td>\n",
       "      <td>0</td>\n",
       "      <td>0</td>\n",
       "      <td>0.0</td>\n",
       "      <td>0.0</td>\n",
       "      <td>2164.0220</td>\n",
       "      <td>0.583820</td>\n",
       "      <td>PSID206</td>\n",
       "    </tr>\n",
       "    <tr>\n",
       "      <th>9</th>\n",
       "      <td>NSW10</td>\n",
       "      <td>1</td>\n",
       "      <td>33</td>\n",
       "      <td>12</td>\n",
       "      <td>0</td>\n",
       "      <td>0</td>\n",
       "      <td>1</td>\n",
       "      <td>0</td>\n",
       "      <td>0.0</td>\n",
       "      <td>0.0</td>\n",
       "      <td>12418.0700</td>\n",
       "      <td>0.086735</td>\n",
       "      <td>PSID394</td>\n",
       "    </tr>\n",
       "    <tr>\n",
       "      <th>10</th>\n",
       "      <td>NSW11</td>\n",
       "      <td>1</td>\n",
       "      <td>19</td>\n",
       "      <td>9</td>\n",
       "      <td>1</td>\n",
       "      <td>0</td>\n",
       "      <td>0</td>\n",
       "      <td>1</td>\n",
       "      <td>0.0</td>\n",
       "      <td>0.0</td>\n",
       "      <td>8173.9080</td>\n",
       "      <td>0.741211</td>\n",
       "      <td>PSID268</td>\n",
       "    </tr>\n",
       "    <tr>\n",
       "      <th>11</th>\n",
       "      <td>NSW12</td>\n",
       "      <td>1</td>\n",
       "      <td>21</td>\n",
       "      <td>13</td>\n",
       "      <td>1</td>\n",
       "      <td>0</td>\n",
       "      <td>0</td>\n",
       "      <td>0</td>\n",
       "      <td>0.0</td>\n",
       "      <td>0.0</td>\n",
       "      <td>17094.6400</td>\n",
       "      <td>0.726964</td>\n",
       "      <td>PSID5</td>\n",
       "    </tr>\n",
       "    <tr>\n",
       "      <th>12</th>\n",
       "      <td>NSW13</td>\n",
       "      <td>1</td>\n",
       "      <td>18</td>\n",
       "      <td>8</td>\n",
       "      <td>1</td>\n",
       "      <td>0</td>\n",
       "      <td>0</td>\n",
       "      <td>1</td>\n",
       "      <td>0.0</td>\n",
       "      <td>0.0</td>\n",
       "      <td>0.0000</td>\n",
       "      <td>0.722678</td>\n",
       "      <td>PSID48</td>\n",
       "    </tr>\n",
       "    <tr>\n",
       "      <th>13</th>\n",
       "      <td>NSW14</td>\n",
       "      <td>1</td>\n",
       "      <td>27</td>\n",
       "      <td>10</td>\n",
       "      <td>1</td>\n",
       "      <td>0</td>\n",
       "      <td>1</td>\n",
       "      <td>1</td>\n",
       "      <td>0.0</td>\n",
       "      <td>0.0</td>\n",
       "      <td>18739.9300</td>\n",
       "      <td>0.574993</td>\n",
       "      <td>PSID183</td>\n",
       "    </tr>\n",
       "    <tr>\n",
       "      <th>14</th>\n",
       "      <td>NSW15</td>\n",
       "      <td>1</td>\n",
       "      <td>17</td>\n",
       "      <td>7</td>\n",
       "      <td>1</td>\n",
       "      <td>0</td>\n",
       "      <td>0</td>\n",
       "      <td>1</td>\n",
       "      <td>0.0</td>\n",
       "      <td>0.0</td>\n",
       "      <td>3023.8790</td>\n",
       "      <td>0.756805</td>\n",
       "      <td>PSID179</td>\n",
       "    </tr>\n",
       "    <tr>\n",
       "      <th>15</th>\n",
       "      <td>NSW16</td>\n",
       "      <td>1</td>\n",
       "      <td>19</td>\n",
       "      <td>10</td>\n",
       "      <td>1</td>\n",
       "      <td>0</td>\n",
       "      <td>0</td>\n",
       "      <td>1</td>\n",
       "      <td>0.0</td>\n",
       "      <td>0.0</td>\n",
       "      <td>3228.5030</td>\n",
       "      <td>0.699534</td>\n",
       "      <td>PSID401</td>\n",
       "    </tr>\n",
       "    <tr>\n",
       "      <th>16</th>\n",
       "      <td>NSW17</td>\n",
       "      <td>1</td>\n",
       "      <td>27</td>\n",
       "      <td>13</td>\n",
       "      <td>1</td>\n",
       "      <td>0</td>\n",
       "      <td>0</td>\n",
       "      <td>0</td>\n",
       "      <td>0.0</td>\n",
       "      <td>0.0</td>\n",
       "      <td>14581.8600</td>\n",
       "      <td>0.693528</td>\n",
       "      <td>PSID345</td>\n",
       "    </tr>\n",
       "    <tr>\n",
       "      <th>17</th>\n",
       "      <td>NSW18</td>\n",
       "      <td>1</td>\n",
       "      <td>23</td>\n",
       "      <td>10</td>\n",
       "      <td>1</td>\n",
       "      <td>0</td>\n",
       "      <td>0</td>\n",
       "      <td>1</td>\n",
       "      <td>0.0</td>\n",
       "      <td>0.0</td>\n",
       "      <td>7693.4000</td>\n",
       "      <td>0.708020</td>\n",
       "      <td>PSID213</td>\n",
       "    </tr>\n",
       "    <tr>\n",
       "      <th>18</th>\n",
       "      <td>NSW19</td>\n",
       "      <td>1</td>\n",
       "      <td>40</td>\n",
       "      <td>12</td>\n",
       "      <td>1</td>\n",
       "      <td>0</td>\n",
       "      <td>0</td>\n",
       "      <td>0</td>\n",
       "      <td>0.0</td>\n",
       "      <td>0.0</td>\n",
       "      <td>10804.3200</td>\n",
       "      <td>0.643803</td>\n",
       "      <td>PSID331</td>\n",
       "    </tr>\n",
       "    <tr>\n",
       "      <th>19</th>\n",
       "      <td>NSW20</td>\n",
       "      <td>1</td>\n",
       "      <td>26</td>\n",
       "      <td>12</td>\n",
       "      <td>1</td>\n",
       "      <td>0</td>\n",
       "      <td>0</td>\n",
       "      <td>0</td>\n",
       "      <td>0.0</td>\n",
       "      <td>0.0</td>\n",
       "      <td>10747.3500</td>\n",
       "      <td>0.695839</td>\n",
       "      <td>PSID355</td>\n",
       "    </tr>\n",
       "    <tr>\n",
       "      <th>20</th>\n",
       "      <td>NSW21</td>\n",
       "      <td>1</td>\n",
       "      <td>23</td>\n",
       "      <td>11</td>\n",
       "      <td>1</td>\n",
       "      <td>0</td>\n",
       "      <td>0</td>\n",
       "      <td>1</td>\n",
       "      <td>0.0</td>\n",
       "      <td>0.0</td>\n",
       "      <td>0.0000</td>\n",
       "      <td>0.648365</td>\n",
       "      <td>PSID274</td>\n",
       "    </tr>\n",
       "    <tr>\n",
       "      <th>21</th>\n",
       "      <td>NSW22</td>\n",
       "      <td>1</td>\n",
       "      <td>41</td>\n",
       "      <td>14</td>\n",
       "      <td>0</td>\n",
       "      <td>0</td>\n",
       "      <td>0</td>\n",
       "      <td>0</td>\n",
       "      <td>0.0</td>\n",
       "      <td>0.0</td>\n",
       "      <td>5149.5010</td>\n",
       "      <td>0.113423</td>\n",
       "      <td>PSID122</td>\n",
       "    </tr>\n",
       "    <tr>\n",
       "      <th>22</th>\n",
       "      <td>NSW23</td>\n",
       "      <td>1</td>\n",
       "      <td>38</td>\n",
       "      <td>9</td>\n",
       "      <td>0</td>\n",
       "      <td>0</td>\n",
       "      <td>0</td>\n",
       "      <td>1</td>\n",
       "      <td>0.0</td>\n",
       "      <td>0.0</td>\n",
       "      <td>6408.9500</td>\n",
       "      <td>0.163557</td>\n",
       "      <td>PSID192</td>\n",
       "    </tr>\n",
       "    <tr>\n",
       "      <th>23</th>\n",
       "      <td>NSW24</td>\n",
       "      <td>1</td>\n",
       "      <td>24</td>\n",
       "      <td>11</td>\n",
       "      <td>1</td>\n",
       "      <td>0</td>\n",
       "      <td>0</td>\n",
       "      <td>1</td>\n",
       "      <td>0.0</td>\n",
       "      <td>0.0</td>\n",
       "      <td>1991.4000</td>\n",
       "      <td>0.655497</td>\n",
       "      <td>PSID399</td>\n",
       "    </tr>\n",
       "    <tr>\n",
       "      <th>24</th>\n",
       "      <td>NSW25</td>\n",
       "      <td>1</td>\n",
       "      <td>18</td>\n",
       "      <td>10</td>\n",
       "      <td>1</td>\n",
       "      <td>0</td>\n",
       "      <td>0</td>\n",
       "      <td>1</td>\n",
       "      <td>0.0</td>\n",
       "      <td>0.0</td>\n",
       "      <td>11163.1700</td>\n",
       "      <td>0.741678</td>\n",
       "      <td>PSID256</td>\n",
       "    </tr>\n",
       "    <tr>\n",
       "      <th>25</th>\n",
       "      <td>NSW26</td>\n",
       "      <td>1</td>\n",
       "      <td>29</td>\n",
       "      <td>11</td>\n",
       "      <td>1</td>\n",
       "      <td>0</td>\n",
       "      <td>1</td>\n",
       "      <td>1</td>\n",
       "      <td>0.0</td>\n",
       "      <td>0.0</td>\n",
       "      <td>9642.9990</td>\n",
       "      <td>0.490096</td>\n",
       "      <td>PSID425</td>\n",
       "    </tr>\n",
       "    <tr>\n",
       "      <th>26</th>\n",
       "      <td>NSW27</td>\n",
       "      <td>1</td>\n",
       "      <td>25</td>\n",
       "      <td>11</td>\n",
       "      <td>1</td>\n",
       "      <td>0</td>\n",
       "      <td>0</td>\n",
       "      <td>1</td>\n",
       "      <td>0.0</td>\n",
       "      <td>0.0</td>\n",
       "      <td>9897.0490</td>\n",
       "      <td>0.693886</td>\n",
       "      <td>PSID373</td>\n",
       "    </tr>\n",
       "    <tr>\n",
       "      <th>27</th>\n",
       "      <td>NSW28</td>\n",
       "      <td>1</td>\n",
       "      <td>27</td>\n",
       "      <td>10</td>\n",
       "      <td>0</td>\n",
       "      <td>1</td>\n",
       "      <td>0</td>\n",
       "      <td>1</td>\n",
       "      <td>0.0</td>\n",
       "      <td>0.0</td>\n",
       "      <td>11142.8700</td>\n",
       "      <td>0.153473</td>\n",
       "      <td>PSID178</td>\n",
       "    </tr>\n",
       "    <tr>\n",
       "      <th>28</th>\n",
       "      <td>NSW29</td>\n",
       "      <td>1</td>\n",
       "      <td>17</td>\n",
       "      <td>10</td>\n",
       "      <td>1</td>\n",
       "      <td>0</td>\n",
       "      <td>0</td>\n",
       "      <td>1</td>\n",
       "      <td>0.0</td>\n",
       "      <td>0.0</td>\n",
       "      <td>16218.0400</td>\n",
       "      <td>0.767526</td>\n",
       "      <td>PSID218</td>\n",
       "    </tr>\n",
       "    <tr>\n",
       "      <th>29</th>\n",
       "      <td>NSW30</td>\n",
       "      <td>1</td>\n",
       "      <td>24</td>\n",
       "      <td>11</td>\n",
       "      <td>1</td>\n",
       "      <td>0</td>\n",
       "      <td>0</td>\n",
       "      <td>1</td>\n",
       "      <td>0.0</td>\n",
       "      <td>0.0</td>\n",
       "      <td>995.7002</td>\n",
       "      <td>0.650016</td>\n",
       "      <td>PSID429</td>\n",
       "    </tr>\n",
       "    <tr>\n",
       "      <th>...</th>\n",
       "      <td>...</td>\n",
       "      <td>...</td>\n",
       "      <td>...</td>\n",
       "      <td>...</td>\n",
       "      <td>...</td>\n",
       "      <td>...</td>\n",
       "      <td>...</td>\n",
       "      <td>...</td>\n",
       "      <td>...</td>\n",
       "      <td>...</td>\n",
       "      <td>...</td>\n",
       "      <td>...</td>\n",
       "      <td>...</td>\n",
       "    </tr>\n",
       "    <tr>\n",
       "      <th>569</th>\n",
       "      <td>PSID385</td>\n",
       "      <td>0</td>\n",
       "      <td>19</td>\n",
       "      <td>12</td>\n",
       "      <td>0</td>\n",
       "      <td>1</td>\n",
       "      <td>0</td>\n",
       "      <td>0</td>\n",
       "      <td>0.0</td>\n",
       "      <td>0.0</td>\n",
       "      <td>18573.5500</td>\n",
       "      <td>0.186440</td>\n",
       "      <td>NSW8</td>\n",
       "    </tr>\n",
       "    <tr>\n",
       "      <th>570</th>\n",
       "      <td>PSID386</td>\n",
       "      <td>0</td>\n",
       "      <td>20</td>\n",
       "      <td>12</td>\n",
       "      <td>1</td>\n",
       "      <td>0</td>\n",
       "      <td>0</td>\n",
       "      <td>0</td>\n",
       "      <td>0.0</td>\n",
       "      <td>0.0</td>\n",
       "      <td>11594.2400</td>\n",
       "      <td>0.721058</td>\n",
       "      <td>NSW47</td>\n",
       "    </tr>\n",
       "    <tr>\n",
       "      <th>571</th>\n",
       "      <td>PSID387</td>\n",
       "      <td>0</td>\n",
       "      <td>55</td>\n",
       "      <td>4</td>\n",
       "      <td>1</td>\n",
       "      <td>0</td>\n",
       "      <td>0</td>\n",
       "      <td>1</td>\n",
       "      <td>0.0</td>\n",
       "      <td>0.0</td>\n",
       "      <td>0.0000</td>\n",
       "      <td>0.663671</td>\n",
       "      <td>NSW176</td>\n",
       "    </tr>\n",
       "    <tr>\n",
       "      <th>572</th>\n",
       "      <td>PSID388</td>\n",
       "      <td>0</td>\n",
       "      <td>19</td>\n",
       "      <td>11</td>\n",
       "      <td>1</td>\n",
       "      <td>0</td>\n",
       "      <td>0</td>\n",
       "      <td>1</td>\n",
       "      <td>0.0</td>\n",
       "      <td>0.0</td>\n",
       "      <td>16485.5200</td>\n",
       "      <td>0.746482</td>\n",
       "      <td>NSW3</td>\n",
       "    </tr>\n",
       "    <tr>\n",
       "      <th>573</th>\n",
       "      <td>PSID389</td>\n",
       "      <td>0</td>\n",
       "      <td>18</td>\n",
       "      <td>11</td>\n",
       "      <td>1</td>\n",
       "      <td>0</td>\n",
       "      <td>0</td>\n",
       "      <td>1</td>\n",
       "      <td>0.0</td>\n",
       "      <td>0.0</td>\n",
       "      <td>7146.2860</td>\n",
       "      <td>0.704759</td>\n",
       "      <td>NSW153</td>\n",
       "    </tr>\n",
       "    <tr>\n",
       "      <th>576</th>\n",
       "      <td>PSID392</td>\n",
       "      <td>0</td>\n",
       "      <td>17</td>\n",
       "      <td>10</td>\n",
       "      <td>1</td>\n",
       "      <td>0</td>\n",
       "      <td>0</td>\n",
       "      <td>1</td>\n",
       "      <td>0.0</td>\n",
       "      <td>0.0</td>\n",
       "      <td>0.0000</td>\n",
       "      <td>0.690089</td>\n",
       "      <td>NSW62</td>\n",
       "    </tr>\n",
       "    <tr>\n",
       "      <th>578</th>\n",
       "      <td>PSID394</td>\n",
       "      <td>0</td>\n",
       "      <td>34</td>\n",
       "      <td>8</td>\n",
       "      <td>0</td>\n",
       "      <td>0</td>\n",
       "      <td>1</td>\n",
       "      <td>1</td>\n",
       "      <td>0.0</td>\n",
       "      <td>0.0</td>\n",
       "      <td>2664.3410</td>\n",
       "      <td>0.086892</td>\n",
       "      <td>NSW10</td>\n",
       "    </tr>\n",
       "    <tr>\n",
       "      <th>581</th>\n",
       "      <td>PSID397</td>\n",
       "      <td>0</td>\n",
       "      <td>16</td>\n",
       "      <td>9</td>\n",
       "      <td>0</td>\n",
       "      <td>0</td>\n",
       "      <td>0</td>\n",
       "      <td>1</td>\n",
       "      <td>0.0</td>\n",
       "      <td>0.0</td>\n",
       "      <td>6494.6080</td>\n",
       "      <td>0.221417</td>\n",
       "      <td>NSW133</td>\n",
       "    </tr>\n",
       "    <tr>\n",
       "      <th>582</th>\n",
       "      <td>PSID398</td>\n",
       "      <td>0</td>\n",
       "      <td>17</td>\n",
       "      <td>8</td>\n",
       "      <td>1</td>\n",
       "      <td>0</td>\n",
       "      <td>0</td>\n",
       "      <td>1</td>\n",
       "      <td>0.0</td>\n",
       "      <td>0.0</td>\n",
       "      <td>4520.3660</td>\n",
       "      <td>0.747344</td>\n",
       "      <td>NSW160</td>\n",
       "    </tr>\n",
       "    <tr>\n",
       "      <th>583</th>\n",
       "      <td>PSID399</td>\n",
       "      <td>0</td>\n",
       "      <td>27</td>\n",
       "      <td>14</td>\n",
       "      <td>1</td>\n",
       "      <td>0</td>\n",
       "      <td>0</td>\n",
       "      <td>0</td>\n",
       "      <td>0.0</td>\n",
       "      <td>0.0</td>\n",
       "      <td>10122.4300</td>\n",
       "      <td>0.650508</td>\n",
       "      <td>NSW24</td>\n",
       "    </tr>\n",
       "    <tr>\n",
       "      <th>584</th>\n",
       "      <td>PSID400</td>\n",
       "      <td>0</td>\n",
       "      <td>37</td>\n",
       "      <td>8</td>\n",
       "      <td>1</td>\n",
       "      <td>0</td>\n",
       "      <td>0</td>\n",
       "      <td>1</td>\n",
       "      <td>0.0</td>\n",
       "      <td>0.0</td>\n",
       "      <td>648.7220</td>\n",
       "      <td>0.657427</td>\n",
       "      <td>NSW85</td>\n",
       "    </tr>\n",
       "    <tr>\n",
       "      <th>585</th>\n",
       "      <td>PSID401</td>\n",
       "      <td>0</td>\n",
       "      <td>17</td>\n",
       "      <td>10</td>\n",
       "      <td>1</td>\n",
       "      <td>0</td>\n",
       "      <td>0</td>\n",
       "      <td>1</td>\n",
       "      <td>0.0</td>\n",
       "      <td>0.0</td>\n",
       "      <td>1053.6190</td>\n",
       "      <td>0.695535</td>\n",
       "      <td>NSW16</td>\n",
       "    </tr>\n",
       "    <tr>\n",
       "      <th>586</th>\n",
       "      <td>PSID402</td>\n",
       "      <td>0</td>\n",
       "      <td>16</td>\n",
       "      <td>8</td>\n",
       "      <td>0</td>\n",
       "      <td>0</td>\n",
       "      <td>0</td>\n",
       "      <td>1</td>\n",
       "      <td>0.0</td>\n",
       "      <td>0.0</td>\n",
       "      <td>0.0000</td>\n",
       "      <td>0.209481</td>\n",
       "      <td>NSW67</td>\n",
       "    </tr>\n",
       "    <tr>\n",
       "      <th>590</th>\n",
       "      <td>PSID406</td>\n",
       "      <td>0</td>\n",
       "      <td>16</td>\n",
       "      <td>10</td>\n",
       "      <td>1</td>\n",
       "      <td>0</td>\n",
       "      <td>0</td>\n",
       "      <td>1</td>\n",
       "      <td>0.0</td>\n",
       "      <td>0.0</td>\n",
       "      <td>1730.4180</td>\n",
       "      <td>0.702554</td>\n",
       "      <td>NSW48</td>\n",
       "    </tr>\n",
       "    <tr>\n",
       "      <th>591</th>\n",
       "      <td>PSID407</td>\n",
       "      <td>0</td>\n",
       "      <td>23</td>\n",
       "      <td>12</td>\n",
       "      <td>0</td>\n",
       "      <td>0</td>\n",
       "      <td>0</td>\n",
       "      <td>0</td>\n",
       "      <td>0.0</td>\n",
       "      <td>0.0</td>\n",
       "      <td>3902.6760</td>\n",
       "      <td>0.166925</td>\n",
       "      <td>NSW184</td>\n",
       "    </tr>\n",
       "    <tr>\n",
       "      <th>592</th>\n",
       "      <td>PSID408</td>\n",
       "      <td>0</td>\n",
       "      <td>46</td>\n",
       "      <td>11</td>\n",
       "      <td>1</td>\n",
       "      <td>0</td>\n",
       "      <td>1</td>\n",
       "      <td>1</td>\n",
       "      <td>0.0</td>\n",
       "      <td>0.0</td>\n",
       "      <td>0.0000</td>\n",
       "      <td>0.363169</td>\n",
       "      <td>NSW52</td>\n",
       "    </tr>\n",
       "    <tr>\n",
       "      <th>593</th>\n",
       "      <td>PSID409</td>\n",
       "      <td>0</td>\n",
       "      <td>17</td>\n",
       "      <td>10</td>\n",
       "      <td>0</td>\n",
       "      <td>0</td>\n",
       "      <td>0</td>\n",
       "      <td>1</td>\n",
       "      <td>0.0</td>\n",
       "      <td>0.0</td>\n",
       "      <td>14942.7700</td>\n",
       "      <td>0.239343</td>\n",
       "      <td>NSW104</td>\n",
       "    </tr>\n",
       "    <tr>\n",
       "      <th>595</th>\n",
       "      <td>PSID411</td>\n",
       "      <td>0</td>\n",
       "      <td>18</td>\n",
       "      <td>10</td>\n",
       "      <td>1</td>\n",
       "      <td>0</td>\n",
       "      <td>0</td>\n",
       "      <td>1</td>\n",
       "      <td>0.0</td>\n",
       "      <td>0.0</td>\n",
       "      <td>5306.5160</td>\n",
       "      <td>0.713506</td>\n",
       "      <td>NSW117</td>\n",
       "    </tr>\n",
       "    <tr>\n",
       "      <th>596</th>\n",
       "      <td>PSID412</td>\n",
       "      <td>0</td>\n",
       "      <td>53</td>\n",
       "      <td>12</td>\n",
       "      <td>1</td>\n",
       "      <td>0</td>\n",
       "      <td>0</td>\n",
       "      <td>0</td>\n",
       "      <td>0.0</td>\n",
       "      <td>0.0</td>\n",
       "      <td>0.0000</td>\n",
       "      <td>0.527327</td>\n",
       "      <td>NSW56</td>\n",
       "    </tr>\n",
       "    <tr>\n",
       "      <th>598</th>\n",
       "      <td>PSID414</td>\n",
       "      <td>0</td>\n",
       "      <td>17</td>\n",
       "      <td>6</td>\n",
       "      <td>0</td>\n",
       "      <td>0</td>\n",
       "      <td>0</td>\n",
       "      <td>1</td>\n",
       "      <td>0.0</td>\n",
       "      <td>0.0</td>\n",
       "      <td>0.0000</td>\n",
       "      <td>0.236709</td>\n",
       "      <td>NSW66</td>\n",
       "    </tr>\n",
       "    <tr>\n",
       "      <th>600</th>\n",
       "      <td>PSID416</td>\n",
       "      <td>0</td>\n",
       "      <td>34</td>\n",
       "      <td>12</td>\n",
       "      <td>1</td>\n",
       "      <td>0</td>\n",
       "      <td>0</td>\n",
       "      <td>0</td>\n",
       "      <td>0.0</td>\n",
       "      <td>0.0</td>\n",
       "      <td>0.0000</td>\n",
       "      <td>0.606139</td>\n",
       "      <td>NSW148</td>\n",
       "    </tr>\n",
       "    <tr>\n",
       "      <th>601</th>\n",
       "      <td>PSID417</td>\n",
       "      <td>0</td>\n",
       "      <td>16</td>\n",
       "      <td>8</td>\n",
       "      <td>0</td>\n",
       "      <td>1</td>\n",
       "      <td>0</td>\n",
       "      <td>1</td>\n",
       "      <td>0.0</td>\n",
       "      <td>0.0</td>\n",
       "      <td>12242.9600</td>\n",
       "      <td>0.210738</td>\n",
       "      <td>NSW100</td>\n",
       "    </tr>\n",
       "    <tr>\n",
       "      <th>603</th>\n",
       "      <td>PSID419</td>\n",
       "      <td>0</td>\n",
       "      <td>51</td>\n",
       "      <td>4</td>\n",
       "      <td>1</td>\n",
       "      <td>0</td>\n",
       "      <td>0</td>\n",
       "      <td>1</td>\n",
       "      <td>0.0</td>\n",
       "      <td>0.0</td>\n",
       "      <td>0.0000</td>\n",
       "      <td>0.678616</td>\n",
       "      <td>NSW79</td>\n",
       "    </tr>\n",
       "    <tr>\n",
       "      <th>604</th>\n",
       "      <td>PSID420</td>\n",
       "      <td>0</td>\n",
       "      <td>39</td>\n",
       "      <td>2</td>\n",
       "      <td>1</td>\n",
       "      <td>0</td>\n",
       "      <td>1</td>\n",
       "      <td>1</td>\n",
       "      <td>0.0</td>\n",
       "      <td>0.0</td>\n",
       "      <td>964.9555</td>\n",
       "      <td>0.590041</td>\n",
       "      <td>NSW169</td>\n",
       "    </tr>\n",
       "    <tr>\n",
       "      <th>606</th>\n",
       "      <td>PSID422</td>\n",
       "      <td>0</td>\n",
       "      <td>16</td>\n",
       "      <td>9</td>\n",
       "      <td>0</td>\n",
       "      <td>0</td>\n",
       "      <td>0</td>\n",
       "      <td>1</td>\n",
       "      <td>0.0</td>\n",
       "      <td>0.0</td>\n",
       "      <td>5551.8190</td>\n",
       "      <td>0.217495</td>\n",
       "      <td>NSW142</td>\n",
       "    </tr>\n",
       "    <tr>\n",
       "      <th>607</th>\n",
       "      <td>PSID423</td>\n",
       "      <td>0</td>\n",
       "      <td>27</td>\n",
       "      <td>10</td>\n",
       "      <td>1</td>\n",
       "      <td>0</td>\n",
       "      <td>0</td>\n",
       "      <td>1</td>\n",
       "      <td>0.0</td>\n",
       "      <td>0.0</td>\n",
       "      <td>7543.7940</td>\n",
       "      <td>0.693052</td>\n",
       "      <td>NSW138</td>\n",
       "    </tr>\n",
       "    <tr>\n",
       "      <th>609</th>\n",
       "      <td>PSID425</td>\n",
       "      <td>0</td>\n",
       "      <td>18</td>\n",
       "      <td>11</td>\n",
       "      <td>0</td>\n",
       "      <td>0</td>\n",
       "      <td>0</td>\n",
       "      <td>1</td>\n",
       "      <td>0.0</td>\n",
       "      <td>0.0</td>\n",
       "      <td>10150.5000</td>\n",
       "      <td>0.201542</td>\n",
       "      <td>NSW26</td>\n",
       "    </tr>\n",
       "    <tr>\n",
       "      <th>610</th>\n",
       "      <td>PSID426</td>\n",
       "      <td>0</td>\n",
       "      <td>24</td>\n",
       "      <td>1</td>\n",
       "      <td>0</td>\n",
       "      <td>1</td>\n",
       "      <td>1</td>\n",
       "      <td>1</td>\n",
       "      <td>0.0</td>\n",
       "      <td>0.0</td>\n",
       "      <td>19464.6100</td>\n",
       "      <td>0.189234</td>\n",
       "      <td>NSW106</td>\n",
       "    </tr>\n",
       "    <tr>\n",
       "      <th>612</th>\n",
       "      <td>PSID428</td>\n",
       "      <td>0</td>\n",
       "      <td>32</td>\n",
       "      <td>5</td>\n",
       "      <td>1</td>\n",
       "      <td>0</td>\n",
       "      <td>1</td>\n",
       "      <td>1</td>\n",
       "      <td>0.0</td>\n",
       "      <td>0.0</td>\n",
       "      <td>187.6713</td>\n",
       "      <td>0.550453</td>\n",
       "      <td>NSW80</td>\n",
       "    </tr>\n",
       "    <tr>\n",
       "      <th>613</th>\n",
       "      <td>PSID429</td>\n",
       "      <td>0</td>\n",
       "      <td>16</td>\n",
       "      <td>9</td>\n",
       "      <td>0</td>\n",
       "      <td>0</td>\n",
       "      <td>0</td>\n",
       "      <td>1</td>\n",
       "      <td>0.0</td>\n",
       "      <td>0.0</td>\n",
       "      <td>1495.4590</td>\n",
       "      <td>0.201197</td>\n",
       "      <td>NSW30</td>\n",
       "    </tr>\n",
       "  </tbody>\n",
       "</table>\n",
       "<p>370 rows × 13 columns</p>\n",
       "</div>"
      ],
      "text/plain": [
       "          id  treat  age  educ  black  hispan  married  nodegree  re74  re75  \\\n",
       "0       NSW1      1   37    11      1       0        1         1   0.0   0.0   \n",
       "1       NSW2      1   22     9      0       1        0         1   0.0   0.0   \n",
       "2       NSW3      1   30    12      1       0        0         0   0.0   0.0   \n",
       "3       NSW4      1   27    11      1       0        0         1   0.0   0.0   \n",
       "4       NSW5      1   33     8      1       0        0         1   0.0   0.0   \n",
       "5       NSW6      1   22     9      1       0        0         1   0.0   0.0   \n",
       "6       NSW7      1   23    12      1       0        0         0   0.0   0.0   \n",
       "7       NSW8      1   32    11      1       0        0         1   0.0   0.0   \n",
       "8       NSW9      1   22    16      1       0        0         0   0.0   0.0   \n",
       "9      NSW10      1   33    12      0       0        1         0   0.0   0.0   \n",
       "10     NSW11      1   19     9      1       0        0         1   0.0   0.0   \n",
       "11     NSW12      1   21    13      1       0        0         0   0.0   0.0   \n",
       "12     NSW13      1   18     8      1       0        0         1   0.0   0.0   \n",
       "13     NSW14      1   27    10      1       0        1         1   0.0   0.0   \n",
       "14     NSW15      1   17     7      1       0        0         1   0.0   0.0   \n",
       "15     NSW16      1   19    10      1       0        0         1   0.0   0.0   \n",
       "16     NSW17      1   27    13      1       0        0         0   0.0   0.0   \n",
       "17     NSW18      1   23    10      1       0        0         1   0.0   0.0   \n",
       "18     NSW19      1   40    12      1       0        0         0   0.0   0.0   \n",
       "19     NSW20      1   26    12      1       0        0         0   0.0   0.0   \n",
       "20     NSW21      1   23    11      1       0        0         1   0.0   0.0   \n",
       "21     NSW22      1   41    14      0       0        0         0   0.0   0.0   \n",
       "22     NSW23      1   38     9      0       0        0         1   0.0   0.0   \n",
       "23     NSW24      1   24    11      1       0        0         1   0.0   0.0   \n",
       "24     NSW25      1   18    10      1       0        0         1   0.0   0.0   \n",
       "25     NSW26      1   29    11      1       0        1         1   0.0   0.0   \n",
       "26     NSW27      1   25    11      1       0        0         1   0.0   0.0   \n",
       "27     NSW28      1   27    10      0       1        0         1   0.0   0.0   \n",
       "28     NSW29      1   17    10      1       0        0         1   0.0   0.0   \n",
       "29     NSW30      1   24    11      1       0        0         1   0.0   0.0   \n",
       "..       ...    ...  ...   ...    ...     ...      ...       ...   ...   ...   \n",
       "569  PSID385      0   19    12      0       1        0         0   0.0   0.0   \n",
       "570  PSID386      0   20    12      1       0        0         0   0.0   0.0   \n",
       "571  PSID387      0   55     4      1       0        0         1   0.0   0.0   \n",
       "572  PSID388      0   19    11      1       0        0         1   0.0   0.0   \n",
       "573  PSID389      0   18    11      1       0        0         1   0.0   0.0   \n",
       "576  PSID392      0   17    10      1       0        0         1   0.0   0.0   \n",
       "578  PSID394      0   34     8      0       0        1         1   0.0   0.0   \n",
       "581  PSID397      0   16     9      0       0        0         1   0.0   0.0   \n",
       "582  PSID398      0   17     8      1       0        0         1   0.0   0.0   \n",
       "583  PSID399      0   27    14      1       0        0         0   0.0   0.0   \n",
       "584  PSID400      0   37     8      1       0        0         1   0.0   0.0   \n",
       "585  PSID401      0   17    10      1       0        0         1   0.0   0.0   \n",
       "586  PSID402      0   16     8      0       0        0         1   0.0   0.0   \n",
       "590  PSID406      0   16    10      1       0        0         1   0.0   0.0   \n",
       "591  PSID407      0   23    12      0       0        0         0   0.0   0.0   \n",
       "592  PSID408      0   46    11      1       0        1         1   0.0   0.0   \n",
       "593  PSID409      0   17    10      0       0        0         1   0.0   0.0   \n",
       "595  PSID411      0   18    10      1       0        0         1   0.0   0.0   \n",
       "596  PSID412      0   53    12      1       0        0         0   0.0   0.0   \n",
       "598  PSID414      0   17     6      0       0        0         1   0.0   0.0   \n",
       "600  PSID416      0   34    12      1       0        0         0   0.0   0.0   \n",
       "601  PSID417      0   16     8      0       1        0         1   0.0   0.0   \n",
       "603  PSID419      0   51     4      1       0        0         1   0.0   0.0   \n",
       "604  PSID420      0   39     2      1       0        1         1   0.0   0.0   \n",
       "606  PSID422      0   16     9      0       0        0         1   0.0   0.0   \n",
       "607  PSID423      0   27    10      1       0        0         1   0.0   0.0   \n",
       "609  PSID425      0   18    11      0       0        0         1   0.0   0.0   \n",
       "610  PSID426      0   24     1      0       1        1         1   0.0   0.0   \n",
       "612  PSID428      0   32     5      1       0        1         1   0.0   0.0   \n",
       "613  PSID429      0   16     9      0       0        0         1   0.0   0.0   \n",
       "\n",
       "           re78  propensity score matching  \n",
       "0     9930.0460          0.458074  PSID357  \n",
       "1     3595.8940          0.151980  PSID241  \n",
       "2    24909.4500          0.750966  PSID388  \n",
       "3     7506.1460          0.674020  PSID191  \n",
       "4      289.7899          0.670590  PSID124  \n",
       "5     4056.4940          0.711254  PSID352  \n",
       "6        0.0000          0.649616  PSID193  \n",
       "7     8472.1580          0.660434  PSID385  \n",
       "8     2164.0220          0.583820  PSID206  \n",
       "9    12418.0700          0.086735  PSID394  \n",
       "10    8173.9080          0.741211  PSID268  \n",
       "11   17094.6400          0.726964    PSID5  \n",
       "12       0.0000          0.722678   PSID48  \n",
       "13   18739.9300          0.574993  PSID183  \n",
       "14    3023.8790          0.756805  PSID179  \n",
       "15    3228.5030          0.699534  PSID401  \n",
       "16   14581.8600          0.693528  PSID345  \n",
       "17    7693.4000          0.708020  PSID213  \n",
       "18   10804.3200          0.643803  PSID331  \n",
       "19   10747.3500          0.695839  PSID355  \n",
       "20       0.0000          0.648365  PSID274  \n",
       "21    5149.5010          0.113423  PSID122  \n",
       "22    6408.9500          0.163557  PSID192  \n",
       "23    1991.4000          0.655497  PSID399  \n",
       "24   11163.1700          0.741678  PSID256  \n",
       "25    9642.9990          0.490096  PSID425  \n",
       "26    9897.0490          0.693886  PSID373  \n",
       "27   11142.8700          0.153473  PSID178  \n",
       "28   16218.0400          0.767526  PSID218  \n",
       "29     995.7002          0.650016  PSID429  \n",
       "..          ...               ...      ...  \n",
       "569  18573.5500          0.186440     NSW8  \n",
       "570  11594.2400          0.721058    NSW47  \n",
       "571      0.0000          0.663671   NSW176  \n",
       "572  16485.5200          0.746482     NSW3  \n",
       "573   7146.2860          0.704759   NSW153  \n",
       "576      0.0000          0.690089    NSW62  \n",
       "578   2664.3410          0.086892    NSW10  \n",
       "581   6494.6080          0.221417   NSW133  \n",
       "582   4520.3660          0.747344   NSW160  \n",
       "583  10122.4300          0.650508    NSW24  \n",
       "584    648.7220          0.657427    NSW85  \n",
       "585   1053.6190          0.695535    NSW16  \n",
       "586      0.0000          0.209481    NSW67  \n",
       "590   1730.4180          0.702554    NSW48  \n",
       "591   3902.6760          0.166925   NSW184  \n",
       "592      0.0000          0.363169    NSW52  \n",
       "593  14942.7700          0.239343   NSW104  \n",
       "595   5306.5160          0.713506   NSW117  \n",
       "596      0.0000          0.527327    NSW56  \n",
       "598      0.0000          0.236709    NSW66  \n",
       "600      0.0000          0.606139   NSW148  \n",
       "601  12242.9600          0.210738   NSW100  \n",
       "603      0.0000          0.678616    NSW79  \n",
       "604    964.9555          0.590041   NSW169  \n",
       "606   5551.8190          0.217495   NSW142  \n",
       "607   7543.7940          0.693052   NSW138  \n",
       "609  10150.5000          0.201542    NSW26  \n",
       "610  19464.6100          0.189234   NSW106  \n",
       "612    187.6713          0.550453    NSW80  \n",
       "613   1495.4590          0.201197    NSW30  \n",
       "\n",
       "[370 rows x 13 columns]"
      ]
     },
     "execution_count": 181,
     "metadata": {},
     "output_type": "execute_result"
    }
   ],
   "source": [
    "df_matched = df_prop[df_prop['id'].apply(lambda x: x in kept_nodes)]\n",
    "df_matched = pd.concat([df_matched, df_matched['id'].apply(lambda x: matching[x])], axis=1)\n",
    "df_matched.columns.values[12] = 'matching'\n",
    "df_matched"
   ]
  },
  {
   "cell_type": "markdown",
   "metadata": {},
   "source": [
    "We can now re-do our analysis."
   ]
  },
  {
   "cell_type": "code",
   "execution_count": 182,
   "metadata": {},
   "outputs": [
    {
     "data": {
      "image/png": "[encoded data removed]",
      "text/plain": [
       "<matplotlib.figure.Figure at 0x7f04a98a40b8>"
      ]
     },
     "metadata": {},
     "output_type": "display_data"
    }
   ],
   "source": [
    "# Extract the two categories.\n",
    "treat = df_matched[df_matched.treat == 1]\n",
    "control = df_matched[df_matched.treat == 0]\n",
    "\n",
    "#Box plot\n",
    "x = df_matched['treat']\n",
    "y = df_matched['re78']\n",
    "ylim = (0,30000)\n",
    "ax = sbs.boxplot(x=x,y=y)\n",
    "ax.set(ylim=ylim,)\n",
    "plt.show()"
   ]
  },
  {
   "cell_type": "markdown",
   "metadata": {},
   "source": [
    "As we can see, the results seem to be slightly more logical, i.e. the mean of salary for treated persons is now above the one for the rest.\n",
    "\n",
    "Let's see what happened to the other parameters."
   ]
  },
  {
   "cell_type": "code",
   "execution_count": 183,
   "metadata": {},
   "outputs": [
    {
     "data": {
      "image/png": "[encoded data removed]",
      "text/plain": [
       "<matplotlib.figure.Figure at 0x7f04a8f01940>"
      ]
     },
     "metadata": {},
     "output_type": "display_data"
    }
   ],
   "source": [
    "labels_ = ['black', 'hispan' , 'white']\n",
    "\n",
    "(b_t,h_t,w_t) = ethnicity(treat)\n",
    "(b_c,h_c,w_c) = ethnicity(control)\n",
    "\n",
    "f, (ax1, ax2) = plt.subplots(1, 2, sharey=True)\n",
    "\n",
    "ax1.pie(x=[b_t.shape[0],w_t.shape[0],h_t.shape[0]],labels = labels_)\n",
    "ax1.set_title(label_treatment)\n",
    "ax2.pie(x=[b_c.shape[0],w_c.shape[0],h_c.shape[0]],labels = labels_)\n",
    "ax2.set_title(label_control)\n",
    "plt.show()"
   ]
  },
  {
   "cell_type": "code",
   "execution_count": 184,
   "metadata": {},
   "outputs": [
    {
     "data": {
      "image/png": "[encoded data removed]",
      "text/plain": [
       "<matplotlib.figure.Figure at 0x7f04aa1489e8>"
      ]
     },
     "metadata": {},
     "output_type": "display_data"
    }
   ],
   "source": [
    "degree_t = treat[treat.nodegree == 0]\n",
    "not_degree_t = treat[treat.nodegree == 1]\n",
    "\n",
    "degree_c = control[control.nodegree == 0]\n",
    "not_degree_c = control[control.nodegree == 1]\n",
    "\n",
    "\n",
    "\n",
    "fig,(ax1,ax2) = plt.subplots(1,2,sharey=True)\n",
    "labels_ = ['degree' , 'not degree']\n",
    "pie_2_dist(degree_t,not_degree_t,ax1,labels_,label_treatment)\n",
    "pie_2_dist(degree_c,not_degree_c,ax2,labels_,label_control)\n",
    "plt.show()"
   ]
  },
  {
   "cell_type": "code",
   "execution_count": 185,
   "metadata": {},
   "outputs": [
    {
     "data": {
      "image/png": "[encoded data removed]",
      "text/plain": [
       "<matplotlib.figure.Figure at 0x7f04a91482e8>"
      ]
     },
     "metadata": {},
     "output_type": "display_data"
    }
   ],
   "source": [
    "m_t = treat[treat.married == 1]\n",
    "m_c = treat[treat.married == 0]\n",
    "\n",
    "not_m_t = control[control.married == 1]\n",
    "not_m_c = control[control.married == 0]\n",
    "\n",
    "f, (ax1,ax2) = plt.subplots(1,2, sharey=True)\n",
    "labels_ = ['married', 'not married']\n",
    "pie_2_dist(m_t,not_m_t,ax1,labels_, label_treatment)\n",
    "pie_2_dist(m_c,not_m_c,ax2,labels_, label_control)\n",
    "plt.show()\n"
   ]
  },
  {
   "cell_type": "code",
   "execution_count": 186,
   "metadata": {},
   "outputs": [
    {
     "data": {
      "image/png": "[encoded data removed]",
      "text/plain": [
       "<matplotlib.figure.Figure at 0x7f04a98a4cc0>"
      ]
     },
     "metadata": {},
     "output_type": "display_data"
    }
   ],
   "source": [
    "plot_dist_bis(treat['age'], control['age'])"
   ]
  },
  {
   "cell_type": "markdown",
   "metadata": {},
   "source": [
    "It seems the the propensity matching did a really good job at balancing every parameter but ethnicity that remains very badly distributed."
   ]
  },
  {
   "cell_type": "markdown",
   "metadata": {},
   "source": [
    "## 1.5 Balancing"
   ]
  },
  {
   "cell_type": "markdown",
   "metadata": {},
   "source": [
    "As we saw, the ethnicity distribution is really bad, one way to balance it is to get rid of the persons of 'black ethnicity' treated and their match when they are matched with people with 'hispanic ethnicity'."
   ]
  },
  {
   "cell_type": "code",
   "execution_count": 187,
   "metadata": {},
   "outputs": [
    {
     "data": {
      "text/plain": [
       "['PSID241',\n",
       " 'PSID388',\n",
       " 'PSID191',\n",
       " 'PSID352',\n",
       " 'PSID385',\n",
       " 'PSID394',\n",
       " 'PSID268',\n",
       " 'PSID5',\n",
       " 'PSID48',\n",
       " 'PSID179',\n",
       " 'PSID401',\n",
       " 'PSID345',\n",
       " 'PSID331',\n",
       " 'PSID355',\n",
       " 'PSID122',\n",
       " 'PSID192',\n",
       " 'PSID399',\n",
       " 'PSID256',\n",
       " 'PSID373',\n",
       " 'PSID178']"
      ]
     },
     "execution_count": 187,
     "metadata": {},
     "output_type": "execute_result"
    }
   ],
   "source": [
    "df1 = df_matched[['id', 'black', 'hispan', 'matching', 'treat']]\n",
    "df2 = df_matched[['id', 'black', 'hispan', 'matching', 'treat']]\n",
    "df1.columns = ['matching', 'black', 'hispan', 'id', 'treat']\n",
    "x = df1.merge(df2, on='id')\n",
    "\n",
    "ids = x[\n",
    "    ~(((x['treat_x'] == 1) &\n",
    "     (x['black_x'] == 1) &\n",
    "     (x['hispan_y'] == 0) &\n",
    "     (x['black_y'] == 0)) |\n",
    "    ((x['treat_x'] == 0) &\n",
    "     (x['black_y'] == 1) &\n",
    "     (x['hispan_x'] == 0) &\n",
    "     (x['black_x'] == 0)))\n",
    " ]['id'].tolist()\n",
    "\n",
    "ids[:20]"
   ]
  },
  {
   "cell_type": "code",
   "execution_count": 188,
   "metadata": {},
   "outputs": [
    {
     "data": {
      "image/png": "[encoded data removed]",
      "text/plain": [
       "<matplotlib.figure.Figure at 0x7f04aa7b10f0>"
      ]
     },
     "metadata": {},
     "output_type": "display_data"
    }
   ],
   "source": [
    "df_balanced = df_matched[df_matched['id'].apply(lambda x: x in ids)]\n",
    "\n",
    "treat = df_balanced[df_balanced.treat == 1]\n",
    "control = df_balanced[df_balanced.treat == 0]\n",
    "\n",
    "labels_ = ['black', 'hispan' , 'white']\n",
    "\n",
    "(b_t,h_t,w_t) = ethnicity(treat)\n",
    "(b_c,h_c,w_c) = ethnicity(control)\n",
    "\n",
    "f, (ax1, ax2) = plt.subplots(1, 2, sharey=True)\n",
    "\n",
    "ax1.pie(x=[b_t.shape[0],w_t.shape[0],h_t.shape[0]],labels = labels_)\n",
    "ax1.set_title(label_treatment)\n",
    "ax2.pie(x=[b_c.shape[0],w_c.shape[0],h_c.shape[0]],labels = labels_)\n",
    "ax2.set_title(label_control)\n",
    "plt.show()"
   ]
  },
  {
   "cell_type": "markdown",
   "metadata": {},
   "source": [
    "Now it's much better : The ethnicity distribution is now good enough to assume it to have a minimal impact on the experiment."
   ]
  },
  {
   "cell_type": "markdown",
   "metadata": {},
   "source": [
    "## 1.6 Final Analysis"
   ]
  },
  {
   "cell_type": "code",
   "execution_count": 189,
   "metadata": {},
   "outputs": [
    {
     "data": {
      "image/png": "[encoded data removed]",
      "text/plain": [
       "<matplotlib.figure.Figure at 0x7f04aa543588>"
      ]
     },
     "metadata": {},
     "output_type": "display_data"
    }
   ],
   "source": [
    "#Box plot\n",
    "x = df_balanced['treat']\n",
    "y = df_balanced['re78']\n",
    "ylim = (0,30000)\n",
    "ax = sbs.boxplot(x=x,y=y)\n",
    "ax.set(ylim=ylim,)\n",
    "plt.show()"
   ]
  },
  {
   "cell_type": "markdown",
   "metadata": {},
   "source": [
    "As we can see, the boxplots look different now and we can conclude that the treatment seem to work **given the parameters we know**."
   ]
  },
  {
   "cell_type": "markdown",
   "metadata": {
    "collapsed": true
   },
   "source": [
    "# Question 2: Applied ML"
   ]
  },
  {
   "cell_type": "markdown",
   "metadata": {},
   "source": [
    "We would like to classify text data into 20 news groups using a mathod called term frequency–inverse document frequency (TD-IF). "
   ]
  },
  {
   "cell_type": "markdown",
   "metadata": {},
   "source": [
    "We start by loading the data from the scikit-learn library. The data set offers a train and a test subset, but we don't know the size of the split in terms of percentage and moreover we would like to split the data into three subsets. Therefore we use the argument subset= 'all' that return the whole data with shuffled ordering."
   ]
  },
  {
   "cell_type": "code",
   "execution_count": 66,
   "metadata": {},
   "outputs": [
    {
     "data": {
      "text/plain": [
       "['alt.atheism',\n",
       " 'comp.graphics',\n",
       " 'comp.os.ms-windows.misc',\n",
       " 'comp.sys.ibm.pc.hardware',\n",
       " 'comp.sys.mac.hardware',\n",
       " 'comp.windows.x',\n",
       " 'misc.forsale',\n",
       " 'rec.autos',\n",
       " 'rec.motorcycles',\n",
       " 'rec.sport.baseball',\n",
       " 'rec.sport.hockey',\n",
       " 'sci.crypt',\n",
       " 'sci.electronics',\n",
       " 'sci.med',\n",
       " 'sci.space',\n",
       " 'soc.religion.christian',\n",
       " 'talk.politics.guns',\n",
       " 'talk.politics.mideast',\n",
       " 'talk.politics.misc',\n",
       " 'talk.religion.misc']"
      ]
     },
     "execution_count": 66,
     "metadata": {},
     "output_type": "execute_result"
    }
   ],
   "source": [
    "from sklearn.datasets import fetch_20newsgroups\n",
    "#get the full data shuffled in order to split it our own way\n",
    "newsgroup_full = fetch_20newsgroups(subset= 'all')\n",
    "#displays the 20 categories that we aim to classify\n",
    "newsgroup_full.target_names"
   ]
  },
  {
   "cell_type": "markdown",
   "metadata": {},
   "source": [
    "We will now convert the list of documents in the data into a matrix of TD-IF features."
   ]
  },
  {
   "cell_type": "code",
   "execution_count": 58,
   "metadata": {
    "collapsed": true
   },
   "outputs": [],
   "source": [
    "from sklearn.feature_extraction.text import TfidfVectorizer\n",
    "#create a verctorizer\n",
    "vectorizer = TfidfVectorizer()\n",
    "#compute the TD-IDF features for every article\n",
    "vectors = vectorizer.fit_transform(newsgroup_full.data)"
   ]
  },
  {
   "cell_type": "markdown",
   "metadata": {},
   "source": [
    "As we said before we would like to split our data into three subsets. A training data, to train our model, a test data to select our parameters and validation data to validate our model.\n",
    "The training data corresponds to 80% of the data and the test and validation set are respectively correspond to 10% of the original data"
   ]
  },
  {
   "cell_type": "code",
   "execution_count": 69,
   "metadata": {
    "collapsed": true
   },
   "outputs": [],
   "source": [
    "#compute the number of samples for the training data which equals 80% of the data\n",
    "train_size = round(vectors.shape[0]/100*80)\n",
    "#compute the number of samples for the test data which equals 10% of the data\n",
    "test_val_size = round(vectors.shape[0]/100*10)\n",
    "\n",
    "#training data\n",
    "newsgroup_train = vectors[:train_size]\n",
    "#training labes\n",
    "y_train = newsgroup_full.target[:train_size]\n",
    "#test data\n",
    "newsgroup_test = vectors[train_size:train_size+test_val_size]\n",
    "#test labels\n",
    "y_test = newsgroup_full.target[train_size:train_size+test_val_size]\n",
    "#validation data\n",
    "newsgroup_validation = vectors[train_size+test_val_size:]\n",
    "#validation labels\n",
    "y_valid = newsgroup_full.target[train_size+test_val_size:]"
   ]
  },
  {
   "cell_type": "code",
   "execution_count": 124,
   "metadata": {
    "collapsed": true
   },
   "outputs": [],
   "source": [
    "from sklearn.ensemble import RandomForestClassifier\n",
    "from sklearn.metrics import accuracy_score, confusion_matrix\n",
    "from mpl_toolkits.mplot3d import Axes3D"
   ]
  },
  {
   "cell_type": "markdown",
   "metadata": {},
   "source": [
    "We use a random forest in order to build our classifier. We then perform a grid search on the parameters n_estimators and max depth. For each pair of parameters we see how the model perfoms against the test set and keep track of the best parameters."
   ]
  },
  {
   "cell_type": "code",
   "execution_count": 230,
   "metadata": {
    "collapsed": true
   },
   "outputs": [],
   "source": [
    "#the random forest classifier\n",
    "rf = RandomForestClassifier()\n",
    "best_score = 0\n",
    "best_score_index = 0,0\n",
    "accuracy = []\n",
    "#grid search for the parameters\n",
    "for estimators in range(10,40):\n",
    "    for depth in range(10,40):\n",
    "        rf.n_estimators = estimators\n",
    "        rf.max_depth = depth\n",
    "        rf.fit(newsgroup_train, y_train)\n",
    "        pred = rf.predict(newsgroup_test)\n",
    "        score = accuracy_score(y_test,pred)\n",
    "        #compute the accuracy score\n",
    "        accuracy.append(score)\n",
    "        if score > best_score:\n",
    "            best_score = score\n",
    "            best_score_index = (estimators, depth)\n"
   ]
  },
  {
   "cell_type": "markdown",
   "metadata": {},
   "source": [
    "We can plot the accuracy score as a surface to see how it evolve"
   ]
  },
  {
   "cell_type": "code",
   "execution_count": 231,
   "metadata": {},
   "outputs": [
    {
     "data": {
      "image/png": "[encoded data removed]",
      "text/plain": [
       "<matplotlib.figure.Figure at 0x1a17df1240>"
      ]
     },
     "metadata": {},
     "output_type": "display_data"
    }
   ],
   "source": [
    "fig = plt.figure()\n",
    "ax = fig.gca(projection='3d')\n",
    "ax.plot_trisurf(np.repeat(range(10,40), 30), np.tile(range(10,40),30), accuracy)\n",
    "plt.show()"
   ]
  },
  {
   "cell_type": "code",
   "execution_count": 288,
   "metadata": {},
   "outputs": [
    {
     "name": "stdout",
     "output_type": "stream",
     "text": [
      "Best score: 0.779310344828\n",
      "Parameters for best score: (38, 39)\n"
     ]
    }
   ],
   "source": [
    "print(\"Best score:\", best_score)\n",
    "print(\"Parameters for best score:\", best_score_index)"
   ]
  },
  {
   "cell_type": "markdown",
   "metadata": {},
   "source": [
    "We train another classifier with the best supposed paremeters and look at how it performs against an unseen data wich is the validation set."
   ]
  },
  {
   "cell_type": "code",
   "execution_count": 289,
   "metadata": {},
   "outputs": [
    {
     "name": "stdout",
     "output_type": "stream",
     "text": [
      "Accuracy score of the validation data 0.774416135881\n"
     ]
    }
   ],
   "source": [
    "best_forest = RandomForestClassifier(n_estimators=best_score_index[0], max_depth=best_score_index[1])\n",
    "best_forest.fit(newsgroup_train, y_train)\n",
    "print(\"Accuracy score of the validation data\",accuracy_score(y_valid, best_forest.predict(newsgroup_validation)))\n"
   ]
  },
  {
   "cell_type": "markdown",
   "metadata": {},
   "source": [
    "The accuracy score of the validation data compare to the test data is pretty close therefore we know that we didn't overfit our test data."
   ]
  },
  {
   "cell_type": "markdown",
   "metadata": {},
   "source": [
    "We can now plot the confusion matrix. \n",
    "To do so we wrote a code inspired from this post:<br> https://stackoverflow.com/questions/5821125/how-to-plot-confusion-matrix-with-string-axis-rather-than-integer-in-python"
   ]
  },
  {
   "cell_type": "code",
   "execution_count": 294,
   "metadata": {},
   "outputs": [
    {
     "data": {
      "image/png": "[encoded data removed]",
      "text/plain": [
       "<matplotlib.figure.Figure at 0x1a23070eb8>"
      ]
     },
     "metadata": {},
     "output_type": "display_data"
    }
   ],
   "source": [
    "norm_confusion = []\n",
    "confusion = confusion_matrix(y_valid, best_forest.predict(newsgroup_validation))                           \n",
    "for i in confusion:\n",
    "    a = 0\n",
    "    tmp_arr = []\n",
    "    a = sum(i, 0)\n",
    "    for j in i:\n",
    "        tmp_arr.append(float(j)/float(a))\n",
    "    norm_confusion.append(tmp_arr)\n",
    "\n",
    "fig = plt.figure(figsize = (12,7))\n",
    "plt.clf()\n",
    "ax = fig.add_subplot(111)\n",
    "ax.set_aspect(1)\n",
    "res = ax.imshow(np.array(norm_confusion), cmap=plt.cm.jet, \n",
    "                interpolation='nearest')\n",
    "\n",
    "width, height = confusion.shape\n",
    "\n",
    "for x in range(width):\n",
    "    for y in range(height):\n",
    "        ax.annotate(str(confusion[x][y]), xy=(y, x), \n",
    "                    horizontalalignment='center',\n",
    "                    verticalalignment='center')\n",
    "\n",
    "cb = fig.colorbar(res)\n",
    "ax.set_xticklabels(newsgroup_full.target_names, minor=False, rotation='vertical')\n",
    "ax.set_xticks(np.arange(len(newsgroup_full.target_names)))\n",
    "ax.set_yticklabels(newsgroup_full.target_names, minor=False)\n",
    "ax.set_yticks(np.arange(len(newsgroup_full.target_names)))      \n",
    "plt.show()"
   ]
  },
  {
   "cell_type": "markdown",
   "metadata": {},
   "source": [
    "The heatmap of the confusion matrix shows that our classifier did well is most cases. The diagonal is clearly highlighted. We can see that the model had some trouble to classify the newsgroup $\\text{talk.religion.misc}$ almost half of the data for this group was wrongly classified to $\\text{soc.religion.christian}$. First of all it was still classified as a religious group which is nice. The other reason is that if we look at the christian group we see that it has more data, the output are not balanced for this two categories. Therefore the model tends to classify more easily the group with more data. This could be attenuate with a cost function if we use another classification model therefore this visualization still contains a lot of information."
   ]
  },
  {
   "cell_type": "code",
   "execution_count": 284,
   "metadata": {},
   "outputs": [
    {
     "name": "stdout",
     "output_type": "stream",
     "text": [
      "[  1.05065258e-04   1.97086444e-04   1.25237515e-05   0.00000000e+00\n",
      "   0.00000000e+00   0.00000000e+00   0.00000000e+00   0.00000000e+00\n",
      "   0.00000000e+00   0.00000000e+00]\n"
     ]
    },
    {
     "data": {
      "text/plain": [
       "8.272809935428919"
      ]
     },
     "execution_count": 284,
     "metadata": {},
     "output_type": "execute_result"
    }
   ],
   "source": [
    "print(best_forest.feature_importances_[:10])\n",
    "len(best_forest.feature_importances_.nonzero()[0])/len(best_forest.feature_importances_)*100"
   ]
  },
  {
   "cell_type": "markdown",
   "metadata": {},
   "source": [
    "As we can see most of the weights are zero. Only ~8.3% of the weights are non-zero. Therfore it means that the model found relevant informations only in the non-zero features. We could thus remove some features to do faster computations.\n"
   ]
  }
 ],
 "metadata": {
  "kernelspec": {
   "display_name": "Python [default]",
   "language": "python",
   "name": "python3"
  },
  "language_info": {
   "codemirror_mode": {
    "name": "ipython",
    "version": 3
   },
   "file_extension": ".py",
   "mimetype": "text/x-python",
   "name": "python",
   "nbconvert_exporter": "python",
   "pygments_lexer": "ipython3",
   "version": "3.6.2"
  }
 },
 "nbformat": 4,
 "nbformat_minor": 2
}
