{
 "cells": [
  {
   "cell_type": "markdown",
   "metadata": {},
   "source": [
    "# Table of Contents\n",
    " <p><div class=\"lev1\"><a href=\"#Task-1.-Compiling-Ebola-Data\"><span class=\"toc-item-num\">Task 1.&nbsp;&nbsp;</span>Compiling Ebola Data</a></div>\n",
    " <div class=\"lev1\"><a href=\"#Task-2.-RNA-Sequences\"><span class=\"toc-item-num\">Task 2.&nbsp;&nbsp;</span>RNA Sequences</a></div>\n",
    " <div class=\"lev1\"><a href=\"#Task-3.-Class-War-in-Titanic\"><span class=\"toc-item-num\">Task 3.&nbsp;&nbsp;</span>Class War in Titanic</a></div></p>"
   ]
  },
  {
   "cell_type": "code",
   "execution_count": 839,
   "metadata": {
    "collapsed": true
   },
   "outputs": [],
   "source": [
    "import pandas as pd\n",
    "import numpy as np\n",
    "import glob\n",
    "DATA_FOLDER = 'Data' # Use the data folder provided in Tutorial 02 - Intro to Pandas."
   ]
  },
  {
   "cell_type": "markdown",
   "metadata": {},
   "source": [
    "## Task 1. Compiling Ebola Data\n",
    "\n",
    "The `DATA_FOLDER/ebola` folder contains summarized reports of Ebola cases from three countries (Guinea, Liberia and Sierra Leone) during the recent outbreak of the disease in West Africa. For each country, there are daily reports that contain various information about the outbreak in several cities in each country.\n",
    "\n",
    "Use pandas to import these data files into a single `Dataframe`.\n",
    "Using this `DataFrame`, calculate for *each country*, the *daily average per month* of *new cases* and *deaths*.\n",
    "Make sure you handle all the different expressions for *new cases* and *deaths* that are used in the reports."
   ]
  },
  {
   "cell_type": "markdown",
   "metadata": {},
   "source": [
    "## Task 1: Report \n",
    "The first step was to import all the data from the ebola data floder. We created a different list of path for each country and then concatenated all the fill to create one dataframe per country.\n",
    "The second step was to look at the data to find relevant columns, value, etc... to create a Dataframe that will contains the more informative data.\n",
    "\n",
    "The first thing that we noticed is that real-life data is messy! Each country used different labels, format, value or even how they treat a missing value. Moreover it is easy to see that the data contains \"mistakes\" that can totally change our final summary data. One stiking example resides in the Liberia data, where the cumulative value of cases in december are written in the new cases rows. Missing that incoherence would lead to totally wrong statistics.\n",
    "\n",
    "Based on those observations we did choices on what value we were going to use.\n",
    "We decided to chose values that looked \"stables\". In the sens where we choosed values that we evaluate as realistic and that minimizes outling data.\n",
    "\n",
    "Our choices are the following:\n",
    "\n",
    "    -For the Guinea data: The data of guinea was quite clean. We chose the variable \"New deaths registered\" for the deaths and \"new cases of confirmed\" for the new cases.\n",
    "    This choice was based on the fact that for the deaths the data had no suspect value and that the field was present on all daily report. Concerning the new cases, we've made the choice of taking only the confirmed cases because the field Total cases was totally incoherent. The values where not always increasing the next day. Even if this is possible i.e suspected cases becomes healthy, it didn't look very acurate. Since both data for cases and death were daily data we just had to aggregate by month using a mean.\n",
    "    \n",
    "    -For the Sierra Leone data: We chose the \"new confirmed\" and the \"death confirmed\" variables. For pretty much the same reasons as above. It looked to us that it was the most relevant and consistant data. \n",
    "    The main difference is that in this case the cases value are daily values and the deaths value are cumulative values. Therefore we worked with two different dataframe in order to aggregate the first with a mean fonction and the second with a max fonction, then minus the precedent value (last month), then divided by 30 in order to have a daily average. We will discuss the efficiency of this method in the results discussion.\n",
    "    \n",
    "    -For the Liberia data: This set of data was the worse. Incoherence as exposed above (with the wrong row), new fields added, other deleted, or some other juste not filled anymore. In order to have, in our opinion, the best data we decided to use two different \"set of values\" depending on the date. For daily report until 2014-10-08 we sumed the fields \"Total cases suspected\", \"Total cases probable\" and \"Total cases confirmed\". For the following dates we used the fields \"Cumulative ... cases\". This choice was mainly motivated by the error present from the daily report of 2014-12-04, where the rows are wrongly filled. And since the cumulative field is not present in the early daily reports it was either drop the data from the 4 december or used two different strategies and then merge. We decided to merge.\n"
   ]
  },
  {
   "cell_type": "markdown",
   "metadata": {},
   "source": [
    "## Task 1: Code "
   ]
  },
  {
   "cell_type": "code",
   "execution_count": 840,
   "metadata": {
    "collapsed": true
   },
   "outputs": [],
   "source": [
    "#Test and vizualise the shape of the data\n",
    "from IPython.display import display\n",
    "from datetime import date\n",
    "guinea = DATA_FOLDER+'/ebola/guinea_data/*.csv'\n",
    "liberia = DATA_FOLDER+'/ebola/liberia_data/*.csv'\n",
    "sierra = DATA_FOLDER+'/ebola/sl_data/*.csv'"
   ]
  },
  {
   "cell_type": "markdown",
   "metadata": {},
   "source": [
    "Parses the dates values in order to keep only the Y-M pattern"
   ]
  },
  {
   "cell_type": "code",
   "execution_count": 841,
   "metadata": {
    "collapsed": true
   },
   "outputs": [],
   "source": [
    "def parse_date(data):\n",
    "    return data.Date.map(lambda x: '-'.join(str(x).split('-')[:2]))"
   ]
  },
  {
   "cell_type": "markdown",
   "metadata": {},
   "source": [
    "Read all the files in the 'country' folder and concanate them in single dataframe for the country"
   ]
  },
  {
   "cell_type": "code",
   "execution_count": 842,
   "metadata": {
    "collapsed": true
   },
   "outputs": [],
   "source": [
    "def country_dataframe(country):\n",
    "    df = pd.read_csv(glob.glob(country)[0])\n",
    "    for file in glob.glob(country)[1:]:\n",
    "        df = pd.concat([df,pd.read_csv(file)],axis = 0)\n",
    "    return df"
   ]
  },
  {
   "cell_type": "markdown",
   "metadata": {},
   "source": [
    "Compute the daily average per month for Dataframe that used cumulative data"
   ]
  },
  {
   "cell_type": "code",
   "execution_count": 843,
   "metadata": {
    "collapsed": true
   },
   "outputs": [],
   "source": [
    "def compute_day_av(df):\n",
    "    lastmonth_death = 0\n",
    "    for value in df.index:\n",
    "        curr = df.loc[value].copy()\n",
    "        new_val = curr- lastmonth_death\n",
    "        lastmonth_death = curr \n",
    "        df.loc[value] = new_val/30.0\n",
    "    return 0"
   ]
  },
  {
   "cell_type": "markdown",
   "metadata": {},
   "source": [
    "Helper function to weight the month cumulative data that had reports only until the ~10th"
   ]
  },
  {
   "cell_type": "code",
   "execution_count": 844,
   "metadata": {
    "collapsed": true
   },
   "outputs": [],
   "source": [
    "def correct_cumulative_av(df,index):\n",
    "    df.loc[index] = df.loc[index].copy()*3\n",
    "    return 0"
   ]
  },
  {
   "cell_type": "markdown",
   "metadata": {},
   "source": [
    "This function does most of the cleaning.<br>\n",
    "-It first transform the date fielf of the df as a Date for consistence with the other data<br>\n",
    "-Then it adds a Country column with the parameter 'country'<br>\n",
    "-It exctract only the rows of which the Variable value is in the 'isin_list' parameter<br>\n",
    "-It rename all the variable to unified the data if given as parameter<br>\n",
    "-It keep only the year and month of the date<br>\n",
    "-It set the index and keeps only the secified colums<br>\n",
    "-It drops all NaN values<br>\n",
    "-It casts all the values to int64 to avoid possible mistakes<br>\n",
    "-Then groupby and aggregate by the action given in the parameters.<br>\n",
    "-Sets the only columns to be 'Daily average' to facilitate the final merge<br>"
   ]
  },
  {
   "cell_type": "code",
   "execution_count": 845,
   "metadata": {
    "collapsed": true
   },
   "outputs": [],
   "source": [
    "def data_wrangler(df,country, isin_list, v_name, col, func):\n",
    "    df.Date = pd.to_datetime(df.Date)\n",
    "    df['Country'] = country\n",
    "    df = df[df['Variable'].isin(isin_list)].copy()\n",
    "    if v_name is not None:\n",
    "        df.Variable = v_name\n",
    "    df.Date = parse_date(df)\n",
    "    df = df.set_index(['Country', 'Date', 'Variable'])[col]\n",
    "    df = pd.DataFrame(df).dropna(axis = 0)\n",
    "    df = df.astype('int64')\n",
    "    if func == 'max':\n",
    "        df = df.groupby(level=[0,1,2]).max()\n",
    "    elif func == 'mean':\n",
    "        df = df.groupby(level=[0,1,2]).mean()\n",
    "    df.columns = ['Daily Average']\n",
    "    return df"
   ]
  },
  {
   "cell_type": "markdown",
   "metadata": {},
   "source": [
    "Sierra Leone"
   ]
  },
  {
   "cell_type": "code",
   "execution_count": null,
   "metadata": {
    "collapsed": true
   },
   "outputs": [],
   "source": [
    "s = country_dataframe(sierra)\n",
    "#rename the colums to be consistant with the other countries\n",
    "s = s.rename(index=str,columns={'date':'Date','variable':'Variable'})\n",
    "#new cases for SL\n",
    "s_cases = data_wrangler(s,'Sierra-Leone', ['new_confirmed'], 'New cases confirmed','National', 'mean')\n",
    "#death for Sierra Leone\n",
    "s_death = data_wrangler(s, 'Sierra-Leone', ['death_confirmed'], 'New deaths confirmed', 'National', 'max')\n",
    "compute_day_av(s_death)\n",
    "#merges cases and deaths\n",
    "s = pd.merge(s_cases.reset_index(), s_death.reset_index(), how= 'outer')\n",
    "s = s.set_index(['Country','Date','Variable'])"
   ]
  },
  {
   "cell_type": "markdown",
   "metadata": {},
   "source": [
    "Guinea"
   ]
  },
  {
   "cell_type": "code",
   "execution_count": null,
   "metadata": {
    "collapsed": true
   },
   "outputs": [],
   "source": [
    "g = country_dataframe(guinea)\n",
    "#rename the colums to be consistant with the other countries\n",
    "g = g.rename(columns={'Description':'Variable'})\n",
    "#cases and death for Guinea\n",
    "g = data_wrangler(g, 'Guinea', ['New cases of confirmed', 'New deaths registered'], None , 'Totals', 'mean')"
   ]
  },
  {
   "cell_type": "markdown",
   "metadata": {},
   "source": [
    "Liberia"
   ]
  },
  {
   "cell_type": "code",
   "execution_count": null,
   "metadata": {
    "collapsed": true
   },
   "outputs": [],
   "source": [
    "l = country_dataframe(liberia)\n",
    "#death for Liberia\n",
    "l_death = data_wrangler(l, 'Liberia', ['Newly reported deaths'], None, 'National', 'mean')\n",
    "#cases until the 2014-10-8\n",
    "l_cases_1 = l[l['Variable'].isin(['Cumulative confirmed, probable and suspected cases',\n",
    "                               'Cumulative (confirmed + probable + suspects)'])].copy()\n",
    "l_cases_1.Variable = 'New cases(confirmed, probable, suspecet)'\n",
    "#cases from the 2014-10-08\n",
    "l_cases_2 = l[l['Variable'].isin(['Total suspected cases','Total probable cases',\n",
    "                               'Total confirmed cases'])].copy()\n",
    "l_cases_2 = l_cases_2[l_cases_2.Date < date(2014, 10, 8) ]\n",
    "l_cases_2.Variable = 'New cases(confirmed, probable, suspeced)'\n",
    "l_cases_2 = l_cases_2.groupby(['Country', 'Date', 'Variable']).sum()\n",
    "#merges cases\n",
    "l_cases = pd.merge(l_cases_1.reset_index(), l_cases_2.reset_index(), how= 'outer')\n",
    "l_cases.Date = parse_date(l_cases)\n",
    "l_cases = l_cases.set_index(['Country','Date', 'Variable'])['National'].sort_index(level=1)\n",
    "l_cases = l_cases.groupby(level=[0,1,2]).max()\n",
    "l_cases = pd.DataFrame(l_cases)\n",
    "compute_day_av(l_cases)\n",
    "l_cases.columns = ['Daily Average']\n",
    "#merges the cases and the deaths\n",
    "l = pd.merge(l_death.reset_index(), l_cases.reset_index(), how= 'outer')\n",
    "l = l.set_index(['Country','Date','Variable'])"
   ]
  },
  {
   "cell_type": "markdown",
   "metadata": {},
   "source": [
    "Merge the three countries dataframes"
   ]
  },
  {
   "cell_type": "code",
   "execution_count": 846,
   "metadata": {
    "scrolled": false
   },
   "outputs": [
    {
     "data": {
      "text/html": [
       "<div>\n",
       "<style>\n",
       "    .dataframe thead tr:only-child th {\n",
       "        text-align: right;\n",
       "    }\n",
       "\n",
       "    .dataframe thead th {\n",
       "        text-align: left;\n",
       "    }\n",
       "\n",
       "    .dataframe tbody tr th {\n",
       "        vertical-align: top;\n",
       "    }\n",
       "</style>\n",
       "<table border=\"1\" class=\"dataframe\">\n",
       "  <thead>\n",
       "    <tr style=\"text-align: right;\">\n",
       "      <th></th>\n",
       "      <th></th>\n",
       "      <th></th>\n",
       "      <th>Daily Average</th>\n",
       "    </tr>\n",
       "    <tr>\n",
       "      <th>Country</th>\n",
       "      <th>Date</th>\n",
       "      <th>Variable</th>\n",
       "      <th></th>\n",
       "    </tr>\n",
       "  </thead>\n",
       "  <tbody>\n",
       "    <tr>\n",
       "      <th rowspan=\"6\" valign=\"top\">Guinea</th>\n",
       "      <th rowspan=\"2\" valign=\"top\">2014-08</th>\n",
       "      <th>New cases of confirmed</th>\n",
       "      <td>12.400000</td>\n",
       "    </tr>\n",
       "    <tr>\n",
       "      <th>New deaths registered</th>\n",
       "      <td>3.750000</td>\n",
       "    </tr>\n",
       "    <tr>\n",
       "      <th rowspan=\"2\" valign=\"top\">2014-09</th>\n",
       "      <th>New cases of confirmed</th>\n",
       "      <td>13.000000</td>\n",
       "    </tr>\n",
       "    <tr>\n",
       "      <th>New deaths registered</th>\n",
       "      <td>3.562500</td>\n",
       "    </tr>\n",
       "    <tr>\n",
       "      <th rowspan=\"2\" valign=\"top\">2014-10</th>\n",
       "      <th>New cases of confirmed</th>\n",
       "      <td>6.000000</td>\n",
       "    </tr>\n",
       "    <tr>\n",
       "      <th>New deaths registered</th>\n",
       "      <td>15.000000</td>\n",
       "    </tr>\n",
       "    <tr>\n",
       "      <th rowspan=\"14\" valign=\"top\">Liberia</th>\n",
       "      <th rowspan=\"2\" valign=\"top\">2014-06</th>\n",
       "      <th>New cases(confirmed, probable, suspeced)</th>\n",
       "      <td>3.000000</td>\n",
       "    </tr>\n",
       "    <tr>\n",
       "      <th>Newly reported deaths</th>\n",
       "      <td>2.000000</td>\n",
       "    </tr>\n",
       "    <tr>\n",
       "      <th rowspan=\"2\" valign=\"top\">2014-07</th>\n",
       "      <th>New cases(confirmed, probable, suspeced)</th>\n",
       "      <td>7.233333</td>\n",
       "    </tr>\n",
       "    <tr>\n",
       "      <th>Newly reported deaths</th>\n",
       "      <td>4.272727</td>\n",
       "    </tr>\n",
       "    <tr>\n",
       "      <th rowspan=\"2\" valign=\"top\">2014-08</th>\n",
       "      <th>New cases(confirmed, probable, suspeced)</th>\n",
       "      <td>42.500000</td>\n",
       "    </tr>\n",
       "    <tr>\n",
       "      <th>Newly reported deaths</th>\n",
       "      <td>23.222222</td>\n",
       "    </tr>\n",
       "    <tr>\n",
       "      <th rowspan=\"2\" valign=\"top\">2014-09</th>\n",
       "      <th>New cases(confirmed, probable, suspeced)</th>\n",
       "      <td>74.800000</td>\n",
       "    </tr>\n",
       "    <tr>\n",
       "      <th>Newly reported deaths</th>\n",
       "      <td>37.608696</td>\n",
       "    </tr>\n",
       "    <tr>\n",
       "      <th rowspan=\"3\" valign=\"top\">2014-10</th>\n",
       "      <th>New cases(confirmed, probable, suspeced)</th>\n",
       "      <td>8.066667</td>\n",
       "    </tr>\n",
       "    <tr>\n",
       "      <th>New cases(confirmed, probable, suspecet)</th>\n",
       "      <td>81.900000</td>\n",
       "    </tr>\n",
       "    <tr>\n",
       "      <th>Newly reported deaths</th>\n",
       "      <td>28.040000</td>\n",
       "    </tr>\n",
       "    <tr>\n",
       "      <th rowspan=\"2\" valign=\"top\">2014-11</th>\n",
       "      <th>New cases(confirmed, probable, suspecet)</th>\n",
       "      <td>37.600000</td>\n",
       "    </tr>\n",
       "    <tr>\n",
       "      <th>Newly reported deaths</th>\n",
       "      <td>15.538462</td>\n",
       "    </tr>\n",
       "    <tr>\n",
       "      <th>2014-12</th>\n",
       "      <th>New cases(confirmed, probable, suspecet)</th>\n",
       "      <td>14.400000</td>\n",
       "    </tr>\n",
       "    <tr>\n",
       "      <th rowspan=\"10\" valign=\"top\">Sierra-Leone</th>\n",
       "      <th rowspan=\"2\" valign=\"top\">2014-08</th>\n",
       "      <th>New cases confirmed</th>\n",
       "      <td>20.611111</td>\n",
       "    </tr>\n",
       "    <tr>\n",
       "      <th>New deaths confirmed</th>\n",
       "      <td>12.900000</td>\n",
       "    </tr>\n",
       "    <tr>\n",
       "      <th rowspan=\"2\" valign=\"top\">2014-09</th>\n",
       "      <th>New cases confirmed</th>\n",
       "      <td>36.962963</td>\n",
       "    </tr>\n",
       "    <tr>\n",
       "      <th>New deaths confirmed</th>\n",
       "      <td>5.433333</td>\n",
       "    </tr>\n",
       "    <tr>\n",
       "      <th rowspan=\"2\" valign=\"top\">2014-10</th>\n",
       "      <th>New cases confirmed</th>\n",
       "      <td>56.714286</td>\n",
       "    </tr>\n",
       "    <tr>\n",
       "      <th>New deaths confirmed</th>\n",
       "      <td>17.333333</td>\n",
       "    </tr>\n",
       "    <tr>\n",
       "      <th rowspan=\"2\" valign=\"top\">2014-11</th>\n",
       "      <th>New cases confirmed</th>\n",
       "      <td>66.210526</td>\n",
       "    </tr>\n",
       "    <tr>\n",
       "      <th>New deaths confirmed</th>\n",
       "      <td>14.200000</td>\n",
       "    </tr>\n",
       "    <tr>\n",
       "      <th rowspan=\"2\" valign=\"top\">2014-12</th>\n",
       "      <th>New cases confirmed</th>\n",
       "      <td>54.333333</td>\n",
       "    </tr>\n",
       "    <tr>\n",
       "      <th>New deaths confirmed</th>\n",
       "      <td>21.200000</td>\n",
       "    </tr>\n",
       "  </tbody>\n",
       "</table>\n",
       "</div>"
      ],
      "text/plain": [
       "                                                               Daily Average\n",
       "Country      Date    Variable                                               \n",
       "Guinea       2014-08 New cases of confirmed                        12.400000\n",
       "                     New deaths registered                          3.750000\n",
       "             2014-09 New cases of confirmed                        13.000000\n",
       "                     New deaths registered                          3.562500\n",
       "             2014-10 New cases of confirmed                         6.000000\n",
       "                     New deaths registered                         15.000000\n",
       "Liberia      2014-06 New cases(confirmed, probable, suspeced)       3.000000\n",
       "                     Newly reported deaths                          2.000000\n",
       "             2014-07 New cases(confirmed, probable, suspeced)       7.233333\n",
       "                     Newly reported deaths                          4.272727\n",
       "             2014-08 New cases(confirmed, probable, suspeced)      42.500000\n",
       "                     Newly reported deaths                         23.222222\n",
       "             2014-09 New cases(confirmed, probable, suspeced)      74.800000\n",
       "                     Newly reported deaths                         37.608696\n",
       "             2014-10 New cases(confirmed, probable, suspeced)       8.066667\n",
       "                     New cases(confirmed, probable, suspecet)      81.900000\n",
       "                     Newly reported deaths                         28.040000\n",
       "             2014-11 New cases(confirmed, probable, suspecet)      37.600000\n",
       "                     Newly reported deaths                         15.538462\n",
       "             2014-12 New cases(confirmed, probable, suspecet)      14.400000\n",
       "Sierra-Leone 2014-08 New cases confirmed                           20.611111\n",
       "                     New deaths confirmed                          12.900000\n",
       "             2014-09 New cases confirmed                           36.962963\n",
       "                     New deaths confirmed                           5.433333\n",
       "             2014-10 New cases confirmed                           56.714286\n",
       "                     New deaths confirmed                          17.333333\n",
       "             2014-11 New cases confirmed                           66.210526\n",
       "                     New deaths confirmed                          14.200000\n",
       "             2014-12 New cases confirmed                           54.333333\n",
       "                     New deaths confirmed                          21.200000"
      ]
     },
     "execution_count": 846,
     "metadata": {},
     "output_type": "execute_result"
    }
   ],
   "source": [
    "m = pd.merge(s.reset_index(),(pd.merge(g.reset_index(),l.reset_index(),how= 'outer')),how='outer')\n",
    "m = m.set_index(['Country', 'Date', 'Variable'])\n",
    "m=m.sort_index(level=[0,1])\n",
    "#Weights the december values\n",
    "i1 = ('Liberia', '2014-12', 'New cases(confirmed, probable, suspecet)')\n",
    "i2 = ('Sierra-Leone', '2014-12', 'New deaths confirmed')\n",
    "correct_cumulative_av(m, i1)\n",
    "correct_cumulative_av(m, i2)\n",
    "m"
   ]
  },
  {
   "cell_type": "markdown",
   "metadata": {},
   "source": [
    "## Task 1: Results discussion \n",
    "\n",
    "At first glance we are quite happy with the results. Our computation doesn't lead to any negative values or NaN or any other absurde values. All the daily averages seems to be in the same range.<br>\n",
    "However we can still makes some comments.<br>\n",
    "First of all, some data take the value of confirmed, probable and suspected cases/deaths and some others take only the confirmed cases/deaths. We could argue against this choice but we thought that is was the best way or the most informativ way of representing the data, regarding the data sets.<br>\n",
    "The seconds comments that we could do is that daily values are better than cumulative values. With daily values we can aggregate them using a mean which is quite robust, its is not too dependant on the missing values or the report dates. On the other side cumulative value are dependant to those things especially on the dates. Imagine the case where for one month only one report from the 3rd day of this month is available. We would have took the value of the third day as the max value from this month then we would have substracted the max value of the last month and then weighted it by the number of days in one month. Which would have lead to a to small value to be representative. However in our dataset most month data that used cumulative values had report for advanced day of the month. Except for the month 12 for the \"New deaths confirmed\" of the Sierra-Leone data and the \"New cases(confirmed, probable, suspecet)\" also of the month 12 of the Liberia data, where the reports stop around the tenth. Therefore for those 2 cases, we multiplied the values by 3 since it's a daily average.<br>\n",
    "The last remark will be that for the month of december in the Liberia data we can see that there is no value of the \"Newly reported deaths\". It's is juste because this field had no data for this month.\n"
   ]
  },
  {
   "cell_type": "markdown",
   "metadata": {},
   "source": [
    "## Task 2. RNA Sequences\n",
    "\n",
    "In the `DATA_FOLDER/microbiome` subdirectory, there are 9 spreadsheets of microbiome data that was acquired from high-throughput RNA sequencing procedures, along with a 10<sup>th</sup> file that describes the content of each. \n",
    "\n",
    "Use pandas to import the first 9 spreadsheets into a single `DataFrame`.\n",
    "Then, add the metadata information from the 10<sup>th</sup> spreadsheet as columns in the combined `DataFrame`.\n",
    "Make sure that the final `DataFrame` has a unique index and all the `NaN` values have been replaced by the tag `unknown`."
   ]
  },
  {
   "cell_type": "code",
   "execution_count": 847,
   "metadata": {
    "collapsed": true
   },
   "outputs": [],
   "source": [
    "# Write your answer here"
   ]
  },
  {
   "cell_type": "markdown",
   "metadata": {},
   "source": [
    "## Task 3. Class War in Titanic\n",
    "\n",
    "Use pandas to import the data file `Data/titanic.xls`. It contains data on all the passengers that travelled on the Titanic."
   ]
  },
  {
   "cell_type": "code",
   "execution_count": 848,
   "metadata": {},
   "outputs": [
    {
     "data": {
      "text/html": [
       "<hr><h2>Data frame:titanic3</h2>1309 observations and 14 variables, maximum # NAs:1188<hr>\n",
       "<TABLE BORDER>\n",
       "<tr><td>Name</td><td>Labels</td><td>Units</td><td>Levels</td><td>Storage</td><td>NAs</td></tr>\n",
       "<tr><td>pclass</td><td></td><td></td><td><a href=\"#pclass\"><div align=right>  3</div></a></td><td>integer</td><td><div align=right>   0</div></td></tr>\n",
       "<tr><td>survived</td><td>Survived</td><td></td><td><div align=right></div></td><td>double</td><td><div align=right>   0</div></td></tr>\n",
       "<tr><td>name</td><td>Name</td><td></td><td><div align=right></div></td><td>character</td><td><div align=right>   0</div></td></tr>\n",
       "<tr><td>sex</td><td></td><td></td><td><a href=\"#sex\"><div align=right>  2</div></a></td><td>integer</td><td><div align=right>   0</div></td></tr>\n",
       "<tr><td>age</td><td>Age</td><td>Year</td><td><div align=right></div></td><td>double</td><td><div align=right> 263</div></td></tr>\n",
       "<tr><td>sibsp</td><td>Number of Siblings/Spouses Aboard</td><td></td><td><div align=right></div></td><td>double</td><td><div align=right>   0</div></td></tr>\n",
       "<tr><td>parch</td><td>Number of Parents/Children Aboard</td><td></td><td><div align=right></div></td><td>double</td><td><div align=right>   0</div></td></tr>\n",
       "<tr><td>ticket</td><td>Ticket Number</td><td></td><td><div align=right></div></td><td>character</td><td><div align=right>   0</div></td></tr>\n",
       "<tr><td>fare</td><td>Passenger Fare</td><td>British Pound (\\243)</td><td><div align=right></div></td><td>double</td><td><div align=right>   1</div></td></tr>\n",
       "<tr><td>cabin</td><td></td><td></td><td><a href=\"#cabin\"><div align=right>187</div></a></td><td>integer</td><td><div align=right>   0</div></td></tr>\n",
       "<tr><td>embarked</td><td></td><td></td><td><a href=\"#embarked\"><div align=right>  3</div></a></td><td>integer</td><td><div align=right>   2</div></td></tr>\n",
       "<tr><td>boat</td><td></td><td></td><td><a href=\"#boat\"><div align=right> 28</div></a></td><td>integer</td><td><div align=right>   0</div></td></tr>\n",
       "<tr><td>body</td><td>Body Identification Number</td><td></td><td><div align=right></div></td><td>double</td><td><div align=right>1188</div></td></tr>\n",
       "<tr><td>home.dest</td><td>Home/Destination</td><td></td><td><div align=right></div></td><td>character</td><td><div align=right>   0</div></td></tr>\n",
       "</TABLE>\n",
       "<hr>\n",
       "<TABLE BORDER>\n",
       "<tr><td>Variable</td><td>Levels</td></tr>\n",
       "<tr><td><a name=\"pclass\">pclass</a></td><td>1st</td></tr>\n",
       "<tr><td></td><td>2nd</td></tr>\n",
       "<tr><td></td><td>3rd</td></tr>\n",
       "<tr><td><a name=\"sex\">sex</a></td><td>female</td></tr>\n",
       "<tr><td></td><td>male</td></tr>\n",
       "<tr><td><a name=\"cabin\">cabin</a></td><td></td></tr>\n",
       "<tr><td></td><td>A10</td></tr>\n",
       "<tr><td></td><td>A11</td></tr>\n",
       "<tr><td></td><td>A14</td></tr>\n",
       "<tr><td></td><td>A16</td></tr>\n",
       "<tr><td></td><td>A18</td></tr>\n",
       "<tr><td></td><td>A19</td></tr>\n",
       "<tr><td></td><td>A20</td></tr>\n",
       "<tr><td></td><td>A21</td></tr>\n",
       "<tr><td></td><td>A23</td></tr>\n",
       "<tr><td></td><td>A24</td></tr>\n",
       "<tr><td></td><td>A26</td></tr>\n",
       "<tr><td></td><td>A29</td></tr>\n",
       "<tr><td></td><td>A31</td></tr>\n",
       "<tr><td></td><td>A32</td></tr>\n",
       "<tr><td></td><td>A34</td></tr>\n",
       "<tr><td></td><td>A36</td></tr>\n",
       "<tr><td></td><td>A5</td></tr>\n",
       "<tr><td></td><td>A6</td></tr>\n",
       "<tr><td></td><td>A7</td></tr>\n",
       "<tr><td></td><td>A9</td></tr>\n",
       "<tr><td></td><td>B10</td></tr>\n",
       "<tr><td></td><td>B101</td></tr>\n",
       "<tr><td></td><td>B102</td></tr>\n",
       "<tr><td></td><td>B11</td></tr>\n",
       "<tr><td></td><td>B18</td></tr>\n",
       "<tr><td></td><td>B19</td></tr>\n",
       "<tr><td></td><td>B20</td></tr>\n",
       "<tr><td></td><td>B22</td></tr>\n",
       "<tr><td></td><td>B24</td></tr>\n",
       "<tr><td></td><td>B26</td></tr>\n",
       "<tr><td></td><td>B28</td></tr>\n",
       "<tr><td></td><td>B3</td></tr>\n",
       "<tr><td></td><td>B30</td></tr>\n",
       "<tr><td></td><td>B35</td></tr>\n",
       "<tr><td></td><td>B36</td></tr>\n",
       "<tr><td></td><td>B37</td></tr>\n",
       "<tr><td></td><td>B38</td></tr>\n",
       "<tr><td></td><td>B39</td></tr>\n",
       "<tr><td></td><td>B4</td></tr>\n",
       "<tr><td></td><td>B41</td></tr>\n",
       "<tr><td></td><td>B42</td></tr>\n",
       "<tr><td></td><td>B45</td></tr>\n",
       "<tr><td></td><td>B49</td></tr>\n",
       "<tr><td></td><td>B5</td></tr>\n",
       "<tr><td></td><td>B50</td></tr>\n",
       "<tr><td></td><td>B51 B53 B55</td></tr>\n",
       "<tr><td></td><td>B52 B54 B56</td></tr>\n",
       "<tr><td></td><td>B57 B59 B63 B66</td></tr>\n",
       "<tr><td></td><td>B58 B60</td></tr>\n",
       "<tr><td></td><td>B61</td></tr>\n",
       "<tr><td></td><td>B69</td></tr>\n",
       "<tr><td></td><td>B71</td></tr>\n",
       "<tr><td></td><td>B73</td></tr>\n",
       "<tr><td></td><td>B77</td></tr>\n",
       "<tr><td></td><td>B78</td></tr>\n",
       "<tr><td></td><td>B79</td></tr>\n",
       "<tr><td></td><td>B80</td></tr>\n",
       "<tr><td></td><td>B82 B84</td></tr>\n",
       "<tr><td></td><td>B86</td></tr>\n",
       "<tr><td></td><td>B94</td></tr>\n",
       "<tr><td></td><td>B96 B98</td></tr>\n",
       "<tr><td></td><td>C101</td></tr>\n",
       "<tr><td></td><td>C103</td></tr>\n",
       "<tr><td></td><td>C104</td></tr>\n",
       "<tr><td></td><td>C105</td></tr>\n",
       "<tr><td></td><td>C106</td></tr>\n",
       "<tr><td></td><td>C110</td></tr>\n",
       "<tr><td></td><td>C111</td></tr>\n",
       "<tr><td></td><td>C116</td></tr>\n",
       "<tr><td></td><td>C118</td></tr>\n",
       "<tr><td></td><td>C123</td></tr>\n",
       "<tr><td></td><td>C124</td></tr>\n",
       "<tr><td></td><td>C125</td></tr>\n",
       "<tr><td></td><td>C126</td></tr>\n",
       "<tr><td></td><td>C128</td></tr>\n",
       "<tr><td></td><td>C130</td></tr>\n",
       "<tr><td></td><td>C132</td></tr>\n",
       "<tr><td></td><td>C148</td></tr>\n",
       "<tr><td></td><td>C2</td></tr>\n",
       "<tr><td></td><td>C22 C26</td></tr>\n",
       "<tr><td></td><td>C23 C25 C27</td></tr>\n",
       "<tr><td></td><td>C28</td></tr>\n",
       "<tr><td></td><td>C30</td></tr>\n",
       "<tr><td></td><td>C31</td></tr>\n",
       "<tr><td></td><td>C32</td></tr>\n",
       "<tr><td></td><td>C39</td></tr>\n",
       "<tr><td></td><td>C45</td></tr>\n",
       "<tr><td></td><td>C46</td></tr>\n",
       "<tr><td></td><td>C47</td></tr>\n",
       "<tr><td></td><td>C49</td></tr>\n",
       "<tr><td></td><td>C50</td></tr>\n",
       "<tr><td></td><td>C51</td></tr>\n",
       "<tr><td></td><td>C52</td></tr>\n",
       "<tr><td></td><td>C53</td></tr>\n",
       "<tr><td></td><td>C54</td></tr>\n",
       "<tr><td></td><td>C55 C57</td></tr>\n",
       "<tr><td></td><td>C6</td></tr>\n",
       "<tr><td></td><td>C62 C64</td></tr>\n",
       "<tr><td></td><td>C65</td></tr>\n",
       "<tr><td></td><td>C68</td></tr>\n",
       "<tr><td></td><td>C7</td></tr>\n",
       "<tr><td></td><td>C70</td></tr>\n",
       "<tr><td></td><td>C78</td></tr>\n",
       "<tr><td></td><td>C80</td></tr>\n",
       "<tr><td></td><td>C82</td></tr>\n",
       "<tr><td></td><td>C83</td></tr>\n",
       "<tr><td></td><td>C85</td></tr>\n",
       "<tr><td></td><td>C86</td></tr>\n",
       "<tr><td></td><td>C87</td></tr>\n",
       "<tr><td></td><td>C89</td></tr>\n",
       "<tr><td></td><td>C90</td></tr>\n",
       "<tr><td></td><td>C91</td></tr>\n",
       "<tr><td></td><td>C92</td></tr>\n",
       "<tr><td></td><td>C93</td></tr>\n",
       "<tr><td></td><td>C95</td></tr>\n",
       "<tr><td></td><td>C97</td></tr>\n",
       "<tr><td></td><td>C99</td></tr>\n",
       "<tr><td></td><td>D</td></tr>\n",
       "<tr><td></td><td>D10 D12</td></tr>\n",
       "<tr><td></td><td>D11</td></tr>\n",
       "<tr><td></td><td>D15</td></tr>\n",
       "<tr><td></td><td>D17</td></tr>\n",
       "<tr><td></td><td>D19</td></tr>\n",
       "<tr><td></td><td>D20</td></tr>\n",
       "<tr><td></td><td>D21</td></tr>\n",
       "<tr><td></td><td>D22</td></tr>\n",
       "<tr><td></td><td>D26</td></tr>\n",
       "<tr><td></td><td>D28</td></tr>\n",
       "<tr><td></td><td>D30</td></tr>\n",
       "<tr><td></td><td>D33</td></tr>\n",
       "<tr><td></td><td>D34</td></tr>\n",
       "<tr><td></td><td>D35</td></tr>\n",
       "<tr><td></td><td>D36</td></tr>\n",
       "<tr><td></td><td>D37</td></tr>\n",
       "<tr><td></td><td>D38</td></tr>\n",
       "<tr><td></td><td>D40</td></tr>\n",
       "<tr><td></td><td>D43</td></tr>\n",
       "<tr><td></td><td>D45</td></tr>\n",
       "<tr><td></td><td>D46</td></tr>\n",
       "<tr><td></td><td>D47</td></tr>\n",
       "<tr><td></td><td>D48</td></tr>\n",
       "<tr><td></td><td>D49</td></tr>\n",
       "<tr><td></td><td>D50</td></tr>\n",
       "<tr><td></td><td>D56</td></tr>\n",
       "<tr><td></td><td>D6</td></tr>\n",
       "<tr><td></td><td>D7</td></tr>\n",
       "<tr><td></td><td>D9</td></tr>\n",
       "<tr><td></td><td>E10</td></tr>\n",
       "<tr><td></td><td>E101</td></tr>\n",
       "<tr><td></td><td>E12</td></tr>\n",
       "<tr><td></td><td>E121</td></tr>\n",
       "<tr><td></td><td>E17</td></tr>\n",
       "<tr><td></td><td>E24</td></tr>\n",
       "<tr><td></td><td>E25</td></tr>\n",
       "<tr><td></td><td>E31</td></tr>\n",
       "<tr><td></td><td>E33</td></tr>\n",
       "<tr><td></td><td>E34</td></tr>\n",
       "<tr><td></td><td>E36</td></tr>\n",
       "<tr><td></td><td>E38</td></tr>\n",
       "<tr><td></td><td>E39 E41</td></tr>\n",
       "<tr><td></td><td>E40</td></tr>\n",
       "<tr><td></td><td>E44</td></tr>\n",
       "<tr><td></td><td>E45</td></tr>\n",
       "<tr><td></td><td>E46</td></tr>\n",
       "<tr><td></td><td>E49</td></tr>\n",
       "<tr><td></td><td>E50</td></tr>\n",
       "<tr><td></td><td>E52</td></tr>\n",
       "<tr><td></td><td>E58</td></tr>\n",
       "<tr><td></td><td>E60</td></tr>\n",
       "<tr><td></td><td>E63</td></tr>\n",
       "<tr><td></td><td>E67</td></tr>\n",
       "<tr><td></td><td>E68</td></tr>\n",
       "<tr><td></td><td>E77</td></tr>\n",
       "<tr><td></td><td>E8</td></tr>\n",
       "<tr><td></td><td>F</td></tr>\n",
       "<tr><td></td><td>F E46</td></tr>\n",
       "<tr><td></td><td>F E57</td></tr>\n",
       "<tr><td></td><td>F E69</td></tr>\n",
       "<tr><td></td><td>F G63</td></tr>\n",
       "<tr><td></td><td>F G73</td></tr>\n",
       "<tr><td></td><td>F2</td></tr>\n",
       "<tr><td></td><td>F33</td></tr>\n",
       "<tr><td></td><td>F38</td></tr>\n",
       "<tr><td></td><td>F4</td></tr>\n",
       "<tr><td></td><td>G6</td></tr>\n",
       "<tr><td></td><td>T</td></tr>\n",
       "<tr><td><a name=\"embarked\">embarked</a></td><td>Cherbourg</td></tr>\n",
       "<tr><td></td><td>Queenstown</td></tr>\n",
       "<tr><td></td><td>Southampton</td></tr>\n",
       "<tr><td><a name=\"boat\">boat</a></td><td></td></tr>\n",
       "<tr><td></td><td>1</td></tr>\n",
       "<tr><td></td><td>10</td></tr>\n",
       "<tr><td></td><td>11</td></tr>\n",
       "<tr><td></td><td>12</td></tr>\n",
       "<tr><td></td><td>13</td></tr>\n",
       "<tr><td></td><td>13 15</td></tr>\n",
       "<tr><td></td><td>13 15 B</td></tr>\n",
       "<tr><td></td><td>14</td></tr>\n",
       "<tr><td></td><td>15</td></tr>\n",
       "<tr><td></td><td>15 16</td></tr>\n",
       "<tr><td></td><td>16</td></tr>\n",
       "<tr><td></td><td>2</td></tr>\n",
       "<tr><td></td><td>3</td></tr>\n",
       "<tr><td></td><td>4</td></tr>\n",
       "<tr><td></td><td>5</td></tr>\n",
       "<tr><td></td><td>5 7</td></tr>\n",
       "<tr><td></td><td>5 9</td></tr>\n",
       "<tr><td></td><td>6</td></tr>\n",
       "<tr><td></td><td>7</td></tr>\n",
       "<tr><td></td><td>8</td></tr>\n",
       "<tr><td></td><td>8 10</td></tr>\n",
       "<tr><td></td><td>9</td></tr>\n",
       "<tr><td></td><td>A</td></tr>\n",
       "<tr><td></td><td>B</td></tr>\n",
       "<tr><td></td><td>C</td></tr>\n",
       "<tr><td></td><td>C D</td></tr>\n",
       "<tr><td></td><td>D</td></tr>\n",
       "</TABLE>\n",
       "<hr>\n"
      ],
      "text/plain": [
       "<IPython.core.display.HTML object>"
      ]
     },
     "execution_count": 848,
     "metadata": {},
     "output_type": "execute_result"
    }
   ],
   "source": [
    "from IPython.core.display import HTML\n",
    "HTML(filename=DATA_FOLDER+'/titanic.html')"
   ]
  },
  {
   "cell_type": "markdown",
   "metadata": {},
   "source": [
    "For each of the following questions state clearly your assumptions and discuss your findings:\n",
    "1. Describe the *type* and the *value range* of each attribute. Indicate and transform the attributes that can be `Categorical`. \n",
    "2. Plot histograms for the *travel class*, *embarkation port*, *sex* and *age* attributes. For the latter one, use *discrete decade intervals*. \n",
    "3. Calculate the proportion of passengers by *cabin floor*. Present your results in a *pie chart*.\n",
    "4. For each *travel class*, calculate the proportion of the passengers that survived. Present your results in *pie charts*.\n",
    "5. Calculate the proportion of the passengers that survived by *travel class* and *sex*. Present your results in *a single histogram*.\n",
    "6. Create 2 equally populated *age categories* and calculate survival proportions by *age category*, *travel class* and *sex*. Present your results in a `DataFrame` with unique index."
   ]
  },
  {
   "cell_type": "code",
   "execution_count": 849,
   "metadata": {
    "collapsed": true
   },
   "outputs": [],
   "source": [
    "# Write your answer here"
   ]
  }
 ],
 "metadata": {
  "kernelspec": {
   "display_name": "Python 3",
   "language": "python",
   "name": "python3"
  },
  "language_info": {
   "codemirror_mode": {
    "name": "ipython",
    "version": 3
   },
   "file_extension": ".py",
   "mimetype": "text/x-python",
   "name": "python",
   "nbconvert_exporter": "python",
   "pygments_lexer": "ipython3",
   "version": "3.6.1"
  }
 },
 "nbformat": 4,
 "nbformat_minor": 2
}
