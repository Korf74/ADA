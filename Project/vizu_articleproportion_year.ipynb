{
 "cells": [
  {
   "cell_type": "code",
   "execution_count": 92,
   "metadata": {
    "collapsed": true
   },
   "outputs": [],
   "source": [
    "import pandas as pd\n",
    "import pyarrow.parquet as pq\n",
    "%matplotlib inline\n",
    "import matplotlib\n",
    "import matplotlib.pyplot as plt\n",
    "from tqdm import tqdm\n",
    "import seaborn as sbs\n",
    "import numpy as np\n",
    "\n",
    "\n",
    "from bokeh.plotting import figure, output_notebook, show, ColumnDataSource\n",
    "from bokeh.models import ColumnDataSource, FactorRange,Text, LinearAxis,SingleIntervalTicker,CustomJS, Slider\n",
    "from bokeh.layouts import column, widgetbox\n",
    "from bokeh.models.glyphs import VBar"
   ]
  },
  {
   "cell_type": "markdown",
   "metadata": {},
   "source": [
    "# Introduction\n",
    "\n",
    "We aim to extract meaningful data from the GDELT 2.0 dataset. \n",
    "\n",
    "We want to analyse the media coverage of violent events in some specific countries (Afghanistan, Syria, Iraq, Pakistan and Mexico) over the years 2000 to 2016.\n",
    "\n",
    "We used :\n",
    "\n",
    "* *ActionGeo_CountryName*, the 2-character FIPS10-4 country code for the location of the events to get the countries.\n",
    "* [*EventRootCode*](http://data.gdeltproject.org/documentation/CAMEO.Manual.1.1b3.pdf) 18, 19 and 20 that correspond to the most violent events in the documentation.\n",
    "* *MonthYear* to have the date (in month and year) of each event\n",
    "* *Events* that we got from our SQL query as being the number of events per month\n",
    "* *Articles* from our SQL query as well, being the number of Articles per month\n",
    "\n",
    "We chose to extract data from the [**UCDP**](http://ucdp.uu.se/) dataset, we kept only our featured countries and the best estimation given for the number of deaths per year."
   ]
  },
  {
   "cell_type": "markdown",
   "metadata": {},
   "source": [
    "## Processing of the UCDP dataset"
   ]
  },
  {
   "cell_type": "code",
   "execution_count": 93,
   "metadata": {
    "collapsed": true
   },
   "outputs": [],
   "source": [
    "# Getting deaths datasets (UCDP)\n",
    "\n",
    "deaths = pd.read_csv('ged171.csv')\n",
    "deaths = deaths[(deaths['year'] >= 2000) & (deaths['year'] <= 2016)]\n",
    "deaths = deaths[['year', 'country', 'best']]\n",
    "deaths.columns = ['Date', 'Country', 'Deaths']"
   ]
  },
  {
   "cell_type": "markdown",
   "metadata": {},
   "source": [
    "Create one dataframe per country:"
   ]
  },
  {
   "cell_type": "code",
   "execution_count": 94,
   "metadata": {
    "collapsed": true
   },
   "outputs": [],
   "source": [
    "def deaths_country(_df, country_name):\n",
    "    x = _df[_df['Country'] == country_name].drop('Country', axis=1).groupby('Date').sum().reset_index()\n",
    "    if(country_name == 'Mexico'):\n",
    "        # We need to artificially add some rows for mexico due to missing (no deaths) data these years\n",
    "        x = x.append(pd.DataFrame([[2003, 0], [2000, 0], [2001, 0]], columns=['Date', 'Deaths'])).sort_values('Date')\n",
    "    x['Deaths'] = x['Deaths']\n",
    "    return x.set_index('Date')"
   ]
  },
  {
   "cell_type": "code",
   "execution_count": 95,
   "metadata": {},
   "outputs": [
    {
     "data": {
      "text/html": [
       "<div>\n",
       "<style>\n",
       "    .dataframe thead tr:only-child th {\n",
       "        text-align: right;\n",
       "    }\n",
       "\n",
       "    .dataframe thead th {\n",
       "        text-align: left;\n",
       "    }\n",
       "\n",
       "    .dataframe tbody tr th {\n",
       "        vertical-align: top;\n",
       "    }\n",
       "</style>\n",
       "<table border=\"1\" class=\"dataframe\">\n",
       "  <thead>\n",
       "    <tr style=\"text-align: right;\">\n",
       "      <th></th>\n",
       "      <th>Deaths</th>\n",
       "    </tr>\n",
       "    <tr>\n",
       "      <th>Date</th>\n",
       "      <th></th>\n",
       "    </tr>\n",
       "  </thead>\n",
       "  <tbody>\n",
       "    <tr>\n",
       "      <th>2000</th>\n",
       "      <td>185</td>\n",
       "    </tr>\n",
       "    <tr>\n",
       "      <th>2001</th>\n",
       "      <td>27</td>\n",
       "    </tr>\n",
       "    <tr>\n",
       "      <th>2002</th>\n",
       "      <td>111</td>\n",
       "    </tr>\n",
       "    <tr>\n",
       "      <th>2003</th>\n",
       "      <td>7999</td>\n",
       "    </tr>\n",
       "    <tr>\n",
       "      <th>2004</th>\n",
       "      <td>4365</td>\n",
       "    </tr>\n",
       "  </tbody>\n",
       "</table>\n",
       "</div>"
      ],
      "text/plain": [
       "      Deaths\n",
       "Date        \n",
       "2000     185\n",
       "2001      27\n",
       "2002     111\n",
       "2003    7999\n",
       "2004    4365"
      ]
     },
     "execution_count": 95,
     "metadata": {},
     "output_type": "execute_result"
    }
   ],
   "source": [
    "deaths_irq = deaths_country(deaths, 'Iraq')\n",
    "deaths_afg = deaths_country(deaths, 'Afghanistan')\n",
    "deaths_mex = deaths_country(deaths, 'Mexico')\n",
    "deaths_pak = deaths_country(deaths, 'Pakistan')\n",
    "\n",
    "deaths_irq.head()"
   ]
  },
  {
   "cell_type": "markdown",
   "metadata": {},
   "source": [
    "## Processing of our aggregation of the GDELT dataset"
   ]
  },
  {
   "cell_type": "markdown",
   "metadata": {},
   "source": [
    "We first tried to get the data from the cluseter but the dataset present on it was a subset of GDELT. Therefore most of the features were missing. To get the location of an event we used at first \"Source\" and \"Target\" field that matched the country we were intrested in. But those entries were not consistent.\n",
    "The full dataset was supposed to have an ActionGeo_Country code which represent the county were the event took place. We were also supposed to have access to features like \"MonthYear\", \"EventRootCode\",...\n",
    "\n",
    "For all those reasons we decided to stop using the cluster and make our query on the full GDELT dataset using the [Google Big Query](https://bigquery.cloud.google.com/table/gdelt-bq:gdeltv2.events)\n",
    "\n",
    "The sql queries can be found on the repository"
   ]
  },
  {
   "cell_type": "code",
   "execution_count": 96,
   "metadata": {
    "collapsed": true
   },
   "outputs": [],
   "source": [
    "# Getting the aggregate dataset from our GDELT query (2000-2016)\n",
    "\n",
    "df = pd.read_csv('big_query_2000_2016.csv')\n",
    "df.columns = ['Country', 'Date', 'EventCode', 'Events', 'Articles']"
   ]
  },
  {
   "cell_type": "markdown",
   "metadata": {},
   "source": [
    "The data that we get out of our query is the number of Event and the number of Articles aggregated per country, MonthYear and EventCode.\n",
    "Aggregating the data this way enables us to work on a consise dataset(compared to the original enormous GDELT). However we still keep the different event code and month data separated for further analysis."
   ]
  },
  {
   "cell_type": "code",
   "execution_count": 97,
   "metadata": {},
   "outputs": [
    {
     "data": {
      "text/html": [
       "<div>\n",
       "<style>\n",
       "    .dataframe thead tr:only-child th {\n",
       "        text-align: right;\n",
       "    }\n",
       "\n",
       "    .dataframe thead th {\n",
       "        text-align: left;\n",
       "    }\n",
       "\n",
       "    .dataframe tbody tr th {\n",
       "        vertical-align: top;\n",
       "    }\n",
       "</style>\n",
       "<table border=\"1\" class=\"dataframe\">\n",
       "  <thead>\n",
       "    <tr style=\"text-align: right;\">\n",
       "      <th></th>\n",
       "      <th>Country</th>\n",
       "      <th>Date</th>\n",
       "      <th>EventCode</th>\n",
       "      <th>Events</th>\n",
       "      <th>Articles</th>\n",
       "    </tr>\n",
       "  </thead>\n",
       "  <tbody>\n",
       "    <tr>\n",
       "      <th>0</th>\n",
       "      <td>SY</td>\n",
       "      <td>201609</td>\n",
       "      <td>19</td>\n",
       "      <td>26118</td>\n",
       "      <td>558078</td>\n",
       "    </tr>\n",
       "    <tr>\n",
       "      <th>1</th>\n",
       "      <td>SY</td>\n",
       "      <td>201608</td>\n",
       "      <td>19</td>\n",
       "      <td>23797</td>\n",
       "      <td>513882</td>\n",
       "    </tr>\n",
       "    <tr>\n",
       "      <th>2</th>\n",
       "      <td>SY</td>\n",
       "      <td>201602</td>\n",
       "      <td>19</td>\n",
       "      <td>27567</td>\n",
       "      <td>483618</td>\n",
       "    </tr>\n",
       "    <tr>\n",
       "      <th>3</th>\n",
       "      <td>SY</td>\n",
       "      <td>201510</td>\n",
       "      <td>19</td>\n",
       "      <td>27216</td>\n",
       "      <td>469990</td>\n",
       "    </tr>\n",
       "    <tr>\n",
       "      <th>4</th>\n",
       "      <td>SY</td>\n",
       "      <td>201612</td>\n",
       "      <td>19</td>\n",
       "      <td>22474</td>\n",
       "      <td>468685</td>\n",
       "    </tr>\n",
       "  </tbody>\n",
       "</table>\n",
       "</div>"
      ],
      "text/plain": [
       "  Country    Date  EventCode  Events  Articles\n",
       "0      SY  201609         19   26118    558078\n",
       "1      SY  201608         19   23797    513882\n",
       "2      SY  201602         19   27567    483618\n",
       "3      SY  201510         19   27216    469990\n",
       "4      SY  201612         19   22474    468685"
      ]
     },
     "execution_count": 97,
     "metadata": {},
     "output_type": "execute_result"
    }
   ],
   "source": [
    "df.head()"
   ]
  },
  {
   "cell_type": "code",
   "execution_count": 98,
   "metadata": {
    "collapsed": true
   },
   "outputs": [],
   "source": [
    "def df_country(_df, country):\n",
    "    return _df[_df.Country == country].drop('Country', axis=1).set_index(['Date'])"
   ]
  },
  {
   "cell_type": "markdown",
   "metadata": {},
   "source": [
    "DataFrame with merged event code:"
   ]
  },
  {
   "cell_type": "code",
   "execution_count": 99,
   "metadata": {},
   "outputs": [
    {
     "data": {
      "text/html": [
       "<div>\n",
       "<style>\n",
       "    .dataframe thead tr:only-child th {\n",
       "        text-align: right;\n",
       "    }\n",
       "\n",
       "    .dataframe thead th {\n",
       "        text-align: left;\n",
       "    }\n",
       "\n",
       "    .dataframe tbody tr th {\n",
       "        vertical-align: top;\n",
       "    }\n",
       "</style>\n",
       "<table border=\"1\" class=\"dataframe\">\n",
       "  <thead>\n",
       "    <tr style=\"text-align: right;\">\n",
       "      <th></th>\n",
       "      <th>Date</th>\n",
       "      <th>Country</th>\n",
       "      <th>Events</th>\n",
       "      <th>Articles</th>\n",
       "    </tr>\n",
       "  </thead>\n",
       "  <tbody>\n",
       "    <tr>\n",
       "      <th>0</th>\n",
       "      <td>200001</td>\n",
       "      <td>AF</td>\n",
       "      <td>198</td>\n",
       "      <td>919</td>\n",
       "    </tr>\n",
       "    <tr>\n",
       "      <th>1</th>\n",
       "      <td>200001</td>\n",
       "      <td>IZ</td>\n",
       "      <td>272</td>\n",
       "      <td>1407</td>\n",
       "    </tr>\n",
       "    <tr>\n",
       "      <th>2</th>\n",
       "      <td>200001</td>\n",
       "      <td>MX</td>\n",
       "      <td>99</td>\n",
       "      <td>402</td>\n",
       "    </tr>\n",
       "    <tr>\n",
       "      <th>3</th>\n",
       "      <td>200001</td>\n",
       "      <td>PK</td>\n",
       "      <td>896</td>\n",
       "      <td>5068</td>\n",
       "    </tr>\n",
       "    <tr>\n",
       "      <th>4</th>\n",
       "      <td>200001</td>\n",
       "      <td>SY</td>\n",
       "      <td>185</td>\n",
       "      <td>734</td>\n",
       "    </tr>\n",
       "  </tbody>\n",
       "</table>\n",
       "</div>"
      ],
      "text/plain": [
       "     Date Country  Events  Articles\n",
       "0  200001      AF     198       919\n",
       "1  200001      IZ     272      1407\n",
       "2  200001      MX      99       402\n",
       "3  200001      PK     896      5068\n",
       "4  200001      SY     185       734"
      ]
     },
     "execution_count": 99,
     "metadata": {},
     "output_type": "execute_result"
    }
   ],
   "source": [
    "df_grouped = df.groupby(['Date', 'Country']).sum().drop(['EventCode'], axis=1).sort_index(level=[0,1])\n",
    "\n",
    "df_merged = df_grouped.reset_index()\n",
    "\n",
    "irq = df_country(df_merged, 'IRQ')\n",
    "mex = df_country(df_merged, 'MEX')\n",
    "pak = df_country(df_merged, 'PAK')\n",
    "afg = df_country(df_merged, 'AFG')\n",
    "syr = df_country(df_merged, 'SYR')\n",
    "\n",
    "df_merged.head()"
   ]
  },
  {
   "cell_type": "markdown",
   "metadata": {},
   "source": [
    "## Separation by country and aggregation per year"
   ]
  },
  {
   "cell_type": "code",
   "execution_count": 100,
   "metadata": {},
   "outputs": [
    {
     "data": {
      "text/html": [
       "<div>\n",
       "<style>\n",
       "    .dataframe thead tr:only-child th {\n",
       "        text-align: right;\n",
       "    }\n",
       "\n",
       "    .dataframe thead th {\n",
       "        text-align: left;\n",
       "    }\n",
       "\n",
       "    .dataframe tbody tr th {\n",
       "        vertical-align: top;\n",
       "    }\n",
       "</style>\n",
       "<table border=\"1\" class=\"dataframe\">\n",
       "  <thead>\n",
       "    <tr style=\"text-align: right;\">\n",
       "      <th></th>\n",
       "      <th>Date</th>\n",
       "      <th>Country</th>\n",
       "      <th>Ratio</th>\n",
       "    </tr>\n",
       "  </thead>\n",
       "  <tbody>\n",
       "    <tr>\n",
       "      <th>0</th>\n",
       "      <td>2000</td>\n",
       "      <td>AF</td>\n",
       "      <td>0.291235</td>\n",
       "    </tr>\n",
       "    <tr>\n",
       "      <th>1</th>\n",
       "      <td>2000</td>\n",
       "      <td>IZ</td>\n",
       "      <td>0.292026</td>\n",
       "    </tr>\n",
       "    <tr>\n",
       "      <th>2</th>\n",
       "      <td>2000</td>\n",
       "      <td>MX</td>\n",
       "      <td>0.303106</td>\n",
       "    </tr>\n",
       "    <tr>\n",
       "      <th>3</th>\n",
       "      <td>2000</td>\n",
       "      <td>PK</td>\n",
       "      <td>0.333469</td>\n",
       "    </tr>\n",
       "    <tr>\n",
       "      <th>4</th>\n",
       "      <td>2000</td>\n",
       "      <td>SY</td>\n",
       "      <td>0.222977</td>\n",
       "    </tr>\n",
       "  </tbody>\n",
       "</table>\n",
       "</div>"
      ],
      "text/plain": [
       "   Date Country     Ratio\n",
       "0  2000      AF  0.291235\n",
       "1  2000      IZ  0.292026\n",
       "2  2000      MX  0.303106\n",
       "3  2000      PK  0.333469\n",
       "4  2000      SY  0.222977"
      ]
     },
     "execution_count": 100,
     "metadata": {},
     "output_type": "execute_result"
    }
   ],
   "source": [
    "# Here we process the dataset to only reason by year and normalize the Articles and Events by year. We then\n",
    "# get the Ratio Articles/Events\n",
    "\n",
    "df_year = df_merged.copy()\n",
    "\n",
    "df_year['Date'] = df_year['Date'].apply(lambda d: int(d/100))\n",
    "\n",
    "df_year = df_year.groupby(['Date', 'Country']).mean()\n",
    "df_year = (df_year / df_year.std()).reset_index()\n",
    "\n",
    "df_year['Ratio'] = df_year['Articles'] / df_year['Events'].astype('float')\n",
    "\n",
    "df_year.drop(['Articles', 'Events'], axis=1, inplace=True)\n",
    "\n",
    "irq_year1 = df_country(df_year, 'IZ')\n",
    "mex_year1 = df_country(df_year, 'MX')\n",
    "pak_year1 = df_country(df_year, 'PK')\n",
    "afg_year1 = df_country(df_year, 'AF')\n",
    "syr_year1 = df_country(df_year, 'SY')\n",
    "\n",
    "df_year.head()"
   ]
  },
  {
   "cell_type": "markdown",
   "metadata": {},
   "source": [
    "## Some plots and describes"
   ]
  },
  {
   "cell_type": "markdown",
   "metadata": {},
   "source": [
    "## Normalization\n",
    "\n",
    "We chose to normalize the ratio during the aggregation by year and normalize the deaths with a mean/std normalization. It seems to give reasonablre results for now but we might do a more refined normalization in the future."
   ]
  },
  {
   "cell_type": "code",
   "execution_count": 101,
   "metadata": {
    "collapsed": true
   },
   "outputs": [],
   "source": [
    "def normalize(_df):\n",
    "    x = _df.copy()\n",
    "    d = x['Deaths']\n",
    "    x['Deaths'] = abs(d - d.mean()) / d.std()\n",
    "    return x\n",
    "\n",
    "irq_year = deaths_irq.join(irq_year1)\n",
    "mex_year = deaths_mex.join(mex_year1)\n",
    "pak_year = deaths_pak.join(pak_year1)\n",
    "afg_year = deaths_afg.join(afg_year1)\n",
    "\n",
    "irq_year_normalized = normalize(irq_year)\n",
    "mex_year_normalized = normalize(mex_year)\n",
    "pak_year_normalized = normalize(pak_year)\n",
    "afg_year_normalized = normalize(afg_year)"
   ]
  },
  {
   "cell_type": "markdown",
   "metadata": {},
   "source": [
    "## Some exploration of the data through description and plots"
   ]
  },
  {
   "cell_type": "code",
   "execution_count": 102,
   "metadata": {},
   "outputs": [
    {
     "data": {
      "text/html": [
       "<div>\n",
       "<style>\n",
       "    .dataframe thead tr:only-child th {\n",
       "        text-align: right;\n",
       "    }\n",
       "\n",
       "    .dataframe thead th {\n",
       "        text-align: left;\n",
       "    }\n",
       "\n",
       "    .dataframe tbody tr th {\n",
       "        vertical-align: top;\n",
       "    }\n",
       "</style>\n",
       "<table border=\"1\" class=\"dataframe\">\n",
       "  <thead>\n",
       "    <tr style=\"text-align: right;\">\n",
       "      <th></th>\n",
       "      <th>Deaths</th>\n",
       "      <th>Ratio</th>\n",
       "    </tr>\n",
       "  </thead>\n",
       "  <tbody>\n",
       "    <tr>\n",
       "      <th>count</th>\n",
       "      <td>17.000000</td>\n",
       "      <td>17.000000</td>\n",
       "    </tr>\n",
       "    <tr>\n",
       "      <th>mean</th>\n",
       "      <td>4459.294118</td>\n",
       "      <td>0.626435</td>\n",
       "    </tr>\n",
       "    <tr>\n",
       "      <th>std</th>\n",
       "      <td>4390.300499</td>\n",
       "      <td>0.354003</td>\n",
       "    </tr>\n",
       "    <tr>\n",
       "      <th>min</th>\n",
       "      <td>27.000000</td>\n",
       "      <td>0.262596</td>\n",
       "    </tr>\n",
       "    <tr>\n",
       "      <th>25%</th>\n",
       "      <td>1407.000000</td>\n",
       "      <td>0.331927</td>\n",
       "    </tr>\n",
       "    <tr>\n",
       "      <th>50%</th>\n",
       "      <td>3521.000000</td>\n",
       "      <td>0.408428</td>\n",
       "    </tr>\n",
       "    <tr>\n",
       "      <th>75%</th>\n",
       "      <td>4609.000000</td>\n",
       "      <td>0.921170</td>\n",
       "    </tr>\n",
       "    <tr>\n",
       "      <th>max</th>\n",
       "      <td>15010.000000</td>\n",
       "      <td>1.286663</td>\n",
       "    </tr>\n",
       "  </tbody>\n",
       "</table>\n",
       "</div>"
      ],
      "text/plain": [
       "             Deaths      Ratio\n",
       "count     17.000000  17.000000\n",
       "mean    4459.294118   0.626435\n",
       "std     4390.300499   0.354003\n",
       "min       27.000000   0.262596\n",
       "25%     1407.000000   0.331927\n",
       "50%     3521.000000   0.408428\n",
       "75%     4609.000000   0.921170\n",
       "max    15010.000000   1.286663"
      ]
     },
     "execution_count": 102,
     "metadata": {},
     "output_type": "execute_result"
    }
   ],
   "source": [
    "irq_year.describe()"
   ]
  },
  {
   "cell_type": "code",
   "execution_count": 103,
   "metadata": {},
   "outputs": [
    {
     "data": {
      "text/html": [
       "<div>\n",
       "<style>\n",
       "    .dataframe thead tr:only-child th {\n",
       "        text-align: right;\n",
       "    }\n",
       "\n",
       "    .dataframe thead th {\n",
       "        text-align: left;\n",
       "    }\n",
       "\n",
       "    .dataframe tbody tr th {\n",
       "        vertical-align: top;\n",
       "    }\n",
       "</style>\n",
       "<table border=\"1\" class=\"dataframe\">\n",
       "  <thead>\n",
       "    <tr style=\"text-align: right;\">\n",
       "      <th></th>\n",
       "      <th>Deaths</th>\n",
       "      <th>Ratio</th>\n",
       "    </tr>\n",
       "  </thead>\n",
       "  <tbody>\n",
       "    <tr>\n",
       "      <th>count</th>\n",
       "      <td>17.000000</td>\n",
       "      <td>17.000000</td>\n",
       "    </tr>\n",
       "    <tr>\n",
       "      <th>mean</th>\n",
       "      <td>1115.764706</td>\n",
       "      <td>0.530763</td>\n",
       "    </tr>\n",
       "    <tr>\n",
       "      <th>std</th>\n",
       "      <td>1041.491450</td>\n",
       "      <td>0.283851</td>\n",
       "    </tr>\n",
       "    <tr>\n",
       "      <th>min</th>\n",
       "      <td>0.000000</td>\n",
       "      <td>0.205151</td>\n",
       "    </tr>\n",
       "    <tr>\n",
       "      <th>25%</th>\n",
       "      <td>187.000000</td>\n",
       "      <td>0.277822</td>\n",
       "    </tr>\n",
       "    <tr>\n",
       "      <th>50%</th>\n",
       "      <td>776.000000</td>\n",
       "      <td>0.389559</td>\n",
       "    </tr>\n",
       "    <tr>\n",
       "      <th>75%</th>\n",
       "      <td>1699.000000</td>\n",
       "      <td>0.811363</td>\n",
       "    </tr>\n",
       "    <tr>\n",
       "      <th>max</th>\n",
       "      <td>3313.000000</td>\n",
       "      <td>1.012106</td>\n",
       "    </tr>\n",
       "  </tbody>\n",
       "</table>\n",
       "</div>"
      ],
      "text/plain": [
       "            Deaths      Ratio\n",
       "count    17.000000  17.000000\n",
       "mean   1115.764706   0.530763\n",
       "std    1041.491450   0.283851\n",
       "min       0.000000   0.205151\n",
       "25%     187.000000   0.277822\n",
       "50%     776.000000   0.389559\n",
       "75%    1699.000000   0.811363\n",
       "max    3313.000000   1.012106"
      ]
     },
     "execution_count": 103,
     "metadata": {},
     "output_type": "execute_result"
    }
   ],
   "source": [
    "mex_year.describe()"
   ]
  },
  {
   "cell_type": "code",
   "execution_count": 104,
   "metadata": {},
   "outputs": [
    {
     "data": {
      "text/html": [
       "<div>\n",
       "<style>\n",
       "    .dataframe thead tr:only-child th {\n",
       "        text-align: right;\n",
       "    }\n",
       "\n",
       "    .dataframe thead th {\n",
       "        text-align: left;\n",
       "    }\n",
       "\n",
       "    .dataframe tbody tr th {\n",
       "        vertical-align: top;\n",
       "    }\n",
       "</style>\n",
       "<table border=\"1\" class=\"dataframe\">\n",
       "  <thead>\n",
       "    <tr style=\"text-align: right;\">\n",
       "      <th></th>\n",
       "      <th>Deaths</th>\n",
       "      <th>Ratio</th>\n",
       "    </tr>\n",
       "  </thead>\n",
       "  <tbody>\n",
       "    <tr>\n",
       "      <th>count</th>\n",
       "      <td>17.000000</td>\n",
       "      <td>17.000000</td>\n",
       "    </tr>\n",
       "    <tr>\n",
       "      <th>mean</th>\n",
       "      <td>2290.882353</td>\n",
       "      <td>0.475536</td>\n",
       "    </tr>\n",
       "    <tr>\n",
       "      <th>std</th>\n",
       "      <td>2437.833974</td>\n",
       "      <td>0.200685</td>\n",
       "    </tr>\n",
       "    <tr>\n",
       "      <th>min</th>\n",
       "      <td>1.000000</td>\n",
       "      <td>0.202586</td>\n",
       "    </tr>\n",
       "    <tr>\n",
       "      <th>25%</th>\n",
       "      <td>241.000000</td>\n",
       "      <td>0.299917</td>\n",
       "    </tr>\n",
       "    <tr>\n",
       "      <th>50%</th>\n",
       "      <td>1366.000000</td>\n",
       "      <td>0.369654</td>\n",
       "    </tr>\n",
       "    <tr>\n",
       "      <th>75%</th>\n",
       "      <td>3540.000000</td>\n",
       "      <td>0.645365</td>\n",
       "    </tr>\n",
       "    <tr>\n",
       "      <th>max</th>\n",
       "      <td>7460.000000</td>\n",
       "      <td>0.800782</td>\n",
       "    </tr>\n",
       "  </tbody>\n",
       "</table>\n",
       "</div>"
      ],
      "text/plain": [
       "            Deaths      Ratio\n",
       "count    17.000000  17.000000\n",
       "mean   2290.882353   0.475536\n",
       "std    2437.833974   0.200685\n",
       "min       1.000000   0.202586\n",
       "25%     241.000000   0.299917\n",
       "50%    1366.000000   0.369654\n",
       "75%    3540.000000   0.645365\n",
       "max    7460.000000   0.800782"
      ]
     },
     "execution_count": 104,
     "metadata": {},
     "output_type": "execute_result"
    }
   ],
   "source": [
    "pak_year.describe()"
   ]
  },
  {
   "cell_type": "code",
   "execution_count": 105,
   "metadata": {},
   "outputs": [
    {
     "data": {
      "text/html": [
       "<div>\n",
       "<style>\n",
       "    .dataframe thead tr:only-child th {\n",
       "        text-align: right;\n",
       "    }\n",
       "\n",
       "    .dataframe thead th {\n",
       "        text-align: left;\n",
       "    }\n",
       "\n",
       "    .dataframe tbody tr th {\n",
       "        vertical-align: top;\n",
       "    }\n",
       "</style>\n",
       "<table border=\"1\" class=\"dataframe\">\n",
       "  <thead>\n",
       "    <tr style=\"text-align: right;\">\n",
       "      <th></th>\n",
       "      <th>Deaths</th>\n",
       "      <th>Ratio</th>\n",
       "    </tr>\n",
       "  </thead>\n",
       "  <tbody>\n",
       "    <tr>\n",
       "      <th>count</th>\n",
       "      <td>17.000000</td>\n",
       "      <td>17.000000</td>\n",
       "    </tr>\n",
       "    <tr>\n",
       "      <th>mean</th>\n",
       "      <td>7038.176471</td>\n",
       "      <td>0.586093</td>\n",
       "    </tr>\n",
       "    <tr>\n",
       "      <th>std</th>\n",
       "      <td>5235.884622</td>\n",
       "      <td>0.328073</td>\n",
       "    </tr>\n",
       "    <tr>\n",
       "      <th>min</th>\n",
       "      <td>817.000000</td>\n",
       "      <td>0.232169</td>\n",
       "    </tr>\n",
       "    <tr>\n",
       "      <th>25%</th>\n",
       "      <td>4982.000000</td>\n",
       "      <td>0.310971</td>\n",
       "    </tr>\n",
       "    <tr>\n",
       "      <th>50%</th>\n",
       "      <td>6499.000000</td>\n",
       "      <td>0.392297</td>\n",
       "    </tr>\n",
       "    <tr>\n",
       "      <th>75%</th>\n",
       "      <td>7822.000000</td>\n",
       "      <td>0.857860</td>\n",
       "    </tr>\n",
       "    <tr>\n",
       "      <th>max</th>\n",
       "      <td>18707.000000</td>\n",
       "      <td>1.188007</td>\n",
       "    </tr>\n",
       "  </tbody>\n",
       "</table>\n",
       "</div>"
      ],
      "text/plain": [
       "             Deaths      Ratio\n",
       "count     17.000000  17.000000\n",
       "mean    7038.176471   0.586093\n",
       "std     5235.884622   0.328073\n",
       "min      817.000000   0.232169\n",
       "25%     4982.000000   0.310971\n",
       "50%     6499.000000   0.392297\n",
       "75%     7822.000000   0.857860\n",
       "max    18707.000000   1.188007"
      ]
     },
     "execution_count": 105,
     "metadata": {},
     "output_type": "execute_result"
    }
   ],
   "source": [
    "afg_year.describe()"
   ]
  },
  {
   "cell_type": "code",
   "execution_count": 106,
   "metadata": {},
   "outputs": [
    {
     "data": {
      "image/png": "[encoded data removed]",
      "text/plain": [
       "<matplotlib.figure.Figure at 0x1a148ff9e8>"
      ]
     },
     "metadata": {},
     "output_type": "display_data"
    }
   ],
   "source": [
    "irq_year_normalized.plot(kind='bar', title='Iraq Deaths and Article/Events Ratio \\ncomparison over the years');"
   ]
  },
  {
   "cell_type": "code",
   "execution_count": 107,
   "metadata": {},
   "outputs": [
    {
     "data": {
      "image/png": "[encoded data removed]",
      "text/plain": [
       "<matplotlib.figure.Figure at 0x1a156455f8>"
      ]
     },
     "metadata": {},
     "output_type": "display_data"
    }
   ],
   "source": [
    "afg_year_normalized.plot(kind='bar', title='Afghanistan Deaths and Article/Events Ratio \\ncomparison over the years');"
   ]
  },
  {
   "cell_type": "code",
   "execution_count": 108,
   "metadata": {},
   "outputs": [
    {
     "data": {
      "image/png": "[encoded data removed]",
      "text/plain": [
       "<matplotlib.figure.Figure at 0x1a1fd3e390>"
      ]
     },
     "metadata": {},
     "output_type": "display_data"
    }
   ],
   "source": [
    "mex_year_normalized.plot(kind='bar', title='Mexico Deaths and Article/Events Ratio \\ncomparison over the years');"
   ]
  },
  {
   "cell_type": "code",
   "execution_count": 109,
   "metadata": {},
   "outputs": [
    {
     "data": {
      "image/png": "[encoded data removed]",
      "text/plain": [
       "<matplotlib.figure.Figure at 0x1a215d10f0>"
      ]
     },
     "metadata": {},
     "output_type": "display_data"
    }
   ],
   "source": [
    "pak_year_normalized.plot(kind='bar', title='Pakistan Deaths and Article/Events Ratio \\ncomparison over the years');"
   ]
  },
  {
   "cell_type": "markdown",
   "metadata": {},
   "source": [
    "There seem to indeed be some inconsistencies in the ratio between the number of deaths and the amount of media coverage per year as we planned, though not always exactly as we would have thought."
   ]
  },
  {
   "cell_type": "markdown",
   "metadata": {},
   "source": []
  },
  {
   "cell_type": "code",
   "execution_count": 110,
   "metadata": {},
   "outputs": [
    {
     "data": {
      "text/html": [
       "<div>\n",
       "<style>\n",
       "    .dataframe thead tr:only-child th {\n",
       "        text-align: right;\n",
       "    }\n",
       "\n",
       "    .dataframe thead th {\n",
       "        text-align: left;\n",
       "    }\n",
       "\n",
       "    .dataframe tbody tr th {\n",
       "        vertical-align: top;\n",
       "    }\n",
       "</style>\n",
       "<table border=\"1\" class=\"dataframe\">\n",
       "  <thead>\n",
       "    <tr style=\"text-align: right;\">\n",
       "      <th></th>\n",
       "      <th>Iraq_Deaths</th>\n",
       "      <th>Afghanistan_Deaths</th>\n",
       "      <th>Mexico_Deaths</th>\n",
       "      <th>Pakistan_Deaths</th>\n",
       "      <th>Iraq_Ratio</th>\n",
       "      <th>Afghanistan_Ratio</th>\n",
       "      <th>Mexico_Ratio</th>\n",
       "      <th>Pakistan_Ratio</th>\n",
       "    </tr>\n",
       "    <tr>\n",
       "      <th>Date</th>\n",
       "      <th></th>\n",
       "      <th></th>\n",
       "      <th></th>\n",
       "      <th></th>\n",
       "      <th></th>\n",
       "      <th></th>\n",
       "      <th></th>\n",
       "      <th></th>\n",
       "    </tr>\n",
       "  </thead>\n",
       "  <tbody>\n",
       "    <tr>\n",
       "      <th>2000</th>\n",
       "      <td>0.973577</td>\n",
       "      <td>0.292026</td>\n",
       "      <td>0.314021</td>\n",
       "      <td>0.291235</td>\n",
       "      <td>1.071314</td>\n",
       "      <td>0.303106</td>\n",
       "      <td>0.939310</td>\n",
       "      <td>0.333469</td>\n",
       "    </tr>\n",
       "    <tr>\n",
       "      <th>2001</th>\n",
       "      <td>1.009565</td>\n",
       "      <td>0.308065</td>\n",
       "      <td>0.283653</td>\n",
       "      <td>0.313035</td>\n",
       "      <td>1.071314</td>\n",
       "      <td>0.258430</td>\n",
       "      <td>0.929055</td>\n",
       "      <td>0.296111</td>\n",
       "    </tr>\n",
       "    <tr>\n",
       "      <th>2002</th>\n",
       "      <td>0.990432</td>\n",
       "      <td>0.299064</td>\n",
       "      <td>1.123244</td>\n",
       "      <td>0.288083</td>\n",
       "      <td>1.046350</td>\n",
       "      <td>0.235939</td>\n",
       "      <td>0.917570</td>\n",
       "      <td>0.286741</td>\n",
       "    </tr>\n",
       "    <tr>\n",
       "      <th>2003</th>\n",
       "      <td>0.806256</td>\n",
       "      <td>0.367202</td>\n",
       "      <td>1.163925</td>\n",
       "      <td>0.326056</td>\n",
       "      <td>1.071314</td>\n",
       "      <td>0.277822</td>\n",
       "      <td>0.840862</td>\n",
       "      <td>0.309685</td>\n",
       "    </tr>\n",
       "    <tr>\n",
       "      <th>2004</th>\n",
       "      <td>0.021478</td>\n",
       "      <td>0.331927</td>\n",
       "      <td>1.188181</td>\n",
       "      <td>0.310971</td>\n",
       "      <td>0.860079</td>\n",
       "      <td>0.266485</td>\n",
       "      <td>0.763334</td>\n",
       "      <td>0.299917</td>\n",
       "    </tr>\n",
       "    <tr>\n",
       "      <th>2005</th>\n",
       "      <td>0.213720</td>\n",
       "      <td>0.345710</td>\n",
       "      <td>1.017436</td>\n",
       "      <td>0.308419</td>\n",
       "      <td>0.891764</td>\n",
       "      <td>0.386613</td>\n",
       "      <td>0.876960</td>\n",
       "      <td>0.276848</td>\n",
       "    </tr>\n",
       "    <tr>\n",
       "      <th>2006</th>\n",
       "      <td>0.034099</td>\n",
       "      <td>0.262596</td>\n",
       "      <td>0.392709</td>\n",
       "      <td>0.232169</td>\n",
       "      <td>0.412644</td>\n",
       "      <td>0.205151</td>\n",
       "      <td>0.764565</td>\n",
       "      <td>0.202586</td>\n",
       "    </tr>\n",
       "    <tr>\n",
       "      <th>2007</th>\n",
       "      <td>0.006766</td>\n",
       "      <td>0.354628</td>\n",
       "      <td>0.003472</td>\n",
       "      <td>0.324147</td>\n",
       "      <td>0.485616</td>\n",
       "      <td>0.303617</td>\n",
       "      <td>0.379387</td>\n",
       "      <td>0.346389</td>\n",
       "    </tr>\n",
       "    <tr>\n",
       "      <th>2008</th>\n",
       "      <td>0.393434</td>\n",
       "      <td>0.408428</td>\n",
       "      <td>0.263218</td>\n",
       "      <td>0.392297</td>\n",
       "      <td>0.723228</td>\n",
       "      <td>0.389559</td>\n",
       "      <td>0.955405</td>\n",
       "      <td>0.369654</td>\n",
       "    </tr>\n",
       "    <tr>\n",
       "      <th>2009</th>\n",
       "      <td>0.624398</td>\n",
       "      <td>0.609746</td>\n",
       "      <td>0.102977</td>\n",
       "      <td>0.598928</td>\n",
       "      <td>1.101531</td>\n",
       "      <td>0.553687</td>\n",
       "      <td>2.120373</td>\n",
       "      <td>0.555380</td>\n",
       "    </tr>\n",
       "    <tr>\n",
       "      <th>2010</th>\n",
       "      <td>0.594104</td>\n",
       "      <td>0.787620</td>\n",
       "      <td>0.021548</td>\n",
       "      <td>0.758569</td>\n",
       "      <td>2.109701</td>\n",
       "      <td>0.811363</td>\n",
       "      <td>2.024386</td>\n",
       "      <td>0.625692</td>\n",
       "    </tr>\n",
       "    <tr>\n",
       "      <th>2011</th>\n",
       "      <td>0.698197</td>\n",
       "      <td>0.921170</td>\n",
       "      <td>0.100618</td>\n",
       "      <td>0.962143</td>\n",
       "      <td>1.535524</td>\n",
       "      <td>0.828597</td>\n",
       "      <td>0.485315</td>\n",
       "      <td>0.664367</td>\n",
       "    </tr>\n",
       "    <tr>\n",
       "      <th>2012</th>\n",
       "      <td>0.695236</td>\n",
       "      <td>1.063030</td>\n",
       "      <td>0.149702</td>\n",
       "      <td>0.967173</td>\n",
       "      <td>0.560000</td>\n",
       "      <td>0.838292</td>\n",
       "      <td>0.512388</td>\n",
       "      <td>0.645365</td>\n",
       "    </tr>\n",
       "    <tr>\n",
       "      <th>2013</th>\n",
       "      <td>0.102110</td>\n",
       "      <td>1.078327</td>\n",
       "      <td>0.208718</td>\n",
       "      <td>0.778644</td>\n",
       "      <td>0.326229</td>\n",
       "      <td>0.681152</td>\n",
       "      <td>0.250681</td>\n",
       "      <td>0.604154</td>\n",
       "    </tr>\n",
       "    <tr>\n",
       "      <th>2014</th>\n",
       "      <td>2.403185</td>\n",
       "      <td>0.859520</td>\n",
       "      <td>1.052701</td>\n",
       "      <td>0.857860</td>\n",
       "      <td>0.505271</td>\n",
       "      <td>0.691561</td>\n",
       "      <td>0.538641</td>\n",
       "      <td>0.672945</td>\n",
       "    </tr>\n",
       "    <tr>\n",
       "      <th>2015</th>\n",
       "      <td>1.546980</td>\n",
       "      <td>1.073672</td>\n",
       "      <td>2.090921</td>\n",
       "      <td>1.188007</td>\n",
       "      <td>0.515833</td>\n",
       "      <td>0.979498</td>\n",
       "      <td>0.039427</td>\n",
       "      <td>0.800782</td>\n",
       "    </tr>\n",
       "    <tr>\n",
       "      <th>2016</th>\n",
       "      <td>1.518963</td>\n",
       "      <td>1.286663</td>\n",
       "      <td>2.228625</td>\n",
       "      <td>1.065850</td>\n",
       "      <td>0.185537</td>\n",
       "      <td>1.012106</td>\n",
       "      <td>0.515573</td>\n",
       "      <td>0.794023</td>\n",
       "    </tr>\n",
       "  </tbody>\n",
       "</table>\n",
       "</div>"
      ],
      "text/plain": [
       "      Iraq_Deaths  Afghanistan_Deaths  Mexico_Deaths  Pakistan_Deaths  \\\n",
       "Date                                                                    \n",
       "2000     0.973577            0.292026       0.314021         0.291235   \n",
       "2001     1.009565            0.308065       0.283653         0.313035   \n",
       "2002     0.990432            0.299064       1.123244         0.288083   \n",
       "2003     0.806256            0.367202       1.163925         0.326056   \n",
       "2004     0.021478            0.331927       1.188181         0.310971   \n",
       "2005     0.213720            0.345710       1.017436         0.308419   \n",
       "2006     0.034099            0.262596       0.392709         0.232169   \n",
       "2007     0.006766            0.354628       0.003472         0.324147   \n",
       "2008     0.393434            0.408428       0.263218         0.392297   \n",
       "2009     0.624398            0.609746       0.102977         0.598928   \n",
       "2010     0.594104            0.787620       0.021548         0.758569   \n",
       "2011     0.698197            0.921170       0.100618         0.962143   \n",
       "2012     0.695236            1.063030       0.149702         0.967173   \n",
       "2013     0.102110            1.078327       0.208718         0.778644   \n",
       "2014     2.403185            0.859520       1.052701         0.857860   \n",
       "2015     1.546980            1.073672       2.090921         1.188007   \n",
       "2016     1.518963            1.286663       2.228625         1.065850   \n",
       "\n",
       "      Iraq_Ratio  Afghanistan_Ratio  Mexico_Ratio  Pakistan_Ratio  \n",
       "Date                                                               \n",
       "2000    1.071314           0.303106      0.939310        0.333469  \n",
       "2001    1.071314           0.258430      0.929055        0.296111  \n",
       "2002    1.046350           0.235939      0.917570        0.286741  \n",
       "2003    1.071314           0.277822      0.840862        0.309685  \n",
       "2004    0.860079           0.266485      0.763334        0.299917  \n",
       "2005    0.891764           0.386613      0.876960        0.276848  \n",
       "2006    0.412644           0.205151      0.764565        0.202586  \n",
       "2007    0.485616           0.303617      0.379387        0.346389  \n",
       "2008    0.723228           0.389559      0.955405        0.369654  \n",
       "2009    1.101531           0.553687      2.120373        0.555380  \n",
       "2010    2.109701           0.811363      2.024386        0.625692  \n",
       "2011    1.535524           0.828597      0.485315        0.664367  \n",
       "2012    0.560000           0.838292      0.512388        0.645365  \n",
       "2013    0.326229           0.681152      0.250681        0.604154  \n",
       "2014    0.505271           0.691561      0.538641        0.672945  \n",
       "2015    0.515833           0.979498      0.039427        0.800782  \n",
       "2016    0.185537           1.012106      0.515573        0.794023  "
      ]
     },
     "execution_count": 110,
     "metadata": {},
     "output_type": "execute_result"
    }
   ],
   "source": [
    "data  = [irq_year_normalized,afg_year_normalized,mex_year_normalized,pak_year_normalized]\n",
    "data = pd.concat(data, axis=1)\n",
    "\n",
    "data.columns = [x + '_' + y for y in ['Deaths', 'Ratio'] for x in ['Iraq', 'Afghanistan', 'Mexico', 'Pakistan']]\n",
    "\n",
    "data"
   ]
  },
  {
   "cell_type": "markdown",
   "metadata": {},
   "source": [
    "## Analysis by Event Code"
   ]
  },
  {
   "cell_type": "code",
   "execution_count": 111,
   "metadata": {},
   "outputs": [
    {
     "data": {
      "text/html": [
       "<div>\n",
       "<style>\n",
       "    .dataframe thead tr:only-child th {\n",
       "        text-align: right;\n",
       "    }\n",
       "\n",
       "    .dataframe thead th {\n",
       "        text-align: left;\n",
       "    }\n",
       "\n",
       "    .dataframe tbody tr th {\n",
       "        vertical-align: top;\n",
       "    }\n",
       "</style>\n",
       "<table border=\"1\" class=\"dataframe\">\n",
       "  <thead>\n",
       "    <tr style=\"text-align: right;\">\n",
       "      <th></th>\n",
       "      <th>Country</th>\n",
       "      <th>Date</th>\n",
       "      <th>EventCode</th>\n",
       "      <th>Events</th>\n",
       "      <th>Articles</th>\n",
       "    </tr>\n",
       "  </thead>\n",
       "  <tbody>\n",
       "    <tr>\n",
       "      <th>0</th>\n",
       "      <td>SY</td>\n",
       "      <td>201609</td>\n",
       "      <td>19</td>\n",
       "      <td>26118</td>\n",
       "      <td>558078</td>\n",
       "    </tr>\n",
       "    <tr>\n",
       "      <th>1</th>\n",
       "      <td>SY</td>\n",
       "      <td>201608</td>\n",
       "      <td>19</td>\n",
       "      <td>23797</td>\n",
       "      <td>513882</td>\n",
       "    </tr>\n",
       "    <tr>\n",
       "      <th>2</th>\n",
       "      <td>SY</td>\n",
       "      <td>201602</td>\n",
       "      <td>19</td>\n",
       "      <td>27567</td>\n",
       "      <td>483618</td>\n",
       "    </tr>\n",
       "    <tr>\n",
       "      <th>3</th>\n",
       "      <td>SY</td>\n",
       "      <td>201510</td>\n",
       "      <td>19</td>\n",
       "      <td>27216</td>\n",
       "      <td>469990</td>\n",
       "    </tr>\n",
       "    <tr>\n",
       "      <th>4</th>\n",
       "      <td>SY</td>\n",
       "      <td>201612</td>\n",
       "      <td>19</td>\n",
       "      <td>22474</td>\n",
       "      <td>468685</td>\n",
       "    </tr>\n",
       "  </tbody>\n",
       "</table>\n",
       "</div>"
      ],
      "text/plain": [
       "  Country    Date  EventCode  Events  Articles\n",
       "0      SY  201609         19   26118    558078\n",
       "1      SY  201608         19   23797    513882\n",
       "2      SY  201602         19   27567    483618\n",
       "3      SY  201510         19   27216    469990\n",
       "4      SY  201612         19   22474    468685"
      ]
     },
     "execution_count": 111,
     "metadata": {},
     "output_type": "execute_result"
    }
   ],
   "source": [
    "df.head()"
   ]
  },
  {
   "cell_type": "code",
   "execution_count": 112,
   "metadata": {
    "collapsed": true
   },
   "outputs": [],
   "source": [
    "def df_env_year(_df, country_code):\n",
    "    x = _df[_df['Country'] == country_code].drop('Country', axis=1)\n",
    "    x['Date'] = x['Date'].apply(lambda d: int(d / 100))\n",
    "    return x.groupby(['Date', 'EventCode']).mean()\n",
    "\n",
    "df_env = df.copy()\n",
    "\n",
    "df_env['Ratio'] = df_env['Articles'] / df_env['Events'].astype('float')\n",
    "\n",
    "df_env.drop(['Articles', 'Events'], axis=1, inplace=True)\n",
    "\n",
    "irq_ev = df_env_year(df_env, 'IZ')\n",
    "mex_ev = df_env_year(df_env, 'MX')\n",
    "afg_ev = df_env_year(df_env, 'AF')\n",
    "pak_ev = df_env_year(df_env, 'PK')\n",
    "syr_ev = df_env_year(df_env, 'SY')"
   ]
  },
  {
   "cell_type": "code",
   "execution_count": 113,
   "metadata": {},
   "outputs": [
    {
     "data": {
      "image/png": "[encoded data removed]",
      "text/plain": [
       "<matplotlib.figure.Figure at 0x1a2183bda0>"
      ]
     },
     "metadata": {},
     "output_type": "display_data"
    }
   ],
   "source": [
    "irq_ev.groupby(['Date', 'EventCode']).mean().unstack(level=1).plot(kind='bar', subplots=True);"
   ]
  },
  {
   "cell_type": "code",
   "execution_count": 114,
   "metadata": {},
   "outputs": [
    {
     "data": {
      "image/png": "[encoded data removed]",
      "text/plain": [
       "<matplotlib.figure.Figure at 0x1a21be8048>"
      ]
     },
     "metadata": {},
     "output_type": "display_data"
    }
   ],
   "source": [
    "mex_ev.groupby(['Date', 'EventCode']).mean().unstack(level=1).plot(kind='bar', subplots=True);"
   ]
  },
  {
   "cell_type": "code",
   "execution_count": 115,
   "metadata": {},
   "outputs": [
    {
     "data": {
      "image/png": "[encoded data removed]",
      "text/plain": [
       "<matplotlib.figure.Figure at 0x1a21bc6cf8>"
      ]
     },
     "metadata": {},
     "output_type": "display_data"
    }
   ],
   "source": [
    "afg_ev.groupby(['Date', 'EventCode']).mean().unstack(level=1).plot(kind='bar', subplots=True);"
   ]
  },
  {
   "cell_type": "code",
   "execution_count": 116,
   "metadata": {},
   "outputs": [
    {
     "data": {
      "image/png": "[encoded data removed]",
      "text/plain": [
       "<matplotlib.figure.Figure at 0x1a21bc3588>"
      ]
     },
     "metadata": {},
     "output_type": "display_data"
    }
   ],
   "source": [
    "pak_ev.groupby(['Date', 'EventCode']).mean().unstack(level=1).plot(kind='bar', subplots=True);"
   ]
  },
  {
   "cell_type": "code",
   "execution_count": 117,
   "metadata": {},
   "outputs": [
    {
     "data": {
      "image/png": "[encoded data removed]",
      "text/plain": [
       "<matplotlib.figure.Figure at 0x1a215fdb00>"
      ]
     },
     "metadata": {},
     "output_type": "display_data"
    }
   ],
   "source": [
    "syr_ev.groupby(['Date', 'EventCode']).mean().unstack(level=1).plot(kind='bar', subplots=True);"
   ]
  },
  {
   "cell_type": "markdown",
   "metadata": {
    "collapsed": true
   },
   "source": [
    "As we can see, the type of the events (18, 19 or 20) seems not to influence too much the final ratio between the number of events (i.e. each event has a relatively similar curve shape). This means that our choice of events is sound and can be used without worrying too much about event importance."
   ]
  },
  {
   "cell_type": "code",
   "execution_count": 118,
   "metadata": {},
   "outputs": [
    {
     "data": {
      "text/html": [
       "<div>\n",
       "<style>\n",
       "    .dataframe thead tr:only-child th {\n",
       "        text-align: right;\n",
       "    }\n",
       "\n",
       "    .dataframe thead th {\n",
       "        text-align: left;\n",
       "    }\n",
       "\n",
       "    .dataframe tbody tr th {\n",
       "        vertical-align: top;\n",
       "    }\n",
       "</style>\n",
       "<table border=\"1\" class=\"dataframe\">\n",
       "  <thead>\n",
       "    <tr style=\"text-align: right;\">\n",
       "      <th></th>\n",
       "      <th>Sum_Events</th>\n",
       "    </tr>\n",
       "    <tr>\n",
       "      <th>ActionGeo_CountryCode</th>\n",
       "      <th></th>\n",
       "    </tr>\n",
       "  </thead>\n",
       "  <tbody>\n",
       "    <tr>\n",
       "      <th>US</th>\n",
       "      <td>9495320</td>\n",
       "    </tr>\n",
       "    <tr>\n",
       "      <th>IS</th>\n",
       "      <td>1388619</td>\n",
       "    </tr>\n",
       "    <tr>\n",
       "      <th>PK</th>\n",
       "      <td>1388042</td>\n",
       "    </tr>\n",
       "    <tr>\n",
       "      <th>IZ</th>\n",
       "      <td>1244830</td>\n",
       "    </tr>\n",
       "    <tr>\n",
       "      <th>AF</th>\n",
       "      <td>1176532</td>\n",
       "    </tr>\n",
       "    <tr>\n",
       "      <th>SY</th>\n",
       "      <td>1153458</td>\n",
       "    </tr>\n",
       "    <tr>\n",
       "      <th>UK</th>\n",
       "      <td>1054506</td>\n",
       "    </tr>\n",
       "    <tr>\n",
       "      <th>IN</th>\n",
       "      <td>1012818</td>\n",
       "    </tr>\n",
       "    <tr>\n",
       "      <th>RS</th>\n",
       "      <td>777605</td>\n",
       "    </tr>\n",
       "    <tr>\n",
       "      <th>NI</th>\n",
       "      <td>639071</td>\n",
       "    </tr>\n",
       "  </tbody>\n",
       "</table>\n",
       "</div>"
      ],
      "text/plain": [
       "                       Sum_Events\n",
       "ActionGeo_CountryCode            \n",
       "US                        9495320\n",
       "IS                        1388619\n",
       "PK                        1388042\n",
       "IZ                        1244830\n",
       "AF                        1176532\n",
       "SY                        1153458\n",
       "UK                        1054506\n",
       "IN                        1012818\n",
       "RS                         777605\n",
       "NI                         639071"
      ]
     },
     "execution_count": 118,
     "metadata": {},
     "output_type": "execute_result"
    }
   ],
   "source": [
    "te = pd.read_csv(\"top_event_2000_2016.csv\")\n",
    "ta = pd.read_csv(\"top_acticles_2000_2016.csv\")\n",
    "te.set_index(\"ActionGeo_CountryCode\").head(10)"
   ]
  },
  {
   "cell_type": "code",
   "execution_count": 119,
   "metadata": {},
   "outputs": [
    {
     "data": {
      "text/html": [
       "<div>\n",
       "<style>\n",
       "    .dataframe thead tr:only-child th {\n",
       "        text-align: right;\n",
       "    }\n",
       "\n",
       "    .dataframe thead th {\n",
       "        text-align: left;\n",
       "    }\n",
       "\n",
       "    .dataframe tbody tr th {\n",
       "        vertical-align: top;\n",
       "    }\n",
       "</style>\n",
       "<table border=\"1\" class=\"dataframe\">\n",
       "  <thead>\n",
       "    <tr style=\"text-align: right;\">\n",
       "      <th></th>\n",
       "      <th>Sum_Articles</th>\n",
       "    </tr>\n",
       "    <tr>\n",
       "      <th>ActionGeo_CountryCode</th>\n",
       "      <th></th>\n",
       "    </tr>\n",
       "  </thead>\n",
       "  <tbody>\n",
       "    <tr>\n",
       "      <th>US</th>\n",
       "      <td>126189062</td>\n",
       "    </tr>\n",
       "    <tr>\n",
       "      <th>SY</th>\n",
       "      <td>18233243</td>\n",
       "    </tr>\n",
       "    <tr>\n",
       "      <th>IS</th>\n",
       "      <td>16038607</td>\n",
       "    </tr>\n",
       "    <tr>\n",
       "      <th>IZ</th>\n",
       "      <td>15565613</td>\n",
       "    </tr>\n",
       "    <tr>\n",
       "      <th>AF</th>\n",
       "      <td>14920597</td>\n",
       "    </tr>\n",
       "    <tr>\n",
       "      <th>PK</th>\n",
       "      <td>14025192</td>\n",
       "    </tr>\n",
       "    <tr>\n",
       "      <th>UK</th>\n",
       "      <td>9708506</td>\n",
       "    </tr>\n",
       "    <tr>\n",
       "      <th>IN</th>\n",
       "      <td>8898081</td>\n",
       "    </tr>\n",
       "    <tr>\n",
       "      <th>AS</th>\n",
       "      <td>8213297</td>\n",
       "    </tr>\n",
       "    <tr>\n",
       "      <th>RS</th>\n",
       "      <td>7109102</td>\n",
       "    </tr>\n",
       "  </tbody>\n",
       "</table>\n",
       "</div>"
      ],
      "text/plain": [
       "                       Sum_Articles\n",
       "ActionGeo_CountryCode              \n",
       "US                        126189062\n",
       "SY                         18233243\n",
       "IS                         16038607\n",
       "IZ                         15565613\n",
       "AF                         14920597\n",
       "PK                         14025192\n",
       "UK                          9708506\n",
       "IN                          8898081\n",
       "AS                          8213297\n",
       "RS                          7109102"
      ]
     },
     "execution_count": 119,
     "metadata": {},
     "output_type": "execute_result"
    }
   ],
   "source": [
    "ta.set_index(\"ActionGeo_CountryCode\").head(10)"
   ]
  },
  {
   "cell_type": "markdown",
   "metadata": {
    "collapsed": true
   },
   "source": [
    "# Discussion\n",
    "\n",
    "First, we know from our different queries that the number of article has greatly increase during the period of time we considered, namely 2000 to 2016. The number of sources that were scrap for each event has also changed over time. Therefore we will have to be careful to not interpret the number articles evolution in itself without care as a media coverage mesure.\n",
    "The Syrian death reports seems to be temporary not available on the UDCP platform. \n",
    "Another important thing is that the articles sources seems to be mainly centered on american news platforms. This can be seen in the last two plots. The total number of event and articles for the US is huge. Therefore events in the US are more documented than other countries. That is why we think that US news are more investigated.\n"
   ]
  },
  {
   "cell_type": "markdown",
   "metadata": {
    "collapsed": true
   },
   "source": [
    "# Visualization\n",
    "\n",
    "This section uses visualization technics in order to show the tendecy of the media to cover the situation of a conflit over time. To mesure the impact of a conflit, the number of death is used. Therefore, we compare the ratio of the number of article per mention against the number of death per year. We except to see a diminution of the ratio independent of the number of death that persist constant."
   ]
  },
  {
   "cell_type": "code",
   "execution_count": 120,
   "metadata": {
    "collapsed": true
   },
   "outputs": [],
   "source": [
    "# Plot a barplot of the number od death per year, over the ratio number of article per event per year.\n",
    "def plot_tendency(country_name,deaths, ratio):\n",
    "    #global parameters\n",
    "    fig_height = 12\n",
    "    fig_weight = 12\n",
    "    date = np.arange(2000,2017,1,dtype=np.int64) # stop value excluded\n",
    "    year_xlabel = r\"year of study\"\n",
    "    left_axis = r\"ratio article/event\"\n",
    "    right_axis = r\"number of deaths\"    \n",
    "    \n",
    "    tendency_title = r\"Media Coverage Tendency Over The Number Of Death in \"+country_name\n",
    "    f,ax_ = plt.subplots(sharex=True)\n",
    "    f.set_figheight(fig_height)\n",
    "    f.set_figwidth(fig_weight)\n",
    "    plt.title(tendency_title)\n",
    "    plt.xlabel(year_xlabel)\n",
    "    \n",
    "    ax_.set_xticks(date)\n",
    "    ax_right = ax_.twinx()\n",
    "\n",
    "    ax_.bar(date,deaths)\n",
    "    ax_right.plot(date,ratio,color='r' )\n",
    "\n",
    "    plt.show()"
   ]
  },
  {
   "cell_type": "code",
   "execution_count": 121,
   "metadata": {},
   "outputs": [
    {
     "data": {
      "image/png": "[encoded data removed]",
      "text/plain": [
       "<matplotlib.figure.Figure at 0x1a214129e8>"
      ]
     },
     "metadata": {},
     "output_type": "display_data"
    }
   ],
   "source": [
    "afg_ratio = afg_ev.groupby(['Date']).mean()\n",
    "afg_ratio=afg_ratio.reset_index()\n",
    "afg_year_normalized = afg_year_normalized.reset_index()\n",
    "afg_name = r\"Afghanistan\"\n",
    "\n",
    "plot_tendency(afg_name,afg_year_normalized['Deaths'],afg_year_normalized['Ratio'])\n",
    "\n"
   ]
  },
  {
   "cell_type": "markdown",
   "metadata": {},
   "source": [
    "source : https://stackoverflow.com/questions/33179122/seaborn-countplot-with-frequencies"
   ]
  },
  {
   "cell_type": "markdown",
   "metadata": {},
   "source": [
    "# Article ratio per Year per country\n"
   ]
  },
  {
   "cell_type": "markdown",
   "metadata": {},
   "source": [
    "First, Get the corresponding data "
   ]
  },
  {
   "cell_type": "code",
   "execution_count": 122,
   "metadata": {
    "collapsed": true
   },
   "outputs": [],
   "source": [
    "df_articles  = df_grouped.drop('Events', axis=1)\n",
    "df_articles = df_articles.reset_index()\n",
    "\n",
    "def join_month(x):\n",
    "    x['Date'] = x['Date'].apply(lambda d: int(d / 100))\n",
    "    return x.groupby(['Date','Country']).sum()    \n",
    "def sum_art_per_year(x):\n",
    "    return x.groupby(['Date']).sum()\n",
    "\n",
    "df_year_country = join_month(df_articles)\n",
    "sum_art_year = sum_art_per_year(df_year_country)\n",
    "df_year_country=df_year_country.reset_index()\n",
    "sum_art_year = sum_art_year.reset_index()\n",
    "\n",
    "\n",
    "\n",
    "sum_art_year=sum_art_year.merge(df_year_country, on='Date')\n",
    "\n",
    "sum_art_year[\"Ratio\"] = sum_art_year['Articles_y']/ sum_art_year['Articles_x']\n",
    "article_ratio_per_country = sum_art_year.drop(['Articles_x','Articles_y'],axis=1)"
   ]
  },
  {
   "cell_type": "markdown",
   "metadata": {},
   "source": [
    "Make the plot. (Static first)"
   ]
  },
  {
   "cell_type": "code",
   "execution_count": 123,
   "metadata": {},
   "outputs": [],
   "source": [
    "years = np.ndarray.tolist(np.arange(2000,2017,1))\n",
    "years_dict = dict()\n",
    "for y in years:\n",
    "    art = article_ratio_per_country[article_ratio_per_country.Date== y]\n",
    "    years_dict[\"_\"+str(y)] = art"
   ]
  },
  {
   "cell_type": "markdown",
   "metadata": {},
   "source": [
    "## Plot using Bokeh"
   ]
  },
  {
   "cell_type": "code",
   "execution_count": 124,
   "metadata": {},
   "outputs": [
    {
     "data": {
      "text/html": [
       "\n",
       "    <div class=\"bk-root\">\n",
       "        <a href=\"https://bokeh.pydata.org\" target=\"_blank\" class=\"bk-logo bk-logo-small bk-logo-notebook\"></a>\n",
       "        <span id=\"a519cc57-55e2-4246-83b5-a69395aa3d53\">Loading BokehJS ...</span>\n",
       "    </div>"
      ]
     },
     "metadata": {},
     "output_type": "display_data"
    },
    {
     "data": {
      "application/javascript": [
       "\n",
       "(function(root) {\n",
       "  function now() {\n",
       "    return new Date();\n",
       "  }\n",
       "\n",
       "  var force = true;\n",
       "\n",
       "  if (typeof (root._bokeh_onload_callbacks) === \"undefined\" || force === true) {\n",
       "    root._bokeh_onload_callbacks = [];\n",
       "    root._bokeh_is_loading = undefined;\n",
       "  }\n",
       "\n",
       "  var JS_MIME_TYPE = 'application/javascript';\n",
       "  var HTML_MIME_TYPE = 'text/html';\n",
       "  var EXEC_MIME_TYPE = 'application/vnd.bokehjs_exec.v0+json';\n",
       "  var CLASS_NAME = 'output_bokeh rendered_html';\n",
       "\n",
       "  /**\n",
       "   * Render data to the DOM node\n",
       "   */\n",
       "  function render(props, node) {\n",
       "    var script = document.createElement(\"script\");\n",
       "    node.appendChild(script);\n",
       "  }\n",
       "\n",
       "  /**\n",
       "   * Handle when an output is cleared or removed\n",
       "   */\n",
       "  function handleClearOutput(event, handle) {\n",
       "    var cell = handle.cell;\n",
       "\n",
       "    var id = cell.output_area._bokeh_element_id;\n",
       "    var server_id = cell.output_area._bokeh_server_id;\n",
       "    // Clean up Bokeh references\n",
       "    if (id !== undefined) {\n",
       "      Bokeh.index[id].model.document.clear();\n",
       "      delete Bokeh.index[id];\n",
       "    }\n",
       "\n",
       "    if (server_id !== undefined) {\n",
       "      // Clean up Bokeh references\n",
       "      var cmd = \"from bokeh.io.state import curstate; print(curstate().uuid_to_server['\" + server_id + \"'].get_sessions()[0].document.roots[0]._id)\";\n",
       "      cell.notebook.kernel.execute(cmd, {\n",
       "        iopub: {\n",
       "          output: function(msg) {\n",
       "            var element_id = msg.content.text.trim();\n",
       "            Bokeh.index[element_id].model.document.clear();\n",
       "            delete Bokeh.index[element_id];\n",
       "          }\n",
       "        }\n",
       "      });\n",
       "      // Destroy server and session\n",
       "      var cmd = \"import bokeh.io.notebook as ion; ion.destroy_server('\" + server_id + \"')\";\n",
       "      cell.notebook.kernel.execute(cmd);\n",
       "    }\n",
       "  }\n",
       "\n",
       "  /**\n",
       "   * Handle when a new output is added\n",
       "   */\n",
       "  function handleAddOutput(event, handle) {\n",
       "    var output_area = handle.output_area;\n",
       "    var output = handle.output;\n",
       "\n",
       "    // limit handleAddOutput to display_data with EXEC_MIME_TYPE content only\n",
       "    if ((output.output_type != \"display_data\") || (!output.data.hasOwnProperty(EXEC_MIME_TYPE))) {\n",
       "      return\n",
       "    }\n",
       "\n",
       "    var toinsert = output_area.element.find(`.${CLASS_NAME.split(' ')[0]}`);\n",
       "\n",
       "    if (output.metadata[EXEC_MIME_TYPE][\"id\"] !== undefined) {\n",
       "      toinsert[0].firstChild.textContent = output.data[JS_MIME_TYPE];\n",
       "      // store reference to embed id on output_area\n",
       "      output_area._bokeh_element_id = output.metadata[EXEC_MIME_TYPE][\"id\"];\n",
       "    }\n",
       "    if (output.metadata[EXEC_MIME_TYPE][\"server_id\"] !== undefined) {\n",
       "      var bk_div = document.createElement(\"div\");\n",
       "      bk_div.innerHTML = output.data[HTML_MIME_TYPE];\n",
       "      var script_attrs = bk_div.children[0].attributes;\n",
       "      for (var i = 0; i < script_attrs.length; i++) {\n",
       "        toinsert[0].firstChild.setAttribute(script_attrs[i].name, script_attrs[i].value);\n",
       "      }\n",
       "      // store reference to server id on output_area\n",
       "      output_area._bokeh_server_id = output.metadata[EXEC_MIME_TYPE][\"server_id\"];\n",
       "    }\n",
       "  }\n",
       "\n",
       "  function register_renderer(events, OutputArea) {\n",
       "\n",
       "    function append_mime(data, metadata, element) {\n",
       "      // create a DOM node to render to\n",
       "      var toinsert = this.create_output_subarea(\n",
       "        metadata,\n",
       "        CLASS_NAME,\n",
       "        EXEC_MIME_TYPE\n",
       "      );\n",
       "      this.keyboard_manager.register_events(toinsert);\n",
       "      // Render to node\n",
       "      var props = {data: data, metadata: metadata[EXEC_MIME_TYPE]};\n",
       "      render(props, toinsert[0]);\n",
       "      element.append(toinsert);\n",
       "      return toinsert\n",
       "    }\n",
       "\n",
       "    /* Handle when an output is cleared or removed */\n",
       "    events.on('clear_output.CodeCell', handleClearOutput);\n",
       "    events.on('delete.Cell', handleClearOutput);\n",
       "\n",
       "    /* Handle when a new output is added */\n",
       "    events.on('output_added.OutputArea', handleAddOutput);\n",
       "\n",
       "    /**\n",
       "     * Register the mime type and append_mime function with output_area\n",
       "     */\n",
       "    OutputArea.prototype.register_mime_type(EXEC_MIME_TYPE, append_mime, {\n",
       "      /* Is output safe? */\n",
       "      safe: true,\n",
       "      /* Index of renderer in `output_area.display_order` */\n",
       "      index: 0\n",
       "    });\n",
       "  }\n",
       "\n",
       "  // register the mime type if in Jupyter Notebook environment and previously unregistered\n",
       "  if (root.Jupyter !== undefined) {\n",
       "    var events = require('base/js/events');\n",
       "    var OutputArea = require('notebook/js/outputarea').OutputArea;\n",
       "\n",
       "    if (OutputArea.prototype.mime_types().indexOf(EXEC_MIME_TYPE) == -1) {\n",
       "      register_renderer(events, OutputArea);\n",
       "    }\n",
       "  }\n",
       "\n",
       "  \n",
       "  if (typeof (root._bokeh_timeout) === \"undefined\" || force === true) {\n",
       "    root._bokeh_timeout = Date.now() + 5000;\n",
       "    root._bokeh_failed_load = false;\n",
       "  }\n",
       "\n",
       "  var NB_LOAD_WARNING = {'data': {'text/html':\n",
       "     \"<div style='background-color: #fdd'>\\n\"+\n",
       "     \"<p>\\n\"+\n",
       "     \"BokehJS does not appear to have successfully loaded. If loading BokehJS from CDN, this \\n\"+\n",
       "     \"may be due to a slow or bad network connection. Possible fixes:\\n\"+\n",
       "     \"</p>\\n\"+\n",
       "     \"<ul>\\n\"+\n",
       "     \"<li>re-rerun `output_notebook()` to attempt to load from CDN again, or</li>\\n\"+\n",
       "     \"<li>use INLINE resources instead, as so:</li>\\n\"+\n",
       "     \"</ul>\\n\"+\n",
       "     \"<code>\\n\"+\n",
       "     \"from bokeh.resources import INLINE\\n\"+\n",
       "     \"output_notebook(resources=INLINE)\\n\"+\n",
       "     \"</code>\\n\"+\n",
       "     \"</div>\"}};\n",
       "\n",
       "  function display_loaded() {\n",
       "    var el = document.getElementById(\"a519cc57-55e2-4246-83b5-a69395aa3d53\");\n",
       "    if (el != null) {\n",
       "      el.textContent = \"BokehJS is loading...\";\n",
       "    }\n",
       "    if (root.Bokeh !== undefined) {\n",
       "      if (el != null) {\n",
       "        el.textContent = \"BokehJS \" + root.Bokeh.version + \" successfully loaded.\";\n",
       "      }\n",
       "    } else if (Date.now() < root._bokeh_timeout) {\n",
       "      setTimeout(display_loaded, 100)\n",
       "    }\n",
       "  }\n",
       "\n",
       "\n",
       "  function run_callbacks() {\n",
       "    try {\n",
       "      root._bokeh_onload_callbacks.forEach(function(callback) { callback() });\n",
       "    }\n",
       "    finally {\n",
       "      delete root._bokeh_onload_callbacks\n",
       "    }\n",
       "    console.info(\"Bokeh: all callbacks have finished\");\n",
       "  }\n",
       "\n",
       "  function load_libs(js_urls, callback) {\n",
       "    root._bokeh_onload_callbacks.push(callback);\n",
       "    if (root._bokeh_is_loading > 0) {\n",
       "      console.log(\"Bokeh: BokehJS is being loaded, scheduling callback at\", now());\n",
       "      return null;\n",
       "    }\n",
       "    if (js_urls == null || js_urls.length === 0) {\n",
       "      run_callbacks();\n",
       "      return null;\n",
       "    }\n",
       "    console.log(\"Bokeh: BokehJS not loaded, scheduling load and callback at\", now());\n",
       "    root._bokeh_is_loading = js_urls.length;\n",
       "    for (var i = 0; i < js_urls.length; i++) {\n",
       "      var url = js_urls[i];\n",
       "      var s = document.createElement('script');\n",
       "      s.src = url;\n",
       "      s.async = false;\n",
       "      s.onreadystatechange = s.onload = function() {\n",
       "        root._bokeh_is_loading--;\n",
       "        if (root._bokeh_is_loading === 0) {\n",
       "          console.log(\"Bokeh: all BokehJS libraries loaded\");\n",
       "          run_callbacks()\n",
       "        }\n",
       "      };\n",
       "      s.onerror = function() {\n",
       "        console.warn(\"failed to load library \" + url);\n",
       "      };\n",
       "      console.log(\"Bokeh: injecting script tag for BokehJS library: \", url);\n",
       "      document.getElementsByTagName(\"head\")[0].appendChild(s);\n",
       "    }\n",
       "  };var element = document.getElementById(\"a519cc57-55e2-4246-83b5-a69395aa3d53\");\n",
       "  if (element == null) {\n",
       "    console.log(\"Bokeh: ERROR: autoload.js configured with elementid 'a519cc57-55e2-4246-83b5-a69395aa3d53' but no matching script tag was found. \")\n",
       "    return false;\n",
       "  }\n",
       "\n",
       "  var js_urls = [\"https://cdn.pydata.org/bokeh/release/bokeh-0.12.10.min.js\", \"https://cdn.pydata.org/bokeh/release/bokeh-widgets-0.12.10.min.js\", \"https://cdn.pydata.org/bokeh/release/bokeh-tables-0.12.10.min.js\", \"https://cdn.pydata.org/bokeh/release/bokeh-gl-0.12.10.min.js\"];\n",
       "\n",
       "  var inline_js = [\n",
       "    function(Bokeh) {\n",
       "      Bokeh.set_log_level(\"info\");\n",
       "    },\n",
       "    \n",
       "    function(Bokeh) {\n",
       "      \n",
       "    },\n",
       "    function(Bokeh) {\n",
       "      console.log(\"Bokeh: injecting CSS: https://cdn.pydata.org/bokeh/release/bokeh-0.12.10.min.css\");\n",
       "      Bokeh.embed.inject_css(\"https://cdn.pydata.org/bokeh/release/bokeh-0.12.10.min.css\");\n",
       "      console.log(\"Bokeh: injecting CSS: https://cdn.pydata.org/bokeh/release/bokeh-widgets-0.12.10.min.css\");\n",
       "      Bokeh.embed.inject_css(\"https://cdn.pydata.org/bokeh/release/bokeh-widgets-0.12.10.min.css\");\n",
       "      console.log(\"Bokeh: injecting CSS: https://cdn.pydata.org/bokeh/release/bokeh-tables-0.12.10.min.css\");\n",
       "      Bokeh.embed.inject_css(\"https://cdn.pydata.org/bokeh/release/bokeh-tables-0.12.10.min.css\");\n",
       "    }\n",
       "  ];\n",
       "\n",
       "  function run_inline_js() {\n",
       "    \n",
       "    if ((root.Bokeh !== undefined) || (force === true)) {\n",
       "      for (var i = 0; i < inline_js.length; i++) {\n",
       "        inline_js[i].call(root, root.Bokeh);\n",
       "      }if (force === true) {\n",
       "        display_loaded();\n",
       "      }} else if (Date.now() < root._bokeh_timeout) {\n",
       "      setTimeout(run_inline_js, 100);\n",
       "    } else if (!root._bokeh_failed_load) {\n",
       "      console.log(\"Bokeh: BokehJS failed to load within specified timeout.\");\n",
       "      root._bokeh_failed_load = true;\n",
       "    } else if (force !== true) {\n",
       "      var cell = $(document.getElementById(\"a519cc57-55e2-4246-83b5-a69395aa3d53\")).parents('.cell').data().cell;\n",
       "      cell.output_area.append_execute_result(NB_LOAD_WARNING)\n",
       "    }\n",
       "\n",
       "  }\n",
       "\n",
       "  if (root._bokeh_is_loading === 0) {\n",
       "    console.log(\"Bokeh: BokehJS loaded, going straight to plotting\");\n",
       "    run_inline_js();\n",
       "  } else {\n",
       "    load_libs(js_urls, function() {\n",
       "      console.log(\"Bokeh: BokehJS plotting callback run at\", now());\n",
       "      run_inline_js();\n",
       "    });\n",
       "  }\n",
       "}(window));"
      ],
      "application/vnd.bokehjs_load.v0+json": "\n(function(root) {\n  function now() {\n    return new Date();\n  }\n\n  var force = true;\n\n  if (typeof (root._bokeh_onload_callbacks) === \"undefined\" || force === true) {\n    root._bokeh_onload_callbacks = [];\n    root._bokeh_is_loading = undefined;\n  }\n\n  \n\n  \n  if (typeof (root._bokeh_timeout) === \"undefined\" || force === true) {\n    root._bokeh_timeout = Date.now() + 5000;\n    root._bokeh_failed_load = false;\n  }\n\n  var NB_LOAD_WARNING = {'data': {'text/html':\n     \"<div style='background-color: #fdd'>\\n\"+\n     \"<p>\\n\"+\n     \"BokehJS does not appear to have successfully loaded. If loading BokehJS from CDN, this \\n\"+\n     \"may be due to a slow or bad network connection. Possible fixes:\\n\"+\n     \"</p>\\n\"+\n     \"<ul>\\n\"+\n     \"<li>re-rerun `output_notebook()` to attempt to load from CDN again, or</li>\\n\"+\n     \"<li>use INLINE resources instead, as so:</li>\\n\"+\n     \"</ul>\\n\"+\n     \"<code>\\n\"+\n     \"from bokeh.resources import INLINE\\n\"+\n     \"output_notebook(resources=INLINE)\\n\"+\n     \"</code>\\n\"+\n     \"</div>\"}};\n\n  function display_loaded() {\n    var el = document.getElementById(\"a519cc57-55e2-4246-83b5-a69395aa3d53\");\n    if (el != null) {\n      el.textContent = \"BokehJS is loading...\";\n    }\n    if (root.Bokeh !== undefined) {\n      if (el != null) {\n        el.textContent = \"BokehJS \" + root.Bokeh.version + \" successfully loaded.\";\n      }\n    } else if (Date.now() < root._bokeh_timeout) {\n      setTimeout(display_loaded, 100)\n    }\n  }\n\n\n  function run_callbacks() {\n    try {\n      root._bokeh_onload_callbacks.forEach(function(callback) { callback() });\n    }\n    finally {\n      delete root._bokeh_onload_callbacks\n    }\n    console.info(\"Bokeh: all callbacks have finished\");\n  }\n\n  function load_libs(js_urls, callback) {\n    root._bokeh_onload_callbacks.push(callback);\n    if (root._bokeh_is_loading > 0) {\n      console.log(\"Bokeh: BokehJS is being loaded, scheduling callback at\", now());\n      return null;\n    }\n    if (js_urls == null || js_urls.length === 0) {\n      run_callbacks();\n      return null;\n    }\n    console.log(\"Bokeh: BokehJS not loaded, scheduling load and callback at\", now());\n    root._bokeh_is_loading = js_urls.length;\n    for (var i = 0; i < js_urls.length; i++) {\n      var url = js_urls[i];\n      var s = document.createElement('script');\n      s.src = url;\n      s.async = false;\n      s.onreadystatechange = s.onload = function() {\n        root._bokeh_is_loading--;\n        if (root._bokeh_is_loading === 0) {\n          console.log(\"Bokeh: all BokehJS libraries loaded\");\n          run_callbacks()\n        }\n      };\n      s.onerror = function() {\n        console.warn(\"failed to load library \" + url);\n      };\n      console.log(\"Bokeh: injecting script tag for BokehJS library: \", url);\n      document.getElementsByTagName(\"head\")[0].appendChild(s);\n    }\n  };var element = document.getElementById(\"a519cc57-55e2-4246-83b5-a69395aa3d53\");\n  if (element == null) {\n    console.log(\"Bokeh: ERROR: autoload.js configured with elementid 'a519cc57-55e2-4246-83b5-a69395aa3d53' but no matching script tag was found. \")\n    return false;\n  }\n\n  var js_urls = [\"https://cdn.pydata.org/bokeh/release/bokeh-0.12.10.min.js\", \"https://cdn.pydata.org/bokeh/release/bokeh-widgets-0.12.10.min.js\", \"https://cdn.pydata.org/bokeh/release/bokeh-tables-0.12.10.min.js\", \"https://cdn.pydata.org/bokeh/release/bokeh-gl-0.12.10.min.js\"];\n\n  var inline_js = [\n    function(Bokeh) {\n      Bokeh.set_log_level(\"info\");\n    },\n    \n    function(Bokeh) {\n      \n    },\n    function(Bokeh) {\n      console.log(\"Bokeh: injecting CSS: https://cdn.pydata.org/bokeh/release/bokeh-0.12.10.min.css\");\n      Bokeh.embed.inject_css(\"https://cdn.pydata.org/bokeh/release/bokeh-0.12.10.min.css\");\n      console.log(\"Bokeh: injecting CSS: https://cdn.pydata.org/bokeh/release/bokeh-widgets-0.12.10.min.css\");\n      Bokeh.embed.inject_css(\"https://cdn.pydata.org/bokeh/release/bokeh-widgets-0.12.10.min.css\");\n      console.log(\"Bokeh: injecting CSS: https://cdn.pydata.org/bokeh/release/bokeh-tables-0.12.10.min.css\");\n      Bokeh.embed.inject_css(\"https://cdn.pydata.org/bokeh/release/bokeh-tables-0.12.10.min.css\");\n    }\n  ];\n\n  function run_inline_js() {\n    \n    if ((root.Bokeh !== undefined) || (force === true)) {\n      for (var i = 0; i < inline_js.length; i++) {\n        inline_js[i].call(root, root.Bokeh);\n      }if (force === true) {\n        display_loaded();\n      }} else if (Date.now() < root._bokeh_timeout) {\n      setTimeout(run_inline_js, 100);\n    } else if (!root._bokeh_failed_load) {\n      console.log(\"Bokeh: BokehJS failed to load within specified timeout.\");\n      root._bokeh_failed_load = true;\n    } else if (force !== true) {\n      var cell = $(document.getElementById(\"a519cc57-55e2-4246-83b5-a69395aa3d53\")).parents('.cell').data().cell;\n      cell.output_area.append_execute_result(NB_LOAD_WARNING)\n    }\n\n  }\n\n  if (root._bokeh_is_loading === 0) {\n    console.log(\"Bokeh: BokehJS loaded, going straight to plotting\");\n    run_inline_js();\n  } else {\n    load_libs(js_urls, function() {\n      console.log(\"Bokeh: BokehJS plotting callback run at\", now());\n      run_inline_js();\n    });\n  }\n}(window));"
     },
     "metadata": {},
     "output_type": "display_data"
    },
    {
     "data": {
      "text/html": [
       "\n",
       "<div class=\"bk-root\">\n",
       "    <div class=\"bk-plotdiv\" id=\"69041c0e-8dc3-41e2-b06e-8d3ae85c3e7f\"></div>\n",
       "</div>"
      ]
     },
     "metadata": {},
     "output_type": "display_data"
    },
    {
     "data": {
      "application/javascript": [
       "(function(root) {\n",
       "  function embed_document(root) {\n",
       "    var docs_json = {\"e5b2297b-84ea-4b7e-8f9d-82df59999139\":{\"roots\":{\"references\":[{\"attributes\":{\"grid_line_color\":{\"value\":null},\"plot\":{\"id\":\"d8f6e29f-ee0b-4372-aab5-2dddc8c8cb37\",\"subtype\":\"Figure\",\"type\":\"Plot\"},\"ticker\":{\"id\":\"a8efa3f4-b592-4a88-9416-05b3ee15adaa\",\"type\":\"CategoricalTicker\"}},\"id\":\"f62d7c86-ea33-4a56-a35a-ed87f703f790\",\"type\":\"Grid\"},{\"attributes\":{\"callback\":null,\"column_names\":[\"x\",\"y\"],\"data\":{\"x\":[\"AF\",\"IZ\",\"MX\",\"PK\",\"SY\"],\"y\":{\"__ndarray__\":\"YtxXq2AG1j+UI1eTwn3HP9jEoB0adKA/Zd3fu+xd2z+AehNtwcmJPw==\",\"dtype\":\"float64\",\"shape\":[5]}}},\"id\":\"2f7c54ab-092d-492c-be29-d4f7031bf97f\",\"type\":\"ColumnDataSource\"},{\"attributes\":{\"axis_label\":\"Atricles Ratio\",\"formatter\":{\"id\":\"4fda5b67-9503-4fce-834d-e824a87ae9cf\",\"type\":\"BasicTickFormatter\"},\"plot\":{\"id\":\"d8f6e29f-ee0b-4372-aab5-2dddc8c8cb37\",\"subtype\":\"Figure\",\"type\":\"Plot\"},\"ticker\":{\"id\":\"db157466-6ba7-4354-9e03-3a46ed846e26\",\"type\":\"BasicTicker\"}},\"id\":\"1b959c40-d7a9-4aa7-812c-cd54a69b7db5\",\"type\":\"LinearAxis\"},{\"attributes\":{},\"id\":\"2578c1e6-d3cf-4536-8416-d27257924585\",\"type\":\"LinearScale\"},{\"attributes\":{\"source\":{\"id\":\"17c9ac8e-8894-4a1e-9f40-dd1f4d1a6ea5\",\"type\":\"ColumnDataSource\"}},\"id\":\"08006a30-1aa5-4e8d-9152-2c5aaea2d5e0\",\"type\":\"CDSView\"},{\"attributes\":{\"args\":{\"_2000\":{\"id\":\"834309f1-329c-409b-a681-b4804da29d89\",\"type\":\"ColumnDataSource\"},\"_2001\":{\"id\":\"3f4316ee-4837-4d06-a984-36c92800ba57\",\"type\":\"ColumnDataSource\"},\"_2002\":{\"id\":\"2f7c54ab-092d-492c-be29-d4f7031bf97f\",\"type\":\"ColumnDataSource\"},\"_2003\":{\"id\":\"a99b0fb1-c6ac-42c1-8ed3-bdd647b44c0b\",\"type\":\"ColumnDataSource\"},\"_2004\":{\"id\":\"0a3d392b-9a6a-4782-991d-063dfebae8d0\",\"type\":\"ColumnDataSource\"},\"_2005\":{\"id\":\"dcca06a4-ccba-49e4-937f-08adc1cdedaf\",\"type\":\"ColumnDataSource\"},\"_2006\":{\"id\":\"6fb6ef4b-e508-46b4-b3f7-6424f73ec13e\",\"type\":\"ColumnDataSource\"},\"_2007\":{\"id\":\"72baf747-f3cd-4bf0-95fc-90e94eacaf08\",\"type\":\"ColumnDataSource\"},\"_2008\":{\"id\":\"fc5e31e3-f801-4076-9a16-48c5d5a81836\",\"type\":\"ColumnDataSource\"},\"_2009\":{\"id\":\"9b86e030-7ba4-4ed7-bf5d-e6b88eb689c2\",\"type\":\"ColumnDataSource\"},\"_2010\":{\"id\":\"9cd816c5-7807-4cec-a824-81f1ede7ca30\",\"type\":\"ColumnDataSource\"},\"_2011\":{\"id\":\"70ddcd46-b7f6-443a-b06b-e2a62c27762a\",\"type\":\"ColumnDataSource\"},\"_2012\":{\"id\":\"5656dfdc-100a-4a20-af3d-941b20fc821b\",\"type\":\"ColumnDataSource\"},\"_2013\":{\"id\":\"8dab528e-d6a9-403c-8579-9eae328d32cc\",\"type\":\"ColumnDataSource\"},\"_2014\":{\"id\":\"87ce5b82-4595-4245-b865-abef17c5e99d\",\"type\":\"ColumnDataSource\"},\"_2015\":{\"id\":\"e2a432cf-b62a-4f0f-938c-7fcfa181f02e\",\"type\":\"ColumnDataSource\"},\"_2016\":{\"id\":\"825a3aee-9939-4b26-a5df-257aba673487\",\"type\":\"ColumnDataSource\"},\"renderer_source\":{\"id\":\"834309f1-329c-409b-a681-b4804da29d89\",\"type\":\"ColumnDataSource\"},\"text_source\":{\"id\":\"17c9ac8e-8894-4a1e-9f40-dd1f4d1a6ea5\",\"type\":\"ColumnDataSource\"},\"year_slider\":{\"id\":\"03ec3818-40a0-48d8-8534-1ee74bd337f8\",\"type\":\"Slider\"}},\"code\":\"\\n    var year = year_slider.get('value'),\\n        sources = {2000: _2000, 2001: _2001, 2002: _2002, 2003: _2003, 2004: _2004, 2005: _2005, 2006: _2006, 2007: _2007, 2008: _2008, 2009: _2009, 2010: _2010, 2011: _2011, 2012: _2012, 2013: _2013, 2014: _2014, 2015: _2015, 2016: _2016},\\n        new_source_data = sources[year].get('data');\\n    renderer_source.set('data', new_source_data);\\n    text_source.set('data', {'year': [String(year)]});\\n\"},\"id\":\"0251936a-39ab-4bf3-a82c-796c825e139e\",\"type\":\"CustomJS\"},{\"attributes\":{\"callback\":null,\"column_names\":[\"x\",\"y\"],\"data\":{\"x\":[\"AF\",\"IZ\",\"MX\",\"PK\",\"SY\"],\"y\":{\"__ndarray__\":\"RVwNx9Qezj/KiWsyJk26P3uNkry92ak/GgsYszLpxD8vGMD+eq3cPw==\",\"dtype\":\"float64\",\"shape\":[5]}}},\"id\":\"5656dfdc-100a-4a20-af3d-941b20fc821b\",\"type\":\"ColumnDataSource\"},{\"attributes\":{\"children\":[{\"id\":\"03ec3818-40a0-48d8-8534-1ee74bd337f8\",\"type\":\"Slider\"}]},\"id\":\"0c7d92d6-cd73-4528-a07f-8ebd38b00d62\",\"type\":\"WidgetBox\"},{\"attributes\":{\"callback\":null,\"factors\":[\"AF\",\"IZ\",\"MX\",\"PK\",\"SY\"]},\"id\":\"193f4da0-aa47-4d67-8e13-0c8749c959dc\",\"type\":\"FactorRange\"},{\"attributes\":{\"callback\":{\"id\":\"0251936a-39ab-4bf3-a82c-796c825e139e\",\"type\":\"CustomJS\"},\"end\":2016,\"start\":2000,\"title\":\"Year\",\"value\":2000},\"id\":\"03ec3818-40a0-48d8-8534-1ee74bd337f8\",\"type\":\"Slider\"},{\"attributes\":{\"callback\":null,\"column_names\":[\"x\",\"y\"],\"data\":{\"x\":[\"AF\",\"IZ\",\"MX\",\"PK\",\"SY\"],\"y\":{\"__ndarray__\":\"27v568SVyj+LIiPZ9WTjP7ObQOu5hpA/22GK1Q+kwz9FJTrk5AuRPw==\",\"dtype\":\"float64\",\"shape\":[5]}}},\"id\":\"a99b0fb1-c6ac-42c1-8ed3-bdd647b44c0b\",\"type\":\"ColumnDataSource\"},{\"attributes\":{\"active_drag\":\"auto\",\"active_inspect\":\"auto\",\"active_scroll\":\"auto\",\"active_tap\":\"auto\"},\"id\":\"79b0c855-18c6-41c5-aa4f-20300fb11be6\",\"type\":\"Toolbar\"},{\"attributes\":{},\"id\":\"1b89fe54-ef4c-48cd-badd-23e54dff6578\",\"type\":\"CategoricalTickFormatter\"},{\"attributes\":{\"data_source\":{\"id\":\"834309f1-329c-409b-a681-b4804da29d89\",\"type\":\"ColumnDataSource\"},\"glyph\":{\"id\":\"d79647da-9de7-4be3-a9f1-69a3c3a970cc\",\"type\":\"VBar\"},\"hover_glyph\":null,\"muted_glyph\":null,\"view\":{\"id\":\"e1c9b53d-ed6b-49c3-8c66-3d1ea7b15503\",\"type\":\"CDSView\"}},\"id\":\"691f765f-c121-4229-b25d-3153b64c6d8a\",\"type\":\"GlyphRenderer\"},{\"attributes\":{\"callback\":null,\"column_names\":[\"x\",\"y\"],\"data\":{\"x\":[\"AF\",\"IZ\",\"MX\",\"PK\",\"SY\"],\"y\":{\"__ndarray__\":\"528dQqjYwz9wPcOAQ7TLP0SgIbk0sKY/pJJGxKfgzT/6K0ilL3PWPw==\",\"dtype\":\"float64\",\"shape\":[5]}}},\"id\":\"8dab528e-d6a9-403c-8579-9eae328d32cc\",\"type\":\"ColumnDataSource\"},{\"attributes\":{\"callback\":null,\"column_names\":[\"year\"],\"data\":{\"year\":[\"2000\"]}},\"id\":\"17c9ac8e-8894-4a1e-9f40-dd1f4d1a6ea5\",\"type\":\"ColumnDataSource\"},{\"attributes\":{\"axis_label\":\"Country\",\"formatter\":{\"id\":\"1b89fe54-ef4c-48cd-badd-23e54dff6578\",\"type\":\"CategoricalTickFormatter\"},\"plot\":{\"id\":\"d8f6e29f-ee0b-4372-aab5-2dddc8c8cb37\",\"subtype\":\"Figure\",\"type\":\"Plot\"},\"ticker\":{\"id\":\"a8efa3f4-b592-4a88-9416-05b3ee15adaa\",\"type\":\"CategoricalTicker\"}},\"id\":\"f2968ce6-e157-4a82-8c19-9b02277cddaa\",\"type\":\"CategoricalAxis\"},{\"attributes\":{},\"id\":\"4fda5b67-9503-4fce-834d-e824a87ae9cf\",\"type\":\"BasicTickFormatter\"},{\"attributes\":{\"callback\":null,\"column_names\":[\"x\",\"y\"],\"data\":{\"x\":[\"AF\",\"IZ\",\"MX\",\"PK\",\"SY\"],\"y\":{\"__ndarray__\":\"exvARXs1wz/P3eto0gbmP+gyKc87kos/1Av8hzDCwD8ocg6NNp+RPw==\",\"dtype\":\"float64\",\"shape\":[5]}}},\"id\":\"0a3d392b-9a6a-4782-991d-063dfebae8d0\",\"type\":\"ColumnDataSource\"},{\"attributes\":{\"children\":[{\"id\":\"d8f6e29f-ee0b-4372-aab5-2dddc8c8cb37\",\"subtype\":\"Figure\",\"type\":\"Plot\"},{\"id\":\"0c7d92d6-cd73-4528-a07f-8ebd38b00d62\",\"type\":\"WidgetBox\"}]},\"id\":\"259abea8-5652-4ae6-80b8-8be976109bf4\",\"type\":\"Column\"},{\"attributes\":{\"callback\":null,\"column_names\":[\"x\",\"y\"],\"data\":{\"x\":[\"AF\",\"IZ\",\"MX\",\"PK\",\"SY\"],\"y\":{\"__ndarray__\":\"+bo263Bhyj+dzati5vvHP3SPlTmm9Lc/m35kbFRr3T/oySbyskarPw==\",\"dtype\":\"float64\",\"shape\":[5]}}},\"id\":\"834309f1-329c-409b-a681-b4804da29d89\",\"type\":\"ColumnDataSource\"},{\"attributes\":{\"callback\":null,\"column_names\":[\"x\",\"y\"],\"data\":{\"x\":[\"AF\",\"IZ\",\"MX\",\"PK\",\"SY\"],\"y\":{\"__ndarray__\":\"iKLo0nFZxD9fP0EKAKfTP8/DFsP8yKY/iW+5sADWyj8f34obJ+jRPw==\",\"dtype\":\"float64\",\"shape\":[5]}}},\"id\":\"87ce5b82-4595-4245-b865-abef17c5e99d\",\"type\":\"ColumnDataSource\"},{\"attributes\":{\"callback\":null,\"column_names\":[\"x\",\"y\"],\"data\":{\"x\":[\"AF\",\"IZ\",\"MX\",\"PK\",\"SY\"],\"y\":{\"__ndarray__\":\"z37w7hFQxT+uIzRsv8rkP1jlqNsytqA/MVRw1RCLuj8mPHL6bEeoPw==\",\"dtype\":\"float64\",\"shape\":[5]}}},\"id\":\"dcca06a4-ccba-49e4-937f-08adc1cdedaf\",\"type\":\"ColumnDataSource\"},{\"attributes\":{\"dimension\":1,\"grid_line_color\":{\"value\":null},\"plot\":{\"id\":\"d8f6e29f-ee0b-4372-aab5-2dddc8c8cb37\",\"subtype\":\"Figure\",\"type\":\"Plot\"},\"ticker\":{\"id\":\"db157466-6ba7-4354-9e03-3a46ed846e26\",\"type\":\"BasicTicker\"}},\"id\":\"47df34ee-9049-49f4-888a-44ce8a3c82f4\",\"type\":\"Grid\"},{\"attributes\":{\"callback\":null,\"column_names\":[\"x\",\"y\"],\"data\":{\"x\":[\"AF\",\"IZ\",\"MX\",\"PK\",\"SY\"],\"y\":{\"__ndarray__\":\"Cf4SQW91yT8O51fclcPNPzsYuY6Qv6w/KuTWRFErxz9Y+Ae94jXVPw==\",\"dtype\":\"float64\",\"shape\":[5]}}},\"id\":\"e2a432cf-b62a-4f0f-938c-7fcfa181f02e\",\"type\":\"ColumnDataSource\"},{\"attributes\":{\"callback\":null,\"column_names\":[\"x\",\"y\"],\"data\":{\"x\":[\"AF\",\"IZ\",\"MX\",\"PK\",\"SY\"],\"y\":{\"__ndarray__\":\"DuBklLqm0D8pNt0J//3hPwpAU6ZBd5Y/vzkPpFeNwD/1Kz63dvKaPw==\",\"dtype\":\"float64\",\"shape\":[5]}}},\"id\":\"6fb6ef4b-e508-46b4-b3f7-6424f73ec13e\",\"type\":\"ColumnDataSource\"},{\"attributes\":{},\"id\":\"a8efa3f4-b592-4a88-9416-05b3ee15adaa\",\"type\":\"CategoricalTicker\"},{\"attributes\":{\"callback\":null,\"column_names\":[\"x\",\"y\"],\"data\":{\"x\":[\"AF\",\"IZ\",\"MX\",\"PK\",\"SY\"],\"y\":{\"__ndarray__\":\"ocWo9CoCxj+pUFq4KCfPP2qvCozZtaw/IZWZt1ZjxT9dVDCc7yLXPw==\",\"dtype\":\"float64\",\"shape\":[5]}}},\"id\":\"825a3aee-9939-4b26-a5df-257aba673487\",\"type\":\"ColumnDataSource\"},{\"attributes\":{\"source\":{\"id\":\"834309f1-329c-409b-a681-b4804da29d89\",\"type\":\"ColumnDataSource\"}},\"id\":\"e1c9b53d-ed6b-49c3-8c66-3d1ea7b15503\",\"type\":\"CDSView\"},{\"attributes\":{},\"id\":\"db157466-6ba7-4354-9e03-3a46ed846e26\",\"type\":\"BasicTicker\"},{\"attributes\":{\"callback\":null,\"column_names\":[\"x\",\"y\"],\"data\":{\"x\":[\"AF\",\"IZ\",\"MX\",\"PK\",\"SY\"],\"y\":{\"__ndarray__\":\"IgmIGj7m0D9F+f9D3pXeP9XwfxdADpQ/bcnh3zYBzD9NnfEAQyaUPw==\",\"dtype\":\"float64\",\"shape\":[5]}}},\"id\":\"72baf747-f3cd-4bf0-95fc-90e94eacaf08\",\"type\":\"ColumnDataSource\"},{\"attributes\":{\"data_source\":{\"id\":\"17c9ac8e-8894-4a1e-9f40-dd1f4d1a6ea5\",\"type\":\"ColumnDataSource\"},\"glyph\":{\"id\":\"11dc73a3-d30f-4c6c-8931-e8a7e2b76bd0\",\"type\":\"Text\"},\"hover_glyph\":null,\"muted_glyph\":null,\"view\":{\"id\":\"08006a30-1aa5-4e8d-9152-2c5aaea2d5e0\",\"type\":\"CDSView\"}},\"id\":\"26f22243-4155-47a2-8292-a26dee96823a\",\"type\":\"GlyphRenderer\"},{\"attributes\":{\"text\":{\"field\":\"year\"},\"text_color\":{\"value\":\"#EEEEEE\"},\"text_font_size\":{\"value\":\"50pt\"},\"x\":{\"value\":2},\"y\":{\"value\":0.5}},\"id\":\"11dc73a3-d30f-4c6c-8931-e8a7e2b76bd0\",\"type\":\"Text\"},{\"attributes\":{\"callback\":null,\"column_names\":[\"x\",\"y\"],\"data\":{\"x\":[\"AF\",\"IZ\",\"MX\",\"PK\",\"SY\"],\"y\":{\"__ndarray__\":\"1rRTGbop0z/F6Dk16AfVP009ZKVhaKc/bYIRVehL0z/rhEV7klaZPw==\",\"dtype\":\"float64\",\"shape\":[5]}}},\"id\":\"fc5e31e3-f801-4076-9a16-48c5d5a81836\",\"type\":\"ColumnDataSource\"},{\"attributes\":{\"callback\":null,\"end\":1,\"start\":0.0},\"id\":\"034ecf0c-869e-4465-8d2b-f448f5fceb69\",\"type\":\"DataRange1d\"},{\"attributes\":{\"below\":[{\"id\":\"f2968ce6-e157-4a82-8c19-9b02277cddaa\",\"type\":\"CategoricalAxis\"}],\"left\":[{\"id\":\"1b959c40-d7a9-4aa7-812c-cd54a69b7db5\",\"type\":\"LinearAxis\"}],\"plot_height\":350,\"renderers\":[{\"id\":\"f2968ce6-e157-4a82-8c19-9b02277cddaa\",\"type\":\"CategoricalAxis\"},{\"id\":\"f62d7c86-ea33-4a56-a35a-ed87f703f790\",\"type\":\"Grid\"},{\"id\":\"1b959c40-d7a9-4aa7-812c-cd54a69b7db5\",\"type\":\"LinearAxis\"},{\"id\":\"47df34ee-9049-49f4-888a-44ce8a3c82f4\",\"type\":\"Grid\"},{\"id\":\"691f765f-c121-4229-b25d-3153b64c6d8a\",\"type\":\"GlyphRenderer\"},{\"id\":\"26f22243-4155-47a2-8292-a26dee96823a\",\"type\":\"GlyphRenderer\"}],\"title\":{\"id\":\"1fe29db0-f50d-4cb1-bafa-bda5a20ca08b\",\"type\":\"Title\"},\"toolbar\":{\"id\":\"79b0c855-18c6-41c5-aa4f-20300fb11be6\",\"type\":\"Toolbar\"},\"toolbar_location\":null,\"x_range\":{\"id\":\"193f4da0-aa47-4d67-8e13-0c8749c959dc\",\"type\":\"FactorRange\"},\"x_scale\":{\"id\":\"3641cf8a-2ccb-478a-b16a-f4b3b747b2a2\",\"type\":\"CategoricalScale\"},\"y_range\":{\"id\":\"034ecf0c-869e-4465-8d2b-f448f5fceb69\",\"type\":\"DataRange1d\"},\"y_scale\":{\"id\":\"2578c1e6-d3cf-4536-8416-d27257924585\",\"type\":\"LinearScale\"}},\"id\":\"d8f6e29f-ee0b-4372-aab5-2dddc8c8cb37\",\"subtype\":\"Figure\",\"type\":\"Plot\"},{\"attributes\":{},\"id\":\"3641cf8a-2ccb-478a-b16a-f4b3b747b2a2\",\"type\":\"CategoricalScale\"},{\"attributes\":{\"callback\":null,\"column_names\":[\"x\",\"y\"],\"data\":{\"x\":[\"AF\",\"IZ\",\"MX\",\"PK\",\"SY\"],\"y\":{\"__ndarray__\":\"Fh70Ow1a1T+A2+q8vsvGP/ecsk2ZYq0/u0p9mBkH2z/zuVps1JSBPw==\",\"dtype\":\"float64\",\"shape\":[5]}}},\"id\":\"9b86e030-7ba4-4ed7-bf5d-e6b88eb689c2\",\"type\":\"ColumnDataSource\"},{\"attributes\":{\"callback\":null,\"column_names\":[\"x\",\"y\"],\"data\":{\"x\":[\"AF\",\"IZ\",\"MX\",\"PK\",\"SY\"],\"y\":{\"__ndarray__\":\"PGV9LCcV2T8oL13tqqbHP74g6Q06ysA/MO65IbZF0j9qKGEJDSx7Pw==\",\"dtype\":\"float64\",\"shape\":[5]}}},\"id\":\"9cd816c5-7807-4cec-a824-81f1ede7ca30\",\"type\":\"ColumnDataSource\"},{\"attributes\":{\"fill_color\":{\"value\":\"#3288bd\"},\"top\":{\"field\":\"y\"},\"width\":{\"value\":0.5},\"x\":{\"field\":\"x\"}},\"id\":\"d79647da-9de7-4be3-a9f1-69a3c3a970cc\",\"type\":\"VBar\"},{\"attributes\":{\"callback\":null,\"column_names\":[\"x\",\"y\"],\"data\":{\"x\":[\"AF\",\"IZ\",\"MX\",\"PK\",\"SY\"],\"y\":{\"__ndarray__\":\"xNE1tCo04D9BEk2I5EHAP8NN29IA7aA/9bgm1+Bq0z+mCrseduOePw==\",\"dtype\":\"float64\",\"shape\":[5]}}},\"id\":\"3f4316ee-4837-4d06-a984-36c92800ba57\",\"type\":\"ColumnDataSource\"},{\"attributes\":{\"callback\":null,\"column_names\":[\"x\",\"y\"],\"data\":{\"x\":[\"AF\",\"IZ\",\"MX\",\"PK\",\"SY\"],\"y\":{\"__ndarray__\":\"cfWdAjNp1j8INc2/NvzBPxqOc1mZ6rM/N7E2SleSzj/TZwZEv6nIPw==\",\"dtype\":\"float64\",\"shape\":[5]}}},\"id\":\"70ddcd46-b7f6-443a-b06b-e2a62c27762a\",\"type\":\"ColumnDataSource\"},{\"attributes\":{\"plot\":null,\"text\":\"The Proportion Of Articles Per Year and Per Country\"},\"id\":\"1fe29db0-f50d-4cb1-bafa-bda5a20ca08b\",\"type\":\"Title\"}],\"root_ids\":[\"259abea8-5652-4ae6-80b8-8be976109bf4\"]},\"title\":\"Bokeh Application\",\"version\":\"0.12.10\"}};\n",
       "    var render_items = [{\"docid\":\"e5b2297b-84ea-4b7e-8f9d-82df59999139\",\"elementid\":\"69041c0e-8dc3-41e2-b06e-8d3ae85c3e7f\",\"modelid\":\"259abea8-5652-4ae6-80b8-8be976109bf4\"}];\n",
       "\n",
       "    root.Bokeh.embed.embed_items(docs_json, render_items);\n",
       "  }\n",
       "\n",
       "  if (root.Bokeh !== undefined) {\n",
       "    embed_document(root);\n",
       "  } else {\n",
       "    var attempts = 0;\n",
       "    var timer = setInterval(function(root) {\n",
       "      if (root.Bokeh !== undefined) {\n",
       "        embed_document(root);\n",
       "        clearInterval(timer);\n",
       "      }\n",
       "      attempts++;\n",
       "      if (attempts > 100) {\n",
       "        console.log(\"Bokeh: ERROR: Unable to embed document because BokehJS library is missing\")\n",
       "        clearInterval(timer);\n",
       "      }\n",
       "    }, 10, root)\n",
       "  }\n",
       "})(window);"
      ],
      "application/vnd.bokehjs_exec.v0+json": ""
     },
     "metadata": {
      "application/vnd.bokehjs_exec.v0+json": {
       "id": "259abea8-5652-4ae6-80b8-8be976109bf4"
      }
     },
     "output_type": "display_data"
    }
   ],
   "source": [
    "\n",
    "\n",
    "output_notebook()\n",
    "title = r\"The Proportion Of Articles Per Year and Per Country\"\n",
    "\n",
    "sources = {}\n",
    "for y in years:\n",
    "    y_str = \"_\"+str(y)\n",
    "\n",
    "    sources[y_str] = ColumnDataSource(data=dict(x=years_dict[y_str]['Country'], y = years_dict[y_str]['Ratio']))\n",
    "    \n",
    "    \n",
    "dict_of_sources = dict(zip(\n",
    "                      [x for x in years],\n",
    "                      ['_%s' % x for x in years])\n",
    "                      )\n",
    "\n",
    "js_source_array = str(dict_of_sources).replace(\"'\", \"\")\n",
    "\n",
    "\n",
    "\n",
    "plot = figure(x_range=FactorRange(*years_dict[y_str]['Country']),y_range=DataRange1d(start=0.0, end=1), plot_height=350,\n",
    "              toolbar_location=None, tools=\"\",title = title )\n",
    "\n",
    "\n",
    "plot.xaxis.axis_label = 'Country'\n",
    "plot.yaxis.axis_label = 'Atricles Ratio'\n",
    "plot.xgrid.grid_line_color = None\n",
    "plot.ygrid.grid_line_color = None\n",
    "\n",
    "\n",
    "\n",
    "code = \"\"\"\n",
    "    var year = year_slider.get('value'),\n",
    "        sources = %s,\n",
    "        new_source_data = sources[year].get('data');\n",
    "    renderer_source.set('data', new_source_data);\n",
    "    text_source.set('data', {'year': [String(year)]});\n",
    "\"\"\" % js_source_array\n",
    "\n",
    "#Callback\n",
    "callback = CustomJS(args=sources, code=code)\n",
    "# Add the bars\n",
    "renderer_source = sources['_%s' % years[0]]\n",
    "\n",
    "bar_glyph = VBar(x=\"x\", top=\"y\", bottom=0, width=0.5, fill_color='#3288bd')\n",
    "\n",
    "\n",
    "\n",
    "bar_renderer = plot.add_glyph(renderer_source, bar_glyph)\n",
    "\n",
    "\n",
    "# add background text\n",
    "text_source = ColumnDataSource({'year': ['%s' % years[0]]})\n",
    "text        = Text(\n",
    "                  x=2, y=0.5, text='year',\n",
    "                  text_font_size='50pt',\n",
    "                  text_color='#EEEEEE'\n",
    "                  )\n",
    "plot.add_glyph(text_source, text)\n",
    "\n",
    "\n",
    "\n",
    "year_slider = Slider(start=years[0], end=years[-1],value=years[0] ,step=1,\n",
    "                    title=\"Year\", callback=callback)\n",
    "callback.args[\"year_slider\"] = year_slider\n",
    "callback.args[\"text_source\"] = text_source\n",
    "callback.args[\"renderer_source\"] = renderer_source\n",
    "\n",
    "\n",
    "layout = column(\n",
    "    plot,\n",
    "    widgetbox(year_slider))#,sizing_mode='scale_width')\n",
    "\n",
    "\n",
    "show(layout)"
   ]
  },
  {
   "cell_type": "markdown",
   "metadata": {
    "collapsed": true
   },
   "source": [
    "source : https://rebeccabilbro.github.io/interactive-viz-bokeh/"
   ]
  }
 ],
 "metadata": {
  "kernelspec": {
   "display_name": "Python 3",
   "language": "python",
   "name": "python3"
  },
  "language_info": {
   "codemirror_mode": {
    "name": "ipython",
    "version": 3
   },
   "file_extension": ".py",
   "mimetype": "text/x-python",
   "name": "python",
   "nbconvert_exporter": "python",
   "pygments_lexer": "ipython3",
   "version": "3.6.3"
  }
 },
 "nbformat": 4,
 "nbformat_minor": 2
}
