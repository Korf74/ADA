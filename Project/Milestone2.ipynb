{
 "cells": [
  {
   "cell_type": "code",
   "execution_count": 5,
   "metadata": {
    "collapsed": true
   },
   "outputs": [],
   "source": [
    "import pandas as pd\n",
    "import pyarrow.parquet as pq\n",
    "%matplotlib inline\n",
    "import matplotlib\n",
    "import matplotlib.pyplot as plt\n",
    "from tqdm import tqdm\n",
    "import seaborn as sbs"
   ]
  },
  {
   "cell_type": "markdown",
   "metadata": {},
   "source": [
    "# Introduction\n",
    "\n",
    "We aim to extract meaningful data from the GDELT 2.0 dataset. \n",
    "\n",
    "We want to analyse the media coverage of violent events in some specific countries (Afghanistan, Syria, Iraq, Pakistan and Mexico) over the years 2000 to 2016.\n",
    "\n",
    "We used :\n",
    "\n",
    "* *ActionGeo_CountryName*, the 2-character FIPS10-4 country code for the location of the events to get the countries.\n",
    "* [*EventRootCode*](http://data.gdeltproject.org/documentation/CAMEO.Manual.1.1b3.pdf) 18, 19 and 20 that correspond to the most violent events in the documentation.\n",
    "* *MonthYear* to have the date (in month and year) of each event\n",
    "* *Events* that we got from our SQL query as being the number of events per month\n",
    "* *Articles* from our SQL query as well, being the number of Articles per month\n",
    "\n",
    "We chose to extract data from the [**UCDP**](http://ucdp.uu.se/) dataset, we kept only our featured countries and the best estimation given for the number of deaths per year."
   ]
  },
  {
   "cell_type": "markdown",
   "metadata": {},
   "source": [
    "## Processing of the UCDP dataset"
   ]
  },
  {
   "cell_type": "code",
   "execution_count": 6,
   "metadata": {
    "collapsed": true
   },
   "outputs": [],
   "source": [
    "# Getting deaths datasets (UCDP)\n",
    "\n",
    "deaths = pd.read_csv('ged171.csv')\n",
    "deaths = deaths[(deaths['year'] >= 2000) & (deaths['year'] <= 2016)]\n",
    "deaths = deaths[['year', 'country', 'best']]\n",
    "deaths.columns = ['Date', 'Country', 'Deaths']"
   ]
  },
  {
   "cell_type": "markdown",
   "metadata": {},
   "source": [
    "Create one dataframe per country:"
   ]
  },
  {
   "cell_type": "code",
   "execution_count": 7,
   "metadata": {
    "collapsed": true
   },
   "outputs": [],
   "source": [
    "def deaths_country(_df, country_name):\n",
    "    x = _df[_df['Country'] == country_name].drop('Country', axis=1).groupby('Date').sum().reset_index()\n",
    "    if(country_name == 'Mexico'):\n",
    "        # We need to artificially add some rows for mexico due to missing (no deaths) data these years\n",
    "        x = x.append(pd.DataFrame([[2003, 0], [2000, 0], [2001, 0]], columns=['Date', 'Deaths'])).sort_values('Date')\n",
    "    x['Deaths'] = x['Deaths']\n",
    "    return x.set_index('Date')"
   ]
  },
  {
   "cell_type": "code",
   "execution_count": 8,
   "metadata": {},
   "outputs": [
    {
     "data": {
      "text/html": [
       "<div>\n",
       "<style>\n",
       "    .dataframe thead tr:only-child th {\n",
       "        text-align: right;\n",
       "    }\n",
       "\n",
       "    .dataframe thead th {\n",
       "        text-align: left;\n",
       "    }\n",
       "\n",
       "    .dataframe tbody tr th {\n",
       "        vertical-align: top;\n",
       "    }\n",
       "</style>\n",
       "<table border=\"1\" class=\"dataframe\">\n",
       "  <thead>\n",
       "    <tr style=\"text-align: right;\">\n",
       "      <th></th>\n",
       "      <th>Deaths</th>\n",
       "    </tr>\n",
       "    <tr>\n",
       "      <th>Date</th>\n",
       "      <th></th>\n",
       "    </tr>\n",
       "  </thead>\n",
       "  <tbody>\n",
       "    <tr>\n",
       "      <th>2000</th>\n",
       "      <td>185</td>\n",
       "    </tr>\n",
       "    <tr>\n",
       "      <th>2001</th>\n",
       "      <td>27</td>\n",
       "    </tr>\n",
       "    <tr>\n",
       "      <th>2002</th>\n",
       "      <td>111</td>\n",
       "    </tr>\n",
       "    <tr>\n",
       "      <th>2003</th>\n",
       "      <td>7999</td>\n",
       "    </tr>\n",
       "    <tr>\n",
       "      <th>2004</th>\n",
       "      <td>4365</td>\n",
       "    </tr>\n",
       "  </tbody>\n",
       "</table>\n",
       "</div>"
      ],
      "text/plain": [
       "      Deaths\n",
       "Date        \n",
       "2000     185\n",
       "2001      27\n",
       "2002     111\n",
       "2003    7999\n",
       "2004    4365"
      ]
     },
     "execution_count": 8,
     "metadata": {},
     "output_type": "execute_result"
    }
   ],
   "source": [
    "deaths_irq = deaths_country(deaths, 'Iraq')\n",
    "deaths_afg = deaths_country(deaths, 'Afghanistan')\n",
    "deaths_mex = deaths_country(deaths, 'Mexico')\n",
    "deaths_pak = deaths_country(deaths, 'Pakistan')\n",
    "\n",
    "deaths_irq.head()"
   ]
  },
  {
   "cell_type": "markdown",
   "metadata": {},
   "source": [
    "## Processing of our aggregation of the GDELT dataset"
   ]
  },
  {
   "cell_type": "markdown",
   "metadata": {},
   "source": [
    "We first tried to get the data from the cluseter but the dataset present on it was a subset of GDELT. Therefore most of the features were missing. To get the location of an event we used at first \"Source\" and \"Target\" field that matched the country we were intrested in. But those entries were not consistent.\n",
    "The full dataset was supposed to have an ActionGeo_Country code which represent the county were the event took place. We were also supposed to have access to features like \"MonthYear\", \"EventRootCode\",...\n",
    "\n",
    "For all those reasons we decided to stop using the cluster and make our query on the full GDELT dataset using the [Google Big Query](https://bigquery.cloud.google.com/table/gdelt-bq:gdeltv2.events)\n",
    "\n",
    "The sql queries can be found on the repository"
   ]
  },
  {
   "cell_type": "code",
   "execution_count": 9,
   "metadata": {
    "collapsed": true
   },
   "outputs": [],
   "source": [
    "# Getting the aggregate dataset from our GDELT query (2000-2016)\n",
    "\n",
    "df = pd.read_csv('big_query_2000_2016.csv')\n",
    "df.columns = ['Country', 'Date', 'EventCode', 'Events', 'Articles']"
   ]
  },
  {
   "cell_type": "markdown",
   "metadata": {},
   "source": [
    "The data that we get out of our query is the number of Event and the number of Articles aggregated per country, MonthYear and EventCode.\n",
    "Aggregating the data this way enables us to work on a consise dataset(compared to the original enormous GDELT). However we still keep the different event code and month data separated for further analysis."
   ]
  },
  {
   "cell_type": "code",
   "execution_count": 10,
   "metadata": {},
   "outputs": [
    {
     "data": {
      "text/html": [
       "<div>\n",
       "<style>\n",
       "    .dataframe thead tr:only-child th {\n",
       "        text-align: right;\n",
       "    }\n",
       "\n",
       "    .dataframe thead th {\n",
       "        text-align: left;\n",
       "    }\n",
       "\n",
       "    .dataframe tbody tr th {\n",
       "        vertical-align: top;\n",
       "    }\n",
       "</style>\n",
       "<table border=\"1\" class=\"dataframe\">\n",
       "  <thead>\n",
       "    <tr style=\"text-align: right;\">\n",
       "      <th></th>\n",
       "      <th>Country</th>\n",
       "      <th>Date</th>\n",
       "      <th>EventCode</th>\n",
       "      <th>Events</th>\n",
       "      <th>Articles</th>\n",
       "    </tr>\n",
       "  </thead>\n",
       "  <tbody>\n",
       "    <tr>\n",
       "      <th>0</th>\n",
       "      <td>SY</td>\n",
       "      <td>201609</td>\n",
       "      <td>19</td>\n",
       "      <td>26118</td>\n",
       "      <td>558078</td>\n",
       "    </tr>\n",
       "    <tr>\n",
       "      <th>1</th>\n",
       "      <td>SY</td>\n",
       "      <td>201608</td>\n",
       "      <td>19</td>\n",
       "      <td>23797</td>\n",
       "      <td>513882</td>\n",
       "    </tr>\n",
       "    <tr>\n",
       "      <th>2</th>\n",
       "      <td>SY</td>\n",
       "      <td>201602</td>\n",
       "      <td>19</td>\n",
       "      <td>27567</td>\n",
       "      <td>483618</td>\n",
       "    </tr>\n",
       "    <tr>\n",
       "      <th>3</th>\n",
       "      <td>SY</td>\n",
       "      <td>201510</td>\n",
       "      <td>19</td>\n",
       "      <td>27216</td>\n",
       "      <td>469990</td>\n",
       "    </tr>\n",
       "    <tr>\n",
       "      <th>4</th>\n",
       "      <td>SY</td>\n",
       "      <td>201612</td>\n",
       "      <td>19</td>\n",
       "      <td>22474</td>\n",
       "      <td>468685</td>\n",
       "    </tr>\n",
       "  </tbody>\n",
       "</table>\n",
       "</div>"
      ],
      "text/plain": [
       "  Country    Date  EventCode  Events  Articles\n",
       "0      SY  201609         19   26118    558078\n",
       "1      SY  201608         19   23797    513882\n",
       "2      SY  201602         19   27567    483618\n",
       "3      SY  201510         19   27216    469990\n",
       "4      SY  201612         19   22474    468685"
      ]
     },
     "execution_count": 10,
     "metadata": {},
     "output_type": "execute_result"
    }
   ],
   "source": [
    "df.head()"
   ]
  },
  {
   "cell_type": "code",
   "execution_count": 11,
   "metadata": {
    "collapsed": true
   },
   "outputs": [],
   "source": [
    "def df_country(_df, country):\n",
    "    return _df[_df.Country == country].drop('Country', axis=1).set_index(['Date'])"
   ]
  },
  {
   "cell_type": "markdown",
   "metadata": {},
   "source": [
    "DataFrame with merged event code:"
   ]
  },
  {
   "cell_type": "code",
   "execution_count": 12,
   "metadata": {},
   "outputs": [
    {
     "data": {
      "text/html": [
       "<div>\n",
       "<style>\n",
       "    .dataframe thead tr:only-child th {\n",
       "        text-align: right;\n",
       "    }\n",
       "\n",
       "    .dataframe thead th {\n",
       "        text-align: left;\n",
       "    }\n",
       "\n",
       "    .dataframe tbody tr th {\n",
       "        vertical-align: top;\n",
       "    }\n",
       "</style>\n",
       "<table border=\"1\" class=\"dataframe\">\n",
       "  <thead>\n",
       "    <tr style=\"text-align: right;\">\n",
       "      <th></th>\n",
       "      <th>Date</th>\n",
       "      <th>Country</th>\n",
       "      <th>Events</th>\n",
       "      <th>Articles</th>\n",
       "    </tr>\n",
       "  </thead>\n",
       "  <tbody>\n",
       "    <tr>\n",
       "      <th>0</th>\n",
       "      <td>200001</td>\n",
       "      <td>AF</td>\n",
       "      <td>198</td>\n",
       "      <td>919</td>\n",
       "    </tr>\n",
       "    <tr>\n",
       "      <th>1</th>\n",
       "      <td>200001</td>\n",
       "      <td>IZ</td>\n",
       "      <td>272</td>\n",
       "      <td>1407</td>\n",
       "    </tr>\n",
       "    <tr>\n",
       "      <th>2</th>\n",
       "      <td>200001</td>\n",
       "      <td>MX</td>\n",
       "      <td>99</td>\n",
       "      <td>402</td>\n",
       "    </tr>\n",
       "    <tr>\n",
       "      <th>3</th>\n",
       "      <td>200001</td>\n",
       "      <td>PK</td>\n",
       "      <td>896</td>\n",
       "      <td>5068</td>\n",
       "    </tr>\n",
       "    <tr>\n",
       "      <th>4</th>\n",
       "      <td>200001</td>\n",
       "      <td>SY</td>\n",
       "      <td>185</td>\n",
       "      <td>734</td>\n",
       "    </tr>\n",
       "  </tbody>\n",
       "</table>\n",
       "</div>"
      ],
      "text/plain": [
       "     Date Country  Events  Articles\n",
       "0  200001      AF     198       919\n",
       "1  200001      IZ     272      1407\n",
       "2  200001      MX      99       402\n",
       "3  200001      PK     896      5068\n",
       "4  200001      SY     185       734"
      ]
     },
     "execution_count": 12,
     "metadata": {},
     "output_type": "execute_result"
    }
   ],
   "source": [
    "df_grouped = df.groupby(['Date', 'Country']).sum().drop(['EventCode'], axis=1).sort_index(level=[0,1])\n",
    "\n",
    "df_merged = df_grouped.reset_index()\n",
    "\n",
    "irq = df_country(df_merged, 'IRQ')\n",
    "mex = df_country(df_merged, 'MEX')\n",
    "pak = df_country(df_merged, 'PAK')\n",
    "afg = df_country(df_merged, 'AFG')\n",
    "syr = df_country(df_merged, 'SYR')\n",
    "\n",
    "df_merged.head()"
   ]
  },
  {
   "cell_type": "markdown",
   "metadata": {},
   "source": [
    "## Separation by country and aggregation per year"
   ]
  },
  {
   "cell_type": "code",
   "execution_count": 13,
   "metadata": {},
   "outputs": [
    {
     "data": {
      "text/html": [
       "<div>\n",
       "<style>\n",
       "    .dataframe thead tr:only-child th {\n",
       "        text-align: right;\n",
       "    }\n",
       "\n",
       "    .dataframe thead th {\n",
       "        text-align: left;\n",
       "    }\n",
       "\n",
       "    .dataframe tbody tr th {\n",
       "        vertical-align: top;\n",
       "    }\n",
       "</style>\n",
       "<table border=\"1\" class=\"dataframe\">\n",
       "  <thead>\n",
       "    <tr style=\"text-align: right;\">\n",
       "      <th></th>\n",
       "      <th>Date</th>\n",
       "      <th>Country</th>\n",
       "      <th>Ratio</th>\n",
       "    </tr>\n",
       "  </thead>\n",
       "  <tbody>\n",
       "    <tr>\n",
       "      <th>0</th>\n",
       "      <td>2000</td>\n",
       "      <td>AF</td>\n",
       "      <td>0.291235</td>\n",
       "    </tr>\n",
       "    <tr>\n",
       "      <th>1</th>\n",
       "      <td>2000</td>\n",
       "      <td>IZ</td>\n",
       "      <td>0.292026</td>\n",
       "    </tr>\n",
       "    <tr>\n",
       "      <th>2</th>\n",
       "      <td>2000</td>\n",
       "      <td>MX</td>\n",
       "      <td>0.303106</td>\n",
       "    </tr>\n",
       "    <tr>\n",
       "      <th>3</th>\n",
       "      <td>2000</td>\n",
       "      <td>PK</td>\n",
       "      <td>0.333469</td>\n",
       "    </tr>\n",
       "    <tr>\n",
       "      <th>4</th>\n",
       "      <td>2000</td>\n",
       "      <td>SY</td>\n",
       "      <td>0.222977</td>\n",
       "    </tr>\n",
       "  </tbody>\n",
       "</table>\n",
       "</div>"
      ],
      "text/plain": [
       "   Date Country     Ratio\n",
       "0  2000      AF  0.291235\n",
       "1  2000      IZ  0.292026\n",
       "2  2000      MX  0.303106\n",
       "3  2000      PK  0.333469\n",
       "4  2000      SY  0.222977"
      ]
     },
     "execution_count": 13,
     "metadata": {},
     "output_type": "execute_result"
    }
   ],
   "source": [
    "# Here we process the dataset to only reason by year and normalize the Articles and Events by year. We then\n",
    "# get the Ratio Articles/Events\n",
    "\n",
    "df_year = df_merged.copy()\n",
    "\n",
    "df_year['Date'] = df_year['Date'].apply(lambda d: int(d/100))\n",
    "\n",
    "df_year = df_year.groupby(['Date', 'Country']).mean()\n",
    "df_year = (df_year / df_year.std()).reset_index()\n",
    "\n",
    "df_year['Ratio'] = df_year['Articles'] / df_year['Events'].astype('float')\n",
    "\n",
    "df_year.drop(['Articles', 'Events'], axis=1, inplace=True)\n",
    "\n",
    "irq_year1 = df_country(df_year, 'IZ')\n",
    "mex_year1 = df_country(df_year, 'MX')\n",
    "pak_year1 = df_country(df_year, 'PK')\n",
    "afg_year1 = df_country(df_year, 'AF')\n",
    "syr_year1 = df_country(df_year, 'SY')\n",
    "\n",
    "df_year.head()"
   ]
  },
  {
   "cell_type": "markdown",
   "metadata": {},
   "source": [
    "## Some plots and describes"
   ]
  },
  {
   "cell_type": "markdown",
   "metadata": {},
   "source": [
    "## Normalization\n",
    "\n",
    "We chose to normalize the ratio during the aggregation by year and normalize the deaths with a mean/std normalization. It seems to give reasonablre results for now but we might do a more refined normalization in the future."
   ]
  },
  {
   "cell_type": "code",
   "execution_count": 16,
   "metadata": {
    "collapsed": true
   },
   "outputs": [],
   "source": [
    "def normalize(_df):\n",
    "    x = _df.copy()\n",
    "    d = x['Deaths']\n",
    "    x['Deaths'] = abs(d - d.mean()) / d.std()\n",
    "    return x\n",
    "\n",
    "irq_year = deaths_irq.join(irq_year1)\n",
    "mex_year = deaths_mex.join(mex_year1)\n",
    "pak_year = deaths_pak.join(pak_year1)\n",
    "afg_year = deaths_afg.join(afg_year1)\n",
    "\n",
    "irq_year_normalized = normalize(irq_year)\n",
    "mex_year_normalized = normalize(mex_year)\n",
    "pak_year_normalized = normalize(pak_year)\n",
    "afg_year_normalized = normalize(afg_year)"
   ]
  },
  {
   "cell_type": "markdown",
   "metadata": {},
   "source": [
    "## Some exploration of the data through description and plots"
   ]
  },
  {
   "cell_type": "code",
   "execution_count": 17,
   "metadata": {},
   "outputs": [
    {
     "data": {
      "text/html": [
       "<div>\n",
       "<style>\n",
       "    .dataframe thead tr:only-child th {\n",
       "        text-align: right;\n",
       "    }\n",
       "\n",
       "    .dataframe thead th {\n",
       "        text-align: left;\n",
       "    }\n",
       "\n",
       "    .dataframe tbody tr th {\n",
       "        vertical-align: top;\n",
       "    }\n",
       "</style>\n",
       "<table border=\"1\" class=\"dataframe\">\n",
       "  <thead>\n",
       "    <tr style=\"text-align: right;\">\n",
       "      <th></th>\n",
       "      <th>Deaths</th>\n",
       "      <th>Ratio</th>\n",
       "    </tr>\n",
       "  </thead>\n",
       "  <tbody>\n",
       "    <tr>\n",
       "      <th>count</th>\n",
       "      <td>17.000000</td>\n",
       "      <td>17.000000</td>\n",
       "    </tr>\n",
       "    <tr>\n",
       "      <th>mean</th>\n",
       "      <td>4459.294118</td>\n",
       "      <td>0.626435</td>\n",
       "    </tr>\n",
       "    <tr>\n",
       "      <th>std</th>\n",
       "      <td>4390.300499</td>\n",
       "      <td>0.354003</td>\n",
       "    </tr>\n",
       "    <tr>\n",
       "      <th>min</th>\n",
       "      <td>27.000000</td>\n",
       "      <td>0.262596</td>\n",
       "    </tr>\n",
       "    <tr>\n",
       "      <th>25%</th>\n",
       "      <td>1407.000000</td>\n",
       "      <td>0.331927</td>\n",
       "    </tr>\n",
       "    <tr>\n",
       "      <th>50%</th>\n",
       "      <td>3521.000000</td>\n",
       "      <td>0.408428</td>\n",
       "    </tr>\n",
       "    <tr>\n",
       "      <th>75%</th>\n",
       "      <td>4609.000000</td>\n",
       "      <td>0.921170</td>\n",
       "    </tr>\n",
       "    <tr>\n",
       "      <th>max</th>\n",
       "      <td>15010.000000</td>\n",
       "      <td>1.286663</td>\n",
       "    </tr>\n",
       "  </tbody>\n",
       "</table>\n",
       "</div>"
      ],
      "text/plain": [
       "             Deaths      Ratio\n",
       "count     17.000000  17.000000\n",
       "mean    4459.294118   0.626435\n",
       "std     4390.300499   0.354003\n",
       "min       27.000000   0.262596\n",
       "25%     1407.000000   0.331927\n",
       "50%     3521.000000   0.408428\n",
       "75%     4609.000000   0.921170\n",
       "max    15010.000000   1.286663"
      ]
     },
     "execution_count": 17,
     "metadata": {},
     "output_type": "execute_result"
    }
   ],
   "source": [
    "irq_year.describe()"
   ]
  },
  {
   "cell_type": "code",
   "execution_count": 18,
   "metadata": {},
   "outputs": [
    {
     "data": {
      "text/html": [
       "<div>\n",
       "<style>\n",
       "    .dataframe thead tr:only-child th {\n",
       "        text-align: right;\n",
       "    }\n",
       "\n",
       "    .dataframe thead th {\n",
       "        text-align: left;\n",
       "    }\n",
       "\n",
       "    .dataframe tbody tr th {\n",
       "        vertical-align: top;\n",
       "    }\n",
       "</style>\n",
       "<table border=\"1\" class=\"dataframe\">\n",
       "  <thead>\n",
       "    <tr style=\"text-align: right;\">\n",
       "      <th></th>\n",
       "      <th>Deaths</th>\n",
       "      <th>Ratio</th>\n",
       "    </tr>\n",
       "  </thead>\n",
       "  <tbody>\n",
       "    <tr>\n",
       "      <th>count</th>\n",
       "      <td>17.000000</td>\n",
       "      <td>17.000000</td>\n",
       "    </tr>\n",
       "    <tr>\n",
       "      <th>mean</th>\n",
       "      <td>1115.764706</td>\n",
       "      <td>0.530763</td>\n",
       "    </tr>\n",
       "    <tr>\n",
       "      <th>std</th>\n",
       "      <td>1041.491450</td>\n",
       "      <td>0.283851</td>\n",
       "    </tr>\n",
       "    <tr>\n",
       "      <th>min</th>\n",
       "      <td>0.000000</td>\n",
       "      <td>0.205151</td>\n",
       "    </tr>\n",
       "    <tr>\n",
       "      <th>25%</th>\n",
       "      <td>187.000000</td>\n",
       "      <td>0.277822</td>\n",
       "    </tr>\n",
       "    <tr>\n",
       "      <th>50%</th>\n",
       "      <td>776.000000</td>\n",
       "      <td>0.389559</td>\n",
       "    </tr>\n",
       "    <tr>\n",
       "      <th>75%</th>\n",
       "      <td>1699.000000</td>\n",
       "      <td>0.811363</td>\n",
       "    </tr>\n",
       "    <tr>\n",
       "      <th>max</th>\n",
       "      <td>3313.000000</td>\n",
       "      <td>1.012106</td>\n",
       "    </tr>\n",
       "  </tbody>\n",
       "</table>\n",
       "</div>"
      ],
      "text/plain": [
       "            Deaths      Ratio\n",
       "count    17.000000  17.000000\n",
       "mean   1115.764706   0.530763\n",
       "std    1041.491450   0.283851\n",
       "min       0.000000   0.205151\n",
       "25%     187.000000   0.277822\n",
       "50%     776.000000   0.389559\n",
       "75%    1699.000000   0.811363\n",
       "max    3313.000000   1.012106"
      ]
     },
     "execution_count": 18,
     "metadata": {},
     "output_type": "execute_result"
    }
   ],
   "source": [
    "mex_year.describe()"
   ]
  },
  {
   "cell_type": "code",
   "execution_count": 19,
   "metadata": {},
   "outputs": [
    {
     "data": {
      "text/html": [
       "<div>\n",
       "<style>\n",
       "    .dataframe thead tr:only-child th {\n",
       "        text-align: right;\n",
       "    }\n",
       "\n",
       "    .dataframe thead th {\n",
       "        text-align: left;\n",
       "    }\n",
       "\n",
       "    .dataframe tbody tr th {\n",
       "        vertical-align: top;\n",
       "    }\n",
       "</style>\n",
       "<table border=\"1\" class=\"dataframe\">\n",
       "  <thead>\n",
       "    <tr style=\"text-align: right;\">\n",
       "      <th></th>\n",
       "      <th>Deaths</th>\n",
       "      <th>Ratio</th>\n",
       "    </tr>\n",
       "  </thead>\n",
       "  <tbody>\n",
       "    <tr>\n",
       "      <th>count</th>\n",
       "      <td>17.000000</td>\n",
       "      <td>17.000000</td>\n",
       "    </tr>\n",
       "    <tr>\n",
       "      <th>mean</th>\n",
       "      <td>2290.882353</td>\n",
       "      <td>0.475536</td>\n",
       "    </tr>\n",
       "    <tr>\n",
       "      <th>std</th>\n",
       "      <td>2437.833974</td>\n",
       "      <td>0.200685</td>\n",
       "    </tr>\n",
       "    <tr>\n",
       "      <th>min</th>\n",
       "      <td>1.000000</td>\n",
       "      <td>0.202586</td>\n",
       "    </tr>\n",
       "    <tr>\n",
       "      <th>25%</th>\n",
       "      <td>241.000000</td>\n",
       "      <td>0.299917</td>\n",
       "    </tr>\n",
       "    <tr>\n",
       "      <th>50%</th>\n",
       "      <td>1366.000000</td>\n",
       "      <td>0.369654</td>\n",
       "    </tr>\n",
       "    <tr>\n",
       "      <th>75%</th>\n",
       "      <td>3540.000000</td>\n",
       "      <td>0.645365</td>\n",
       "    </tr>\n",
       "    <tr>\n",
       "      <th>max</th>\n",
       "      <td>7460.000000</td>\n",
       "      <td>0.800782</td>\n",
       "    </tr>\n",
       "  </tbody>\n",
       "</table>\n",
       "</div>"
      ],
      "text/plain": [
       "            Deaths      Ratio\n",
       "count    17.000000  17.000000\n",
       "mean   2290.882353   0.475536\n",
       "std    2437.833974   0.200685\n",
       "min       1.000000   0.202586\n",
       "25%     241.000000   0.299917\n",
       "50%    1366.000000   0.369654\n",
       "75%    3540.000000   0.645365\n",
       "max    7460.000000   0.800782"
      ]
     },
     "execution_count": 19,
     "metadata": {},
     "output_type": "execute_result"
    }
   ],
   "source": [
    "pak_year.describe()"
   ]
  },
  {
   "cell_type": "code",
   "execution_count": 20,
   "metadata": {},
   "outputs": [
    {
     "data": {
      "text/html": [
       "<div>\n",
       "<style>\n",
       "    .dataframe thead tr:only-child th {\n",
       "        text-align: right;\n",
       "    }\n",
       "\n",
       "    .dataframe thead th {\n",
       "        text-align: left;\n",
       "    }\n",
       "\n",
       "    .dataframe tbody tr th {\n",
       "        vertical-align: top;\n",
       "    }\n",
       "</style>\n",
       "<table border=\"1\" class=\"dataframe\">\n",
       "  <thead>\n",
       "    <tr style=\"text-align: right;\">\n",
       "      <th></th>\n",
       "      <th>Deaths</th>\n",
       "      <th>Ratio</th>\n",
       "    </tr>\n",
       "  </thead>\n",
       "  <tbody>\n",
       "    <tr>\n",
       "      <th>count</th>\n",
       "      <td>17.000000</td>\n",
       "      <td>17.000000</td>\n",
       "    </tr>\n",
       "    <tr>\n",
       "      <th>mean</th>\n",
       "      <td>7038.176471</td>\n",
       "      <td>0.586093</td>\n",
       "    </tr>\n",
       "    <tr>\n",
       "      <th>std</th>\n",
       "      <td>5235.884622</td>\n",
       "      <td>0.328073</td>\n",
       "    </tr>\n",
       "    <tr>\n",
       "      <th>min</th>\n",
       "      <td>817.000000</td>\n",
       "      <td>0.232169</td>\n",
       "    </tr>\n",
       "    <tr>\n",
       "      <th>25%</th>\n",
       "      <td>4982.000000</td>\n",
       "      <td>0.310971</td>\n",
       "    </tr>\n",
       "    <tr>\n",
       "      <th>50%</th>\n",
       "      <td>6499.000000</td>\n",
       "      <td>0.392297</td>\n",
       "    </tr>\n",
       "    <tr>\n",
       "      <th>75%</th>\n",
       "      <td>7822.000000</td>\n",
       "      <td>0.857860</td>\n",
       "    </tr>\n",
       "    <tr>\n",
       "      <th>max</th>\n",
       "      <td>18707.000000</td>\n",
       "      <td>1.188007</td>\n",
       "    </tr>\n",
       "  </tbody>\n",
       "</table>\n",
       "</div>"
      ],
      "text/plain": [
       "             Deaths      Ratio\n",
       "count     17.000000  17.000000\n",
       "mean    7038.176471   0.586093\n",
       "std     5235.884622   0.328073\n",
       "min      817.000000   0.232169\n",
       "25%     4982.000000   0.310971\n",
       "50%     6499.000000   0.392297\n",
       "75%     7822.000000   0.857860\n",
       "max    18707.000000   1.188007"
      ]
     },
     "execution_count": 20,
     "metadata": {},
     "output_type": "execute_result"
    }
   ],
   "source": [
    "afg_year.describe()"
   ]
  },
  {
   "cell_type": "code",
   "execution_count": 21,
   "metadata": {},
   "outputs": [
    {
     "data": {
      "image/png": "[encoded data removed]",
      "text/plain": [
       "<matplotlib.figure.Figure at 0x1a15c3da90>"
      ]
     },
     "metadata": {},
     "output_type": "display_data"
    }
   ],
   "source": [
    "irq_year_normalized.plot(kind='bar', title='Iraq Deaths and Article/Events Ratio \\ncomparison over the years');"
   ]
  },
  {
   "cell_type": "code",
   "execution_count": 22,
   "metadata": {},
   "outputs": [
    {
     "data": {
      "image/png": "[encoded data removed]",
      "text/plain": [
       "<matplotlib.figure.Figure at 0x1a177ad438>"
      ]
     },
     "metadata": {},
     "output_type": "display_data"
    }
   ],
   "source": [
    "afg_year_normalized.plot(kind='bar', title='Afghanistan Deaths and Article/Events Ratio \\ncomparison over the years');"
   ]
  },
  {
   "cell_type": "code",
   "execution_count": 23,
   "metadata": {},
   "outputs": [
    {
     "data": {
      "image/png": "[encoded data removed]",
      "text/plain": [
       "<matplotlib.figure.Figure at 0x1a17d41cf8>"
      ]
     },
     "metadata": {},
     "output_type": "display_data"
    }
   ],
   "source": [
    "mex_year_normalized.plot(kind='bar', title='Mexico Deaths and Article/Events Ratio \\ncomparison over the years');"
   ]
  },
  {
   "cell_type": "code",
   "execution_count": 24,
   "metadata": {},
   "outputs": [
    {
     "data": {
      "image/png": "[encoded data removed]",
      "text/plain": [
       "<matplotlib.figure.Figure at 0x1a16c819b0>"
      ]
     },
     "metadata": {},
     "output_type": "display_data"
    }
   ],
   "source": [
    "pak_year_normalized.plot(kind='bar', title='Pakistan Deaths and Article/Events Ratio \\ncomparison over the years');"
   ]
  },
  {
   "cell_type": "markdown",
   "metadata": {},
   "source": [
    "There seem to indeed be some inconsistencies in the ratio between the number of deaths and the amount of media coverage per year as we planned, though not always exactly as we would have thought."
   ]
  },
  {
   "cell_type": "markdown",
   "metadata": {},
   "source": []
  },
  {
   "cell_type": "code",
   "execution_count": 25,
   "metadata": {},
   "outputs": [
    {
     "data": {
      "text/html": [
       "<div>\n",
       "<style>\n",
       "    .dataframe thead tr:only-child th {\n",
       "        text-align: right;\n",
       "    }\n",
       "\n",
       "    .dataframe thead th {\n",
       "        text-align: left;\n",
       "    }\n",
       "\n",
       "    .dataframe tbody tr th {\n",
       "        vertical-align: top;\n",
       "    }\n",
       "</style>\n",
       "<table border=\"1\" class=\"dataframe\">\n",
       "  <thead>\n",
       "    <tr style=\"text-align: right;\">\n",
       "      <th></th>\n",
       "      <th>Iraq_Deaths</th>\n",
       "      <th>Afghanistan_Deaths</th>\n",
       "      <th>Mexico_Deaths</th>\n",
       "      <th>Pakistan_Deaths</th>\n",
       "      <th>Iraq_Ratio</th>\n",
       "      <th>Afghanistan_Ratio</th>\n",
       "      <th>Mexico_Ratio</th>\n",
       "      <th>Pakistan_Ratio</th>\n",
       "    </tr>\n",
       "    <tr>\n",
       "      <th>Date</th>\n",
       "      <th></th>\n",
       "      <th></th>\n",
       "      <th></th>\n",
       "      <th></th>\n",
       "      <th></th>\n",
       "      <th></th>\n",
       "      <th></th>\n",
       "      <th></th>\n",
       "    </tr>\n",
       "  </thead>\n",
       "  <tbody>\n",
       "    <tr>\n",
       "      <th>2000</th>\n",
       "      <td>0.973577</td>\n",
       "      <td>0.292026</td>\n",
       "      <td>0.314021</td>\n",
       "      <td>0.291235</td>\n",
       "      <td>1.071314</td>\n",
       "      <td>0.303106</td>\n",
       "      <td>0.939310</td>\n",
       "      <td>0.333469</td>\n",
       "    </tr>\n",
       "    <tr>\n",
       "      <th>2001</th>\n",
       "      <td>1.009565</td>\n",
       "      <td>0.308065</td>\n",
       "      <td>0.283653</td>\n",
       "      <td>0.313035</td>\n",
       "      <td>1.071314</td>\n",
       "      <td>0.258430</td>\n",
       "      <td>0.929055</td>\n",
       "      <td>0.296111</td>\n",
       "    </tr>\n",
       "    <tr>\n",
       "      <th>2002</th>\n",
       "      <td>0.990432</td>\n",
       "      <td>0.299064</td>\n",
       "      <td>1.123244</td>\n",
       "      <td>0.288083</td>\n",
       "      <td>1.046350</td>\n",
       "      <td>0.235939</td>\n",
       "      <td>0.917570</td>\n",
       "      <td>0.286741</td>\n",
       "    </tr>\n",
       "    <tr>\n",
       "      <th>2003</th>\n",
       "      <td>0.806256</td>\n",
       "      <td>0.367202</td>\n",
       "      <td>1.163925</td>\n",
       "      <td>0.326056</td>\n",
       "      <td>1.071314</td>\n",
       "      <td>0.277822</td>\n",
       "      <td>0.840862</td>\n",
       "      <td>0.309685</td>\n",
       "    </tr>\n",
       "    <tr>\n",
       "      <th>2004</th>\n",
       "      <td>0.021478</td>\n",
       "      <td>0.331927</td>\n",
       "      <td>1.188181</td>\n",
       "      <td>0.310971</td>\n",
       "      <td>0.860079</td>\n",
       "      <td>0.266485</td>\n",
       "      <td>0.763334</td>\n",
       "      <td>0.299917</td>\n",
       "    </tr>\n",
       "    <tr>\n",
       "      <th>2005</th>\n",
       "      <td>0.213720</td>\n",
       "      <td>0.345710</td>\n",
       "      <td>1.017436</td>\n",
       "      <td>0.308419</td>\n",
       "      <td>0.891764</td>\n",
       "      <td>0.386613</td>\n",
       "      <td>0.876960</td>\n",
       "      <td>0.276848</td>\n",
       "    </tr>\n",
       "    <tr>\n",
       "      <th>2006</th>\n",
       "      <td>0.034099</td>\n",
       "      <td>0.262596</td>\n",
       "      <td>0.392709</td>\n",
       "      <td>0.232169</td>\n",
       "      <td>0.412644</td>\n",
       "      <td>0.205151</td>\n",
       "      <td>0.764565</td>\n",
       "      <td>0.202586</td>\n",
       "    </tr>\n",
       "    <tr>\n",
       "      <th>2007</th>\n",
       "      <td>0.006766</td>\n",
       "      <td>0.354628</td>\n",
       "      <td>0.003472</td>\n",
       "      <td>0.324147</td>\n",
       "      <td>0.485616</td>\n",
       "      <td>0.303617</td>\n",
       "      <td>0.379387</td>\n",
       "      <td>0.346389</td>\n",
       "    </tr>\n",
       "    <tr>\n",
       "      <th>2008</th>\n",
       "      <td>0.393434</td>\n",
       "      <td>0.408428</td>\n",
       "      <td>0.263218</td>\n",
       "      <td>0.392297</td>\n",
       "      <td>0.723228</td>\n",
       "      <td>0.389559</td>\n",
       "      <td>0.955405</td>\n",
       "      <td>0.369654</td>\n",
       "    </tr>\n",
       "    <tr>\n",
       "      <th>2009</th>\n",
       "      <td>0.624398</td>\n",
       "      <td>0.609746</td>\n",
       "      <td>0.102977</td>\n",
       "      <td>0.598928</td>\n",
       "      <td>1.101531</td>\n",
       "      <td>0.553687</td>\n",
       "      <td>2.120373</td>\n",
       "      <td>0.555380</td>\n",
       "    </tr>\n",
       "    <tr>\n",
       "      <th>2010</th>\n",
       "      <td>0.594104</td>\n",
       "      <td>0.787620</td>\n",
       "      <td>0.021548</td>\n",
       "      <td>0.758569</td>\n",
       "      <td>2.109701</td>\n",
       "      <td>0.811363</td>\n",
       "      <td>2.024386</td>\n",
       "      <td>0.625692</td>\n",
       "    </tr>\n",
       "    <tr>\n",
       "      <th>2011</th>\n",
       "      <td>0.698197</td>\n",
       "      <td>0.921170</td>\n",
       "      <td>0.100618</td>\n",
       "      <td>0.962143</td>\n",
       "      <td>1.535524</td>\n",
       "      <td>0.828597</td>\n",
       "      <td>0.485315</td>\n",
       "      <td>0.664367</td>\n",
       "    </tr>\n",
       "    <tr>\n",
       "      <th>2012</th>\n",
       "      <td>0.695236</td>\n",
       "      <td>1.063030</td>\n",
       "      <td>0.149702</td>\n",
       "      <td>0.967173</td>\n",
       "      <td>0.560000</td>\n",
       "      <td>0.838292</td>\n",
       "      <td>0.512388</td>\n",
       "      <td>0.645365</td>\n",
       "    </tr>\n",
       "    <tr>\n",
       "      <th>2013</th>\n",
       "      <td>0.102110</td>\n",
       "      <td>1.078327</td>\n",
       "      <td>0.208718</td>\n",
       "      <td>0.778644</td>\n",
       "      <td>0.326229</td>\n",
       "      <td>0.681152</td>\n",
       "      <td>0.250681</td>\n",
       "      <td>0.604154</td>\n",
       "    </tr>\n",
       "    <tr>\n",
       "      <th>2014</th>\n",
       "      <td>2.403185</td>\n",
       "      <td>0.859520</td>\n",
       "      <td>1.052701</td>\n",
       "      <td>0.857860</td>\n",
       "      <td>0.505271</td>\n",
       "      <td>0.691561</td>\n",
       "      <td>0.538641</td>\n",
       "      <td>0.672945</td>\n",
       "    </tr>\n",
       "    <tr>\n",
       "      <th>2015</th>\n",
       "      <td>1.546980</td>\n",
       "      <td>1.073672</td>\n",
       "      <td>2.090921</td>\n",
       "      <td>1.188007</td>\n",
       "      <td>0.515833</td>\n",
       "      <td>0.979498</td>\n",
       "      <td>0.039427</td>\n",
       "      <td>0.800782</td>\n",
       "    </tr>\n",
       "    <tr>\n",
       "      <th>2016</th>\n",
       "      <td>1.518963</td>\n",
       "      <td>1.286663</td>\n",
       "      <td>2.228625</td>\n",
       "      <td>1.065850</td>\n",
       "      <td>0.185537</td>\n",
       "      <td>1.012106</td>\n",
       "      <td>0.515573</td>\n",
       "      <td>0.794023</td>\n",
       "    </tr>\n",
       "  </tbody>\n",
       "</table>\n",
       "</div>"
      ],
      "text/plain": [
       "      Iraq_Deaths  Afghanistan_Deaths  Mexico_Deaths  Pakistan_Deaths  \\\n",
       "Date                                                                    \n",
       "2000     0.973577            0.292026       0.314021         0.291235   \n",
       "2001     1.009565            0.308065       0.283653         0.313035   \n",
       "2002     0.990432            0.299064       1.123244         0.288083   \n",
       "2003     0.806256            0.367202       1.163925         0.326056   \n",
       "2004     0.021478            0.331927       1.188181         0.310971   \n",
       "2005     0.213720            0.345710       1.017436         0.308419   \n",
       "2006     0.034099            0.262596       0.392709         0.232169   \n",
       "2007     0.006766            0.354628       0.003472         0.324147   \n",
       "2008     0.393434            0.408428       0.263218         0.392297   \n",
       "2009     0.624398            0.609746       0.102977         0.598928   \n",
       "2010     0.594104            0.787620       0.021548         0.758569   \n",
       "2011     0.698197            0.921170       0.100618         0.962143   \n",
       "2012     0.695236            1.063030       0.149702         0.967173   \n",
       "2013     0.102110            1.078327       0.208718         0.778644   \n",
       "2014     2.403185            0.859520       1.052701         0.857860   \n",
       "2015     1.546980            1.073672       2.090921         1.188007   \n",
       "2016     1.518963            1.286663       2.228625         1.065850   \n",
       "\n",
       "      Iraq_Ratio  Afghanistan_Ratio  Mexico_Ratio  Pakistan_Ratio  \n",
       "Date                                                               \n",
       "2000    1.071314           0.303106      0.939310        0.333469  \n",
       "2001    1.071314           0.258430      0.929055        0.296111  \n",
       "2002    1.046350           0.235939      0.917570        0.286741  \n",
       "2003    1.071314           0.277822      0.840862        0.309685  \n",
       "2004    0.860079           0.266485      0.763334        0.299917  \n",
       "2005    0.891764           0.386613      0.876960        0.276848  \n",
       "2006    0.412644           0.205151      0.764565        0.202586  \n",
       "2007    0.485616           0.303617      0.379387        0.346389  \n",
       "2008    0.723228           0.389559      0.955405        0.369654  \n",
       "2009    1.101531           0.553687      2.120373        0.555380  \n",
       "2010    2.109701           0.811363      2.024386        0.625692  \n",
       "2011    1.535524           0.828597      0.485315        0.664367  \n",
       "2012    0.560000           0.838292      0.512388        0.645365  \n",
       "2013    0.326229           0.681152      0.250681        0.604154  \n",
       "2014    0.505271           0.691561      0.538641        0.672945  \n",
       "2015    0.515833           0.979498      0.039427        0.800782  \n",
       "2016    0.185537           1.012106      0.515573        0.794023  "
      ]
     },
     "execution_count": 25,
     "metadata": {},
     "output_type": "execute_result"
    }
   ],
   "source": [
    "data  = [irq_year_normalized,afg_year_normalized,mex_year_normalized,pak_year_normalized]\n",
    "data = pd.concat(data, axis=1)\n",
    "\n",
    "data.columns = [x + '_' + y for y in ['Deaths', 'Ratio'] for x in ['Iraq', 'Afghanistan', 'Mexico', 'Pakistan']]\n",
    "\n",
    "data"
   ]
  },
  {
   "cell_type": "markdown",
   "metadata": {},
   "source": [
    "## Analysis by Event Code"
   ]
  },
  {
   "cell_type": "code",
   "execution_count": 26,
   "metadata": {},
   "outputs": [
    {
     "data": {
      "text/html": [
       "<div>\n",
       "<style>\n",
       "    .dataframe thead tr:only-child th {\n",
       "        text-align: right;\n",
       "    }\n",
       "\n",
       "    .dataframe thead th {\n",
       "        text-align: left;\n",
       "    }\n",
       "\n",
       "    .dataframe tbody tr th {\n",
       "        vertical-align: top;\n",
       "    }\n",
       "</style>\n",
       "<table border=\"1\" class=\"dataframe\">\n",
       "  <thead>\n",
       "    <tr style=\"text-align: right;\">\n",
       "      <th></th>\n",
       "      <th>Country</th>\n",
       "      <th>Date</th>\n",
       "      <th>EventCode</th>\n",
       "      <th>Events</th>\n",
       "      <th>Articles</th>\n",
       "    </tr>\n",
       "  </thead>\n",
       "  <tbody>\n",
       "    <tr>\n",
       "      <th>0</th>\n",
       "      <td>SY</td>\n",
       "      <td>201609</td>\n",
       "      <td>19</td>\n",
       "      <td>26118</td>\n",
       "      <td>558078</td>\n",
       "    </tr>\n",
       "    <tr>\n",
       "      <th>1</th>\n",
       "      <td>SY</td>\n",
       "      <td>201608</td>\n",
       "      <td>19</td>\n",
       "      <td>23797</td>\n",
       "      <td>513882</td>\n",
       "    </tr>\n",
       "    <tr>\n",
       "      <th>2</th>\n",
       "      <td>SY</td>\n",
       "      <td>201602</td>\n",
       "      <td>19</td>\n",
       "      <td>27567</td>\n",
       "      <td>483618</td>\n",
       "    </tr>\n",
       "    <tr>\n",
       "      <th>3</th>\n",
       "      <td>SY</td>\n",
       "      <td>201510</td>\n",
       "      <td>19</td>\n",
       "      <td>27216</td>\n",
       "      <td>469990</td>\n",
       "    </tr>\n",
       "    <tr>\n",
       "      <th>4</th>\n",
       "      <td>SY</td>\n",
       "      <td>201612</td>\n",
       "      <td>19</td>\n",
       "      <td>22474</td>\n",
       "      <td>468685</td>\n",
       "    </tr>\n",
       "  </tbody>\n",
       "</table>\n",
       "</div>"
      ],
      "text/plain": [
       "  Country    Date  EventCode  Events  Articles\n",
       "0      SY  201609         19   26118    558078\n",
       "1      SY  201608         19   23797    513882\n",
       "2      SY  201602         19   27567    483618\n",
       "3      SY  201510         19   27216    469990\n",
       "4      SY  201612         19   22474    468685"
      ]
     },
     "execution_count": 26,
     "metadata": {},
     "output_type": "execute_result"
    }
   ],
   "source": [
    "df.head()"
   ]
  },
  {
   "cell_type": "code",
   "execution_count": 27,
   "metadata": {
    "collapsed": true
   },
   "outputs": [],
   "source": [
    "def df_env_year(_df, country_code):\n",
    "    x = _df[_df['Country'] == country_code].drop('Country', axis=1)\n",
    "    x['Date'] = x['Date'].apply(lambda d: int(d / 100))\n",
    "    return x.groupby(['Date', 'EventCode']).mean()\n",
    "\n",
    "df_env = df.copy()\n",
    "\n",
    "df_env['Ratio'] = df_env['Articles'] / df_env['Events'].astype('float')\n",
    "\n",
    "df_env.drop(['Articles', 'Events'], axis=1, inplace=True)\n",
    "\n",
    "irq_ev = df_env_year(df_env, 'IZ')\n",
    "mex_ev = df_env_year(df_env, 'MX')\n",
    "afg_ev = df_env_year(df_env, 'AF')\n",
    "pak_ev = df_env_year(df_env, 'PK')\n",
    "syr_ev = df_env_year(df_env, 'SY')"
   ]
  },
  {
   "cell_type": "code",
   "execution_count": 28,
   "metadata": {},
   "outputs": [
    {
     "data": {
      "image/png": "[encoded data removed]",
      "text/plain": [
       "<matplotlib.figure.Figure at 0x1a16296908>"
      ]
     },
     "metadata": {},
     "output_type": "display_data"
    }
   ],
   "source": [
    "irq_ev.groupby(['Date', 'EventCode']).mean().unstack(level=1).plot(kind='bar', subplots=True);"
   ]
  },
  {
   "cell_type": "code",
   "execution_count": 29,
   "metadata": {},
   "outputs": [
    {
     "data": {
      "image/png": "[encoded data removed]",
      "text/plain": [
       "<matplotlib.figure.Figure at 0x1a17597400>"
      ]
     },
     "metadata": {},
     "output_type": "display_data"
    }
   ],
   "source": [
    "mex_ev.groupby(['Date', 'EventCode']).mean().unstack(level=1).plot(kind='bar', subplots=True);"
   ]
  },
  {
   "cell_type": "code",
   "execution_count": 30,
   "metadata": {},
   "outputs": [
    {
     "data": {
      "image/png": "[encoded data removed]",
      "text/plain": [
       "<matplotlib.figure.Figure at 0x1a1598a9e8>"
      ]
     },
     "metadata": {},
     "output_type": "display_data"
    }
   ],
   "source": [
    "afg_ev.groupby(['Date', 'EventCode']).mean().unstack(level=1).plot(kind='bar', subplots=True);"
   ]
  },
  {
   "cell_type": "code",
   "execution_count": 31,
   "metadata": {},
   "outputs": [
    {
     "data": {
      "image/png": "[encoded data removed]",
      "text/plain": [
       "<matplotlib.figure.Figure at 0x1a19d5cc50>"
      ]
     },
     "metadata": {},
     "output_type": "display_data"
    }
   ],
   "source": [
    "pak_ev.groupby(['Date', 'EventCode']).mean().unstack(level=1).plot(kind='bar', subplots=True);"
   ]
  },
  {
   "cell_type": "code",
   "execution_count": 32,
   "metadata": {},
   "outputs": [
    {
     "data": {
      "image/png": "[encoded data removed]",
      "text/plain": [
       "<matplotlib.figure.Figure at 0x1a19757940>"
      ]
     },
     "metadata": {},
     "output_type": "display_data"
    }
   ],
   "source": [
    "syr_ev.groupby(['Date', 'EventCode']).mean().unstack(level=1).plot(kind='bar', subplots=True);"
   ]
  },
  {
   "cell_type": "markdown",
   "metadata": {
    "collapsed": true
   },
   "source": [
    "As we can see, the type of the events (18, 19 or 20) seems not to influence too much the final ratio between the number of events (i.e. each event has a relatively similar curve shape). This means that our choice of events is sound and can be used without worrying too much about event importance."
   ]
  },
  {
   "cell_type": "code",
   "execution_count": 40,
   "metadata": {},
   "outputs": [
    {
     "data": {
      "text/html": [
       "<div>\n",
       "<style>\n",
       "    .dataframe thead tr:only-child th {\n",
       "        text-align: right;\n",
       "    }\n",
       "\n",
       "    .dataframe thead th {\n",
       "        text-align: left;\n",
       "    }\n",
       "\n",
       "    .dataframe tbody tr th {\n",
       "        vertical-align: top;\n",
       "    }\n",
       "</style>\n",
       "<table border=\"1\" class=\"dataframe\">\n",
       "  <thead>\n",
       "    <tr style=\"text-align: right;\">\n",
       "      <th></th>\n",
       "      <th>Sum_Events</th>\n",
       "    </tr>\n",
       "    <tr>\n",
       "      <th>ActionGeo_CountryCode</th>\n",
       "      <th></th>\n",
       "    </tr>\n",
       "  </thead>\n",
       "  <tbody>\n",
       "    <tr>\n",
       "      <th>US</th>\n",
       "      <td>9495320</td>\n",
       "    </tr>\n",
       "    <tr>\n",
       "      <th>IS</th>\n",
       "      <td>1388619</td>\n",
       "    </tr>\n",
       "    <tr>\n",
       "      <th>PK</th>\n",
       "      <td>1388042</td>\n",
       "    </tr>\n",
       "    <tr>\n",
       "      <th>IZ</th>\n",
       "      <td>1244830</td>\n",
       "    </tr>\n",
       "    <tr>\n",
       "      <th>AF</th>\n",
       "      <td>1176532</td>\n",
       "    </tr>\n",
       "    <tr>\n",
       "      <th>SY</th>\n",
       "      <td>1153458</td>\n",
       "    </tr>\n",
       "    <tr>\n",
       "      <th>UK</th>\n",
       "      <td>1054506</td>\n",
       "    </tr>\n",
       "    <tr>\n",
       "      <th>IN</th>\n",
       "      <td>1012818</td>\n",
       "    </tr>\n",
       "    <tr>\n",
       "      <th>RS</th>\n",
       "      <td>777605</td>\n",
       "    </tr>\n",
       "    <tr>\n",
       "      <th>NI</th>\n",
       "      <td>639071</td>\n",
       "    </tr>\n",
       "  </tbody>\n",
       "</table>\n",
       "</div>"
      ],
      "text/plain": [
       "                       Sum_Events\n",
       "ActionGeo_CountryCode            \n",
       "US                        9495320\n",
       "IS                        1388619\n",
       "PK                        1388042\n",
       "IZ                        1244830\n",
       "AF                        1176532\n",
       "SY                        1153458\n",
       "UK                        1054506\n",
       "IN                        1012818\n",
       "RS                         777605\n",
       "NI                         639071"
      ]
     },
     "execution_count": 40,
     "metadata": {},
     "output_type": "execute_result"
    }
   ],
   "source": [
    "te = pd.read_csv(\"top_event_2000_2016.csv\")\n",
    "ta = pd.read_csv(\"top_acticles_2000_2016.csv\")\n",
    "te.set_index(\"ActionGeo_CountryCode\").head(10)"
   ]
  },
  {
   "cell_type": "code",
   "execution_count": 41,
   "metadata": {},
   "outputs": [
    {
     "data": {
      "text/html": [
       "<div>\n",
       "<style>\n",
       "    .dataframe thead tr:only-child th {\n",
       "        text-align: right;\n",
       "    }\n",
       "\n",
       "    .dataframe thead th {\n",
       "        text-align: left;\n",
       "    }\n",
       "\n",
       "    .dataframe tbody tr th {\n",
       "        vertical-align: top;\n",
       "    }\n",
       "</style>\n",
       "<table border=\"1\" class=\"dataframe\">\n",
       "  <thead>\n",
       "    <tr style=\"text-align: right;\">\n",
       "      <th></th>\n",
       "      <th>Sum_Articles</th>\n",
       "    </tr>\n",
       "    <tr>\n",
       "      <th>ActionGeo_CountryCode</th>\n",
       "      <th></th>\n",
       "    </tr>\n",
       "  </thead>\n",
       "  <tbody>\n",
       "    <tr>\n",
       "      <th>US</th>\n",
       "      <td>126189062</td>\n",
       "    </tr>\n",
       "    <tr>\n",
       "      <th>SY</th>\n",
       "      <td>18233243</td>\n",
       "    </tr>\n",
       "    <tr>\n",
       "      <th>IS</th>\n",
       "      <td>16038607</td>\n",
       "    </tr>\n",
       "    <tr>\n",
       "      <th>IZ</th>\n",
       "      <td>15565613</td>\n",
       "    </tr>\n",
       "    <tr>\n",
       "      <th>AF</th>\n",
       "      <td>14920597</td>\n",
       "    </tr>\n",
       "    <tr>\n",
       "      <th>PK</th>\n",
       "      <td>14025192</td>\n",
       "    </tr>\n",
       "    <tr>\n",
       "      <th>UK</th>\n",
       "      <td>9708506</td>\n",
       "    </tr>\n",
       "    <tr>\n",
       "      <th>IN</th>\n",
       "      <td>8898081</td>\n",
       "    </tr>\n",
       "    <tr>\n",
       "      <th>AS</th>\n",
       "      <td>8213297</td>\n",
       "    </tr>\n",
       "    <tr>\n",
       "      <th>RS</th>\n",
       "      <td>7109102</td>\n",
       "    </tr>\n",
       "  </tbody>\n",
       "</table>\n",
       "</div>"
      ],
      "text/plain": [
       "                       Sum_Articles\n",
       "ActionGeo_CountryCode              \n",
       "US                        126189062\n",
       "SY                         18233243\n",
       "IS                         16038607\n",
       "IZ                         15565613\n",
       "AF                         14920597\n",
       "PK                         14025192\n",
       "UK                          9708506\n",
       "IN                          8898081\n",
       "AS                          8213297\n",
       "RS                          7109102"
      ]
     },
     "execution_count": 41,
     "metadata": {},
     "output_type": "execute_result"
    }
   ],
   "source": [
    "ta.set_index(\"ActionGeo_CountryCode\").head(10)"
   ]
  },
  {
   "cell_type": "markdown",
   "metadata": {
    "collapsed": true
   },
   "source": [
    "# Discussion\n",
    "\n",
    "First, we know from our different queries that the number of article has greatly increase during the period of time we considered, namely 2000 to 2016. The number of sources that were scrap for each event has also changed over time. Therefore we will have to be careful to not interpret the number articles evolution in itself without care as a media coverage mesure.\n",
    "The Syrian death reports seems to be temporary not available on the UDCP platform. \n",
    "Another important thing is that the articles sources seems to be mainly centered on american news platforms. This can be seen in the last two plots. The total number of event and articles for the US is huge. Therefore events in the US are more documented than other countries. That is why we think that US news are more investigated.\n"
   ]
  },
  {
   "cell_type": "code",
   "execution_count": null,
   "metadata": {
    "collapsed": true
   },
   "outputs": [],
   "source": []
  }
 ],
 "metadata": {
  "kernelspec": {
   "display_name": "Python [default]",
   "language": "python",
   "name": "python3"
  },
  "language_info": {
   "codemirror_mode": {
    "name": "ipython",
    "version": 3
   },
   "file_extension": ".py",
   "mimetype": "text/x-python",
   "name": "python",
   "nbconvert_exporter": "python",
   "pygments_lexer": "ipython3",
   "version": "3.6.2"
  }
 },
 "nbformat": 4,
 "nbformat_minor": 2
}
