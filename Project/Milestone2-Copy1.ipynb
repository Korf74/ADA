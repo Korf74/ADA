{
 "cells": [
  {
   "cell_type": "code",
   "execution_count": 289,
   "metadata": {},
   "outputs": [],
   "source": [
    "import pandas as pd\n",
    "import pyarrow.parquet as pq\n",
    "%matplotlib inline\n",
    "import matplotlib\n",
    "import matplotlib.pyplot as plt\n",
    "from tqdm import tqdm\n",
    "import seaborn as sbs"
   ]
  },
  {
   "cell_type": "code",
   "execution_count": 290,
   "metadata": {
    "collapsed": true
   },
   "outputs": [],
   "source": [
    "target = pd.read_json(\"niro3.json\", orient='records', lines=True)\n",
    "source = pd.read_json(\"niroSource.txt\", orient='records', lines=True)\n",
    "\n",
    "target.columns = ['EventCode', 'Date', 'Country', 'Events', 'Articles']\n",
    "source.columns = ['EventCode', 'Date', 'Country', 'Events', 'Articles']"
   ]
  },
  {
   "cell_type": "code",
   "execution_count": 291,
   "metadata": {},
   "outputs": [
    {
     "data": {
      "text/html": [
       "<div>\n",
       "<style>\n",
       "    .dataframe thead tr:only-child th {\n",
       "        text-align: right;\n",
       "    }\n",
       "\n",
       "    .dataframe thead th {\n",
       "        text-align: left;\n",
       "    }\n",
       "\n",
       "    .dataframe tbody tr th {\n",
       "        vertical-align: top;\n",
       "    }\n",
       "</style>\n",
       "<table border=\"1\" class=\"dataframe\">\n",
       "  <thead>\n",
       "    <tr style=\"text-align: right;\">\n",
       "      <th></th>\n",
       "      <th>EventCode</th>\n",
       "      <th>Date</th>\n",
       "      <th>Country</th>\n",
       "      <th>Events</th>\n",
       "      <th>Articles</th>\n",
       "    </tr>\n",
       "  </thead>\n",
       "  <tbody>\n",
       "    <tr>\n",
       "      <th>0</th>\n",
       "      <td>19</td>\n",
       "      <td>200705</td>\n",
       "      <td>IRQ</td>\n",
       "      <td>4100</td>\n",
       "      <td>23400</td>\n",
       "    </tr>\n",
       "    <tr>\n",
       "      <th>1</th>\n",
       "      <td>19</td>\n",
       "      <td>200305</td>\n",
       "      <td>SYR</td>\n",
       "      <td>52</td>\n",
       "      <td>276</td>\n",
       "    </tr>\n",
       "    <tr>\n",
       "      <th>2</th>\n",
       "      <td>20</td>\n",
       "      <td>200705</td>\n",
       "      <td>PAK</td>\n",
       "      <td>4</td>\n",
       "      <td>23</td>\n",
       "    </tr>\n",
       "    <tr>\n",
       "      <th>3</th>\n",
       "      <td>19</td>\n",
       "      <td>200604</td>\n",
       "      <td>PAK</td>\n",
       "      <td>512</td>\n",
       "      <td>1226</td>\n",
       "    </tr>\n",
       "    <tr>\n",
       "      <th>4</th>\n",
       "      <td>18</td>\n",
       "      <td>200605</td>\n",
       "      <td>AFG</td>\n",
       "      <td>174</td>\n",
       "      <td>472</td>\n",
       "    </tr>\n",
       "  </tbody>\n",
       "</table>\n",
       "</div>"
      ],
      "text/plain": [
       "   EventCode    Date Country  Events  Articles\n",
       "0         19  200705     IRQ    4100     23400\n",
       "1         19  200305     SYR      52       276\n",
       "2         20  200705     PAK       4        23\n",
       "3         19  200604     PAK     512      1226\n",
       "4         18  200605     AFG     174       472"
      ]
     },
     "execution_count": 291,
     "metadata": {},
     "output_type": "execute_result"
    }
   ],
   "source": [
    "source.head()"
   ]
  },
  {
   "cell_type": "code",
   "execution_count": 292,
   "metadata": {},
   "outputs": [
    {
     "data": {
      "text/html": [
       "<div>\n",
       "<style>\n",
       "    .dataframe thead tr:only-child th {\n",
       "        text-align: right;\n",
       "    }\n",
       "\n",
       "    .dataframe thead th {\n",
       "        text-align: left;\n",
       "    }\n",
       "\n",
       "    .dataframe tbody tr th {\n",
       "        vertical-align: top;\n",
       "    }\n",
       "</style>\n",
       "<table border=\"1\" class=\"dataframe\">\n",
       "  <thead>\n",
       "    <tr style=\"text-align: right;\">\n",
       "      <th></th>\n",
       "      <th>EventCode</th>\n",
       "      <th>Date</th>\n",
       "      <th>Country</th>\n",
       "      <th>Events</th>\n",
       "      <th>Articles</th>\n",
       "    </tr>\n",
       "  </thead>\n",
       "  <tbody>\n",
       "    <tr>\n",
       "      <th>0</th>\n",
       "      <td>20</td>\n",
       "      <td>200406</td>\n",
       "      <td>SYR</td>\n",
       "      <td>10</td>\n",
       "      <td>32</td>\n",
       "    </tr>\n",
       "    <tr>\n",
       "      <th>1</th>\n",
       "      <td>18</td>\n",
       "      <td>201105</td>\n",
       "      <td>MEX</td>\n",
       "      <td>108</td>\n",
       "      <td>466</td>\n",
       "    </tr>\n",
       "    <tr>\n",
       "      <th>2</th>\n",
       "      <td>19</td>\n",
       "      <td>200705</td>\n",
       "      <td>IRQ</td>\n",
       "      <td>3360</td>\n",
       "      <td>17815</td>\n",
       "    </tr>\n",
       "    <tr>\n",
       "      <th>3</th>\n",
       "      <td>20</td>\n",
       "      <td>200705</td>\n",
       "      <td>PAK</td>\n",
       "      <td>1</td>\n",
       "      <td>9</td>\n",
       "    </tr>\n",
       "    <tr>\n",
       "      <th>4</th>\n",
       "      <td>19</td>\n",
       "      <td>200305</td>\n",
       "      <td>SYR</td>\n",
       "      <td>26</td>\n",
       "      <td>104</td>\n",
       "    </tr>\n",
       "  </tbody>\n",
       "</table>\n",
       "</div>"
      ],
      "text/plain": [
       "   EventCode    Date Country  Events  Articles\n",
       "0         20  200406     SYR      10        32\n",
       "1         18  201105     MEX     108       466\n",
       "2         19  200705     IRQ    3360     17815\n",
       "3         20  200705     PAK       1         9\n",
       "4         19  200305     SYR      26       104"
      ]
     },
     "execution_count": 292,
     "metadata": {},
     "output_type": "execute_result"
    }
   ],
   "source": [
    "target.head()"
   ]
  },
  {
   "cell_type": "code",
   "execution_count": 293,
   "metadata": {
    "collapsed": true
   },
   "outputs": [],
   "source": [
    "def df_country(_df, country):\n",
    "    return _df[_df.Country == country].drop('Country', axis=1).set_index(['Date'])"
   ]
  },
  {
   "cell_type": "code",
   "execution_count": 294,
   "metadata": {},
   "outputs": [
    {
     "data": {
      "text/html": [
       "<div>\n",
       "<style>\n",
       "    .dataframe thead tr:only-child th {\n",
       "        text-align: right;\n",
       "    }\n",
       "\n",
       "    .dataframe thead th {\n",
       "        text-align: left;\n",
       "    }\n",
       "\n",
       "    .dataframe tbody tr th {\n",
       "        vertical-align: top;\n",
       "    }\n",
       "</style>\n",
       "<table border=\"1\" class=\"dataframe\">\n",
       "  <thead>\n",
       "    <tr style=\"text-align: right;\">\n",
       "      <th></th>\n",
       "      <th>Date</th>\n",
       "      <th>Country</th>\n",
       "      <th>Ratio</th>\n",
       "    </tr>\n",
       "  </thead>\n",
       "  <tbody>\n",
       "    <tr>\n",
       "      <th>0</th>\n",
       "      <td>200301</td>\n",
       "      <td>MEX</td>\n",
       "      <td>3.000000</td>\n",
       "    </tr>\n",
       "    <tr>\n",
       "      <th>1</th>\n",
       "      <td>200301</td>\n",
       "      <td>PAK</td>\n",
       "      <td>4.025822</td>\n",
       "    </tr>\n",
       "    <tr>\n",
       "      <th>2</th>\n",
       "      <td>200302</td>\n",
       "      <td>AFG</td>\n",
       "      <td>4.453642</td>\n",
       "    </tr>\n",
       "    <tr>\n",
       "      <th>3</th>\n",
       "      <td>200302</td>\n",
       "      <td>IRQ</td>\n",
       "      <td>4.048154</td>\n",
       "    </tr>\n",
       "    <tr>\n",
       "      <th>4</th>\n",
       "      <td>200302</td>\n",
       "      <td>MEX</td>\n",
       "      <td>5.035714</td>\n",
       "    </tr>\n",
       "  </tbody>\n",
       "</table>\n",
       "</div>"
      ],
      "text/plain": [
       "     Date Country     Ratio\n",
       "0  200301     MEX  3.000000\n",
       "1  200301     PAK  4.025822\n",
       "2  200302     AFG  4.453642\n",
       "3  200302     IRQ  4.048154\n",
       "4  200302     MEX  5.035714"
      ]
     },
     "execution_count": 294,
     "metadata": {},
     "output_type": "execute_result"
    }
   ],
   "source": [
    "df = pd.concat([target, source])\n",
    "\n",
    "df_grouped = df.groupby(['Date', 'Country']).sum().drop(['EventCode'], axis=1).sort_index(level=[0,1])\n",
    "\n",
    "df = df_grouped.reset_index()\n",
    "\n",
    "df['Ratio'] = df['Articles'] / df['Events'].astype('float')\n",
    "\n",
    "df.drop(['Events', 'Articles'], axis=1, inplace=True)\n",
    "\n",
    "irq = df_country(df, 'IRQ')\n",
    "mex = df_country(df, 'MEX')\n",
    "pak = df_country(df, 'PAK')\n",
    "afg = df_country(df, 'AFG')\n",
    "syr = df_country(df, 'SYR')\n",
    "\n",
    "df.head()"
   ]
  },
  {
   "cell_type": "code",
   "execution_count": 295,
   "metadata": {},
   "outputs": [
    {
     "data": {
      "text/html": [
       "<div>\n",
       "<style>\n",
       "    .dataframe thead tr:only-child th {\n",
       "        text-align: right;\n",
       "    }\n",
       "\n",
       "    .dataframe thead th {\n",
       "        text-align: left;\n",
       "    }\n",
       "\n",
       "    .dataframe tbody tr th {\n",
       "        vertical-align: top;\n",
       "    }\n",
       "</style>\n",
       "<table border=\"1\" class=\"dataframe\">\n",
       "  <thead>\n",
       "    <tr style=\"text-align: right;\">\n",
       "      <th></th>\n",
       "      <th>Date</th>\n",
       "      <th>Country</th>\n",
       "      <th>Ratio</th>\n",
       "    </tr>\n",
       "  </thead>\n",
       "  <tbody>\n",
       "    <tr>\n",
       "      <th>0</th>\n",
       "      <td>2003</td>\n",
       "      <td>AFG</td>\n",
       "      <td>5.035443</td>\n",
       "    </tr>\n",
       "    <tr>\n",
       "      <th>1</th>\n",
       "      <td>2003</td>\n",
       "      <td>IRQ</td>\n",
       "      <td>5.031210</td>\n",
       "    </tr>\n",
       "    <tr>\n",
       "      <th>2</th>\n",
       "      <td>2003</td>\n",
       "      <td>MEX</td>\n",
       "      <td>3.991760</td>\n",
       "    </tr>\n",
       "    <tr>\n",
       "      <th>3</th>\n",
       "      <td>2003</td>\n",
       "      <td>PAK</td>\n",
       "      <td>4.342021</td>\n",
       "    </tr>\n",
       "    <tr>\n",
       "      <th>4</th>\n",
       "      <td>2003</td>\n",
       "      <td>SYR</td>\n",
       "      <td>4.420870</td>\n",
       "    </tr>\n",
       "  </tbody>\n",
       "</table>\n",
       "</div>"
      ],
      "text/plain": [
       "   Date Country     Ratio\n",
       "0  2003     AFG  5.035443\n",
       "1  2003     IRQ  5.031210\n",
       "2  2003     MEX  3.991760\n",
       "3  2003     PAK  4.342021\n",
       "4  2003     SYR  4.420870"
      ]
     },
     "execution_count": 295,
     "metadata": {},
     "output_type": "execute_result"
    }
   ],
   "source": [
    "df_year = df.copy()\n",
    "\n",
    "df_year['Date'] = df_year['Date'].apply(lambda d: int(d/100))\n",
    "\n",
    "df_year = df_year.groupby(['Date', 'Country']).mean().reset_index()\n",
    "\n",
    "irq_year1 = df_country(df_year, 'IRQ')\n",
    "mex_year1 = df_country(df_year, 'MEX')\n",
    "pak_year1 = df_country(df_year, 'PAK')\n",
    "afg_year1 = df_country(df_year, 'AFG')\n",
    "syr_year1 = df_country(df_year, 'SYR')\n",
    "\n",
    "df_year.head()"
   ]
  },
  {
   "cell_type": "code",
   "execution_count": 296,
   "metadata": {},
   "outputs": [
    {
     "data": {
      "text/html": [
       "<div>\n",
       "<style>\n",
       "    .dataframe thead tr:only-child th {\n",
       "        text-align: right;\n",
       "    }\n",
       "\n",
       "    .dataframe thead th {\n",
       "        text-align: left;\n",
       "    }\n",
       "\n",
       "    .dataframe tbody tr th {\n",
       "        vertical-align: top;\n",
       "    }\n",
       "</style>\n",
       "<table border=\"1\" class=\"dataframe\">\n",
       "  <thead>\n",
       "    <tr style=\"text-align: right;\">\n",
       "      <th></th>\n",
       "      <th>Ratio</th>\n",
       "    </tr>\n",
       "    <tr>\n",
       "      <th>Date</th>\n",
       "      <th></th>\n",
       "    </tr>\n",
       "  </thead>\n",
       "  <tbody>\n",
       "    <tr>\n",
       "      <th>200302</th>\n",
       "      <td>4.048154</td>\n",
       "    </tr>\n",
       "    <tr>\n",
       "      <th>200303</th>\n",
       "      <td>5.565340</td>\n",
       "    </tr>\n",
       "    <tr>\n",
       "      <th>200304</th>\n",
       "      <td>5.630435</td>\n",
       "    </tr>\n",
       "    <tr>\n",
       "      <th>200309</th>\n",
       "      <td>4.880911</td>\n",
       "    </tr>\n",
       "    <tr>\n",
       "      <th>200402</th>\n",
       "      <td>4.962013</td>\n",
       "    </tr>\n",
       "  </tbody>\n",
       "</table>\n",
       "</div>"
      ],
      "text/plain": [
       "           Ratio\n",
       "Date            \n",
       "200302  4.048154\n",
       "200303  5.565340\n",
       "200304  5.630435\n",
       "200309  4.880911\n",
       "200402  4.962013"
      ]
     },
     "execution_count": 296,
     "metadata": {},
     "output_type": "execute_result"
    }
   ],
   "source": [
    "irq.head()"
   ]
  },
  {
   "cell_type": "code",
   "execution_count": 297,
   "metadata": {},
   "outputs": [
    {
     "data": {
      "text/plain": [
       "<matplotlib.axes._subplots.AxesSubplot at 0x7f9c5eddae10>"
      ]
     },
     "execution_count": 297,
     "metadata": {},
     "output_type": "execute_result"
    },
    {
     "data": {
      "image/png": "[encoded data removed]",
      "text/plain": [
       "<matplotlib.figure.Figure at 0x7f9c5ffcec18>"
      ]
     },
     "metadata": {},
     "output_type": "display_data"
    }
   ],
   "source": [
    "sbs.distplot(irq_year1, hist=False ,label='Irak')\n",
    "sbs.distplot(mex_year1, hist=False,label='Mexico')\n",
    "sbs.distplot(pak_year1, hist=False,label='Pakistan')\n",
    "sbs.distplot(afg_year1, hist=False,label='Afghanistan')\n",
    "sbs.distplot(syr_year1 , hist=False,label='Syria')\n"
   ]
  },
  {
   "cell_type": "code",
   "execution_count": 298,
   "metadata": {},
   "outputs": [
    {
     "data": {
      "image/png": "[encoded data removed]",
      "text/plain": [
       "<matplotlib.figure.Figure at 0x7f9c5f085438>"
      ]
     },
     "metadata": {},
     "output_type": "display_data"
    },
    {
     "data": {
      "text/html": [
       "<div>\n",
       "<style>\n",
       "    .dataframe thead tr:only-child th {\n",
       "        text-align: right;\n",
       "    }\n",
       "\n",
       "    .dataframe thead th {\n",
       "        text-align: left;\n",
       "    }\n",
       "\n",
       "    .dataframe tbody tr th {\n",
       "        vertical-align: top;\n",
       "    }\n",
       "</style>\n",
       "<table border=\"1\" class=\"dataframe\">\n",
       "  <thead>\n",
       "    <tr style=\"text-align: right;\">\n",
       "      <th></th>\n",
       "      <th>Ratio</th>\n",
       "      <th>Ratio</th>\n",
       "      <th>Ratio</th>\n",
       "      <th>Ratio</th>\n",
       "      <th>Ratio</th>\n",
       "    </tr>\n",
       "    <tr>\n",
       "      <th>Date</th>\n",
       "      <th></th>\n",
       "      <th></th>\n",
       "      <th></th>\n",
       "      <th></th>\n",
       "      <th></th>\n",
       "    </tr>\n",
       "  </thead>\n",
       "  <tbody>\n",
       "    <tr>\n",
       "      <th>2003</th>\n",
       "      <td>5.031210</td>\n",
       "      <td>5.035443</td>\n",
       "      <td>3.991760</td>\n",
       "      <td>4.342021</td>\n",
       "      <td>4.420870</td>\n",
       "    </tr>\n",
       "    <tr>\n",
       "      <th>2004</th>\n",
       "      <td>4.896588</td>\n",
       "      <td>4.748898</td>\n",
       "      <td>4.010713</td>\n",
       "      <td>3.936342</td>\n",
       "      <td>4.125753</td>\n",
       "    </tr>\n",
       "    <tr>\n",
       "      <th>2005</th>\n",
       "      <td>4.923805</td>\n",
       "      <td>4.919242</td>\n",
       "      <td>3.776874</td>\n",
       "      <td>4.083817</td>\n",
       "      <td>3.529560</td>\n",
       "    </tr>\n",
       "    <tr>\n",
       "      <th>2006</th>\n",
       "      <td>3.905440</td>\n",
       "      <td>3.246893</td>\n",
       "      <td>2.697095</td>\n",
       "      <td>2.839903</td>\n",
       "      <td>2.150163</td>\n",
       "    </tr>\n",
       "    <tr>\n",
       "      <th>2007</th>\n",
       "      <td>5.400668</td>\n",
       "      <td>5.033961</td>\n",
       "      <td>4.192154</td>\n",
       "      <td>4.827676</td>\n",
       "      <td>3.683005</td>\n",
       "    </tr>\n",
       "    <tr>\n",
       "      <th>2008</th>\n",
       "      <td>5.159575</td>\n",
       "      <td>5.854719</td>\n",
       "      <td>4.920999</td>\n",
       "      <td>4.117818</td>\n",
       "      <td>5.272778</td>\n",
       "    </tr>\n",
       "    <tr>\n",
       "      <th>2009</th>\n",
       "      <td>9.344261</td>\n",
       "      <td>6.767181</td>\n",
       "      <td>5.873405</td>\n",
       "      <td>6.412760</td>\n",
       "      <td>4.262187</td>\n",
       "    </tr>\n",
       "    <tr>\n",
       "      <th>2010</th>\n",
       "      <td>7.496016</td>\n",
       "      <td>6.714280</td>\n",
       "      <td>11.295705</td>\n",
       "      <td>5.521167</td>\n",
       "      <td>5.395579</td>\n",
       "    </tr>\n",
       "    <tr>\n",
       "      <th>2011</th>\n",
       "      <td>7.424127</td>\n",
       "      <td>10.120923</td>\n",
       "      <td>9.036374</td>\n",
       "      <td>8.975778</td>\n",
       "      <td>9.387958</td>\n",
       "    </tr>\n",
       "    <tr>\n",
       "      <th>2012</th>\n",
       "      <td>10.928751</td>\n",
       "      <td>10.800568</td>\n",
       "      <td>9.721461</td>\n",
       "      <td>9.363879</td>\n",
       "      <td>14.047041</td>\n",
       "    </tr>\n",
       "    <tr>\n",
       "      <th>2013</th>\n",
       "      <td>10.854154</td>\n",
       "      <td>7.896117</td>\n",
       "      <td>12.034036</td>\n",
       "      <td>6.746587</td>\n",
       "      <td>9.887895</td>\n",
       "    </tr>\n",
       "  </tbody>\n",
       "</table>\n",
       "</div>"
      ],
      "text/plain": [
       "          Ratio      Ratio      Ratio     Ratio      Ratio\n",
       "Date                                                      \n",
       "2003   5.031210   5.035443   3.991760  4.342021   4.420870\n",
       "2004   4.896588   4.748898   4.010713  3.936342   4.125753\n",
       "2005   4.923805   4.919242   3.776874  4.083817   3.529560\n",
       "2006   3.905440   3.246893   2.697095  2.839903   2.150163\n",
       "2007   5.400668   5.033961   4.192154  4.827676   3.683005\n",
       "2008   5.159575   5.854719   4.920999  4.117818   5.272778\n",
       "2009   9.344261   6.767181   5.873405  6.412760   4.262187\n",
       "2010   7.496016   6.714280  11.295705  5.521167   5.395579\n",
       "2011   7.424127  10.120923   9.036374  8.975778   9.387958\n",
       "2012  10.928751  10.800568   9.721461  9.363879  14.047041\n",
       "2013  10.854154   7.896117  12.034036  6.746587   9.887895"
      ]
     },
     "execution_count": 298,
     "metadata": {},
     "output_type": "execute_result"
    }
   ],
   "source": [
    "data  =[irq_year1,afg_year1,mex_year1,pak_year1,syr_year1]\n",
    "data = pd.concat(data, axis=1)\n",
    "data.boxplot()\n",
    "plt.show()\n",
    "\n",
    "data"
   ]
  },
  {
   "cell_type": "code",
   "execution_count": 299,
   "metadata": {},
   "outputs": [],
   "source": [
    "def load_country(country_code):\n",
    "    x = pd.read_csv('deaths_'+country_code+'.csv').drop(['country'], axis=1)\n",
    "    x.columns = ['Date', 'Deaths']\n",
    "    if(country_code == 'MEX'):\n",
    "        x = x.append(pd.DataFrame([[2003, 0]], columns=['Date', 'Deaths']))\n",
    "    return x.set_index('Date').sort_index()\n",
    "\n",
    "def normalize(_df):\n",
    "    return abs(_df - _df.mean()) / _df.std()\n",
    "\n",
    "irq_year = load_country('IRQ').join(irq_year1)\n",
    "mex_year = load_country('MEX').join(mex_year1)\n",
    "pak_year = load_country('PAK').join(pak_year1)\n",
    "afg_year = load_country('AFG').join(afg_year1)\n",
    "\n",
    "irq_year_normalized = normalize(irq_year)\n",
    "mex_year_normalized = normalize(mex_year)\n",
    "pak_year_normalized = normalize(pak_year)\n",
    "afg_year_normalized = normalize(afg_year)"
   ]
  },
  {
   "cell_type": "code",
   "execution_count": 300,
   "metadata": {},
   "outputs": [
    {
     "data": {
      "text/plain": [
       "<matplotlib.axes._subplots.AxesSubplot at 0x7f9c5eb2cb38>"
      ]
     },
     "execution_count": 300,
     "metadata": {},
     "output_type": "execute_result"
    },
    {
     "data": {
      "image/png": "[encoded data removed]",
      "text/plain": [
       "<matplotlib.figure.Figure at 0x7f9c5ef83a20>"
      ]
     },
     "metadata": {},
     "output_type": "display_data"
    }
   ],
   "source": [
    "irq_year_normalized.plot(kind='bar')"
   ]
  },
  {
   "cell_type": "code",
   "execution_count": 301,
   "metadata": {},
   "outputs": [
    {
     "data": {
      "text/plain": [
       "<matplotlib.axes._subplots.AxesSubplot at 0x7f9c5eb2c080>"
      ]
     },
     "execution_count": 301,
     "metadata": {},
     "output_type": "execute_result"
    },
    {
     "data": {
      "image/png": "[encoded data removed]",
      "text/plain": [
       "<matplotlib.figure.Figure at 0x7f9c5ea35f28>"
      ]
     },
     "metadata": {},
     "output_type": "display_data"
    }
   ],
   "source": [
    "afg_year_normalized.plot(kind='bar')"
   ]
  },
  {
   "cell_type": "code",
   "execution_count": 302,
   "metadata": {},
   "outputs": [
    {
     "data": {
      "text/plain": [
       "<matplotlib.axes._subplots.AxesSubplot at 0x7f9c5e943e10>"
      ]
     },
     "execution_count": 302,
     "metadata": {},
     "output_type": "execute_result"
    },
    {
     "data": {
      "image/png": "[encoded data removed]",
      "text/plain": [
       "<matplotlib.figure.Figure at 0x7f9c5e8d8be0>"
      ]
     },
     "metadata": {},
     "output_type": "display_data"
    }
   ],
   "source": [
    "mex_year_normalized.plot(kind='bar')"
   ]
  },
  {
   "cell_type": "code",
   "execution_count": 303,
   "metadata": {},
   "outputs": [
    {
     "data": {
      "text/plain": [
       "<matplotlib.axes._subplots.AxesSubplot at 0x7f9c5e7e0550>"
      ]
     },
     "execution_count": 303,
     "metadata": {},
     "output_type": "execute_result"
    },
    {
     "data": {
      "image/png": "[encoded data removed]",
      "text/plain": [
       "<matplotlib.figure.Figure at 0x7f9c5e7ef748>"
      ]
     },
     "metadata": {},
     "output_type": "display_data"
    }
   ],
   "source": [
    "pak_year_normalized.plot(kind='bar')"
   ]
  },
  {
   "cell_type": "code",
   "execution_count": 313,
   "metadata": {},
   "outputs": [
    {
     "data": {
      "text/html": [
       "<div>\n",
       "<style>\n",
       "    .dataframe thead tr:only-child th {\n",
       "        text-align: right;\n",
       "    }\n",
       "\n",
       "    .dataframe thead th {\n",
       "        text-align: left;\n",
       "    }\n",
       "\n",
       "    .dataframe tbody tr th {\n",
       "        vertical-align: top;\n",
       "    }\n",
       "</style>\n",
       "<table border=\"1\" class=\"dataframe\">\n",
       "  <thead>\n",
       "    <tr style=\"text-align: right;\">\n",
       "      <th></th>\n",
       "      <th>Iraq_Deaths</th>\n",
       "      <th>Afghanistan_Deaths</th>\n",
       "      <th>Mexico_Deaths</th>\n",
       "      <th>Pakistan_Deaths</th>\n",
       "      <th>Iraq_Ratio</th>\n",
       "      <th>Afghanistan_Ratio</th>\n",
       "      <th>Mexico_Ratio</th>\n",
       "      <th>Pakistan_Ratio</th>\n",
       "    </tr>\n",
       "    <tr>\n",
       "      <th>Date</th>\n",
       "      <th></th>\n",
       "      <th></th>\n",
       "      <th></th>\n",
       "      <th></th>\n",
       "      <th></th>\n",
       "      <th></th>\n",
       "      <th></th>\n",
       "      <th></th>\n",
       "    </tr>\n",
       "  </thead>\n",
       "  <tbody>\n",
       "    <tr>\n",
       "      <th>2003</th>\n",
       "      <td>2.304319</td>\n",
       "      <td>0.718901</td>\n",
       "      <td>1.544870</td>\n",
       "      <td>0.613153</td>\n",
       "      <td>1.157201</td>\n",
       "      <td>0.747483</td>\n",
       "      <td>0.986209</td>\n",
       "      <td>0.577143</td>\n",
       "    </tr>\n",
       "    <tr>\n",
       "      <th>2004</th>\n",
       "      <td>0.458111</td>\n",
       "      <td>0.772074</td>\n",
       "      <td>1.589909</td>\n",
       "      <td>0.735874</td>\n",
       "      <td>0.961886</td>\n",
       "      <td>0.741845</td>\n",
       "      <td>0.915964</td>\n",
       "      <td>0.769264</td>\n",
       "    </tr>\n",
       "    <tr>\n",
       "      <th>2005</th>\n",
       "      <td>0.029328</td>\n",
       "      <td>0.761323</td>\n",
       "      <td>1.272862</td>\n",
       "      <td>0.662919</td>\n",
       "      <td>0.991184</td>\n",
       "      <td>0.811404</td>\n",
       "      <td>1.018916</td>\n",
       "      <td>0.699423</td>\n",
       "    </tr>\n",
       "    <tr>\n",
       "      <th>2006</th>\n",
       "      <td>0.582072</td>\n",
       "      <td>1.163553</td>\n",
       "      <td>0.112840</td>\n",
       "      <td>1.379150</td>\n",
       "      <td>0.548174</td>\n",
       "      <td>1.132601</td>\n",
       "      <td>0.917079</td>\n",
       "      <td>1.288515</td>\n",
       "    </tr>\n",
       "    <tr>\n",
       "      <th>2007</th>\n",
       "      <td>0.521108</td>\n",
       "      <td>0.572974</td>\n",
       "      <td>0.609914</td>\n",
       "      <td>0.613788</td>\n",
       "      <td>0.615646</td>\n",
       "      <td>0.687873</td>\n",
       "      <td>0.568081</td>\n",
       "      <td>0.347147</td>\n",
       "    </tr>\n",
       "    <tr>\n",
       "      <th>2008</th>\n",
       "      <td>0.371514</td>\n",
       "      <td>0.668200</td>\n",
       "      <td>0.127605</td>\n",
       "      <td>0.262274</td>\n",
       "      <td>0.502089</td>\n",
       "      <td>0.471066</td>\n",
       "      <td>0.641333</td>\n",
       "      <td>0.683321</td>\n",
       "    </tr>\n",
       "    <tr>\n",
       "      <th>2009</th>\n",
       "      <td>0.886664</td>\n",
       "      <td>0.984648</td>\n",
       "      <td>0.425147</td>\n",
       "      <td>0.128513</td>\n",
       "      <td>0.851880</td>\n",
       "      <td>0.187758</td>\n",
       "      <td>1.696876</td>\n",
       "      <td>0.403516</td>\n",
       "    </tr>\n",
       "    <tr>\n",
       "      <th>2010</th>\n",
       "      <td>0.819095</td>\n",
       "      <td>0.254636</td>\n",
       "      <td>0.656372</td>\n",
       "      <td>0.105857</td>\n",
       "      <td>1.784066</td>\n",
       "      <td>1.425190</td>\n",
       "      <td>1.609905</td>\n",
       "      <td>0.018724</td>\n",
       "    </tr>\n",
       "    <tr>\n",
       "      <th>2011</th>\n",
       "      <td>1.051268</td>\n",
       "      <td>0.226242</td>\n",
       "      <td>0.803192</td>\n",
       "      <td>1.564849</td>\n",
       "      <td>1.253164</td>\n",
       "      <td>0.753116</td>\n",
       "      <td>0.215400</td>\n",
       "      <td>1.617307</td>\n",
       "    </tr>\n",
       "    <tr>\n",
       "      <th>2012</th>\n",
       "      <td>1.044663</td>\n",
       "      <td>1.610482</td>\n",
       "      <td>0.894334</td>\n",
       "      <td>1.855926</td>\n",
       "      <td>0.351164</td>\n",
       "      <td>0.956906</td>\n",
       "      <td>0.239930</td>\n",
       "      <td>1.801104</td>\n",
       "    </tr>\n",
       "    <tr>\n",
       "      <th>2013</th>\n",
       "      <td>0.278266</td>\n",
       "      <td>1.581018</td>\n",
       "      <td>1.003917</td>\n",
       "      <td>0.612012</td>\n",
       "      <td>0.468272</td>\n",
       "      <td>1.644818</td>\n",
       "      <td>0.002804</td>\n",
       "      <td>0.561609</td>\n",
       "    </tr>\n",
       "  </tbody>\n",
       "</table>\n",
       "</div>"
      ],
      "text/plain": [
       "      Iraq_Deaths  Afghanistan_Deaths  Mexico_Deaths  Pakistan_Deaths  \\\n",
       "Date                                                                    \n",
       "2003     2.304319            0.718901       1.544870         0.613153   \n",
       "2004     0.458111            0.772074       1.589909         0.735874   \n",
       "2005     0.029328            0.761323       1.272862         0.662919   \n",
       "2006     0.582072            1.163553       0.112840         1.379150   \n",
       "2007     0.521108            0.572974       0.609914         0.613788   \n",
       "2008     0.371514            0.668200       0.127605         0.262274   \n",
       "2009     0.886664            0.984648       0.425147         0.128513   \n",
       "2010     0.819095            0.254636       0.656372         0.105857   \n",
       "2011     1.051268            0.226242       0.803192         1.564849   \n",
       "2012     1.044663            1.610482       0.894334         1.855926   \n",
       "2013     0.278266            1.581018       1.003917         0.612012   \n",
       "\n",
       "      Iraq_Ratio  Afghanistan_Ratio  Mexico_Ratio  Pakistan_Ratio  \n",
       "Date                                                               \n",
       "2003    1.157201           0.747483      0.986209        0.577143  \n",
       "2004    0.961886           0.741845      0.915964        0.769264  \n",
       "2005    0.991184           0.811404      1.018916        0.699423  \n",
       "2006    0.548174           1.132601      0.917079        1.288515  \n",
       "2007    0.615646           0.687873      0.568081        0.347147  \n",
       "2008    0.502089           0.471066      0.641333        0.683321  \n",
       "2009    0.851880           0.187758      1.696876        0.403516  \n",
       "2010    1.784066           1.425190      1.609905        0.018724  \n",
       "2011    1.253164           0.753116      0.215400        1.617307  \n",
       "2012    0.351164           0.956906      0.239930        1.801104  \n",
       "2013    0.468272           1.644818      0.002804        0.561609  "
      ]
     },
     "execution_count": 313,
     "metadata": {},
     "output_type": "execute_result"
    }
   ],
   "source": [
    "data  =[irq_year_normalized,afg_year_normalized,mex_year_normalized,pak_year_normalized]\n",
    "data = pd.concat(data, axis=1)\n",
    "\n",
    "data.columns = [x + '_' + y for y in ['Deaths', 'Ratio'] for x in ['Iraq', 'Afghanistan', 'Mexico', 'Pakistan']]\n",
    "\n",
    "data"
   ]
  },
  {
   "cell_type": "code",
   "execution_count": null,
   "metadata": {
    "collapsed": true
   },
   "outputs": [],
   "source": []
  }
 ],
 "metadata": {
  "kernelspec": {
   "display_name": "Python [default]",
   "language": "python",
   "name": "python3"
  },
  "language_info": {
   "codemirror_mode": {
    "name": "ipython",
    "version": 3
   },
   "file_extension": ".py",
   "mimetype": "text/x-python",
   "name": "python",
   "nbconvert_exporter": "python",
   "pygments_lexer": "ipython3",
   "version": "3.6.2"
  }
 },
 "nbformat": 4,
 "nbformat_minor": 2
}
