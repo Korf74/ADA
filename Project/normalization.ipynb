{
 "cells": [
  {
   "cell_type": "code",
   "execution_count": 429,
   "metadata": {
    "collapsed": true
   },
   "outputs": [],
   "source": [
    "import pandas as pd\n",
    "import pyarrow.parquet as pq\n",
    "%matplotlib inline\n",
    "import matplotlib\n",
    "import matplotlib.pyplot as plt\n",
    "from tqdm import tqdm\n",
    "import seaborn as sbs"
   ]
  },
  {
   "cell_type": "markdown",
   "metadata": {},
   "source": [
    "# Introduction\n",
    "\n",
    "We aim to extract meaningful data from the GDELT 2.0 dataset. \n",
    "\n",
    "We want to analyse the media coverage of violent events in some specific countries (Afghanistan, Syria, Iraq, Pakistan and Mexico) over the years 2000 to 2016.\n",
    "\n",
    "We used :\n",
    "\n",
    "* *ActionGeo_CountryName*, the 2-character FIPS10-4 country code for the location of the events to get the countries.\n",
    "* [*EventRootCode*](http://data.gdeltproject.org/documentation/CAMEO.Manual.1.1b3.pdf) 18, 19 and 20 that correspond to the most violent events in the documentation.\n",
    "* *MonthYear* to have the date (in month and year) of each event\n",
    "* *Events* that we got from our SQL query as being the number of events per month\n",
    "* *Articles* from our SQL query as well, being the number of Articles per month\n",
    "\n",
    "We chose to extract data from the [**UCDP**](http://ucdp.uu.se/) dataset, we kept only our featured countries and the best estimation given for the number of deaths per year."
   ]
  },
  {
   "cell_type": "markdown",
   "metadata": {},
   "source": [
    "## Processing of the UCDP dataset"
   ]
  },
  {
   "cell_type": "code",
   "execution_count": 430,
   "metadata": {},
   "outputs": [
    {
     "data": {
      "text/html": [
       "<div>\n",
       "<style>\n",
       "    .dataframe thead tr:only-child th {\n",
       "        text-align: right;\n",
       "    }\n",
       "\n",
       "    .dataframe thead th {\n",
       "        text-align: left;\n",
       "    }\n",
       "\n",
       "    .dataframe tbody tr th {\n",
       "        vertical-align: top;\n",
       "    }\n",
       "</style>\n",
       "<table border=\"1\" class=\"dataframe\">\n",
       "  <thead>\n",
       "    <tr style=\"text-align: right;\">\n",
       "      <th></th>\n",
       "      <th>Year</th>\n",
       "      <th>NumEvents</th>\n",
       "    </tr>\n",
       "  </thead>\n",
       "  <tbody>\n",
       "    <tr>\n",
       "      <th>21</th>\n",
       "      <td>2000</td>\n",
       "      <td>4540506</td>\n",
       "    </tr>\n",
       "    <tr>\n",
       "      <th>22</th>\n",
       "      <td>2001</td>\n",
       "      <td>4995943</td>\n",
       "    </tr>\n",
       "    <tr>\n",
       "      <th>23</th>\n",
       "      <td>2002</td>\n",
       "      <td>4415923</td>\n",
       "    </tr>\n",
       "    <tr>\n",
       "      <th>24</th>\n",
       "      <td>2003</td>\n",
       "      <td>5532338</td>\n",
       "    </tr>\n",
       "    <tr>\n",
       "      <th>25</th>\n",
       "      <td>2004</td>\n",
       "      <td>4652307</td>\n",
       "    </tr>\n",
       "  </tbody>\n",
       "</table>\n",
       "</div>"
      ],
      "text/plain": [
       "    Year  NumEvents\n",
       "21  2000    4540506\n",
       "22  2001    4995943\n",
       "23  2002    4415923\n",
       "24  2003    5532338\n",
       "25  2004    4652307"
      ]
     },
     "execution_count": 430,
     "metadata": {},
     "output_type": "execute_result"
    }
   ],
   "source": [
    "articles_year = pd.read_csv('Tot_articles_per_year.csv')\n",
    "articles_year = articles_year[(articles_year['Year'] >= 2000) & (articles_year['Year'] <= 2016)]\n",
    "\n",
    "events_year = pd.read_csv('Total_Events_per_Year.csv')\n",
    "events_year = events_year[(events_year['Year'] >= 2000) & (events_year['Year'] <= 2016)]\n",
    "\n",
    "events_year.head()"
   ]
  },
  {
   "cell_type": "code",
   "execution_count": 431,
   "metadata": {
    "collapsed": true
   },
   "outputs": [],
   "source": [
    "# Getting deaths datasets (UCDP)\n",
    "\n",
    "deaths = pd.read_csv('ged171.csv')\n",
    "deaths = deaths[(deaths['year'] >= 2000) & (deaths['year'] <= 2016)]\n",
    "deaths = deaths[['year', 'country', 'best']]\n",
    "deaths.columns = ['Date', 'Country', 'Deaths']"
   ]
  },
  {
   "cell_type": "markdown",
   "metadata": {},
   "source": [
    "Create one dataframe per country:"
   ]
  },
  {
   "cell_type": "code",
   "execution_count": 432,
   "metadata": {
    "collapsed": true
   },
   "outputs": [],
   "source": [
    "def deaths_country(_df, country_name):\n",
    "    x = _df[_df['Country'] == country_name].drop('Country', axis=1).groupby('Date').sum().reset_index()\n",
    "    if(country_name == 'Mexico'):\n",
    "        # We need to artificially add some rows for mexico due to missing (no deaths) data these years\n",
    "        x = x.append(pd.DataFrame([[2003, 0], [2000, 0], [2001, 0]], columns=['Date', 'Deaths'])).sort_values('Date')\n",
    "    x['Deaths'] = x['Deaths']\n",
    "    return x.set_index('Date')"
   ]
  },
  {
   "cell_type": "code",
   "execution_count": 433,
   "metadata": {},
   "outputs": [
    {
     "data": {
      "text/html": [
       "<div>\n",
       "<style>\n",
       "    .dataframe thead tr:only-child th {\n",
       "        text-align: right;\n",
       "    }\n",
       "\n",
       "    .dataframe thead th {\n",
       "        text-align: left;\n",
       "    }\n",
       "\n",
       "    .dataframe tbody tr th {\n",
       "        vertical-align: top;\n",
       "    }\n",
       "</style>\n",
       "<table border=\"1\" class=\"dataframe\">\n",
       "  <thead>\n",
       "    <tr style=\"text-align: right;\">\n",
       "      <th></th>\n",
       "      <th>Deaths</th>\n",
       "    </tr>\n",
       "    <tr>\n",
       "      <th>Date</th>\n",
       "      <th></th>\n",
       "    </tr>\n",
       "  </thead>\n",
       "  <tbody>\n",
       "    <tr>\n",
       "      <th>2000</th>\n",
       "      <td>185</td>\n",
       "    </tr>\n",
       "    <tr>\n",
       "      <th>2001</th>\n",
       "      <td>27</td>\n",
       "    </tr>\n",
       "    <tr>\n",
       "      <th>2002</th>\n",
       "      <td>111</td>\n",
       "    </tr>\n",
       "    <tr>\n",
       "      <th>2003</th>\n",
       "      <td>7999</td>\n",
       "    </tr>\n",
       "    <tr>\n",
       "      <th>2004</th>\n",
       "      <td>4365</td>\n",
       "    </tr>\n",
       "  </tbody>\n",
       "</table>\n",
       "</div>"
      ],
      "text/plain": [
       "      Deaths\n",
       "Date        \n",
       "2000     185\n",
       "2001      27\n",
       "2002     111\n",
       "2003    7999\n",
       "2004    4365"
      ]
     },
     "execution_count": 433,
     "metadata": {},
     "output_type": "execute_result"
    }
   ],
   "source": [
    "deaths_irq = deaths_country(deaths, 'Iraq')\n",
    "deaths_afg = deaths_country(deaths, 'Afghanistan')\n",
    "deaths_mex = deaths_country(deaths, 'Mexico')\n",
    "deaths_pak = deaths_country(deaths, 'Pakistan')\n",
    "\n",
    "deaths_irq.head()"
   ]
  },
  {
   "cell_type": "markdown",
   "metadata": {},
   "source": [
    "## Processing of our aggregation of the GDELT dataset"
   ]
  },
  {
   "cell_type": "markdown",
   "metadata": {},
   "source": [
    "We first tried to get the data from the cluseter but the dataset present on it was a subset of GDELT. Therefore most of the features were missing. To get the location of an event we used at first \"Source\" and \"Target\" field that matched the country we were intrested in. But those entries were not consistent.\n",
    "The full dataset was supposed to have an ActionGeo_Country code which represent the county were the event took place. We were also supposed to have access to features like \"MonthYear\", \"EventRootCode\",...\n",
    "\n",
    "For all those reasons we decided to stop using the cluster and make our query on the full GDELT dataset using the [Google Big Query](https://bigquery.cloud.google.com/table/gdelt-bq:gdeltv2.events)\n",
    "\n",
    "The sql queries can be found on the repository"
   ]
  },
  {
   "cell_type": "code",
   "execution_count": 434,
   "metadata": {},
   "outputs": [
    {
     "data": {
      "text/plain": [
       "<matplotlib.axes._subplots.AxesSubplot at 0x7f9524414f28>"
      ]
     },
     "execution_count": 434,
     "metadata": {},
     "output_type": "execute_result"
    },
    {
     "data": {
      "image/png": "[encoded data removed]",
      "text/plain": [
       "<matplotlib.figure.Figure at 0x7f95193d2940>"
      ]
     },
     "metadata": {},
     "output_type": "display_data"
    }
   ],
   "source": [
    "# Getting the aggregate dataset from our GDELT query (2000-2016)\n",
    "\n",
    "df = pd.read_csv('big_query_2000_2016.csv')\n",
    "df.columns = ['Country', 'Date', 'EventCode', 'Events', 'Articles']\n",
    "\n",
    "tmp = pd.DataFrame(df['Date'].apply(lambda x: int(x / 100))).rename(columns={'Date': 'Year'})\n",
    "tmp[['Articles', 'Events']] = df[['Articles', 'Events']]\n",
    "tmp = tmp.merge(articles_year).merge(events_year)\n",
    "tmp['Articles'] = (tmp['Articles'] / tmp['NumArticles'])\n",
    "tmp['Events'] = (tmp['Events'] / tmp['NumEvents'])\n",
    "\n",
    "df[['Articles', 'Events']] = tmp[['Articles', 'Events']]\n",
    "\n",
    "tmp.drop(['NumEvents', 'NumArticles', 'Year'], axis=1).boxplot()"
   ]
  },
  {
   "cell_type": "markdown",
   "metadata": {},
   "source": [
    "The data that we get out of our query is the number of Event and the number of Articles aggregated per country, MonthYear and EventCode.\n",
    "Aggregating the data this way enables us to work on a consise dataset(compared to the original enormous GDELT). However we still keep the different event code and month data separated for further analysis."
   ]
  },
  {
   "cell_type": "code",
   "execution_count": 435,
   "metadata": {},
   "outputs": [
    {
     "data": {
      "text/html": [
       "<div>\n",
       "<style>\n",
       "    .dataframe thead tr:only-child th {\n",
       "        text-align: right;\n",
       "    }\n",
       "\n",
       "    .dataframe thead th {\n",
       "        text-align: left;\n",
       "    }\n",
       "\n",
       "    .dataframe tbody tr th {\n",
       "        vertical-align: top;\n",
       "    }\n",
       "</style>\n",
       "<table border=\"1\" class=\"dataframe\">\n",
       "  <thead>\n",
       "    <tr style=\"text-align: right;\">\n",
       "      <th></th>\n",
       "      <th>Country</th>\n",
       "      <th>Date</th>\n",
       "      <th>EventCode</th>\n",
       "      <th>Events</th>\n",
       "      <th>Articles</th>\n",
       "    </tr>\n",
       "  </thead>\n",
       "  <tbody>\n",
       "    <tr>\n",
       "      <th>0</th>\n",
       "      <td>SY</td>\n",
       "      <td>201609</td>\n",
       "      <td>19</td>\n",
       "      <td>0.000358</td>\n",
       "      <td>0.000530</td>\n",
       "    </tr>\n",
       "    <tr>\n",
       "      <th>1</th>\n",
       "      <td>SY</td>\n",
       "      <td>201608</td>\n",
       "      <td>19</td>\n",
       "      <td>0.000327</td>\n",
       "      <td>0.000488</td>\n",
       "    </tr>\n",
       "    <tr>\n",
       "      <th>2</th>\n",
       "      <td>SY</td>\n",
       "      <td>201602</td>\n",
       "      <td>19</td>\n",
       "      <td>0.000378</td>\n",
       "      <td>0.000459</td>\n",
       "    </tr>\n",
       "    <tr>\n",
       "      <th>3</th>\n",
       "      <td>SY</td>\n",
       "      <td>201510</td>\n",
       "      <td>19</td>\n",
       "      <td>0.000308</td>\n",
       "      <td>0.000445</td>\n",
       "    </tr>\n",
       "    <tr>\n",
       "      <th>4</th>\n",
       "      <td>SY</td>\n",
       "      <td>201612</td>\n",
       "      <td>19</td>\n",
       "      <td>0.000330</td>\n",
       "      <td>0.000434</td>\n",
       "    </tr>\n",
       "  </tbody>\n",
       "</table>\n",
       "</div>"
      ],
      "text/plain": [
       "  Country    Date  EventCode    Events  Articles\n",
       "0      SY  201609         19  0.000358  0.000530\n",
       "1      SY  201608         19  0.000327  0.000488\n",
       "2      SY  201602         19  0.000378  0.000459\n",
       "3      SY  201510         19  0.000308  0.000445\n",
       "4      SY  201612         19  0.000330  0.000434"
      ]
     },
     "execution_count": 435,
     "metadata": {},
     "output_type": "execute_result"
    }
   ],
   "source": [
    "df.head()"
   ]
  },
  {
   "cell_type": "code",
   "execution_count": 436,
   "metadata": {
    "collapsed": true
   },
   "outputs": [],
   "source": [
    "def df_country(_df, country):\n",
    "    return _df[_df.Country == country].drop('Country', axis=1).set_index(['Date'])"
   ]
  },
  {
   "cell_type": "markdown",
   "metadata": {},
   "source": [
    "DataFrame with merged event code:"
   ]
  },
  {
   "cell_type": "code",
   "execution_count": 437,
   "metadata": {},
   "outputs": [
    {
     "data": {
      "text/html": [
       "<div>\n",
       "<style>\n",
       "    .dataframe thead tr:only-child th {\n",
       "        text-align: right;\n",
       "    }\n",
       "\n",
       "    .dataframe thead th {\n",
       "        text-align: left;\n",
       "    }\n",
       "\n",
       "    .dataframe tbody tr th {\n",
       "        vertical-align: top;\n",
       "    }\n",
       "</style>\n",
       "<table border=\"1\" class=\"dataframe\">\n",
       "  <thead>\n",
       "    <tr style=\"text-align: right;\">\n",
       "      <th></th>\n",
       "      <th>Date</th>\n",
       "      <th>Country</th>\n",
       "      <th>Events</th>\n",
       "      <th>Articles</th>\n",
       "    </tr>\n",
       "  </thead>\n",
       "  <tbody>\n",
       "    <tr>\n",
       "      <th>0</th>\n",
       "      <td>200001</td>\n",
       "      <td>AF</td>\n",
       "      <td>0.000228</td>\n",
       "      <td>0.000232</td>\n",
       "    </tr>\n",
       "    <tr>\n",
       "      <th>1</th>\n",
       "      <td>200001</td>\n",
       "      <td>IZ</td>\n",
       "      <td>0.000036</td>\n",
       "      <td>0.000027</td>\n",
       "    </tr>\n",
       "    <tr>\n",
       "      <th>2</th>\n",
       "      <td>200001</td>\n",
       "      <td>MX</td>\n",
       "      <td>0.000360</td>\n",
       "      <td>0.000481</td>\n",
       "    </tr>\n",
       "    <tr>\n",
       "      <th>3</th>\n",
       "      <td>200001</td>\n",
       "      <td>PK</td>\n",
       "      <td>0.000179</td>\n",
       "      <td>0.000181</td>\n",
       "    </tr>\n",
       "    <tr>\n",
       "      <th>4</th>\n",
       "      <td>200001</td>\n",
       "      <td>SY</td>\n",
       "      <td>0.000022</td>\n",
       "      <td>0.000020</td>\n",
       "    </tr>\n",
       "  </tbody>\n",
       "</table>\n",
       "</div>"
      ],
      "text/plain": [
       "     Date Country    Events  Articles\n",
       "0  200001      AF  0.000228  0.000232\n",
       "1  200001      IZ  0.000036  0.000027\n",
       "2  200001      MX  0.000360  0.000481\n",
       "3  200001      PK  0.000179  0.000181\n",
       "4  200001      SY  0.000022  0.000020"
      ]
     },
     "execution_count": 437,
     "metadata": {},
     "output_type": "execute_result"
    }
   ],
   "source": [
    "df_grouped = df.groupby(['Date', 'Country']).sum().drop(['EventCode'], axis=1).sort_index(level=[0,1])\n",
    "\n",
    "df_merged = df_grouped.reset_index()\n",
    "\n",
    "irq = df_country(df_merged, 'IRQ')\n",
    "mex = df_country(df_merged, 'MEX')\n",
    "pak = df_country(df_merged, 'PAK')\n",
    "afg = df_country(df_merged, 'AFG')\n",
    "syr = df_country(df_merged, 'SYR')\n",
    "\n",
    "df_merged.head()"
   ]
  },
  {
   "cell_type": "markdown",
   "metadata": {},
   "source": [
    "## Separation by country and aggregation per year"
   ]
  },
  {
   "cell_type": "code",
   "execution_count": 438,
   "metadata": {},
   "outputs": [
    {
     "data": {
      "text/html": [
       "<div>\n",
       "<style>\n",
       "    .dataframe thead tr:only-child th {\n",
       "        text-align: right;\n",
       "    }\n",
       "\n",
       "    .dataframe thead th {\n",
       "        text-align: left;\n",
       "    }\n",
       "\n",
       "    .dataframe tbody tr th {\n",
       "        vertical-align: top;\n",
       "    }\n",
       "</style>\n",
       "<table border=\"1\" class=\"dataframe\">\n",
       "  <thead>\n",
       "    <tr style=\"text-align: right;\">\n",
       "      <th></th>\n",
       "      <th>Date</th>\n",
       "      <th>Country</th>\n",
       "      <th>Ratio</th>\n",
       "    </tr>\n",
       "  </thead>\n",
       "  <tbody>\n",
       "    <tr>\n",
       "      <th>0</th>\n",
       "      <td>2000</td>\n",
       "      <td>AF</td>\n",
       "      <td>0.855915</td>\n",
       "    </tr>\n",
       "    <tr>\n",
       "      <th>1</th>\n",
       "      <td>2000</td>\n",
       "      <td>IZ</td>\n",
       "      <td>0.849207</td>\n",
       "    </tr>\n",
       "    <tr>\n",
       "      <th>2</th>\n",
       "      <td>2000</td>\n",
       "      <td>MX</td>\n",
       "      <td>0.830965</td>\n",
       "    </tr>\n",
       "    <tr>\n",
       "      <th>3</th>\n",
       "      <td>2000</td>\n",
       "      <td>PK</td>\n",
       "      <td>0.917141</td>\n",
       "    </tr>\n",
       "    <tr>\n",
       "      <th>4</th>\n",
       "      <td>2000</td>\n",
       "      <td>SY</td>\n",
       "      <td>0.765742</td>\n",
       "    </tr>\n",
       "  </tbody>\n",
       "</table>\n",
       "</div>"
      ],
      "text/plain": [
       "   Date Country     Ratio\n",
       "0  2000      AF  0.855915\n",
       "1  2000      IZ  0.849207\n",
       "2  2000      MX  0.830965\n",
       "3  2000      PK  0.917141\n",
       "4  2000      SY  0.765742"
      ]
     },
     "execution_count": 438,
     "metadata": {},
     "output_type": "execute_result"
    }
   ],
   "source": [
    "# Here we process the dataset to only reason by year and normalize the Articles and Events by year. We then\n",
    "# get the Ratio Articles/Events\n",
    "\n",
    "df_year = df_merged.copy()\n",
    "\n",
    "df_year['Date'] = df_year['Date'].apply(lambda d: int(d/100))\n",
    "\n",
    "df_year = df_year.groupby(['Date', 'Country']).mean()\n",
    "df_year = (df_year / df_year.std()).reset_index()\n",
    "\n",
    "df_year['Ratio'] = df_year['Articles'] / df_year['Events'].astype('float')\n",
    "\n",
    "df_year.drop(['Articles', 'Events'], axis=1, inplace=True)\n",
    "\n",
    "irq_year1 = df_country(df_year, 'IZ')\n",
    "mex_year1 = df_country(df_year, 'MX')\n",
    "pak_year1 = df_country(df_year, 'PK')\n",
    "afg_year1 = df_country(df_year, 'AF')\n",
    "syr_year1 = df_country(df_year, 'SY')\n",
    "\n",
    "df_year.head()"
   ]
  },
  {
   "cell_type": "code",
   "execution_count": null,
   "metadata": {},
   "outputs": [],
   "source": []
  },
  {
   "cell_type": "markdown",
   "metadata": {},
   "source": [
    "## Some plots and describes"
   ]
  },
  {
   "cell_type": "markdown",
   "metadata": {},
   "source": [
    "## Normalization\n",
    "\n",
    "We chose to normalize the ratio during the aggregation by year and normalize the deaths with a mean/std normalization. It seems to give reasonablre results for now but we might do a more refined normalization in the future."
   ]
  },
  {
   "cell_type": "code",
   "execution_count": null,
   "metadata": {},
   "outputs": [],
   "source": []
  },
  {
   "cell_type": "code",
   "execution_count": 458,
   "metadata": {},
   "outputs": [
    {
     "data": {
      "text/html": [
       "<div>\n",
       "<style>\n",
       "    .dataframe thead tr:only-child th {\n",
       "        text-align: right;\n",
       "    }\n",
       "\n",
       "    .dataframe thead th {\n",
       "        text-align: left;\n",
       "    }\n",
       "\n",
       "    .dataframe tbody tr th {\n",
       "        vertical-align: top;\n",
       "    }\n",
       "</style>\n",
       "<table border=\"1\" class=\"dataframe\">\n",
       "  <thead>\n",
       "    <tr style=\"text-align: right;\">\n",
       "      <th></th>\n",
       "      <th>Deaths</th>\n",
       "      <th>Ratio</th>\n",
       "    </tr>\n",
       "    <tr>\n",
       "      <th>Date</th>\n",
       "      <th></th>\n",
       "      <th></th>\n",
       "    </tr>\n",
       "  </thead>\n",
       "  <tbody>\n",
       "    <tr>\n",
       "      <th>2000</th>\n",
       "      <td>0.010545</td>\n",
       "      <td>0.252094</td>\n",
       "    </tr>\n",
       "    <tr>\n",
       "      <th>2001</th>\n",
       "      <td>0.000000</td>\n",
       "      <td>0.210301</td>\n",
       "    </tr>\n",
       "    <tr>\n",
       "      <th>2002</th>\n",
       "      <td>0.005606</td>\n",
       "      <td>0.000000</td>\n",
       "    </tr>\n",
       "    <tr>\n",
       "      <th>2003</th>\n",
       "      <td>0.532070</td>\n",
       "      <td>0.320259</td>\n",
       "    </tr>\n",
       "    <tr>\n",
       "      <th>2004</th>\n",
       "      <td>0.289528</td>\n",
       "      <td>0.552028</td>\n",
       "    </tr>\n",
       "    <tr>\n",
       "      <th>2005</th>\n",
       "      <td>0.233198</td>\n",
       "      <td>1.000000</td>\n",
       "    </tr>\n",
       "    <tr>\n",
       "      <th>2006</th>\n",
       "      <td>0.305813</td>\n",
       "      <td>0.199221</td>\n",
       "    </tr>\n",
       "    <tr>\n",
       "      <th>2007</th>\n",
       "      <td>0.297804</td>\n",
       "      <td>0.621288</td>\n",
       "    </tr>\n",
       "    <tr>\n",
       "      <th>2008</th>\n",
       "      <td>0.180538</td>\n",
       "      <td>0.474283</td>\n",
       "    </tr>\n",
       "    <tr>\n",
       "      <th>2009</th>\n",
       "      <td>0.112861</td>\n",
       "      <td>0.482039</td>\n",
       "    </tr>\n",
       "    <tr>\n",
       "      <th>2010</th>\n",
       "      <td>0.121738</td>\n",
       "      <td>0.864893</td>\n",
       "    </tr>\n",
       "    <tr>\n",
       "      <th>2011</th>\n",
       "      <td>0.091237</td>\n",
       "      <td>0.699139</td>\n",
       "    </tr>\n",
       "    <tr>\n",
       "      <th>2012</th>\n",
       "      <td>0.092104</td>\n",
       "      <td>0.554665</td>\n",
       "    </tr>\n",
       "    <tr>\n",
       "      <th>2013</th>\n",
       "      <td>0.265901</td>\n",
       "      <td>0.558013</td>\n",
       "    </tr>\n",
       "    <tr>\n",
       "      <th>2014</th>\n",
       "      <td>1.000000</td>\n",
       "      <td>0.405534</td>\n",
       "    </tr>\n",
       "    <tr>\n",
       "      <th>2015</th>\n",
       "      <td>0.749116</td>\n",
       "      <td>0.784085</td>\n",
       "    </tr>\n",
       "    <tr>\n",
       "      <th>2016</th>\n",
       "      <td>0.740906</td>\n",
       "      <td>0.562437</td>\n",
       "    </tr>\n",
       "  </tbody>\n",
       "</table>\n",
       "</div>"
      ],
      "text/plain": [
       "        Deaths     Ratio\n",
       "Date                    \n",
       "2000  0.010545  0.252094\n",
       "2001  0.000000  0.210301\n",
       "2002  0.005606  0.000000\n",
       "2003  0.532070  0.320259\n",
       "2004  0.289528  0.552028\n",
       "2005  0.233198  1.000000\n",
       "2006  0.305813  0.199221\n",
       "2007  0.297804  0.621288\n",
       "2008  0.180538  0.474283\n",
       "2009  0.112861  0.482039\n",
       "2010  0.121738  0.864893\n",
       "2011  0.091237  0.699139\n",
       "2012  0.092104  0.554665\n",
       "2013  0.265901  0.558013\n",
       "2014  1.000000  0.405534\n",
       "2015  0.749116  0.784085\n",
       "2016  0.740906  0.562437"
      ]
     },
     "execution_count": 458,
     "metadata": {},
     "output_type": "execute_result"
    }
   ],
   "source": [
    "def normalize(_df):\n",
    "    x = _df.copy()\n",
    "    #d = x['Deaths']\n",
    "    #x['Deaths'] = abs(d - d.mean()) / d.std()\n",
    "    x = abs(x - x.min()) / (x.max() - x.min())\n",
    "    return x\n",
    "\n",
    "irq_year = deaths_irq.join(irq_year1)\n",
    "mex_year = deaths_mex.join(mex_year1)\n",
    "pak_year = deaths_pak.join(pak_year1)\n",
    "afg_year = deaths_afg.join(afg_year1)\n",
    "\n",
    "irq_year_normalized = normalize(irq_year)\n",
    "mex_year_normalized = normalize(mex_year)\n",
    "pak_year_normalized = normalize(pak_year)\n",
    "afg_year_normalized = normalize(afg_year)\n",
    "\n",
    "irq_year_normalized"
   ]
  },
  {
   "cell_type": "markdown",
   "metadata": {},
   "source": [
    "## Some exploration of the data through description and plots"
   ]
  },
  {
   "cell_type": "code",
   "execution_count": 440,
   "metadata": {},
   "outputs": [
    {
     "data": {
      "text/html": [
       "<div>\n",
       "<style>\n",
       "    .dataframe thead tr:only-child th {\n",
       "        text-align: right;\n",
       "    }\n",
       "\n",
       "    .dataframe thead th {\n",
       "        text-align: left;\n",
       "    }\n",
       "\n",
       "    .dataframe tbody tr th {\n",
       "        vertical-align: top;\n",
       "    }\n",
       "</style>\n",
       "<table border=\"1\" class=\"dataframe\">\n",
       "  <thead>\n",
       "    <tr style=\"text-align: right;\">\n",
       "      <th></th>\n",
       "      <th>Deaths</th>\n",
       "      <th>Ratio</th>\n",
       "    </tr>\n",
       "  </thead>\n",
       "  <tbody>\n",
       "    <tr>\n",
       "      <th>count</th>\n",
       "      <td>17.000000</td>\n",
       "      <td>17.000000</td>\n",
       "    </tr>\n",
       "    <tr>\n",
       "      <th>mean</th>\n",
       "      <td>4459.294118</td>\n",
       "      <td>0.921958</td>\n",
       "    </tr>\n",
       "    <tr>\n",
       "      <th>std</th>\n",
       "      <td>4390.300499</td>\n",
       "      <td>0.074790</td>\n",
       "    </tr>\n",
       "    <tr>\n",
       "      <th>min</th>\n",
       "      <td>27.000000</td>\n",
       "      <td>0.775927</td>\n",
       "    </tr>\n",
       "    <tr>\n",
       "      <th>25%</th>\n",
       "      <td>1407.000000</td>\n",
       "      <td>0.869021</td>\n",
       "    </tr>\n",
       "    <tr>\n",
       "      <th>50%</th>\n",
       "      <td>3521.000000</td>\n",
       "      <td>0.936393</td>\n",
       "    </tr>\n",
       "    <tr>\n",
       "      <th>75%</th>\n",
       "      <td>4609.000000</td>\n",
       "      <td>0.956526</td>\n",
       "    </tr>\n",
       "    <tr>\n",
       "      <th>max</th>\n",
       "      <td>15010.000000</td>\n",
       "      <td>1.066613</td>\n",
       "    </tr>\n",
       "  </tbody>\n",
       "</table>\n",
       "</div>"
      ],
      "text/plain": [
       "             Deaths      Ratio\n",
       "count     17.000000  17.000000\n",
       "mean    4459.294118   0.921958\n",
       "std     4390.300499   0.074790\n",
       "min       27.000000   0.775927\n",
       "25%     1407.000000   0.869021\n",
       "50%     3521.000000   0.936393\n",
       "75%     4609.000000   0.956526\n",
       "max    15010.000000   1.066613"
      ]
     },
     "execution_count": 440,
     "metadata": {},
     "output_type": "execute_result"
    }
   ],
   "source": [
    "irq_year.describe()"
   ]
  },
  {
   "cell_type": "code",
   "execution_count": 441,
   "metadata": {},
   "outputs": [
    {
     "data": {
      "text/html": [
       "<div>\n",
       "<style>\n",
       "    .dataframe thead tr:only-child th {\n",
       "        text-align: right;\n",
       "    }\n",
       "\n",
       "    .dataframe thead th {\n",
       "        text-align: left;\n",
       "    }\n",
       "\n",
       "    .dataframe tbody tr th {\n",
       "        vertical-align: top;\n",
       "    }\n",
       "</style>\n",
       "<table border=\"1\" class=\"dataframe\">\n",
       "  <thead>\n",
       "    <tr style=\"text-align: right;\">\n",
       "      <th></th>\n",
       "      <th>Deaths</th>\n",
       "      <th>Ratio</th>\n",
       "    </tr>\n",
       "  </thead>\n",
       "  <tbody>\n",
       "    <tr>\n",
       "      <th>count</th>\n",
       "      <td>17.000000</td>\n",
       "      <td>17.000000</td>\n",
       "    </tr>\n",
       "    <tr>\n",
       "      <th>mean</th>\n",
       "      <td>1115.764706</td>\n",
       "      <td>0.907096</td>\n",
       "    </tr>\n",
       "    <tr>\n",
       "      <th>std</th>\n",
       "      <td>1041.491450</td>\n",
       "      <td>0.106674</td>\n",
       "    </tr>\n",
       "    <tr>\n",
       "      <th>min</th>\n",
       "      <td>0.000000</td>\n",
       "      <td>0.640198</td>\n",
       "    </tr>\n",
       "    <tr>\n",
       "      <th>25%</th>\n",
       "      <td>187.000000</td>\n",
       "      <td>0.830965</td>\n",
       "    </tr>\n",
       "    <tr>\n",
       "      <th>50%</th>\n",
       "      <td>776.000000</td>\n",
       "      <td>0.932624</td>\n",
       "    </tr>\n",
       "    <tr>\n",
       "      <th>75%</th>\n",
       "      <td>1699.000000</td>\n",
       "      <td>1.002881</td>\n",
       "    </tr>\n",
       "    <tr>\n",
       "      <th>max</th>\n",
       "      <td>3313.000000</td>\n",
       "      <td>1.038230</td>\n",
       "    </tr>\n",
       "  </tbody>\n",
       "</table>\n",
       "</div>"
      ],
      "text/plain": [
       "            Deaths      Ratio\n",
       "count    17.000000  17.000000\n",
       "mean   1115.764706   0.907096\n",
       "std    1041.491450   0.106674\n",
       "min       0.000000   0.640198\n",
       "25%     187.000000   0.830965\n",
       "50%     776.000000   0.932624\n",
       "75%    1699.000000   1.002881\n",
       "max    3313.000000   1.038230"
      ]
     },
     "execution_count": 441,
     "metadata": {},
     "output_type": "execute_result"
    }
   ],
   "source": [
    "mex_year.describe()"
   ]
  },
  {
   "cell_type": "code",
   "execution_count": 442,
   "metadata": {},
   "outputs": [
    {
     "data": {
      "text/html": [
       "<div>\n",
       "<style>\n",
       "    .dataframe thead tr:only-child th {\n",
       "        text-align: right;\n",
       "    }\n",
       "\n",
       "    .dataframe thead th {\n",
       "        text-align: left;\n",
       "    }\n",
       "\n",
       "    .dataframe tbody tr th {\n",
       "        vertical-align: top;\n",
       "    }\n",
       "</style>\n",
       "<table border=\"1\" class=\"dataframe\">\n",
       "  <thead>\n",
       "    <tr style=\"text-align: right;\">\n",
       "      <th></th>\n",
       "      <th>Deaths</th>\n",
       "      <th>Ratio</th>\n",
       "    </tr>\n",
       "  </thead>\n",
       "  <tbody>\n",
       "    <tr>\n",
       "      <th>count</th>\n",
       "      <td>17.000000</td>\n",
       "      <td>17.000000</td>\n",
       "    </tr>\n",
       "    <tr>\n",
       "      <th>mean</th>\n",
       "      <td>2290.882353</td>\n",
       "      <td>0.920076</td>\n",
       "    </tr>\n",
       "    <tr>\n",
       "      <th>std</th>\n",
       "      <td>2437.833974</td>\n",
       "      <td>0.066195</td>\n",
       "    </tr>\n",
       "    <tr>\n",
       "      <th>min</th>\n",
       "      <td>1.000000</td>\n",
       "      <td>0.840199</td>\n",
       "    </tr>\n",
       "    <tr>\n",
       "      <th>25%</th>\n",
       "      <td>241.000000</td>\n",
       "      <td>0.887074</td>\n",
       "    </tr>\n",
       "    <tr>\n",
       "      <th>50%</th>\n",
       "      <td>1366.000000</td>\n",
       "      <td>0.906958</td>\n",
       "    </tr>\n",
       "    <tr>\n",
       "      <th>75%</th>\n",
       "      <td>3540.000000</td>\n",
       "      <td>0.941083</td>\n",
       "    </tr>\n",
       "    <tr>\n",
       "      <th>max</th>\n",
       "      <td>7460.000000</td>\n",
       "      <td>1.136933</td>\n",
       "    </tr>\n",
       "  </tbody>\n",
       "</table>\n",
       "</div>"
      ],
      "text/plain": [
       "            Deaths      Ratio\n",
       "count    17.000000  17.000000\n",
       "mean   2290.882353   0.920076\n",
       "std    2437.833974   0.066195\n",
       "min       1.000000   0.840199\n",
       "25%     241.000000   0.887074\n",
       "50%    1366.000000   0.906958\n",
       "75%    3540.000000   0.941083\n",
       "max    7460.000000   1.136933"
      ]
     },
     "execution_count": 442,
     "metadata": {},
     "output_type": "execute_result"
    }
   ],
   "source": [
    "pak_year.describe()"
   ]
  },
  {
   "cell_type": "code",
   "execution_count": 443,
   "metadata": {},
   "outputs": [
    {
     "data": {
      "text/html": [
       "<div>\n",
       "<style>\n",
       "    .dataframe thead tr:only-child th {\n",
       "        text-align: right;\n",
       "    }\n",
       "\n",
       "    .dataframe thead th {\n",
       "        text-align: left;\n",
       "    }\n",
       "\n",
       "    .dataframe tbody tr th {\n",
       "        vertical-align: top;\n",
       "    }\n",
       "</style>\n",
       "<table border=\"1\" class=\"dataframe\">\n",
       "  <thead>\n",
       "    <tr style=\"text-align: right;\">\n",
       "      <th></th>\n",
       "      <th>Deaths</th>\n",
       "      <th>Ratio</th>\n",
       "    </tr>\n",
       "  </thead>\n",
       "  <tbody>\n",
       "    <tr>\n",
       "      <th>count</th>\n",
       "      <td>17.000000</td>\n",
       "      <td>17.000000</td>\n",
       "    </tr>\n",
       "    <tr>\n",
       "      <th>mean</th>\n",
       "      <td>7038.176471</td>\n",
       "      <td>0.882227</td>\n",
       "    </tr>\n",
       "    <tr>\n",
       "      <th>std</th>\n",
       "      <td>5235.884622</td>\n",
       "      <td>0.074128</td>\n",
       "    </tr>\n",
       "    <tr>\n",
       "      <th>min</th>\n",
       "      <td>817.000000</td>\n",
       "      <td>0.765337</td>\n",
       "    </tr>\n",
       "    <tr>\n",
       "      <th>25%</th>\n",
       "      <td>4982.000000</td>\n",
       "      <td>0.837087</td>\n",
       "    </tr>\n",
       "    <tr>\n",
       "      <th>50%</th>\n",
       "      <td>6499.000000</td>\n",
       "      <td>0.878737</td>\n",
       "    </tr>\n",
       "    <tr>\n",
       "      <th>75%</th>\n",
       "      <td>7822.000000</td>\n",
       "      <td>0.918112</td>\n",
       "    </tr>\n",
       "    <tr>\n",
       "      <th>max</th>\n",
       "      <td>18707.000000</td>\n",
       "      <td>1.045679</td>\n",
       "    </tr>\n",
       "  </tbody>\n",
       "</table>\n",
       "</div>"
      ],
      "text/plain": [
       "             Deaths      Ratio\n",
       "count     17.000000  17.000000\n",
       "mean    7038.176471   0.882227\n",
       "std     5235.884622   0.074128\n",
       "min      817.000000   0.765337\n",
       "25%     4982.000000   0.837087\n",
       "50%     6499.000000   0.878737\n",
       "75%     7822.000000   0.918112\n",
       "max    18707.000000   1.045679"
      ]
     },
     "execution_count": 443,
     "metadata": {},
     "output_type": "execute_result"
    }
   ],
   "source": [
    "afg_year.describe()"
   ]
  },
  {
   "cell_type": "code",
   "execution_count": 460,
   "metadata": {},
   "outputs": [
    {
     "data": {
      "image/png": "[encoded data removed]",
      "text/plain": [
       "<matplotlib.figure.Figure at 0x7f952258b5c0>"
      ]
     },
     "metadata": {},
     "output_type": "display_data"
    }
   ],
   "source": [
    "irq_year_normalized.plot(kind='line', title='Iraq Deaths and Article/Events Ratio \\ncomparison over the years');"
   ]
  },
  {
   "cell_type": "code",
   "execution_count": 461,
   "metadata": {},
   "outputs": [
    {
     "data": {
      "image/png": "[encoded data removed]",
      "text/plain": [
       "<matplotlib.figure.Figure at 0x7f9522a17e80>"
      ]
     },
     "metadata": {},
     "output_type": "display_data"
    }
   ],
   "source": [
    "afg_year_normalized.plot(kind='line', title='Afghanistan Deaths and Article/Events Ratio \\ncomparison over the years');"
   ]
  },
  {
   "cell_type": "code",
   "execution_count": 462,
   "metadata": {},
   "outputs": [
    {
     "data": {
      "image/png": "[encoded data removed]",
      "text/plain": [
       "<matplotlib.figure.Figure at 0x7f95225bf320>"
      ]
     },
     "metadata": {},
     "output_type": "display_data"
    }
   ],
   "source": [
    "mex_year_normalized.plot(kind='line', title='Mexico Deaths and Article/Events Ratio \\ncomparison over the years');"
   ]
  },
  {
   "cell_type": "code",
   "execution_count": 463,
   "metadata": {},
   "outputs": [
    {
     "data": {
      "image/png": "[encoded data removed]",
      "text/plain": [
       "<matplotlib.figure.Figure at 0x7f95198ebda0>"
      ]
     },
     "metadata": {},
     "output_type": "display_data"
    }
   ],
   "source": [
    "pak_year_normalized.plot(kind='line', title='Pakistan Deaths and Article/Events Ratio \\ncomparison over the years');"
   ]
  },
  {
   "cell_type": "markdown",
   "metadata": {},
   "source": [
    "There seem to indeed be some inconsistencies in the ratio between the number of deaths and the amount of media coverage per year as we planned, though not always exactly as we would have thought."
   ]
  },
  {
   "cell_type": "markdown",
   "metadata": {},
   "source": []
  },
  {
   "cell_type": "code",
   "execution_count": 448,
   "metadata": {},
   "outputs": [
    {
     "data": {
      "text/html": [
       "<div>\n",
       "<style>\n",
       "    .dataframe thead tr:only-child th {\n",
       "        text-align: right;\n",
       "    }\n",
       "\n",
       "    .dataframe thead th {\n",
       "        text-align: left;\n",
       "    }\n",
       "\n",
       "    .dataframe tbody tr th {\n",
       "        vertical-align: top;\n",
       "    }\n",
       "</style>\n",
       "<table border=\"1\" class=\"dataframe\">\n",
       "  <thead>\n",
       "    <tr style=\"text-align: right;\">\n",
       "      <th></th>\n",
       "      <th>Iraq_Deaths</th>\n",
       "      <th>Afghanistan_Deaths</th>\n",
       "      <th>Mexico_Deaths</th>\n",
       "      <th>Pakistan_Deaths</th>\n",
       "      <th>Iraq_Ratio</th>\n",
       "      <th>Afghanistan_Ratio</th>\n",
       "      <th>Mexico_Ratio</th>\n",
       "      <th>Pakistan_Ratio</th>\n",
       "    </tr>\n",
       "    <tr>\n",
       "      <th>Date</th>\n",
       "      <th></th>\n",
       "      <th></th>\n",
       "      <th></th>\n",
       "      <th></th>\n",
       "      <th></th>\n",
       "      <th></th>\n",
       "      <th></th>\n",
       "      <th></th>\n",
       "    </tr>\n",
       "  </thead>\n",
       "  <tbody>\n",
       "    <tr>\n",
       "      <th>2000</th>\n",
       "      <td>0.010545</td>\n",
       "      <td>0.252094</td>\n",
       "      <td>0.255841</td>\n",
       "      <td>0.323099</td>\n",
       "      <td>0.000000</td>\n",
       "      <td>0.479276</td>\n",
       "      <td>0.000000</td>\n",
       "      <td>0.259299</td>\n",
       "    </tr>\n",
       "    <tr>\n",
       "      <th>2001</th>\n",
       "      <td>0.000000</td>\n",
       "      <td>0.210301</td>\n",
       "      <td>0.264729</td>\n",
       "      <td>0.115224</td>\n",
       "      <td>0.000000</td>\n",
       "      <td>0.534737</td>\n",
       "      <td>0.003352</td>\n",
       "      <td>0.172231</td>\n",
       "    </tr>\n",
       "    <tr>\n",
       "      <th>2002</th>\n",
       "      <td>0.005606</td>\n",
       "      <td>0.000000</td>\n",
       "      <td>0.019005</td>\n",
       "      <td>0.514617</td>\n",
       "      <td>0.007848</td>\n",
       "      <td>0.473223</td>\n",
       "      <td>0.007106</td>\n",
       "      <td>0.386518</td>\n",
       "    </tr>\n",
       "    <tr>\n",
       "      <th>2003</th>\n",
       "      <td>0.532070</td>\n",
       "      <td>0.320259</td>\n",
       "      <td>0.007099</td>\n",
       "      <td>0.588842</td>\n",
       "      <td>0.000000</td>\n",
       "      <td>0.560279</td>\n",
       "      <td>0.032176</td>\n",
       "      <td>0.000000</td>\n",
       "    </tr>\n",
       "    <tr>\n",
       "      <th>2004</th>\n",
       "      <td>0.289528</td>\n",
       "      <td>0.552028</td>\n",
       "      <td>0.000000</td>\n",
       "      <td>0.124787</td>\n",
       "      <td>0.066405</td>\n",
       "      <td>0.456491</td>\n",
       "      <td>0.057514</td>\n",
       "      <td>0.381122</td>\n",
       "    </tr>\n",
       "    <tr>\n",
       "      <th>2005</th>\n",
       "      <td>0.233198</td>\n",
       "      <td>1.000000</td>\n",
       "      <td>0.049972</td>\n",
       "      <td>0.420830</td>\n",
       "      <td>0.056444</td>\n",
       "      <td>0.584662</td>\n",
       "      <td>0.020378</td>\n",
       "      <td>0.221177</td>\n",
       "    </tr>\n",
       "    <tr>\n",
       "      <th>2006</th>\n",
       "      <td>0.305813</td>\n",
       "      <td>0.199221</td>\n",
       "      <td>0.232812</td>\n",
       "      <td>0.255938</td>\n",
       "      <td>0.207063</td>\n",
       "      <td>0.000000</td>\n",
       "      <td>0.057112</td>\n",
       "      <td>0.224982</td>\n",
       "    </tr>\n",
       "    <tr>\n",
       "      <th>2007</th>\n",
       "      <td>0.297804</td>\n",
       "      <td>0.621288</td>\n",
       "      <td>0.346730</td>\n",
       "      <td>0.838153</td>\n",
       "      <td>0.184123</td>\n",
       "      <td>0.384177</td>\n",
       "      <td>0.183000</td>\n",
       "      <td>0.160720</td>\n",
       "    </tr>\n",
       "    <tr>\n",
       "      <th>2008</th>\n",
       "      <td>0.180538</td>\n",
       "      <td>0.474283</td>\n",
       "      <td>0.270710</td>\n",
       "      <td>0.491158</td>\n",
       "      <td>0.564141</td>\n",
       "      <td>0.770034</td>\n",
       "      <td>0.619252</td>\n",
       "      <td>1.000000</td>\n",
       "    </tr>\n",
       "    <tr>\n",
       "      <th>2009</th>\n",
       "      <td>0.112861</td>\n",
       "      <td>0.482039</td>\n",
       "      <td>0.317608</td>\n",
       "      <td>0.544961</td>\n",
       "      <td>0.683067</td>\n",
       "      <td>1.000000</td>\n",
       "      <td>1.000000</td>\n",
       "      <td>0.309787</td>\n",
       "    </tr>\n",
       "    <tr>\n",
       "      <th>2010</th>\n",
       "      <td>0.121738</td>\n",
       "      <td>0.864893</td>\n",
       "      <td>0.354053</td>\n",
       "      <td>1.000000</td>\n",
       "      <td>1.000000</td>\n",
       "      <td>0.734679</td>\n",
       "      <td>0.968629</td>\n",
       "      <td>0.155753</td>\n",
       "    </tr>\n",
       "    <tr>\n",
       "      <th>2011</th>\n",
       "      <td>0.091237</td>\n",
       "      <td>0.699139</td>\n",
       "      <td>0.377194</td>\n",
       "      <td>0.000000</td>\n",
       "      <td>0.819499</td>\n",
       "      <td>0.911191</td>\n",
       "      <td>0.465612</td>\n",
       "      <td>0.062027</td>\n",
       "    </tr>\n",
       "    <tr>\n",
       "      <th>2012</th>\n",
       "      <td>0.092104</td>\n",
       "      <td>0.554665</td>\n",
       "      <td>0.391560</td>\n",
       "      <td>0.605033</td>\n",
       "      <td>0.512828</td>\n",
       "      <td>0.942705</td>\n",
       "      <td>0.474460</td>\n",
       "      <td>0.311991</td>\n",
       "    </tr>\n",
       "    <tr>\n",
       "      <th>2013</th>\n",
       "      <td>0.265901</td>\n",
       "      <td>0.558013</td>\n",
       "      <td>0.408832</td>\n",
       "      <td>0.403691</td>\n",
       "      <td>0.234229</td>\n",
       "      <td>0.834881</td>\n",
       "      <td>0.388926</td>\n",
       "      <td>0.049541</td>\n",
       "    </tr>\n",
       "    <tr>\n",
       "      <th>2014</th>\n",
       "      <td>1.000000</td>\n",
       "      <td>0.405534</td>\n",
       "      <td>0.655841</td>\n",
       "      <td>0.404506</td>\n",
       "      <td>0.495623</td>\n",
       "      <td>0.867516</td>\n",
       "      <td>0.483041</td>\n",
       "      <td>0.339982</td>\n",
       "    </tr>\n",
       "    <tr>\n",
       "      <th>2015</th>\n",
       "      <td>0.749116</td>\n",
       "      <td>0.784085</td>\n",
       "      <td>0.959698</td>\n",
       "      <td>0.384864</td>\n",
       "      <td>0.498944</td>\n",
       "      <td>0.917511</td>\n",
       "      <td>0.319882</td>\n",
       "      <td>0.383104</td>\n",
       "    </tr>\n",
       "    <tr>\n",
       "      <th>2016</th>\n",
       "      <td>0.740906</td>\n",
       "      <td>0.562437</td>\n",
       "      <td>1.000000</td>\n",
       "      <td>0.072552</td>\n",
       "      <td>0.395110</td>\n",
       "      <td>0.947899</td>\n",
       "      <td>0.138490</td>\n",
       "      <td>0.157972</td>\n",
       "    </tr>\n",
       "  </tbody>\n",
       "</table>\n",
       "</div>"
      ],
      "text/plain": [
       "      Iraq_Deaths  Afghanistan_Deaths  Mexico_Deaths  Pakistan_Deaths  \\\n",
       "Date                                                                    \n",
       "2000     0.010545            0.252094       0.255841         0.323099   \n",
       "2001     0.000000            0.210301       0.264729         0.115224   \n",
       "2002     0.005606            0.000000       0.019005         0.514617   \n",
       "2003     0.532070            0.320259       0.007099         0.588842   \n",
       "2004     0.289528            0.552028       0.000000         0.124787   \n",
       "2005     0.233198            1.000000       0.049972         0.420830   \n",
       "2006     0.305813            0.199221       0.232812         0.255938   \n",
       "2007     0.297804            0.621288       0.346730         0.838153   \n",
       "2008     0.180538            0.474283       0.270710         0.491158   \n",
       "2009     0.112861            0.482039       0.317608         0.544961   \n",
       "2010     0.121738            0.864893       0.354053         1.000000   \n",
       "2011     0.091237            0.699139       0.377194         0.000000   \n",
       "2012     0.092104            0.554665       0.391560         0.605033   \n",
       "2013     0.265901            0.558013       0.408832         0.403691   \n",
       "2014     1.000000            0.405534       0.655841         0.404506   \n",
       "2015     0.749116            0.784085       0.959698         0.384864   \n",
       "2016     0.740906            0.562437       1.000000         0.072552   \n",
       "\n",
       "      Iraq_Ratio  Afghanistan_Ratio  Mexico_Ratio  Pakistan_Ratio  \n",
       "Date                                                               \n",
       "2000    0.000000           0.479276      0.000000        0.259299  \n",
       "2001    0.000000           0.534737      0.003352        0.172231  \n",
       "2002    0.007848           0.473223      0.007106        0.386518  \n",
       "2003    0.000000           0.560279      0.032176        0.000000  \n",
       "2004    0.066405           0.456491      0.057514        0.381122  \n",
       "2005    0.056444           0.584662      0.020378        0.221177  \n",
       "2006    0.207063           0.000000      0.057112        0.224982  \n",
       "2007    0.184123           0.384177      0.183000        0.160720  \n",
       "2008    0.564141           0.770034      0.619252        1.000000  \n",
       "2009    0.683067           1.000000      1.000000        0.309787  \n",
       "2010    1.000000           0.734679      0.968629        0.155753  \n",
       "2011    0.819499           0.911191      0.465612        0.062027  \n",
       "2012    0.512828           0.942705      0.474460        0.311991  \n",
       "2013    0.234229           0.834881      0.388926        0.049541  \n",
       "2014    0.495623           0.867516      0.483041        0.339982  \n",
       "2015    0.498944           0.917511      0.319882        0.383104  \n",
       "2016    0.395110           0.947899      0.138490        0.157972  "
      ]
     },
     "execution_count": 448,
     "metadata": {},
     "output_type": "execute_result"
    }
   ],
   "source": [
    "data  = [irq_year_normalized,afg_year_normalized,mex_year_normalized,pak_year_normalized]\n",
    "data = pd.concat(data, axis=1)\n",
    "\n",
    "data.columns = [x + '_' + y for y in ['Deaths', 'Ratio'] for x in ['Iraq', 'Afghanistan', 'Mexico', 'Pakistan']]\n",
    "\n",
    "data"
   ]
  },
  {
   "cell_type": "markdown",
   "metadata": {},
   "source": [
    "## Analysis by Event Code"
   ]
  },
  {
   "cell_type": "code",
   "execution_count": 449,
   "metadata": {},
   "outputs": [
    {
     "data": {
      "text/html": [
       "<div>\n",
       "<style>\n",
       "    .dataframe thead tr:only-child th {\n",
       "        text-align: right;\n",
       "    }\n",
       "\n",
       "    .dataframe thead th {\n",
       "        text-align: left;\n",
       "    }\n",
       "\n",
       "    .dataframe tbody tr th {\n",
       "        vertical-align: top;\n",
       "    }\n",
       "</style>\n",
       "<table border=\"1\" class=\"dataframe\">\n",
       "  <thead>\n",
       "    <tr style=\"text-align: right;\">\n",
       "      <th></th>\n",
       "      <th>Country</th>\n",
       "      <th>Date</th>\n",
       "      <th>EventCode</th>\n",
       "      <th>Events</th>\n",
       "      <th>Articles</th>\n",
       "    </tr>\n",
       "  </thead>\n",
       "  <tbody>\n",
       "    <tr>\n",
       "      <th>0</th>\n",
       "      <td>SY</td>\n",
       "      <td>201609</td>\n",
       "      <td>19</td>\n",
       "      <td>0.000358</td>\n",
       "      <td>0.000530</td>\n",
       "    </tr>\n",
       "    <tr>\n",
       "      <th>1</th>\n",
       "      <td>SY</td>\n",
       "      <td>201608</td>\n",
       "      <td>19</td>\n",
       "      <td>0.000327</td>\n",
       "      <td>0.000488</td>\n",
       "    </tr>\n",
       "    <tr>\n",
       "      <th>2</th>\n",
       "      <td>SY</td>\n",
       "      <td>201602</td>\n",
       "      <td>19</td>\n",
       "      <td>0.000378</td>\n",
       "      <td>0.000459</td>\n",
       "    </tr>\n",
       "    <tr>\n",
       "      <th>3</th>\n",
       "      <td>SY</td>\n",
       "      <td>201510</td>\n",
       "      <td>19</td>\n",
       "      <td>0.000308</td>\n",
       "      <td>0.000445</td>\n",
       "    </tr>\n",
       "    <tr>\n",
       "      <th>4</th>\n",
       "      <td>SY</td>\n",
       "      <td>201612</td>\n",
       "      <td>19</td>\n",
       "      <td>0.000330</td>\n",
       "      <td>0.000434</td>\n",
       "    </tr>\n",
       "  </tbody>\n",
       "</table>\n",
       "</div>"
      ],
      "text/plain": [
       "  Country    Date  EventCode    Events  Articles\n",
       "0      SY  201609         19  0.000358  0.000530\n",
       "1      SY  201608         19  0.000327  0.000488\n",
       "2      SY  201602         19  0.000378  0.000459\n",
       "3      SY  201510         19  0.000308  0.000445\n",
       "4      SY  201612         19  0.000330  0.000434"
      ]
     },
     "execution_count": 449,
     "metadata": {},
     "output_type": "execute_result"
    }
   ],
   "source": [
    "df.head()"
   ]
  },
  {
   "cell_type": "code",
   "execution_count": 450,
   "metadata": {
    "collapsed": true
   },
   "outputs": [],
   "source": [
    "def df_env_year(_df, country_code):\n",
    "    x = _df[_df['Country'] == country_code].drop('Country', axis=1)\n",
    "    x['Date'] = x['Date'].apply(lambda d: int(d / 100))\n",
    "    return x.groupby(['Date', 'EventCode']).mean()\n",
    "\n",
    "df_env = df.copy()\n",
    "\n",
    "df_env['Ratio'] = df_env['Articles'] / df_env['Events'].astype('float')\n",
    "\n",
    "df_env.drop(['Articles', 'Events'], axis=1, inplace=True)\n",
    "\n",
    "irq_ev = df_env_year(df_env, 'IZ')\n",
    "mex_ev = df_env_year(df_env, 'MX')\n",
    "afg_ev = df_env_year(df_env, 'AF')\n",
    "pak_ev = df_env_year(df_env, 'PK')\n",
    "syr_ev = df_env_year(df_env, 'SY')"
   ]
  },
  {
   "cell_type": "code",
   "execution_count": 468,
   "metadata": {},
   "outputs": [
    {
     "data": {
      "image/png": "[encoded data removed]",
      "text/plain": [
       "<matplotlib.figure.Figure at 0x7f951a79b390>"
      ]
     },
     "metadata": {},
     "output_type": "display_data"
    }
   ],
   "source": [
    "irq_ev.groupby(['Date', 'EventCode']).mean().unstack(level=1).plot(kind='line', subplots=True);"
   ]
  },
  {
   "cell_type": "code",
   "execution_count": 464,
   "metadata": {},
   "outputs": [
    {
     "data": {
      "image/png": "[encoded data removed]",
      "text/plain": [
       "<matplotlib.figure.Figure at 0x7f9521d08c18>"
      ]
     },
     "metadata": {},
     "output_type": "display_data"
    }
   ],
   "source": [
    "mex_ev.groupby(['Date', 'EventCode']).mean().unstack(level=1).plot(kind='line', subplots=True);"
   ]
  },
  {
   "cell_type": "code",
   "execution_count": 465,
   "metadata": {},
   "outputs": [
    {
     "data": {
      "image/png": "[encoded data removed]",
      "text/plain": [
       "<matplotlib.figure.Figure at 0x7f9519826e10>"
      ]
     },
     "metadata": {},
     "output_type": "display_data"
    }
   ],
   "source": [
    "afg_ev.groupby(['Date', 'EventCode']).mean().unstack(level=1).plot(kind='line', subplots=True);"
   ]
  },
  {
   "cell_type": "code",
   "execution_count": 466,
   "metadata": {},
   "outputs": [
    {
     "data": {
      "image/png": "[encoded data removed]",
      "text/plain": [
       "<matplotlib.figure.Figure at 0x7f951979ca58>"
      ]
     },
     "metadata": {},
     "output_type": "display_data"
    }
   ],
   "source": [
    "pak_ev.groupby(['Date', 'EventCode']).mean().unstack(level=1).plot(kind='line', subplots=True);"
   ]
  },
  {
   "cell_type": "code",
   "execution_count": 467,
   "metadata": {},
   "outputs": [
    {
     "data": {
      "image/png": "[encoded data removed]",
      "text/plain": [
       "<matplotlib.figure.Figure at 0x7f952258bc88>"
      ]
     },
     "metadata": {},
     "output_type": "display_data"
    }
   ],
   "source": [
    "syr_ev.groupby(['Date', 'EventCode']).mean().unstack(level=1).plot(kind='line', subplots=True);"
   ]
  },
  {
   "cell_type": "markdown",
   "metadata": {
    "collapsed": true
   },
   "source": [
    "As we can see, the type of the events (18, 19 or 20) seems not to influence too much the final ratio between the number of events (i.e. each event has a relatively similar curve shape). This means that our choice of events is sound and can be used without worrying too much about event importance."
   ]
  },
  {
   "cell_type": "code",
   "execution_count": 456,
   "metadata": {},
   "outputs": [
    {
     "data": {
      "text/html": [
       "<div>\n",
       "<style>\n",
       "    .dataframe thead tr:only-child th {\n",
       "        text-align: right;\n",
       "    }\n",
       "\n",
       "    .dataframe thead th {\n",
       "        text-align: left;\n",
       "    }\n",
       "\n",
       "    .dataframe tbody tr th {\n",
       "        vertical-align: top;\n",
       "    }\n",
       "</style>\n",
       "<table border=\"1\" class=\"dataframe\">\n",
       "  <thead>\n",
       "    <tr style=\"text-align: right;\">\n",
       "      <th></th>\n",
       "      <th>Sum_Events</th>\n",
       "    </tr>\n",
       "    <tr>\n",
       "      <th>ActionGeo_CountryCode</th>\n",
       "      <th></th>\n",
       "    </tr>\n",
       "  </thead>\n",
       "  <tbody>\n",
       "    <tr>\n",
       "      <th>US</th>\n",
       "      <td>9495320</td>\n",
       "    </tr>\n",
       "    <tr>\n",
       "      <th>IS</th>\n",
       "      <td>1388619</td>\n",
       "    </tr>\n",
       "    <tr>\n",
       "      <th>PK</th>\n",
       "      <td>1388042</td>\n",
       "    </tr>\n",
       "    <tr>\n",
       "      <th>IZ</th>\n",
       "      <td>1244830</td>\n",
       "    </tr>\n",
       "    <tr>\n",
       "      <th>AF</th>\n",
       "      <td>1176532</td>\n",
       "    </tr>\n",
       "    <tr>\n",
       "      <th>SY</th>\n",
       "      <td>1153458</td>\n",
       "    </tr>\n",
       "    <tr>\n",
       "      <th>UK</th>\n",
       "      <td>1054506</td>\n",
       "    </tr>\n",
       "    <tr>\n",
       "      <th>IN</th>\n",
       "      <td>1012818</td>\n",
       "    </tr>\n",
       "    <tr>\n",
       "      <th>RS</th>\n",
       "      <td>777605</td>\n",
       "    </tr>\n",
       "    <tr>\n",
       "      <th>NI</th>\n",
       "      <td>639071</td>\n",
       "    </tr>\n",
       "  </tbody>\n",
       "</table>\n",
       "</div>"
      ],
      "text/plain": [
       "                       Sum_Events\n",
       "ActionGeo_CountryCode            \n",
       "US                        9495320\n",
       "IS                        1388619\n",
       "PK                        1388042\n",
       "IZ                        1244830\n",
       "AF                        1176532\n",
       "SY                        1153458\n",
       "UK                        1054506\n",
       "IN                        1012818\n",
       "RS                         777605\n",
       "NI                         639071"
      ]
     },
     "execution_count": 456,
     "metadata": {},
     "output_type": "execute_result"
    }
   ],
   "source": [
    "te = pd.read_csv(\"top_event_2000_2016.csv\")\n",
    "ta = pd.read_csv(\"top_acticles_2000_2016.csv\")\n",
    "te.set_index(\"ActionGeo_CountryCode\").head(10)"
   ]
  },
  {
   "cell_type": "code",
   "execution_count": 457,
   "metadata": {},
   "outputs": [
    {
     "data": {
      "text/html": [
       "<div>\n",
       "<style>\n",
       "    .dataframe thead tr:only-child th {\n",
       "        text-align: right;\n",
       "    }\n",
       "\n",
       "    .dataframe thead th {\n",
       "        text-align: left;\n",
       "    }\n",
       "\n",
       "    .dataframe tbody tr th {\n",
       "        vertical-align: top;\n",
       "    }\n",
       "</style>\n",
       "<table border=\"1\" class=\"dataframe\">\n",
       "  <thead>\n",
       "    <tr style=\"text-align: right;\">\n",
       "      <th></th>\n",
       "      <th>Sum_Articles</th>\n",
       "    </tr>\n",
       "    <tr>\n",
       "      <th>ActionGeo_CountryCode</th>\n",
       "      <th></th>\n",
       "    </tr>\n",
       "  </thead>\n",
       "  <tbody>\n",
       "    <tr>\n",
       "      <th>US</th>\n",
       "      <td>126189062</td>\n",
       "    </tr>\n",
       "    <tr>\n",
       "      <th>SY</th>\n",
       "      <td>18233243</td>\n",
       "    </tr>\n",
       "    <tr>\n",
       "      <th>IS</th>\n",
       "      <td>16038607</td>\n",
       "    </tr>\n",
       "    <tr>\n",
       "      <th>IZ</th>\n",
       "      <td>15565613</td>\n",
       "    </tr>\n",
       "    <tr>\n",
       "      <th>AF</th>\n",
       "      <td>14920597</td>\n",
       "    </tr>\n",
       "    <tr>\n",
       "      <th>PK</th>\n",
       "      <td>14025192</td>\n",
       "    </tr>\n",
       "    <tr>\n",
       "      <th>UK</th>\n",
       "      <td>9708506</td>\n",
       "    </tr>\n",
       "    <tr>\n",
       "      <th>IN</th>\n",
       "      <td>8898081</td>\n",
       "    </tr>\n",
       "    <tr>\n",
       "      <th>AS</th>\n",
       "      <td>8213297</td>\n",
       "    </tr>\n",
       "    <tr>\n",
       "      <th>RS</th>\n",
       "      <td>7109102</td>\n",
       "    </tr>\n",
       "  </tbody>\n",
       "</table>\n",
       "</div>"
      ],
      "text/plain": [
       "                       Sum_Articles\n",
       "ActionGeo_CountryCode              \n",
       "US                        126189062\n",
       "SY                         18233243\n",
       "IS                         16038607\n",
       "IZ                         15565613\n",
       "AF                         14920597\n",
       "PK                         14025192\n",
       "UK                          9708506\n",
       "IN                          8898081\n",
       "AS                          8213297\n",
       "RS                          7109102"
      ]
     },
     "execution_count": 457,
     "metadata": {},
     "output_type": "execute_result"
    }
   ],
   "source": [
    "ta.set_index(\"ActionGeo_CountryCode\").head(10)"
   ]
  },
  {
   "cell_type": "markdown",
   "metadata": {
    "collapsed": true
   },
   "source": [
    "# Discussion\n",
    "\n",
    "First, we know from our different queries that the number of article has greatly increase during the period of time we considered, namely 2000 to 2016. The number of sources that were scrap for each event has also changed over time. Therefore we will have to be careful to not interpret the number articles evolution in itself without care as a media coverage mesure.\n",
    "The Syrian death reports seems to be temporary not available on the UDCP platform. \n",
    "Another important thing is that the articles sources seems to be mainly centered on american news platforms. This can be seen in the last two plots. The total number of event and articles for the US is huge. Therefore events in the US are more documented than other countries. That is why we think that US news are more investigated.\n"
   ]
  },
  {
   "cell_type": "code",
   "execution_count": null,
   "metadata": {
    "collapsed": true
   },
   "outputs": [],
   "source": []
  }
 ],
 "metadata": {
  "kernelspec": {
   "display_name": "Python [default]",
   "language": "python",
   "name": "python3"
  },
  "language_info": {
   "codemirror_mode": {
    "name": "ipython",
    "version": 3
   },
   "file_extension": ".py",
   "mimetype": "text/x-python",
   "name": "python",
   "nbconvert_exporter": "python",
   "pygments_lexer": "ipython3",
   "version": "3.6.2"
  }
 },
 "nbformat": 4,
 "nbformat_minor": 2
}
