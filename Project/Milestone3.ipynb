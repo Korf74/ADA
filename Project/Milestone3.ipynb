{
 "cells": [
  {
   "cell_type": "markdown",
   "metadata": {},
   "source": [
    "# Milestone 3 - Media coverage of violent events in war zone"
   ]
  },
  {
   "cell_type": "markdown",
   "metadata": {},
   "source": [
    "In the current era of mass communication, globalization, on-demand video, social medias and instant messaging, media and newspapers (increasingly digital) have a central position.\n",
    "\n",
    "Nowadays, news instantly travel the globe, and they travel *massively*.\n",
    "\n",
    "The 2000s have been a time of war, but mostly war located far from 'developed' countries, many important conflicts happened such as Iraq's war, Syria's war, the Arab Spring, September 11th or Mali's war. Many of these conflicts involved NOTA's countries or Russia, these countries are often at war but by long distance. \n",
    "\n",
    "This Modern media coverage of these conflicts is at the center of many ethical discussions. The recurrent critisism is that newspapers focus their article topics arbitrarily and often have a debatable sense of priority.\n",
    "\n",
    "If such a claim were true, the consequences could be significant given the importance of modern medias in inhabitants of western countries daily lives. A lack of coverage of a conflict by newspapers could make people think that the situation in countries at war improved when it has not."
   ]
  },
  {
   "cell_type": "markdown",
   "metadata": {},
   "source": [
    "## 1. Hypothesis and Data retrieval"
   ]
  },
  {
   "cell_type": "markdown",
   "metadata": {},
   "source": [
    "### **Our hypothesis is that there exists a loss of interest of medias over time for some countries even when this country is still at war and that this coverage is biased towards western countries' views and in particular the U.S.A.**"
   ]
  },
  {
   "cell_type": "markdown",
   "metadata": {},
   "source": [
    "To achieve this we chose to use the [**GDELT 2.0 dataset**](https://www.gdeltproject.org/). \n",
    "\n",
    "We chose to analyse the media coverage of violent events in some specific countries (Afghanistan, Syria, Iraq, Pakistan and Mexico) over the years 2000 to 2016.\n",
    "\n",
    "Among the data provided in the dataset we used :\n",
    "\n",
    "* *ActionGeo_CountryName*, the 2-character FIPS10-4 country code for the location of the events to get the countries.\n",
    "* [*EventRootCode*](http://data.gdeltproject.org/documentation/CAMEO.Manual.1.1b3.pdf) 18, 19 and 20 that correspond to the most violent events in the documentation.\n",
    "* *MonthYear* to have the date (in month and year) of each event\n",
    "* *Events* that we got from our SQL query as being the number of events per month\n",
    "* *Articles* from our SQL query as well, being the number of Articles per month\n",
    "\n",
    "We also chose to extract data from the [**UCDP**](http://ucdp.uu.se/) dataset, we kept only our featured countries and the best estimation given for the number of deaths per year."
   ]
  },
  {
   "cell_type": "markdown",
   "metadata": {},
   "source": [
    "## 2. Imports, global names and helper functions"
   ]
  },
  {
   "cell_type": "code",
   "execution_count": 1,
   "metadata": {},
   "outputs": [],
   "source": [
    "import pandas as pd\n",
    "import pyarrow.parquet as pq\n",
    "%matplotlib inline\n",
    "import matplotlib\n",
    "import matplotlib.pyplot as plt\n",
    "from tqdm import tqdm\n",
    "import seaborn as sbs\n",
    "import numpy as np\n",
    "from plots_helpers import *"
   ]
  },
  {
   "cell_type": "code",
   "execution_count": 2,
   "metadata": {
    "collapsed": true
   },
   "outputs": [],
   "source": [
    "total_articles_file = 'Articles_year.csv'\n",
    "total_events_file = 'totevent_code181920.csv'\n",
    "ucdp_file = 'ged171.csv'\n",
    "gdelt_file = 'big_query_2000_2016.csv'\n",
    "top_events_file = 'top_event_2000_2016.csv'\n",
    "top_articles_file = 'top_acticles_2000_2016.csv'\n",
    "years = [2000, 2016]"
   ]
  },
  {
   "cell_type": "code",
   "execution_count": 3,
   "metadata": {
    "collapsed": true
   },
   "outputs": [],
   "source": [
    "def read_csv(filename, years=years, year_col='Year'):\n",
    "    x = pd.read_csv(filename)\n",
    "    x = x[(x[year_col] >= years[0]) & (x[year_col] <= years[1])]\n",
    "    return x"
   ]
  },
  {
   "cell_type": "code",
   "execution_count": 4,
   "metadata": {
    "collapsed": true
   },
   "outputs": [],
   "source": [
    "def deaths_country(_df, country_name):\n",
    "    x = _df[_df['Country'] == country_name].drop('Country', axis=1).groupby('Date').sum().reset_index()\n",
    "    if(country_name == 'Mexico'):\n",
    "        # We need to artificially add some rows for mexico due to missing (no deaths) data these years\n",
    "        x = x.append(pd.DataFrame([[2003, 0], [2000, 0], [2001, 0]], columns=['Date', 'Deaths'])).sort_values('Date')\n",
    "    x['Deaths'] = x['Deaths']\n",
    "    return x.set_index('Date')"
   ]
  },
  {
   "cell_type": "code",
   "execution_count": 5,
   "metadata": {
    "collapsed": true
   },
   "outputs": [],
   "source": [
    "def df_country(_df, country):\n",
    "    return _df[_df.Country == country].drop('Country', axis=1).set_index(['Date'])"
   ]
  },
  {
   "cell_type": "code",
   "execution_count": 6,
   "metadata": {
    "collapsed": true
   },
   "outputs": [],
   "source": [
    "# Plot a barplot of the number od death per year, over the ratio number of article per event per year.\n",
    "def plot_tendency(country_name,deaths, ratio):\n",
    "    #global parameters\n",
    "    fig_height = 12\n",
    "    fig_weight = 12\n",
    "    date = np.arange(2000,2017,1,dtype=np.int64) # stop value excluded\n",
    "    year_xlabel = r\"year of study\"\n",
    "    left_axis = r\"ratio article/event\"\n",
    "    right_axis = r\"number of deaths\"    \n",
    "    \n",
    "    tendency_title = r\"Media Coverage Tendency Over The Number Of Death in \"+country_name\n",
    "    f,ax_ = plt.subplots(sharex=True)\n",
    "    f.set_figheight(fig_height)\n",
    "    f.set_figwidth(fig_weight)\n",
    "    plt.title(tendency_title)\n",
    "    plt.xlabel(year_xlabel)\n",
    "    \n",
    "    ax_.set_xticks(date)\n",
    "    ax_right = ax_.twinx()\n",
    "\n",
    "    ax_.bar(date,deaths)\n",
    "    ax_right.plot(date,ratio,color='r' )\n",
    "\n",
    "    plt.show()"
   ]
  },
  {
   "cell_type": "markdown",
   "metadata": {},
   "source": [
    "## 3. Data Collection and Description"
   ]
  },
  {
   "cell_type": "markdown",
   "metadata": {},
   "source": [
    "## 3.1 Processing of the UCDP dataset"
   ]
  },
  {
   "cell_type": "markdown",
   "metadata": {},
   "source": [
    "### 3.1.1 DataFrame creations\n",
    "\n",
    "*articles_year* and *events_year* represent the number of articles (resp. events) per year in the world."
   ]
  },
  {
   "cell_type": "code",
   "execution_count": 7,
   "metadata": {},
   "outputs": [
    {
     "data": {
      "text/html": [
       "<div>\n",
       "<style>\n",
       "    .dataframe thead tr:only-child th {\n",
       "        text-align: right;\n",
       "    }\n",
       "\n",
       "    .dataframe thead th {\n",
       "        text-align: left;\n",
       "    }\n",
       "\n",
       "    .dataframe tbody tr th {\n",
       "        vertical-align: top;\n",
       "    }\n",
       "</style>\n",
       "<table border=\"1\" class=\"dataframe\">\n",
       "  <thead>\n",
       "    <tr style=\"text-align: right;\">\n",
       "      <th></th>\n",
       "      <th>Year</th>\n",
       "      <th>NumEvents</th>\n",
       "    </tr>\n",
       "  </thead>\n",
       "  <tbody>\n",
       "    <tr>\n",
       "      <th>21</th>\n",
       "      <td>2000</td>\n",
       "      <td>330047</td>\n",
       "    </tr>\n",
       "    <tr>\n",
       "      <th>22</th>\n",
       "      <td>2001</td>\n",
       "      <td>390659</td>\n",
       "    </tr>\n",
       "    <tr>\n",
       "      <th>23</th>\n",
       "      <td>2002</td>\n",
       "      <td>344684</td>\n",
       "    </tr>\n",
       "    <tr>\n",
       "      <th>24</th>\n",
       "      <td>2003</td>\n",
       "      <td>403647</td>\n",
       "    </tr>\n",
       "    <tr>\n",
       "      <th>25</th>\n",
       "      <td>2004</td>\n",
       "      <td>401826</td>\n",
       "    </tr>\n",
       "  </tbody>\n",
       "</table>\n",
       "</div>"
      ],
      "text/plain": [
       "    Year  NumEvents\n",
       "21  2000     330047\n",
       "22  2001     390659\n",
       "23  2002     344684\n",
       "24  2003     403647\n",
       "25  2004     401826"
      ]
     },
     "execution_count": 7,
     "metadata": {},
     "output_type": "execute_result"
    }
   ],
   "source": [
    "articles_year = read_csv(total_articles_file)\n",
    "articles_year = articles_year.rename(columns={\"NbArticles_Year\": \"NumArticles\"})\n",
    "events_year = read_csv(total_events_file)\n",
    "\n",
    "events_year.head()"
   ]
  },
  {
   "cell_type": "markdown",
   "metadata": {},
   "source": [
    "*deaths* represent the number of deaths by country per year"
   ]
  },
  {
   "cell_type": "code",
   "execution_count": 8,
   "metadata": {},
   "outputs": [
    {
     "data": {
      "text/html": [
       "<div>\n",
       "<style>\n",
       "    .dataframe thead tr:only-child th {\n",
       "        text-align: right;\n",
       "    }\n",
       "\n",
       "    .dataframe thead th {\n",
       "        text-align: left;\n",
       "    }\n",
       "\n",
       "    .dataframe tbody tr th {\n",
       "        vertical-align: top;\n",
       "    }\n",
       "</style>\n",
       "<table border=\"1\" class=\"dataframe\">\n",
       "  <thead>\n",
       "    <tr style=\"text-align: right;\">\n",
       "      <th></th>\n",
       "      <th>Date</th>\n",
       "      <th>Country</th>\n",
       "      <th>Deaths</th>\n",
       "    </tr>\n",
       "  </thead>\n",
       "  <tbody>\n",
       "    <tr>\n",
       "      <th>0</th>\n",
       "      <td>2010</td>\n",
       "      <td>Yemen (North Yemen)</td>\n",
       "      <td>2</td>\n",
       "    </tr>\n",
       "    <tr>\n",
       "      <th>1</th>\n",
       "      <td>2011</td>\n",
       "      <td>Yemen (North Yemen)</td>\n",
       "      <td>0</td>\n",
       "    </tr>\n",
       "    <tr>\n",
       "      <th>2</th>\n",
       "      <td>2011</td>\n",
       "      <td>Yemen (North Yemen)</td>\n",
       "      <td>0</td>\n",
       "    </tr>\n",
       "    <tr>\n",
       "      <th>3</th>\n",
       "      <td>2012</td>\n",
       "      <td>Yemen (North Yemen)</td>\n",
       "      <td>5</td>\n",
       "    </tr>\n",
       "    <tr>\n",
       "      <th>4</th>\n",
       "      <td>2012</td>\n",
       "      <td>Yemen (North Yemen)</td>\n",
       "      <td>5</td>\n",
       "    </tr>\n",
       "  </tbody>\n",
       "</table>\n",
       "</div>"
      ],
      "text/plain": [
       "   Date              Country  Deaths\n",
       "0  2010  Yemen (North Yemen)       2\n",
       "1  2011  Yemen (North Yemen)       0\n",
       "2  2011  Yemen (North Yemen)       0\n",
       "3  2012  Yemen (North Yemen)       5\n",
       "4  2012  Yemen (North Yemen)       5"
      ]
     },
     "execution_count": 8,
     "metadata": {},
     "output_type": "execute_result"
    }
   ],
   "source": [
    "deaths = read_csv(ucdp_file, year_col='year')\n",
    "deaths = deaths[['year', 'country', 'best']]\n",
    "deaths.columns = ['Date', 'Country', 'Deaths']\n",
    "\n",
    "deaths.head()"
   ]
  },
  {
   "cell_type": "markdown",
   "metadata": {},
   "source": [
    "### 3.1.2 Country separation"
   ]
  },
  {
   "cell_type": "markdown",
   "metadata": {},
   "source": [
    "Here we create one dataframe per country"
   ]
  },
  {
   "cell_type": "code",
   "execution_count": 9,
   "metadata": {},
   "outputs": [
    {
     "data": {
      "text/html": [
       "<div>\n",
       "<style>\n",
       "    .dataframe thead tr:only-child th {\n",
       "        text-align: right;\n",
       "    }\n",
       "\n",
       "    .dataframe thead th {\n",
       "        text-align: left;\n",
       "    }\n",
       "\n",
       "    .dataframe tbody tr th {\n",
       "        vertical-align: top;\n",
       "    }\n",
       "</style>\n",
       "<table border=\"1\" class=\"dataframe\">\n",
       "  <thead>\n",
       "    <tr style=\"text-align: right;\">\n",
       "      <th></th>\n",
       "      <th>Deaths</th>\n",
       "    </tr>\n",
       "    <tr>\n",
       "      <th>Date</th>\n",
       "      <th></th>\n",
       "    </tr>\n",
       "  </thead>\n",
       "  <tbody>\n",
       "    <tr>\n",
       "      <th>2000</th>\n",
       "      <td>185</td>\n",
       "    </tr>\n",
       "    <tr>\n",
       "      <th>2001</th>\n",
       "      <td>27</td>\n",
       "    </tr>\n",
       "    <tr>\n",
       "      <th>2002</th>\n",
       "      <td>111</td>\n",
       "    </tr>\n",
       "    <tr>\n",
       "      <th>2003</th>\n",
       "      <td>7999</td>\n",
       "    </tr>\n",
       "    <tr>\n",
       "      <th>2004</th>\n",
       "      <td>4365</td>\n",
       "    </tr>\n",
       "  </tbody>\n",
       "</table>\n",
       "</div>"
      ],
      "text/plain": [
       "      Deaths\n",
       "Date        \n",
       "2000     185\n",
       "2001      27\n",
       "2002     111\n",
       "2003    7999\n",
       "2004    4365"
      ]
     },
     "execution_count": 9,
     "metadata": {},
     "output_type": "execute_result"
    }
   ],
   "source": [
    "deaths_irq = deaths_country(deaths, 'Iraq')\n",
    "deaths_afg = deaths_country(deaths, 'Afghanistan')\n",
    "deaths_mex = deaths_country(deaths, 'Mexico')\n",
    "deaths_pak = deaths_country(deaths, 'Pakistan')\n",
    "\n",
    "deaths_irq.head()"
   ]
  },
  {
   "cell_type": "markdown",
   "metadata": {},
   "source": [
    "## 3.2 Processing of our aggregation of the GDELT dataset"
   ]
  },
  {
   "cell_type": "markdown",
   "metadata": {},
   "source": [
    "We first tried to get the data from the cluseter but the dataset present on it was a subset of GDELT. Therefore most of the features were missing. To get the location of an event we used at first \"Source\" and \"Target\" field that matched the country we were intrested in. But those entries were not consistent.\n",
    "The full dataset was supposed to have an ActionGeo_Country code which represent the county were the event took place. We were also supposed to have access to features like \"MonthYear\", \"EventRootCode\",...\n",
    "\n",
    "For all those reasons we decided to stop using the cluster and make our query on the full GDELT dataset using the [Google Big Query](https://bigquery.cloud.google.com/table/gdelt-bq:gdeltv2.events)\n",
    "\n",
    "The sql queries can be found on the repository"
   ]
  },
  {
   "cell_type": "markdown",
   "metadata": {},
   "source": [
    "### 3.2.1 DataFrame creation\n",
    "\n",
    "*df* represents our aggregated gdelt data(sub)set"
   ]
  },
  {
   "cell_type": "code",
   "execution_count": 10,
   "metadata": {},
   "outputs": [
    {
     "data": {
      "text/html": [
       "<div>\n",
       "<style>\n",
       "    .dataframe thead tr:only-child th {\n",
       "        text-align: right;\n",
       "    }\n",
       "\n",
       "    .dataframe thead th {\n",
       "        text-align: left;\n",
       "    }\n",
       "\n",
       "    .dataframe tbody tr th {\n",
       "        vertical-align: top;\n",
       "    }\n",
       "</style>\n",
       "<table border=\"1\" class=\"dataframe\">\n",
       "  <thead>\n",
       "    <tr style=\"text-align: right;\">\n",
       "      <th></th>\n",
       "      <th>Country</th>\n",
       "      <th>Date</th>\n",
       "      <th>EventCode</th>\n",
       "      <th>Events</th>\n",
       "      <th>Articles</th>\n",
       "    </tr>\n",
       "  </thead>\n",
       "  <tbody>\n",
       "    <tr>\n",
       "      <th>0</th>\n",
       "      <td>SY</td>\n",
       "      <td>201609</td>\n",
       "      <td>19</td>\n",
       "      <td>26118</td>\n",
       "      <td>558078</td>\n",
       "    </tr>\n",
       "    <tr>\n",
       "      <th>1</th>\n",
       "      <td>SY</td>\n",
       "      <td>201608</td>\n",
       "      <td>19</td>\n",
       "      <td>23797</td>\n",
       "      <td>513882</td>\n",
       "    </tr>\n",
       "    <tr>\n",
       "      <th>2</th>\n",
       "      <td>SY</td>\n",
       "      <td>201602</td>\n",
       "      <td>19</td>\n",
       "      <td>27567</td>\n",
       "      <td>483618</td>\n",
       "    </tr>\n",
       "    <tr>\n",
       "      <th>3</th>\n",
       "      <td>SY</td>\n",
       "      <td>201510</td>\n",
       "      <td>19</td>\n",
       "      <td>27216</td>\n",
       "      <td>469990</td>\n",
       "    </tr>\n",
       "    <tr>\n",
       "      <th>4</th>\n",
       "      <td>SY</td>\n",
       "      <td>201612</td>\n",
       "      <td>19</td>\n",
       "      <td>22474</td>\n",
       "      <td>468685</td>\n",
       "    </tr>\n",
       "  </tbody>\n",
       "</table>\n",
       "</div>"
      ],
      "text/plain": [
       "  Country    Date  EventCode  Events  Articles\n",
       "0      SY  201609         19   26118    558078\n",
       "1      SY  201608         19   23797    513882\n",
       "2      SY  201602         19   27567    483618\n",
       "3      SY  201510         19   27216    469990\n",
       "4      SY  201612         19   22474    468685"
      ]
     },
     "execution_count": 10,
     "metadata": {},
     "output_type": "execute_result"
    }
   ],
   "source": [
    "df = pd.read_csv(gdelt_file)\n",
    "df.columns = ['Country', 'Date', 'EventCode', 'Events', 'Articles']\n",
    "\n",
    "df.head()"
   ]
  },
  {
   "cell_type": "markdown",
   "metadata": {},
   "source": [
    "### 3.2.2 Normalization"
   ]
  },
  {
   "cell_type": "markdown",
   "metadata": {},
   "source": [
    "This part is important. To be able to correctly analyse our data, we need to normalize the number of articles (resp. events) per year in the aggregated gdelt dataset by the total number of articles (resp. events) in the world this year.\n",
    "\n",
    "This normalization is required, and we discuss in part **3.4** of why it is."
   ]
  },
  {
   "cell_type": "code",
   "execution_count": 11,
   "metadata": {},
   "outputs": [
    {
     "data": {
      "text/html": [
       "<div>\n",
       "<style>\n",
       "    .dataframe thead tr:only-child th {\n",
       "        text-align: right;\n",
       "    }\n",
       "\n",
       "    .dataframe thead th {\n",
       "        text-align: left;\n",
       "    }\n",
       "\n",
       "    .dataframe tbody tr th {\n",
       "        vertical-align: top;\n",
       "    }\n",
       "</style>\n",
       "<table border=\"1\" class=\"dataframe\">\n",
       "  <thead>\n",
       "    <tr style=\"text-align: right;\">\n",
       "      <th></th>\n",
       "      <th>Articles</th>\n",
       "      <th>Events</th>\n",
       "    </tr>\n",
       "  </thead>\n",
       "  <tbody>\n",
       "    <tr>\n",
       "      <th>0</th>\n",
       "      <td>0.005663</td>\n",
       "      <td>0.004158</td>\n",
       "    </tr>\n",
       "    <tr>\n",
       "      <th>1</th>\n",
       "      <td>0.005215</td>\n",
       "      <td>0.003789</td>\n",
       "    </tr>\n",
       "    <tr>\n",
       "      <th>2</th>\n",
       "      <td>0.004907</td>\n",
       "      <td>0.004389</td>\n",
       "    </tr>\n",
       "    <tr>\n",
       "      <th>3</th>\n",
       "      <td>0.005244</td>\n",
       "      <td>0.004753</td>\n",
       "    </tr>\n",
       "    <tr>\n",
       "      <th>4</th>\n",
       "      <td>0.004756</td>\n",
       "      <td>0.003578</td>\n",
       "    </tr>\n",
       "  </tbody>\n",
       "</table>\n",
       "</div>"
      ],
      "text/plain": [
       "   Articles    Events\n",
       "0  0.005663  0.004158\n",
       "1  0.005215  0.003789\n",
       "2  0.004907  0.004389\n",
       "3  0.005244  0.004753\n",
       "4  0.004756  0.003578"
      ]
     },
     "execution_count": 11,
     "metadata": {},
     "output_type": "execute_result"
    }
   ],
   "source": [
    "tmp = pd.DataFrame(df['Date'].apply(lambda x: int(x / 100))).rename(columns={'Date': 'Year'})\n",
    "tmp[['Articles', 'Events']] = df[['Articles', 'Events']]\n",
    "tmp = tmp.merge(articles_year, how='left').merge(events_year, how='left')\n",
    "tmp['Articles'] = (tmp['Articles'] / tmp['NumArticles'])\n",
    "tmp['Events'] = (tmp['Events'] / tmp['NumEvents'])\n",
    "df_normalized = df.copy()\n",
    "df_normalized[['Articles', 'Events']] = tmp[['Articles', 'Events']]\n",
    "\n",
    "tmp.drop(['NumEvents', 'NumArticles', 'Year'], axis=1).head()"
   ]
  },
  {
   "cell_type": "markdown",
   "metadata": {},
   "source": [
    "The data that we get out of our query is the number of Event and the number of Articles aggregated per country, MonthYear and EventCode.\n",
    "Aggregating the data this way enables us to work on a consise dataset (compared to the original enormous GDELT). However we still keep the different event code and month data separated for further analysis."
   ]
  },
  {
   "cell_type": "code",
   "execution_count": 12,
   "metadata": {},
   "outputs": [
    {
     "data": {
      "text/html": [
       "<div>\n",
       "<style>\n",
       "    .dataframe thead tr:only-child th {\n",
       "        text-align: right;\n",
       "    }\n",
       "\n",
       "    .dataframe thead th {\n",
       "        text-align: left;\n",
       "    }\n",
       "\n",
       "    .dataframe tbody tr th {\n",
       "        vertical-align: top;\n",
       "    }\n",
       "</style>\n",
       "<table border=\"1\" class=\"dataframe\">\n",
       "  <thead>\n",
       "    <tr style=\"text-align: right;\">\n",
       "      <th></th>\n",
       "      <th>Country</th>\n",
       "      <th>Date</th>\n",
       "      <th>EventCode</th>\n",
       "      <th>Events</th>\n",
       "      <th>Articles</th>\n",
       "    </tr>\n",
       "  </thead>\n",
       "  <tbody>\n",
       "    <tr>\n",
       "      <th>0</th>\n",
       "      <td>SY</td>\n",
       "      <td>201609</td>\n",
       "      <td>19</td>\n",
       "      <td>0.004158</td>\n",
       "      <td>0.005663</td>\n",
       "    </tr>\n",
       "    <tr>\n",
       "      <th>1</th>\n",
       "      <td>SY</td>\n",
       "      <td>201608</td>\n",
       "      <td>19</td>\n",
       "      <td>0.003789</td>\n",
       "      <td>0.005215</td>\n",
       "    </tr>\n",
       "    <tr>\n",
       "      <th>2</th>\n",
       "      <td>SY</td>\n",
       "      <td>201602</td>\n",
       "      <td>19</td>\n",
       "      <td>0.004389</td>\n",
       "      <td>0.004907</td>\n",
       "    </tr>\n",
       "    <tr>\n",
       "      <th>3</th>\n",
       "      <td>SY</td>\n",
       "      <td>201510</td>\n",
       "      <td>19</td>\n",
       "      <td>0.004753</td>\n",
       "      <td>0.005244</td>\n",
       "    </tr>\n",
       "    <tr>\n",
       "      <th>4</th>\n",
       "      <td>SY</td>\n",
       "      <td>201612</td>\n",
       "      <td>19</td>\n",
       "      <td>0.003578</td>\n",
       "      <td>0.004756</td>\n",
       "    </tr>\n",
       "  </tbody>\n",
       "</table>\n",
       "</div>"
      ],
      "text/plain": [
       "  Country    Date  EventCode    Events  Articles\n",
       "0      SY  201609         19  0.004158  0.005663\n",
       "1      SY  201608         19  0.003789  0.005215\n",
       "2      SY  201602         19  0.004389  0.004907\n",
       "3      SY  201510         19  0.004753  0.005244\n",
       "4      SY  201612         19  0.003578  0.004756"
      ]
     },
     "execution_count": 12,
     "metadata": {},
     "output_type": "execute_result"
    }
   ],
   "source": [
    "df_normalized.head()"
   ]
  },
  {
   "cell_type": "markdown",
   "metadata": {},
   "source": [
    "## 3.3 Separation by country and aggregation per year and event code"
   ]
  },
  {
   "cell_type": "markdown",
   "metadata": {},
   "source": [
    "In this part, we will create new dataframes that will hold our data aggregated by country and date, while forgetting (for now) the event types.\n",
    "\n",
    "We will also create a new column, called *Ratio*, that will represent the ratio (in a given country and year) of the number of articles over the number of events (both normalized)."
   ]
  },
  {
   "cell_type": "code",
   "execution_count": 13,
   "metadata": {},
   "outputs": [
    {
     "data": {
      "text/html": [
       "<div>\n",
       "<style>\n",
       "    .dataframe thead tr:only-child th {\n",
       "        text-align: right;\n",
       "    }\n",
       "\n",
       "    .dataframe thead th {\n",
       "        text-align: left;\n",
       "    }\n",
       "\n",
       "    .dataframe tbody tr th {\n",
       "        vertical-align: top;\n",
       "    }\n",
       "</style>\n",
       "<table border=\"1\" class=\"dataframe\">\n",
       "  <thead>\n",
       "    <tr style=\"text-align: right;\">\n",
       "      <th></th>\n",
       "      <th>Date</th>\n",
       "      <th>Country</th>\n",
       "      <th>Events</th>\n",
       "      <th>Articles</th>\n",
       "    </tr>\n",
       "  </thead>\n",
       "  <tbody>\n",
       "    <tr>\n",
       "      <th>0</th>\n",
       "      <td>200001</td>\n",
       "      <td>AF</td>\n",
       "      <td>0.000600</td>\n",
       "      <td>0.000571</td>\n",
       "    </tr>\n",
       "    <tr>\n",
       "      <th>1</th>\n",
       "      <td>200001</td>\n",
       "      <td>IZ</td>\n",
       "      <td>0.000824</td>\n",
       "      <td>0.000874</td>\n",
       "    </tr>\n",
       "    <tr>\n",
       "      <th>2</th>\n",
       "      <td>200001</td>\n",
       "      <td>MX</td>\n",
       "      <td>0.000300</td>\n",
       "      <td>0.000250</td>\n",
       "    </tr>\n",
       "    <tr>\n",
       "      <th>3</th>\n",
       "      <td>200001</td>\n",
       "      <td>PK</td>\n",
       "      <td>0.002715</td>\n",
       "      <td>0.003148</td>\n",
       "    </tr>\n",
       "    <tr>\n",
       "      <th>4</th>\n",
       "      <td>200001</td>\n",
       "      <td>SY</td>\n",
       "      <td>0.000561</td>\n",
       "      <td>0.000456</td>\n",
       "    </tr>\n",
       "  </tbody>\n",
       "</table>\n",
       "</div>"
      ],
      "text/plain": [
       "     Date Country    Events  Articles\n",
       "0  200001      AF  0.000600  0.000571\n",
       "1  200001      IZ  0.000824  0.000874\n",
       "2  200001      MX  0.000300  0.000250\n",
       "3  200001      PK  0.002715  0.003148\n",
       "4  200001      SY  0.000561  0.000456"
      ]
     },
     "execution_count": 13,
     "metadata": {},
     "output_type": "execute_result"
    }
   ],
   "source": [
    "df_grouped = df_normalized.groupby(['Date', 'Country']).sum().drop(['EventCode'], axis=1).sort_index(level=[0,1])\n",
    "\n",
    "df_merged = df_grouped.reset_index()\n",
    "\n",
    "irq = df_country(df_merged, 'IZ')\n",
    "mex = df_country(df_merged, 'MX')\n",
    "pak = df_country(df_merged, 'PK')\n",
    "afg = df_country(df_merged, 'AF')\n",
    "syr = df_country(df_merged, 'SY')\n",
    "\n",
    "df_merged.head()"
   ]
  },
  {
   "cell_type": "markdown",
   "metadata": {},
   "source": [
    "Creation of the ratio column."
   ]
  },
  {
   "cell_type": "code",
   "execution_count": 14,
   "metadata": {},
   "outputs": [
    {
     "data": {
      "text/html": [
       "<div>\n",
       "<style>\n",
       "    .dataframe thead tr:only-child th {\n",
       "        text-align: right;\n",
       "    }\n",
       "\n",
       "    .dataframe thead th {\n",
       "        text-align: left;\n",
       "    }\n",
       "\n",
       "    .dataframe tbody tr th {\n",
       "        vertical-align: top;\n",
       "    }\n",
       "</style>\n",
       "<table border=\"1\" class=\"dataframe\">\n",
       "  <thead>\n",
       "    <tr style=\"text-align: right;\">\n",
       "      <th></th>\n",
       "      <th>Date</th>\n",
       "      <th>Country</th>\n",
       "      <th>Events</th>\n",
       "      <th>Articles</th>\n",
       "      <th>Ratio</th>\n",
       "    </tr>\n",
       "  </thead>\n",
       "  <tbody>\n",
       "    <tr>\n",
       "      <th>0</th>\n",
       "      <td>2000</td>\n",
       "      <td>AF</td>\n",
       "      <td>0.012501</td>\n",
       "      <td>0.012148</td>\n",
       "      <td>0.971773</td>\n",
       "    </tr>\n",
       "    <tr>\n",
       "      <th>1</th>\n",
       "      <td>2000</td>\n",
       "      <td>IZ</td>\n",
       "      <td>0.011335</td>\n",
       "      <td>0.011045</td>\n",
       "      <td>0.974412</td>\n",
       "    </tr>\n",
       "    <tr>\n",
       "      <th>2</th>\n",
       "      <td>2000</td>\n",
       "      <td>MX</td>\n",
       "      <td>0.005454</td>\n",
       "      <td>0.005516</td>\n",
       "      <td>1.011380</td>\n",
       "    </tr>\n",
       "    <tr>\n",
       "      <th>3</th>\n",
       "      <td>2000</td>\n",
       "      <td>PK</td>\n",
       "      <td>0.024351</td>\n",
       "      <td>0.027095</td>\n",
       "      <td>1.112696</td>\n",
       "    </tr>\n",
       "    <tr>\n",
       "      <th>4</th>\n",
       "      <td>2000</td>\n",
       "      <td>SY</td>\n",
       "      <td>0.004221</td>\n",
       "      <td>0.003140</td>\n",
       "      <td>0.744014</td>\n",
       "    </tr>\n",
       "  </tbody>\n",
       "</table>\n",
       "</div>"
      ],
      "text/plain": [
       "   Date Country    Events  Articles     Ratio\n",
       "0  2000      AF  0.012501  0.012148  0.971773\n",
       "1  2000      IZ  0.011335  0.011045  0.974412\n",
       "2  2000      MX  0.005454  0.005516  1.011380\n",
       "3  2000      PK  0.024351  0.027095  1.112696\n",
       "4  2000      SY  0.004221  0.003140  0.744014"
      ]
     },
     "execution_count": 14,
     "metadata": {},
     "output_type": "execute_result"
    }
   ],
   "source": [
    "df_year = df_merged.copy()\n",
    "\n",
    "df_year['Date'] = df_year['Date'].apply(lambda d: int(d/100))\n",
    "\n",
    "df_year = df_year.groupby(['Date', 'Country']).sum().reset_index()\n",
    "\n",
    "df_year['Ratio'] = df_year['Articles'] / df_year['Events'].astype('float')\n",
    "\n",
    "irq_year1 = df_country(df_year, 'IZ')\n",
    "mex_year1 = df_country(df_year, 'MX')\n",
    "pak_year1 = df_country(df_year, 'PK')\n",
    "afg_year1 = df_country(df_year, 'AF')\n",
    "syr_year1 = df_country(df_year, 'SY')\n",
    "\n",
    "df_year.head()"
   ]
  },
  {
   "cell_type": "markdown",
   "metadata": {},
   "source": [
    "Merging of both dataset informations."
   ]
  },
  {
   "cell_type": "code",
   "execution_count": 15,
   "metadata": {},
   "outputs": [
    {
     "data": {
      "text/html": [
       "<div>\n",
       "<style>\n",
       "    .dataframe thead tr:only-child th {\n",
       "        text-align: right;\n",
       "    }\n",
       "\n",
       "    .dataframe thead th {\n",
       "        text-align: left;\n",
       "    }\n",
       "\n",
       "    .dataframe tbody tr th {\n",
       "        vertical-align: top;\n",
       "    }\n",
       "</style>\n",
       "<table border=\"1\" class=\"dataframe\">\n",
       "  <thead>\n",
       "    <tr style=\"text-align: right;\">\n",
       "      <th></th>\n",
       "      <th>Deaths</th>\n",
       "      <th>Events</th>\n",
       "      <th>Articles</th>\n",
       "      <th>Ratio</th>\n",
       "    </tr>\n",
       "    <tr>\n",
       "      <th>Date</th>\n",
       "      <th></th>\n",
       "      <th></th>\n",
       "      <th></th>\n",
       "      <th></th>\n",
       "    </tr>\n",
       "  </thead>\n",
       "  <tbody>\n",
       "    <tr>\n",
       "      <th>2000</th>\n",
       "      <td>185</td>\n",
       "      <td>0.011335</td>\n",
       "      <td>0.011045</td>\n",
       "      <td>0.974412</td>\n",
       "    </tr>\n",
       "    <tr>\n",
       "      <th>2001</th>\n",
       "      <td>27</td>\n",
       "      <td>0.012615</td>\n",
       "      <td>0.012875</td>\n",
       "      <td>1.020623</td>\n",
       "    </tr>\n",
       "    <tr>\n",
       "      <th>2002</th>\n",
       "      <td>111</td>\n",
       "      <td>0.020169</td>\n",
       "      <td>0.021691</td>\n",
       "      <td>1.075432</td>\n",
       "    </tr>\n",
       "    <tr>\n",
       "      <th>2003</th>\n",
       "      <td>7999</td>\n",
       "      <td>0.118185</td>\n",
       "      <td>0.137051</td>\n",
       "      <td>1.159632</td>\n",
       "    </tr>\n",
       "    <tr>\n",
       "      <th>2004</th>\n",
       "      <td>4365</td>\n",
       "      <td>0.160283</td>\n",
       "      <td>0.176554</td>\n",
       "      <td>1.101513</td>\n",
       "    </tr>\n",
       "  </tbody>\n",
       "</table>\n",
       "</div>"
      ],
      "text/plain": [
       "      Deaths    Events  Articles     Ratio\n",
       "Date                                      \n",
       "2000     185  0.011335  0.011045  0.974412\n",
       "2001      27  0.012615  0.012875  1.020623\n",
       "2002     111  0.020169  0.021691  1.075432\n",
       "2003    7999  0.118185  0.137051  1.159632\n",
       "2004    4365  0.160283  0.176554  1.101513"
      ]
     },
     "execution_count": 15,
     "metadata": {},
     "output_type": "execute_result"
    }
   ],
   "source": [
    "irq_year = deaths_irq.join(irq_year1)\n",
    "mex_year = deaths_mex.join(mex_year1)\n",
    "pak_year = deaths_pak.join(pak_year1)\n",
    "afg_year = deaths_afg.join(afg_year1)\n",
    "\n",
    "irq_year.head()"
   ]
  },
  {
   "cell_type": "markdown",
   "metadata": {},
   "source": [
    "## 3.4 Data inconsistencies and points to be careful of"
   ]
  },
  {
   "cell_type": "markdown",
   "metadata": {},
   "source": [
    "In this section, we'll detail some issues and important points to keep in minds regarding the data. \n",
    "\n",
    "During the processing stage, we found several such issues that we needed to address to make the reader aware of the potential problems is this study."
   ]
  },
  {
   "cell_type": "markdown",
   "metadata": {},
   "source": [
    "### 3.4.1 UCDP dataset problems"
   ]
  },
  {
   "cell_type": "markdown",
   "metadata": {},
   "source": [
    "Merging datasets coming from different sources must always be done carefuly. The UCDP dataset has proved useful, allowing us to add information on casualities by year in different countries. However, we noted several problems.\n",
    "\n",
    "First, some parts of the data are suspicously missing. For instance in the U.S. only 3 events in the 2000-2016 time frame (including the world trade center terrosist attack) are recorded, even though numerous mass shooting happen every year in this country.\n",
    "\n",
    "We also found that Syria data is completely blank, which prevented us to do an analysis of Syria similar to the other countries. However we will still use the Syrian data when comparing countries on their global media coverage since we felt that this conflict had a big place in the news those last years. \n",
    "\n",
    "Overall, the data seem quite inconsistent, Mexico casualities for example are at 0 in 2000, 2001 and 2003 but we don't know if that's really the case or if the data is simply missing."
   ]
  },
  {
   "cell_type": "markdown",
   "metadata": {},
   "source": [
    "### 3.4.2 Increase of data quantity over time and scale issues"
   ]
  },
  {
   "cell_type": "markdown",
   "metadata": {},
   "source": [
    "During the retrieval of the GDELT dataset, we noted that the quantity of articles and events (and data in general), increases drastically over the years. We suspect that is due to the project's increasing maturity, the improvement in data retrieval techniques, and the huge increase in news sources (e.g. via internet).\n",
    "\n",
    "Below you can find the table that show the number of articles and events over the years and the corresponding barplot."
   ]
  },
  {
   "cell_type": "code",
   "execution_count": 16,
   "metadata": {},
   "outputs": [
    {
     "data": {
      "text/html": [
       "<div>\n",
       "<style>\n",
       "    .dataframe thead tr:only-child th {\n",
       "        text-align: right;\n",
       "    }\n",
       "\n",
       "    .dataframe thead th {\n",
       "        text-align: left;\n",
       "    }\n",
       "\n",
       "    .dataframe tbody tr th {\n",
       "        vertical-align: top;\n",
       "    }\n",
       "</style>\n",
       "<table border=\"1\" class=\"dataframe\">\n",
       "  <thead>\n",
       "    <tr style=\"text-align: right;\">\n",
       "      <th></th>\n",
       "      <th>NumArticles</th>\n",
       "      <th>NumEvents</th>\n",
       "    </tr>\n",
       "    <tr>\n",
       "      <th>Year</th>\n",
       "      <th></th>\n",
       "      <th></th>\n",
       "    </tr>\n",
       "  </thead>\n",
       "  <tbody>\n",
       "    <tr>\n",
       "      <th>2000</th>\n",
       "      <td>1610092</td>\n",
       "      <td>330047</td>\n",
       "    </tr>\n",
       "    <tr>\n",
       "      <th>2001</th>\n",
       "      <td>1919419</td>\n",
       "      <td>390659</td>\n",
       "    </tr>\n",
       "    <tr>\n",
       "      <th>2002</th>\n",
       "      <td>1560261</td>\n",
       "      <td>344684</td>\n",
       "    </tr>\n",
       "    <tr>\n",
       "      <th>2003</th>\n",
       "      <td>2080567</td>\n",
       "      <td>403647</td>\n",
       "    </tr>\n",
       "    <tr>\n",
       "      <th>2004</th>\n",
       "      <td>1970998</td>\n",
       "      <td>401826</td>\n",
       "    </tr>\n",
       "    <tr>\n",
       "      <th>2005</th>\n",
       "      <td>1402859</td>\n",
       "      <td>290738</td>\n",
       "    </tr>\n",
       "    <tr>\n",
       "      <th>2006</th>\n",
       "      <td>2032533</td>\n",
       "      <td>575386</td>\n",
       "    </tr>\n",
       "    <tr>\n",
       "      <th>2007</th>\n",
       "      <td>5103387</td>\n",
       "      <td>1044619</td>\n",
       "    </tr>\n",
       "    <tr>\n",
       "      <th>2008</th>\n",
       "      <td>7196901</td>\n",
       "      <td>1259645</td>\n",
       "    </tr>\n",
       "    <tr>\n",
       "      <th>2009</th>\n",
       "      <td>14115112</td>\n",
       "      <td>1837854</td>\n",
       "    </tr>\n",
       "    <tr>\n",
       "      <th>2010</th>\n",
       "      <td>15854158</td>\n",
       "      <td>1760101</td>\n",
       "    </tr>\n",
       "    <tr>\n",
       "      <th>2011</th>\n",
       "      <td>28822812</td>\n",
       "      <td>2688899</td>\n",
       "    </tr>\n",
       "    <tr>\n",
       "      <th>2012</th>\n",
       "      <td>34293437</td>\n",
       "      <td>2982839</td>\n",
       "    </tr>\n",
       "    <tr>\n",
       "      <th>2013</th>\n",
       "      <td>28924375</td>\n",
       "      <td>2944461</td>\n",
       "    </tr>\n",
       "    <tr>\n",
       "      <th>2014</th>\n",
       "      <td>46420217</td>\n",
       "      <td>4400892</td>\n",
       "    </tr>\n",
       "    <tr>\n",
       "      <th>2015</th>\n",
       "      <td>89630924</td>\n",
       "      <td>5725813</td>\n",
       "    </tr>\n",
       "    <tr>\n",
       "      <th>2016</th>\n",
       "      <td>98548219</td>\n",
       "      <td>6281254</td>\n",
       "    </tr>\n",
       "  </tbody>\n",
       "</table>\n",
       "</div>"
      ],
      "text/plain": [
       "      NumArticles  NumEvents\n",
       "Year                        \n",
       "2000      1610092     330047\n",
       "2001      1919419     390659\n",
       "2002      1560261     344684\n",
       "2003      2080567     403647\n",
       "2004      1970998     401826\n",
       "2005      1402859     290738\n",
       "2006      2032533     575386\n",
       "2007      5103387    1044619\n",
       "2008      7196901    1259645\n",
       "2009     14115112    1837854\n",
       "2010     15854158    1760101\n",
       "2011     28822812    2688899\n",
       "2012     34293437    2982839\n",
       "2013     28924375    2944461\n",
       "2014     46420217    4400892\n",
       "2015     89630924    5725813\n",
       "2016     98548219    6281254"
      ]
     },
     "execution_count": 16,
     "metadata": {},
     "output_type": "execute_result"
    }
   ],
   "source": [
    "articles_events_year = articles_year.merge(events_year).set_index('Year')\n",
    "\n",
    "articles_events_year"
   ]
  },
  {
   "cell_type": "code",
   "execution_count": 17,
   "metadata": {},
   "outputs": [
    {
     "data": {
      "image/png": "[encoded data removed]",
      "text/plain": [
       "<matplotlib.figure.Figure at 0x1a1c684128>"
      ]
     },
     "metadata": {},
     "output_type": "display_data"
    }
   ],
   "source": [
    "articles_events_year.plot(kind='bar', subplots=True,\n",
    "                                    title='Importance of scale in GDELT')\n",
    "plt.show()"
   ]
  },
  {
   "cell_type": "code",
   "execution_count": 18,
   "metadata": {},
   "outputs": [
    {
     "data": {
      "text/html": [
       "<div>\n",
       "<style>\n",
       "    .dataframe thead tr:only-child th {\n",
       "        text-align: right;\n",
       "    }\n",
       "\n",
       "    .dataframe thead th {\n",
       "        text-align: left;\n",
       "    }\n",
       "\n",
       "    .dataframe tbody tr th {\n",
       "        vertical-align: top;\n",
       "    }\n",
       "</style>\n",
       "<table border=\"1\" class=\"dataframe\">\n",
       "  <thead>\n",
       "    <tr style=\"text-align: right;\">\n",
       "      <th></th>\n",
       "      <th>0</th>\n",
       "    </tr>\n",
       "  </thead>\n",
       "  <tbody>\n",
       "    <tr>\n",
       "      <th>NumArticles</th>\n",
       "      <td>61.206576</td>\n",
       "    </tr>\n",
       "    <tr>\n",
       "      <th>NumEvents</th>\n",
       "      <td>19.031392</td>\n",
       "    </tr>\n",
       "  </tbody>\n",
       "</table>\n",
       "</div>"
      ],
      "text/plain": [
       "                     0\n",
       "NumArticles  61.206576\n",
       "NumEvents    19.031392"
      ]
     },
     "execution_count": 18,
     "metadata": {},
     "output_type": "execute_result"
    }
   ],
   "source": [
    "articles_events_2000_2016 = articles_events_year.drop([x for x in range(2001, 2016)])\n",
    "\n",
    "diff = pd.DataFrame(articles_events_2000_2016.loc[2016] / articles_events_2000_2016.loc[2000])\n",
    "\n",
    "diff"
   ]
  },
  {
   "cell_type": "markdown",
   "metadata": {},
   "source": [
    "As you can see, the difference of scale can be huge, almost a factor of 61 (resp.20) for articles (resp. events) between 2000 and 2016."
   ]
  },
  {
   "cell_type": "markdown",
   "metadata": {},
   "source": [
    "### 3.4.3 Scale differences between countries"
   ]
  },
  {
   "cell_type": "markdown",
   "metadata": {},
   "source": [
    "The countries we chose to study (namely Afghanistan, Iraq, Mexico, Pakistan and Syria) face very different conflicts. \n",
    "\n",
    "Mexico for example, is mostly subject to gang wars while Iraq inhabitants had to deal with war with the U.S.\n",
    "\n",
    "This creates huge scale differences between countries, the most obvious one being the casualities. We need to keep this in mind in our study."
   ]
  },
  {
   "cell_type": "code",
   "execution_count": 19,
   "metadata": {},
   "outputs": [
    {
     "data": {
      "image/png": "[encoded data removed]",
      "text/plain": [
       "<matplotlib.figure.Figure at 0x1a15d272e8>"
      ]
     },
     "metadata": {},
     "output_type": "display_data"
    }
   ],
   "source": [
    "deaths_afg.merge(deaths_mex, how='outer', left_index=True, right_index=True)\\\n",
    "    .rename(columns={'Deaths_x': 'Deaths_afghanistan','Deaths_y': 'Deaths_mexico'})\\\n",
    "    .plot(kind='bar', title='Number of deaths per year for Afghanistan and Mexico')\n",
    "plt.show()"
   ]
  },
  {
   "cell_type": "markdown",
   "metadata": {},
   "source": [
    "As we can see on the plot above, taking the example of Afghanistan and Mexico, the difference of scale in casualities is quite important."
   ]
  },
  {
   "cell_type": "markdown",
   "metadata": {},
   "source": [
    "### 3.4.4 GDELT inconsistency in event codes"
   ]
  },
  {
   "cell_type": "markdown",
   "metadata": {},
   "source": [
    "We found another surprising problem in the GDELT dataset, it seems that the coverage of very serious events (e.g. mass shootings) is inconsistent in the data.\n",
    "\n",
    "The event code 20, supposed to be the worst events, have a surprisingly low articles/events ratio."
   ]
  },
  {
   "cell_type": "code",
   "execution_count": 20,
   "metadata": {},
   "outputs": [
    {
     "name": "stdout",
     "output_type": "stream",
     "text": [
      "\n",
      "EventRootCode:\n",
      "18: ASSAULT \n",
      "19: FIGHT\n",
      "20: USE UNCONVENTIONAL MASS VIOLENCE\n"
     ]
    },
    {
     "data": {
      "image/png": "[encoded data removed]",
      "text/plain": [
       "<matplotlib.figure.Figure at 0x1a1adaccc0>"
      ]
     },
     "metadata": {},
     "output_type": "display_data"
    },
    {
     "data": {
      "text/html": [
       "\n",
       "    <div class=\"bk-root\">\n",
       "        <a href=\"https://bokeh.pydata.org\" target=\"_blank\" class=\"bk-logo bk-logo-small bk-logo-notebook\"></a>\n",
       "        <span id=\"9c8a8770-1f09-4358-baa0-f388bf8fe447\">Loading BokehJS ...</span>\n",
       "    </div>"
      ]
     },
     "metadata": {},
     "output_type": "display_data"
    },
    {
     "data": {
      "application/javascript": [
       "\n",
       "(function(root) {\n",
       "  function now() {\n",
       "    return new Date();\n",
       "  }\n",
       "\n",
       "  var force = true;\n",
       "\n",
       "  if (typeof (root._bokeh_onload_callbacks) === \"undefined\" || force === true) {\n",
       "    root._bokeh_onload_callbacks = [];\n",
       "    root._bokeh_is_loading = undefined;\n",
       "  }\n",
       "\n",
       "\n",
       "  \n",
       "  if (typeof (root._bokeh_timeout) === \"undefined\" || force === true) {\n",
       "    root._bokeh_timeout = Date.now() + 5000;\n",
       "    root._bokeh_failed_load = false;\n",
       "  }\n",
       "\n",
       "  var NB_LOAD_WARNING = {'data': {'text/html':\n",
       "     \"<div style='background-color: #fdd'>\\n\"+\n",
       "     \"<p>\\n\"+\n",
       "     \"BokehJS does not appear to have successfully loaded. If loading BokehJS from CDN, this \\n\"+\n",
       "     \"may be due to a slow or bad network connection. Possible fixes:\\n\"+\n",
       "     \"</p>\\n\"+\n",
       "     \"<ul>\\n\"+\n",
       "     \"<li>re-rerun `output_notebook()` to attempt to load from CDN again, or</li>\\n\"+\n",
       "     \"<li>use INLINE resources instead, as so:</li>\\n\"+\n",
       "     \"</ul>\\n\"+\n",
       "     \"<code>\\n\"+\n",
       "     \"from bokeh.resources import INLINE\\n\"+\n",
       "     \"output_notebook(resources=INLINE)\\n\"+\n",
       "     \"</code>\\n\"+\n",
       "     \"</div>\"}};\n",
       "\n",
       "  function display_loaded() {\n",
       "    if (root.Bokeh !== undefined) {\n",
       "      var el = document.getElementById(\"9c8a8770-1f09-4358-baa0-f388bf8fe447\");\n",
       "      if (el != null) {\n",
       "        el.textContent = \"BokehJS \" + Bokeh.version + \" successfully loaded.\";\n",
       "      }\n",
       "    } else if (Date.now() < root._bokeh_timeout) {\n",
       "      setTimeout(display_loaded, 100)\n",
       "    }\n",
       "  }\n",
       "\n",
       "\n",
       "  function run_callbacks() {\n",
       "    try {\n",
       "      root._bokeh_onload_callbacks.forEach(function(callback) { callback() });\n",
       "    }\n",
       "    finally {\n",
       "      delete root._bokeh_onload_callbacks\n",
       "    }\n",
       "    console.info(\"Bokeh: all callbacks have finished\");\n",
       "  }\n",
       "\n",
       "  function load_libs(js_urls, callback) {\n",
       "    root._bokeh_onload_callbacks.push(callback);\n",
       "    if (root._bokeh_is_loading > 0) {\n",
       "      console.log(\"Bokeh: BokehJS is being loaded, scheduling callback at\", now());\n",
       "      return null;\n",
       "    }\n",
       "    if (js_urls == null || js_urls.length === 0) {\n",
       "      run_callbacks();\n",
       "      return null;\n",
       "    }\n",
       "    console.log(\"Bokeh: BokehJS not loaded, scheduling load and callback at\", now());\n",
       "    root._bokeh_is_loading = js_urls.length;\n",
       "    for (var i = 0; i < js_urls.length; i++) {\n",
       "      var url = js_urls[i];\n",
       "      var s = document.createElement('script');\n",
       "      s.src = url;\n",
       "      s.async = false;\n",
       "      s.onreadystatechange = s.onload = function() {\n",
       "        root._bokeh_is_loading--;\n",
       "        if (root._bokeh_is_loading === 0) {\n",
       "          console.log(\"Bokeh: all BokehJS libraries loaded\");\n",
       "          run_callbacks()\n",
       "        }\n",
       "      };\n",
       "      s.onerror = function() {\n",
       "        console.warn(\"failed to load library \" + url);\n",
       "      };\n",
       "      console.log(\"Bokeh: injecting script tag for BokehJS library: \", url);\n",
       "      document.getElementsByTagName(\"head\")[0].appendChild(s);\n",
       "    }\n",
       "  };var element = document.getElementById(\"9c8a8770-1f09-4358-baa0-f388bf8fe447\");\n",
       "  if (element == null) {\n",
       "    console.log(\"Bokeh: ERROR: autoload.js configured with elementid '9c8a8770-1f09-4358-baa0-f388bf8fe447' but no matching script tag was found. \")\n",
       "    return false;\n",
       "  }\n",
       "\n",
       "  var js_urls = [\"https://cdn.pydata.org/bokeh/release/bokeh-0.12.7.min.js\", \"https://cdn.pydata.org/bokeh/release/bokeh-widgets-0.12.7.min.js\", \"https://cdn.pydata.org/bokeh/release/bokeh-tables-0.12.7.min.js\", \"https://cdn.pydata.org/bokeh/release/bokeh-gl-0.12.7.min.js\"];\n",
       "\n",
       "  var inline_js = [\n",
       "    function(Bokeh) {\n",
       "      Bokeh.set_log_level(\"info\");\n",
       "    },\n",
       "    \n",
       "    function(Bokeh) {\n",
       "      \n",
       "    },\n",
       "    \n",
       "    function(Bokeh) {\n",
       "      \n",
       "      document.getElementById(\"9c8a8770-1f09-4358-baa0-f388bf8fe447\").textContent = \"BokehJS is loading...\";\n",
       "    },\n",
       "    function(Bokeh) {\n",
       "      console.log(\"Bokeh: injecting CSS: https://cdn.pydata.org/bokeh/release/bokeh-0.12.7.min.css\");\n",
       "      Bokeh.embed.inject_css(\"https://cdn.pydata.org/bokeh/release/bokeh-0.12.7.min.css\");\n",
       "      console.log(\"Bokeh: injecting CSS: https://cdn.pydata.org/bokeh/release/bokeh-widgets-0.12.7.min.css\");\n",
       "      Bokeh.embed.inject_css(\"https://cdn.pydata.org/bokeh/release/bokeh-widgets-0.12.7.min.css\");\n",
       "      console.log(\"Bokeh: injecting CSS: https://cdn.pydata.org/bokeh/release/bokeh-tables-0.12.7.min.css\");\n",
       "      Bokeh.embed.inject_css(\"https://cdn.pydata.org/bokeh/release/bokeh-tables-0.12.7.min.css\");\n",
       "    }\n",
       "  ];\n",
       "\n",
       "  function run_inline_js() {\n",
       "    \n",
       "    if ((root.Bokeh !== undefined) || (force === true)) {\n",
       "      for (var i = 0; i < inline_js.length; i++) {\n",
       "        inline_js[i].call(root, root.Bokeh);\n",
       "      }if (force === true) {\n",
       "        display_loaded();\n",
       "      }} else if (Date.now() < root._bokeh_timeout) {\n",
       "      setTimeout(run_inline_js, 100);\n",
       "    } else if (!root._bokeh_failed_load) {\n",
       "      console.log(\"Bokeh: BokehJS failed to load within specified timeout.\");\n",
       "      root._bokeh_failed_load = true;\n",
       "    } else if (force !== true) {\n",
       "      var cell = $(document.getElementById(\"9c8a8770-1f09-4358-baa0-f388bf8fe447\")).parents('.cell').data().cell;\n",
       "      cell.output_area.append_execute_result(NB_LOAD_WARNING)\n",
       "    }\n",
       "\n",
       "  }\n",
       "\n",
       "  if (root._bokeh_is_loading === 0) {\n",
       "    console.log(\"Bokeh: BokehJS loaded, going straight to plotting\");\n",
       "    run_inline_js();\n",
       "  } else {\n",
       "    load_libs(js_urls, function() {\n",
       "      console.log(\"Bokeh: BokehJS plotting callback run at\", now());\n",
       "      run_inline_js();\n",
       "    });\n",
       "  }\n",
       "}(window));"
      ]
     },
     "metadata": {},
     "output_type": "display_data"
    },
    {
     "data": {
      "text/html": [
       "\n",
       "\n",
       "    <div class=\"bk-root\">\n",
       "        <div class=\"bk-plotdiv\" id=\"a3bccc53-0b3b-4a7f-bc1b-8c6fd266a085\"></div>\n",
       "    </div>\n",
       "<script type=\"text/javascript\">\n",
       "  \n",
       "  (function(root) {\n",
       "    function now() {\n",
       "      return new Date();\n",
       "    }\n",
       "  \n",
       "    var force = false;\n",
       "  \n",
       "    if (typeof (root._bokeh_onload_callbacks) === \"undefined\" || force === true) {\n",
       "      root._bokeh_onload_callbacks = [];\n",
       "      root._bokeh_is_loading = undefined;\n",
       "    }\n",
       "  \n",
       "  \n",
       "    \n",
       "    if (typeof (root._bokeh_timeout) === \"undefined\" || force === true) {\n",
       "      root._bokeh_timeout = Date.now() + 0;\n",
       "      root._bokeh_failed_load = false;\n",
       "    }\n",
       "  \n",
       "    var NB_LOAD_WARNING = {'data': {'text/html':\n",
       "       \"<div style='background-color: #fdd'>\\n\"+\n",
       "       \"<p>\\n\"+\n",
       "       \"BokehJS does not appear to have successfully loaded. If loading BokehJS from CDN, this \\n\"+\n",
       "       \"may be due to a slow or bad network connection. Possible fixes:\\n\"+\n",
       "       \"</p>\\n\"+\n",
       "       \"<ul>\\n\"+\n",
       "       \"<li>re-rerun `output_notebook()` to attempt to load from CDN again, or</li>\\n\"+\n",
       "       \"<li>use INLINE resources instead, as so:</li>\\n\"+\n",
       "       \"</ul>\\n\"+\n",
       "       \"<code>\\n\"+\n",
       "       \"from bokeh.resources import INLINE\\n\"+\n",
       "       \"output_notebook(resources=INLINE)\\n\"+\n",
       "       \"</code>\\n\"+\n",
       "       \"</div>\"}};\n",
       "  \n",
       "    function display_loaded() {\n",
       "      if (root.Bokeh !== undefined) {\n",
       "        var el = document.getElementById(\"a3bccc53-0b3b-4a7f-bc1b-8c6fd266a085\");\n",
       "        if (el != null) {\n",
       "          el.textContent = \"BokehJS \" + Bokeh.version + \" successfully loaded.\";\n",
       "        }\n",
       "      } else if (Date.now() < root._bokeh_timeout) {\n",
       "        setTimeout(display_loaded, 100)\n",
       "      }\n",
       "    }\n",
       "  \n",
       "  \n",
       "    function run_callbacks() {\n",
       "      try {\n",
       "        root._bokeh_onload_callbacks.forEach(function(callback) { callback() });\n",
       "      }\n",
       "      finally {\n",
       "        delete root._bokeh_onload_callbacks\n",
       "      }\n",
       "      console.info(\"Bokeh: all callbacks have finished\");\n",
       "    }\n",
       "  \n",
       "    function load_libs(js_urls, callback) {\n",
       "      root._bokeh_onload_callbacks.push(callback);\n",
       "      if (root._bokeh_is_loading > 0) {\n",
       "        console.log(\"Bokeh: BokehJS is being loaded, scheduling callback at\", now());\n",
       "        return null;\n",
       "      }\n",
       "      if (js_urls == null || js_urls.length === 0) {\n",
       "        run_callbacks();\n",
       "        return null;\n",
       "      }\n",
       "      console.log(\"Bokeh: BokehJS not loaded, scheduling load and callback at\", now());\n",
       "      root._bokeh_is_loading = js_urls.length;\n",
       "      for (var i = 0; i < js_urls.length; i++) {\n",
       "        var url = js_urls[i];\n",
       "        var s = document.createElement('script');\n",
       "        s.src = url;\n",
       "        s.async = false;\n",
       "        s.onreadystatechange = s.onload = function() {\n",
       "          root._bokeh_is_loading--;\n",
       "          if (root._bokeh_is_loading === 0) {\n",
       "            console.log(\"Bokeh: all BokehJS libraries loaded\");\n",
       "            run_callbacks()\n",
       "          }\n",
       "        };\n",
       "        s.onerror = function() {\n",
       "          console.warn(\"failed to load library \" + url);\n",
       "        };\n",
       "        console.log(\"Bokeh: injecting script tag for BokehJS library: \", url);\n",
       "        document.getElementsByTagName(\"head\")[0].appendChild(s);\n",
       "      }\n",
       "    };var element = document.getElementById(\"a3bccc53-0b3b-4a7f-bc1b-8c6fd266a085\");\n",
       "    if (element == null) {\n",
       "      console.log(\"Bokeh: ERROR: autoload.js configured with elementid 'a3bccc53-0b3b-4a7f-bc1b-8c6fd266a085' but no matching script tag was found. \")\n",
       "      return false;\n",
       "    }\n",
       "  \n",
       "    var js_urls = [];\n",
       "  \n",
       "    var inline_js = [\n",
       "      function(Bokeh) {\n",
       "        (function() {\n",
       "          var fn = function() {\n",
       "            var docs_json = {\"eb1d9469-1593-4932-b58a-bf5cf84d98c1\":{\"roots\":{\"references\":[{\"attributes\":{\"callback\":null,\"column_names\":[\"x\",\"y\"],\"data\":{\"x\":[\"18\",\"19\",\"20\"],\"y\":{\"__ndarray__\":\"lLpjl3w8JEDDnVPotzAnQJYvXjAdPBhA\",\"dtype\":\"float64\",\"shape\":[3]}}},\"id\":\"09d942d2-ffba-4bc8-8bae-b999249666df\",\"type\":\"ColumnDataSource\"},{\"attributes\":{\"args\":{\"_2000\":{\"id\":\"fd28220f-1dad-41db-ba6d-dcfd62cc0c7e\",\"type\":\"ColumnDataSource\"},\"_2001\":{\"id\":\"514b5e99-29a9-4343-b297-3ff211d1a42a\",\"type\":\"ColumnDataSource\"},\"_2002\":{\"id\":\"59581745-c134-45c0-81cd-3a3701dee131\",\"type\":\"ColumnDataSource\"},\"_2003\":{\"id\":\"c68eb532-105a-4ee7-ae36-d43a1a031afe\",\"type\":\"ColumnDataSource\"},\"_2004\":{\"id\":\"41f3a6b1-d603-4c9c-b686-2fb262c08066\",\"type\":\"ColumnDataSource\"},\"_2005\":{\"id\":\"46e728ad-248f-4c03-b24c-670f83d3bd94\",\"type\":\"ColumnDataSource\"},\"_2006\":{\"id\":\"12eb0103-3f13-4905-9171-16dec9ed77bf\",\"type\":\"ColumnDataSource\"},\"_2007\":{\"id\":\"1f1e0a73-023e-42c5-adec-49d59977c378\",\"type\":\"ColumnDataSource\"},\"_2008\":{\"id\":\"00c43d60-02e5-4b3c-bd70-609e3c38078b\",\"type\":\"ColumnDataSource\"},\"_2009\":{\"id\":\"056cde90-ed71-4a75-873e-66b4a13afd21\",\"type\":\"ColumnDataSource\"},\"_2010\":{\"id\":\"24c85b15-3a07-41f1-a756-08544c9a543f\",\"type\":\"ColumnDataSource\"},\"_2011\":{\"id\":\"09d942d2-ffba-4bc8-8bae-b999249666df\",\"type\":\"ColumnDataSource\"},\"_2012\":{\"id\":\"377096d6-1ab5-4c7c-b113-2f924b4fadde\",\"type\":\"ColumnDataSource\"},\"_2013\":{\"id\":\"49073341-2cf6-430f-a5ba-319eb8c212ef\",\"type\":\"ColumnDataSource\"},\"_2014\":{\"id\":\"8d3c9e12-f22f-4225-b30f-341c5cbbc69c\",\"type\":\"ColumnDataSource\"},\"_2015\":{\"id\":\"21616da2-8766-4535-8397-4efa159cba6f\",\"type\":\"ColumnDataSource\"},\"_2016\":{\"id\":\"80092b89-9c50-4897-8cb9-29b5036deda5\",\"type\":\"ColumnDataSource\"},\"renderer_source\":{\"id\":\"fd28220f-1dad-41db-ba6d-dcfd62cc0c7e\",\"type\":\"ColumnDataSource\"},\"text_source\":{\"id\":\"8b8f3383-6b4f-4583-a50d-bb1c6d515810\",\"type\":\"ColumnDataSource\"},\"year_slider\":{\"id\":\"118547ac-553a-4847-a78d-917cda6e8e51\",\"type\":\"Slider\"}},\"code\":\"\\n\\t    var year = year_slider.get('value'),\\n\\t        sources = {2000: _2000, 2001: _2001, 2002: _2002, 2003: _2003, 2004: _2004, 2005: _2005, 2006: _2006, 2007: _2007, 2008: _2008, 2009: _2009, 2010: _2010, 2011: _2011, 2012: _2012, 2013: _2013, 2014: _2014, 2015: _2015, 2016: _2016},\\n\\t        new_source_data = sources[year].get('data');\\n\\t    renderer_source.set('data', new_source_data);\\n\\t    text_source.set('data', {'year': [String(year)]});\\n\\t\"},\"id\":\"956e408c-1043-42e5-9299-307fa646baa6\",\"type\":\"CustomJS\"},{\"attributes\":{\"plot\":null,\"text\":\"The number of Articles per Violent Event per Year\"},\"id\":\"034da0e8-cfc1-41d4-b14f-023c257864c7\",\"type\":\"Title\"},{\"attributes\":{},\"id\":\"e961c505-6381-4189-9608-1d943b714e14\",\"type\":\"CategoricalScale\"},{\"attributes\":{\"active_drag\":\"auto\",\"active_inspect\":\"auto\",\"active_scroll\":\"auto\",\"active_tap\":\"auto\"},\"id\":\"47765daa-2cbe-4d2a-bf87-eb615a2ec962\",\"type\":\"Toolbar\"},{\"attributes\":{\"callback\":null,\"column_names\":[\"x\",\"y\"],\"data\":{\"x\":[\"18\",\"19\",\"20\"],\"y\":{\"__ndarray__\":\"94mVrYo/JUAdRLXbEu0oQPKTBVixbSFA\",\"dtype\":\"float64\",\"shape\":[3]}}},\"id\":\"377096d6-1ab5-4c7c-b113-2f924b4fadde\",\"type\":\"ColumnDataSource\"},{\"attributes\":{\"children\":[{\"id\":\"f37a485b-174f-4251-a358-16cefb7f9a6d\",\"subtype\":\"Figure\",\"type\":\"Plot\"},{\"id\":\"61e68596-b770-4279-af5d-12a76709e08d\",\"type\":\"WidgetBox\"}]},\"id\":\"96ad5e47-9e30-4ba2-a668-364479528d9c\",\"type\":\"Column\"},{\"attributes\":{\"axis_label\":\"Articles_per_Event\",\"formatter\":{\"id\":\"631a4c39-5259-4eb0-b3cd-b05adced0632\",\"type\":\"BasicTickFormatter\"},\"plot\":{\"id\":\"f37a485b-174f-4251-a358-16cefb7f9a6d\",\"subtype\":\"Figure\",\"type\":\"Plot\"},\"ticker\":{\"id\":\"8da860f4-3434-4413-b6a0-c9412e938524\",\"type\":\"BasicTicker\"}},\"id\":\"fd07c2f2-57c8-47b7-b887-197fdefad998\",\"type\":\"LinearAxis\"},{\"attributes\":{},\"id\":\"79b61d94-4941-4f46-8cd1-e6c249369164\",\"type\":\"LinearScale\"},{\"attributes\":{\"callback\":null,\"end\":20,\"start\":0.0},\"id\":\"2153b644-c698-4075-8f94-f807e4d5eabf\",\"type\":\"DataRange1d\"},{\"attributes\":{\"callback\":null,\"column_names\":[\"x\",\"y\"],\"data\":{\"x\":[\"18\",\"19\",\"20\"],\"y\":{\"__ndarray__\":\"akCNyFqYEkCQGCsH2U4UQEMFomkPfxJA\",\"dtype\":\"float64\",\"shape\":[3]}}},\"id\":\"514b5e99-29a9-4343-b297-3ff211d1a42a\",\"type\":\"ColumnDataSource\"},{\"attributes\":{\"axis_label\":\"EventRootCode\",\"formatter\":{\"id\":\"a4dcec04-540b-4bfe-b92c-fd1d8c0761ac\",\"type\":\"CategoricalTickFormatter\"},\"plot\":{\"id\":\"f37a485b-174f-4251-a358-16cefb7f9a6d\",\"subtype\":\"Figure\",\"type\":\"Plot\"},\"ticker\":{\"id\":\"b5605a92-2a3c-4bb8-8c3c-e1bbc6829f4c\",\"type\":\"CategoricalTicker\"}},\"id\":\"d1018edb-d545-4279-9a26-4c699da51d32\",\"type\":\"CategoricalAxis\"},{\"attributes\":{\"callback\":null,\"column_names\":[\"x\",\"y\"],\"data\":{\"x\":[\"18\",\"19\",\"20\"],\"y\":{\"__ndarray__\":\"91yFVeaDEUB6tfyNpJwSQCn+ImdYMBFA\",\"dtype\":\"float64\",\"shape\":[3]}}},\"id\":\"59581745-c134-45c0-81cd-3a3701dee131\",\"type\":\"ColumnDataSource\"},{\"attributes\":{\"callback\":null,\"column_names\":[\"x\",\"y\"],\"data\":{\"x\":[\"18\",\"19\",\"20\"],\"y\":{\"__ndarray__\":\"UAswlMPJIkC9r9+UGM4kQKnNEQMbVB9A\",\"dtype\":\"float64\",\"shape\":[3]}}},\"id\":\"49073341-2cf6-430f-a5ba-319eb8c212ef\",\"type\":\"ColumnDataSource\"},{\"attributes\":{},\"id\":\"b5605a92-2a3c-4bb8-8c3c-e1bbc6829f4c\",\"type\":\"CategoricalTicker\"},{\"attributes\":{\"grid_line_color\":{\"value\":null},\"plot\":{\"id\":\"f37a485b-174f-4251-a358-16cefb7f9a6d\",\"subtype\":\"Figure\",\"type\":\"Plot\"},\"ticker\":{\"id\":\"b5605a92-2a3c-4bb8-8c3c-e1bbc6829f4c\",\"type\":\"CategoricalTicker\"}},\"id\":\"6d6e6776-0c1c-4538-a211-9b96d1eb7a5d\",\"type\":\"Grid\"},{\"attributes\":{\"fill_color\":{\"value\":\"#3288bd\"},\"top\":{\"field\":\"y\"},\"width\":{\"value\":0.5},\"x\":{\"field\":\"x\"}},\"id\":\"5fc24392-a6c4-46bc-8727-b9791b9e2c50\",\"type\":\"VBar\"},{\"attributes\":{\"below\":[{\"id\":\"d1018edb-d545-4279-9a26-4c699da51d32\",\"type\":\"CategoricalAxis\"}],\"left\":[{\"id\":\"fd07c2f2-57c8-47b7-b887-197fdefad998\",\"type\":\"LinearAxis\"}],\"plot_height\":350,\"renderers\":[{\"id\":\"d1018edb-d545-4279-9a26-4c699da51d32\",\"type\":\"CategoricalAxis\"},{\"id\":\"6d6e6776-0c1c-4538-a211-9b96d1eb7a5d\",\"type\":\"Grid\"},{\"id\":\"fd07c2f2-57c8-47b7-b887-197fdefad998\",\"type\":\"LinearAxis\"},{\"id\":\"15f3e638-5a9e-47fc-95d6-f0d49e05f47c\",\"type\":\"Grid\"},{\"id\":\"1d15039e-4192-439e-b0e6-e32a838bb93b\",\"type\":\"GlyphRenderer\"},{\"id\":\"80e132d3-e6d1-46b6-8302-ad09f02ff2b0\",\"type\":\"GlyphRenderer\"}],\"title\":{\"id\":\"034da0e8-cfc1-41d4-b14f-023c257864c7\",\"type\":\"Title\"},\"toolbar\":{\"id\":\"47765daa-2cbe-4d2a-bf87-eb615a2ec962\",\"type\":\"Toolbar\"},\"toolbar_location\":null,\"x_range\":{\"id\":\"5f9c4cf1-95d5-4f1a-b4c9-e0e29a2c1c27\",\"type\":\"FactorRange\"},\"x_scale\":{\"id\":\"e961c505-6381-4189-9608-1d943b714e14\",\"type\":\"CategoricalScale\"},\"y_range\":{\"id\":\"2153b644-c698-4075-8f94-f807e4d5eabf\",\"type\":\"DataRange1d\"},\"y_scale\":{\"id\":\"79b61d94-4941-4f46-8cd1-e6c249369164\",\"type\":\"LinearScale\"}},\"id\":\"f37a485b-174f-4251-a358-16cefb7f9a6d\",\"subtype\":\"Figure\",\"type\":\"Plot\"},{\"attributes\":{},\"id\":\"8da860f4-3434-4413-b6a0-c9412e938524\",\"type\":\"BasicTicker\"},{\"attributes\":{\"callback\":null,\"column_names\":[\"x\",\"y\"],\"data\":{\"x\":[\"18\",\"19\",\"20\"],\"y\":{\"__ndarray__\":\"/d4BbwTQEkC+tt2OTmcUQCA1E8CABw9A\",\"dtype\":\"float64\",\"shape\":[3]}}},\"id\":\"1f1e0a73-023e-42c5-adec-49d59977c378\",\"type\":\"ColumnDataSource\"},{\"attributes\":{\"callback\":null,\"column_names\":[\"x\",\"y\"],\"data\":{\"x\":[\"18\",\"19\",\"20\"],\"y\":{\"__ndarray__\":\"29bCBjtiI0DN0FPo+LYmQAmDQ6a7LSBA\",\"dtype\":\"float64\",\"shape\":[3]}}},\"id\":\"8d3c9e12-f22f-4225-b30f-341c5cbbc69c\",\"type\":\"ColumnDataSource\"},{\"attributes\":{\"dimension\":1,\"grid_line_color\":{\"value\":null},\"plot\":{\"id\":\"f37a485b-174f-4251-a358-16cefb7f9a6d\",\"subtype\":\"Figure\",\"type\":\"Plot\"},\"ticker\":{\"id\":\"8da860f4-3434-4413-b6a0-c9412e938524\",\"type\":\"BasicTicker\"}},\"id\":\"15f3e638-5a9e-47fc-95d6-f0d49e05f47c\",\"type\":\"Grid\"},{\"attributes\":{\"source\":{\"id\":\"fd28220f-1dad-41db-ba6d-dcfd62cc0c7e\",\"type\":\"ColumnDataSource\"}},\"id\":\"4ab11280-71f1-4861-bf2a-d1a1a4dd5e3c\",\"type\":\"CDSView\"},{\"attributes\":{\"callback\":null,\"column_names\":[\"x\",\"y\"],\"data\":{\"x\":[\"18\",\"19\",\"20\"],\"y\":{\"__ndarray__\":\"bjL5u9SVE0BBF30tTS4VQG+xRLJeBxNA\",\"dtype\":\"float64\",\"shape\":[3]}}},\"id\":\"c68eb532-105a-4ee7-ae36-d43a1a031afe\",\"type\":\"ColumnDataSource\"},{\"attributes\":{\"data_source\":{\"id\":\"fd28220f-1dad-41db-ba6d-dcfd62cc0c7e\",\"type\":\"ColumnDataSource\"},\"glyph\":{\"id\":\"5fc24392-a6c4-46bc-8727-b9791b9e2c50\",\"type\":\"VBar\"},\"hover_glyph\":null,\"muted_glyph\":null,\"view\":{\"id\":\"4ab11280-71f1-4861-bf2a-d1a1a4dd5e3c\",\"type\":\"CDSView\"}},\"id\":\"1d15039e-4192-439e-b0e6-e32a838bb93b\",\"type\":\"GlyphRenderer\"},{\"attributes\":{\"callback\":null,\"column_names\":[\"x\",\"y\"],\"data\":{\"x\":[\"18\",\"19\",\"20\"],\"y\":{\"__ndarray__\":\"955Mx4pLEkC6Kk48ukYUQEFZBvpfWhJA\",\"dtype\":\"float64\",\"shape\":[3]}}},\"id\":\"41f3a6b1-d603-4c9c-b686-2fb262c08066\",\"type\":\"ColumnDataSource\"},{\"attributes\":{\"callback\":null,\"factors\":[\"18\",\"19\",\"20\"]},\"id\":\"5f9c4cf1-95d5-4f1a-b4c9-e0e29a2c1c27\",\"type\":\"FactorRange\"},{\"attributes\":{},\"id\":\"a4dcec04-540b-4bfe-b92c-fd1d8c0761ac\",\"type\":\"CategoricalTickFormatter\"},{\"attributes\":{\"callback\":null,\"column_names\":[\"x\",\"y\"],\"data\":{\"x\":[\"18\",\"19\",\"20\"],\"y\":{\"__ndarray__\":\"isOZk58XLUB9gT49UHIxQD/vrU0jVSJA\",\"dtype\":\"float64\",\"shape\":[3]}}},\"id\":\"21616da2-8766-4535-8397-4efa159cba6f\",\"type\":\"ColumnDataSource\"},{\"attributes\":{\"callback\":null,\"column_names\":[\"year\"],\"data\":{\"year\":[\"2000\"]}},\"id\":\"8b8f3383-6b4f-4583-a50d-bb1c6d515810\",\"type\":\"ColumnDataSource\"},{\"attributes\":{\"source\":{\"id\":\"8b8f3383-6b4f-4583-a50d-bb1c6d515810\",\"type\":\"ColumnDataSource\"}},\"id\":\"a51196eb-c4e9-46cb-83c9-d89a81332c9e\",\"type\":\"CDSView\"},{\"attributes\":{\"callback\":null,\"column_names\":[\"x\",\"y\"],\"data\":{\"x\":[\"18\",\"19\",\"20\"],\"y\":{\"__ndarray__\":\"NwqcQ1i2LUDi8WNbPosxQNsnnIGIeCJA\",\"dtype\":\"float64\",\"shape\":[3]}}},\"id\":\"80092b89-9c50-4897-8cb9-29b5036deda5\",\"type\":\"ColumnDataSource\"},{\"attributes\":{\"text\":{\"field\":\"year\"},\"text_color\":{\"value\":\"#EEEEEE\"},\"text_font_size\":{\"value\":\"50pt\"},\"x\":{\"value\":2},\"y\":{\"value\":10}},\"id\":\"f22b05e2-ec8a-4b2d-b562-72f3850a9ab5\",\"type\":\"Text\"},{\"attributes\":{\"data_source\":{\"id\":\"8b8f3383-6b4f-4583-a50d-bb1c6d515810\",\"type\":\"ColumnDataSource\"},\"glyph\":{\"id\":\"f22b05e2-ec8a-4b2d-b562-72f3850a9ab5\",\"type\":\"Text\"},\"hover_glyph\":null,\"muted_glyph\":null,\"view\":{\"id\":\"a51196eb-c4e9-46cb-83c9-d89a81332c9e\",\"type\":\"CDSView\"}},\"id\":\"80e132d3-e6d1-46b6-8302-ad09f02ff2b0\",\"type\":\"GlyphRenderer\"},{\"attributes\":{\"callback\":null,\"column_names\":[\"x\",\"y\"],\"data\":{\"x\":[\"18\",\"19\",\"20\"],\"y\":{\"__ndarray__\":\"LfSI8ixvEkB/tVCkkNwTQIXuPurniRFA\",\"dtype\":\"float64\",\"shape\":[3]}}},\"id\":\"46e728ad-248f-4c03-b24c-670f83d3bd94\",\"type\":\"ColumnDataSource\"},{\"attributes\":{},\"id\":\"631a4c39-5259-4eb0-b3cd-b05adced0632\",\"type\":\"BasicTickFormatter\"},{\"attributes\":{\"callback\":{\"id\":\"956e408c-1043-42e5-9299-307fa646baa6\",\"type\":\"CustomJS\"},\"end\":2016,\"start\":2000,\"title\":\"Year\",\"value\":2000},\"id\":\"118547ac-553a-4847-a78d-917cda6e8e51\",\"type\":\"Slider\"},{\"attributes\":{\"callback\":null,\"column_names\":[\"x\",\"y\"],\"data\":{\"x\":[\"18\",\"19\",\"20\"],\"y\":{\"__ndarray__\":\"krYz5h4rFkBond7Clf4XQKOpQa+VChFA\",\"dtype\":\"float64\",\"shape\":[3]}}},\"id\":\"00c43d60-02e5-4b3c-bd70-609e3c38078b\",\"type\":\"ColumnDataSource\"},{\"attributes\":{\"children\":[{\"id\":\"118547ac-553a-4847-a78d-917cda6e8e51\",\"type\":\"Slider\"}]},\"id\":\"61e68596-b770-4279-af5d-12a76709e08d\",\"type\":\"WidgetBox\"},{\"attributes\":{\"callback\":null,\"column_names\":[\"x\",\"y\"],\"data\":{\"x\":[\"18\",\"19\",\"20\"],\"y\":{\"__ndarray__\":\"HyZekvgACkAXQgGBPHYNQOSJwAuM7wdA\",\"dtype\":\"float64\",\"shape\":[3]}}},\"id\":\"12eb0103-3f13-4905-9171-16dec9ed77bf\",\"type\":\"ColumnDataSource\"},{\"attributes\":{\"callback\":null,\"column_names\":[\"x\",\"y\"],\"data\":{\"x\":[\"18\",\"19\",\"20\"],\"y\":{\"__ndarray__\":\"nYpuyK/WHUBV6HYBImMgQL4Crk8QuhhA\",\"dtype\":\"float64\",\"shape\":[3]}}},\"id\":\"056cde90-ed71-4a75-873e-66b4a13afd21\",\"type\":\"ColumnDataSource\"},{\"attributes\":{\"callback\":null,\"column_names\":[\"x\",\"y\"],\"data\":{\"x\":[\"18\",\"19\",\"20\"],\"y\":{\"__ndarray__\":\"YuZ37prbEkD6n9AOozUUQBDTbZNZARJA\",\"dtype\":\"float64\",\"shape\":[3]}}},\"id\":\"fd28220f-1dad-41db-ba6d-dcfd62cc0c7e\",\"type\":\"ColumnDataSource\"},{\"attributes\":{\"callback\":null,\"column_names\":[\"x\",\"y\"],\"data\":{\"x\":[\"18\",\"19\",\"20\"],\"y\":{\"__ndarray__\":\"HDkAgmwbIkDJZQaVI18jQHtRlvADbRZA\",\"dtype\":\"float64\",\"shape\":[3]}}},\"id\":\"24c85b15-3a07-41f1-a756-08544c9a543f\",\"type\":\"ColumnDataSource\"}],\"root_ids\":[\"96ad5e47-9e30-4ba2-a668-364479528d9c\"]},\"title\":\"Bokeh Application\",\"version\":\"0.12.7\"}};\n",
       "            var render_items = [{\"docid\":\"eb1d9469-1593-4932-b58a-bf5cf84d98c1\",\"elementid\":\"a3bccc53-0b3b-4a7f-bc1b-8c6fd266a085\",\"modelid\":\"96ad5e47-9e30-4ba2-a668-364479528d9c\"}];\n",
       "            \n",
       "            Bokeh.embed.embed_items(docs_json, render_items);\n",
       "          };\n",
       "          if (document.readyState != \"loading\") fn();\n",
       "          else document.addEventListener(\"DOMContentLoaded\", fn);\n",
       "        })();\n",
       "      },\n",
       "      function(Bokeh) {\n",
       "      }\n",
       "    ];\n",
       "  \n",
       "    function run_inline_js() {\n",
       "      \n",
       "      if ((root.Bokeh !== undefined) || (force === true)) {\n",
       "        for (var i = 0; i < inline_js.length; i++) {\n",
       "          inline_js[i].call(root, root.Bokeh);\n",
       "        }if (force === true) {\n",
       "          display_loaded();\n",
       "        }} else if (Date.now() < root._bokeh_timeout) {\n",
       "        setTimeout(run_inline_js, 100);\n",
       "      } else if (!root._bokeh_failed_load) {\n",
       "        console.log(\"Bokeh: BokehJS failed to load within specified timeout.\");\n",
       "        root._bokeh_failed_load = true;\n",
       "      } else if (force !== true) {\n",
       "        var cell = $(document.getElementById(\"a3bccc53-0b3b-4a7f-bc1b-8c6fd266a085\")).parents('.cell').data().cell;\n",
       "        cell.output_area.append_execute_result(NB_LOAD_WARNING)\n",
       "      }\n",
       "  \n",
       "    }\n",
       "  \n",
       "    if (root._bokeh_is_loading === 0) {\n",
       "      console.log(\"Bokeh: BokehJS loaded, going straight to plotting\");\n",
       "      run_inline_js();\n",
       "    } else {\n",
       "      load_libs(js_urls, function() {\n",
       "        console.log(\"Bokeh: BokehJS plotting callback run at\", now());\n",
       "        run_inline_js();\n",
       "      });\n",
       "    }\n",
       "  }(window));\n",
       "</script>"
      ]
     },
     "metadata": {},
     "output_type": "display_data"
    }
   ],
   "source": [
    "ecc = pd.read_csv('EventCode_coverage.csv')\n",
    "ecc = ecc[ecc[\"EventRootCode\"].isin([\"18\",\"19\", \"20\"])]\n",
    "years = np.ndarray.tolist(np.arange(2000,2017,1))\n",
    "years_dict = dict()\n",
    "for y in years:\n",
    "    art = ecc[ecc.Year== y]\n",
    "    years_dict[\"_\"+str(y)] = art\n",
    "    y_str = \"_\"+str(y)\n",
    "fig, ax = plt.subplots()\n",
    "labels = []\n",
    "for key, grp in ecc.groupby(['EventRootCode']):\n",
    "    ax = grp.plot(ax=ax, kind='line', x='Year', y='Articles_per_Event')\n",
    "    labels.append(key)\n",
    "lines, _ = ax.get_legend_handles_labels()\n",
    "ax.legend(lines, labels, loc='best')\n",
    "layout = year_slider_plot(\"The number of Articles per Violent Event per Year\", years_dict,\n",
    "                          FactorRange(*years_dict[y_str]['EventRootCode']),\n",
    "                          DataRange1d(start=0.0, end=20),\n",
    "                          \"EventRootCode\", \"Articles_per_Event\",\n",
    "                          2, 10)\n",
    "print(\"\\nEventRootCode:\\n18: ASSAULT \\n19: FIGHT\\n20: USE UNCONVENTIONAL MASS VIOLENCE\")\n",
    "plt.show()\n",
    "output_notebook()\n",
    "show(layout)"
   ]
  },
  {
   "cell_type": "markdown",
   "metadata": {},
   "source": [
    "### 3.4.5 Bias in the number of articles depending on countries"
   ]
  },
  {
   "cell_type": "markdown",
   "metadata": {},
   "source": [
    "Lastly, we want to bring the reader's attention towards the articles bias we found in GDELT. It seems that the number of articles by country is highly biased towards the U.S.A. Our hypothesis is that most article sources actually come from the U.S., hence the important coverage of U.S. and neighbouring countries (e.g. Mexico)."
   ]
  },
  {
   "cell_type": "code",
   "execution_count": 21,
   "metadata": {},
   "outputs": [
    {
     "data": {
      "image/png": "[encoded data removed]",
      "text/plain": [
       "<matplotlib.figure.Figure at 0x1a1ab5c208>"
      ]
     },
     "metadata": {},
     "output_type": "display_data"
    }
   ],
   "source": [
    "te = pd.read_csv(top_events_file).sort_values('Sum_Events', ascending=False)\n",
    "ta = pd.read_csv(top_articles_file).sort_values('Sum_Articles', ascending=False)\n",
    "\n",
    "te.merge(ta).set_index(\"ActionGeo_CountryCode\").head(10).plot(kind='bar', subplots=True, \n",
    "                                        title='bias in quantity of data over countries')\n",
    "plt.show()"
   ]
  },
  {
   "cell_type": "markdown",
   "metadata": {},
   "source": [
    "As we can see on the plot above of the 10 countries with the most data, the difference of scale is very high but most importantly, it is only high between the U.S. and other countries, hence our hypothesis."
   ]
  },
  {
   "cell_type": "markdown",
   "metadata": {},
   "source": [
    "## 4. Results and Findings"
   ]
  },
  {
   "cell_type": "markdown",
   "metadata": {},
   "source": [
    "In this section we will confront the results extacted from the datasets against our hypothesis. "
   ]
  },
  {
   "cell_type": "markdown",
   "metadata": {},
   "source": [
    "## 4.1 Relations Between Events and Articles"
   ]
  },
  {
   "cell_type": "markdown",
   "metadata": {},
   "source": [
    "The first thing we would like to ensure is that the number of articles and the number of events are highly correlated. This is a reasonable expectation because logically, the more violent events, the more articles."
   ]
  },
  {
   "cell_type": "code",
   "execution_count": 22,
   "metadata": {},
   "outputs": [
    {
     "data": {
      "image/png": "[encoded data removed]",
      "text/plain": [
       "<matplotlib.figure.Figure at 0x1a1af553c8>"
      ]
     },
     "metadata": {},
     "output_type": "display_data"
    },
    {
     "name": "stdout",
     "output_type": "stream",
     "text": [
      "Correlation between Events and Articles: 0.945\n"
     ]
    }
   ],
   "source": [
    "df.plot(kind='scatter', x='Articles', y='Events')\n",
    "plt.show()\n",
    "print(\"Correlation between Events and Articles: %0.3f\" %df.corr().loc[\"Events\", \"Articles\"])"
   ]
  },
  {
   "cell_type": "markdown",
   "metadata": {},
   "source": [
    "As we can see the correlation is indeed very high. We will use the number of articles for an event as a measure of importance for this event. The fact that those two measures are correlated allows us to confidently use them together. <br>\n",
    "Therefore our use of the ratio between articles and events, in further results, is a reasonable unit of measure of coverage."
   ]
  },
  {
   "cell_type": "markdown",
   "metadata": {},
   "source": [
    "## 4.2 Global visualization of parameters"
   ]
  },
  {
   "cell_type": "markdown",
   "metadata": {},
   "source": [
    "The next visualization showcases the whole data we are using concisely.<br>\n",
    "An horizontal analysis gives us a sense of scale between countries and a vertical analysis shows the different behaviors and tendencies of our parameters for each country."
   ]
  },
  {
   "cell_type": "code",
   "execution_count": null,
   "metadata": {
    "collapsed": true
   },
   "outputs": [],
   "source": []
  },
  {
   "cell_type": "code",
   "execution_count": 23,
   "metadata": {},
   "outputs": [
    {
     "data": {
      "image/png": "[encoded data removed]",
      "text/plain": [
       "<matplotlib.figure.Figure at 0x1a1c56b630>"
      ]
     },
     "metadata": {},
     "output_type": "display_data"
    }
   ],
   "source": [
    "f, mosaic = plt.subplots(4, 4, figsize=(10, 5), sharex=True, sharey='row')\n",
    "\n",
    "for i, c in enumerate([irq_year, afg_year, mex_year, pak_year]):\n",
    "    c.plot(ax=mosaic[:, i], subplots=True, legend=False)\n",
    "    \n",
    "mosaic[0, 0].set_ylabel('Deaths')\n",
    "mosaic[1, 0].set_ylabel('Events')\n",
    "mosaic[2, 0].set_ylabel('Articles')\n",
    "mosaic[3, 0].set_ylabel('Ratio')\n",
    "mosaic[3, 0].set_xlabel('Iraq')\n",
    "mosaic[3, 1].set_xlabel('Afghanistan')\n",
    "mosaic[3, 2].set_xlabel('Mexico')\n",
    "mosaic[3, 3].set_xlabel('Pakistan')\n",
    "\n",
    "plt.show()"
   ]
  },
  {
   "cell_type": "markdown",
   "metadata": {},
   "source": [
    "Starting by the analysis between countries, we can see that, in terms of scale, Mexico and Pakistan are significantly smaller regarding casualties.\n",
    "One should also observe the difference between Iraq and Afghanistan regarding the number of events and articles. Recalling that the war is Iraq started in 2003 and the war in Afghnistan started in 2001 we could expect a similar treatment for both countries.\n",
    "\n",
    "\n",
    "Now regarding the vertical analysis, one can notice that the correlation between the number of deaths and the number of articles (or events) for each country can be very different. We illustrate this difference in the table below. "
   ]
  },
  {
   "cell_type": "code",
   "execution_count": 24,
   "metadata": {},
   "outputs": [
    {
     "data": {
      "text/html": [
       "<div>\n",
       "<style>\n",
       "    .dataframe thead tr:only-child th {\n",
       "        text-align: right;\n",
       "    }\n",
       "\n",
       "    .dataframe thead th {\n",
       "        text-align: left;\n",
       "    }\n",
       "\n",
       "    .dataframe tbody tr th {\n",
       "        vertical-align: top;\n",
       "    }\n",
       "</style>\n",
       "<table border=\"1\" class=\"dataframe\">\n",
       "  <thead>\n",
       "    <tr style=\"text-align: right;\">\n",
       "      <th></th>\n",
       "      <th>correlation</th>\n",
       "    </tr>\n",
       "  </thead>\n",
       "  <tbody>\n",
       "    <tr>\n",
       "      <th>Iraq</th>\n",
       "      <td>0.155456</td>\n",
       "    </tr>\n",
       "    <tr>\n",
       "      <th>Afghanistan</th>\n",
       "      <td>-0.271881</td>\n",
       "    </tr>\n",
       "    <tr>\n",
       "      <th>Mexico</th>\n",
       "      <td>0.865304</td>\n",
       "    </tr>\n",
       "    <tr>\n",
       "      <th>Pakistan</th>\n",
       "      <td>0.752315</td>\n",
       "    </tr>\n",
       "  </tbody>\n",
       "</table>\n",
       "</div>"
      ],
      "text/plain": [
       "             correlation\n",
       "Iraq            0.155456\n",
       "Afghanistan    -0.271881\n",
       "Mexico          0.865304\n",
       "Pakistan        0.752315"
      ]
     },
     "execution_count": 24,
     "metadata": {},
     "output_type": "execute_result"
    }
   ],
   "source": [
    "correlations = {}\n",
    "for i, x in enumerate([(irq_year, 'Iraq'), (afg_year, 'Afghanistan'), (mex_year, 'Mexico'), (pak_year, 'Pakistan')]):\n",
    "        correlations[x[1]] = x[0].corr().loc['Deaths', 'Articles']\n",
    "pd.DataFrame.from_dict(correlations, orient='index').rename(columns = {0: \"correlation\"})"
   ]
  },
  {
   "cell_type": "markdown",
   "metadata": {},
   "source": [
    "We can see that Mexico and Pakistan have very high correlations while Iraq and Afghanistan have very low ones. This is very interesting, and shows a glimpse of the validity of our initial hypothesis.<br>\n",
    "Mexico has is general a smaller number of deaths compared to other countries we considered. Therfore the number of identified violent event and the number of articles concerning those events is smaller. However the coverage of thos events is consistant and proportional over time. The same behavior can be observed for Pakistan. i.e around 2009 the number of deaths had a peak, the number of identified event had also a peak as well as the articles. Now taking advantage of this mosaic plot to compare behavior between countries we can see that this proportional coverage of the number of deaths is not true for Iraq and Afghanistan. Even leading to a negative correlation between articles and deaths for Afghanistan... Basically the number of deaths increase, the number of articles decrease.<br>\n",
    "We will discuss this coverage per country more in depth in the following section.<br>\n",
    "Finally we can also visualize the correlation exposed before between the number of identified events ans the number of articles per identidied violent event. It holds for all countries."
   ]
  },
  {
   "cell_type": "markdown",
   "metadata": {},
   "source": [
    "## 4.3 Analysis by country per year"
   ]
  },
  {
   "cell_type": "markdown",
   "metadata": {},
   "source": [
    "The next discussion is an analysis per country per year. The aim of the following plot is to see how the (normalized) ratio between the events and the articles evolves against the deaths.\n",
    "The normalized ratio is the normalized number of articles divided by the normalized number of events. (See **3.2.2**)\n",
    "We supposed that for events that lead to a lot of deaths, the number of articles should be grater for this event. Therefore a increasing ratio for period with a lot of deaths in a country would indicate a good coverage.\n",
    "\n",
    "However we are looking for lost of interest. Therefore, if the lost of interest is generalized over all the scrapped sources of the GDELT data, the number of identified event would decrease also and the ratio would be a biased unit of measure. We have assumed that a violent event is at least mentionned by one of the sources. <br>\n",
    "We were able to make some interesting qualitative analysis with this measures as written below."
   ]
  },
  {
   "cell_type": "code",
   "execution_count": 25,
   "metadata": {},
   "outputs": [
    {
     "data": {
      "text/html": [
       "\n",
       "    <div class=\"bk-root\">\n",
       "        <a href=\"https://bokeh.pydata.org\" target=\"_blank\" class=\"bk-logo bk-logo-small bk-logo-notebook\"></a>\n",
       "        <span id=\"687f4cf2-5d4e-4302-8c0c-4da368decbc2\">Loading BokehJS ...</span>\n",
       "    </div>"
      ]
     },
     "metadata": {},
     "output_type": "display_data"
    },
    {
     "data": {
      "application/javascript": [
       "\n",
       "(function(root) {\n",
       "  function now() {\n",
       "    return new Date();\n",
       "  }\n",
       "\n",
       "  var force = true;\n",
       "\n",
       "  if (typeof (root._bokeh_onload_callbacks) === \"undefined\" || force === true) {\n",
       "    root._bokeh_onload_callbacks = [];\n",
       "    root._bokeh_is_loading = undefined;\n",
       "  }\n",
       "\n",
       "\n",
       "  \n",
       "  if (typeof (root._bokeh_timeout) === \"undefined\" || force === true) {\n",
       "    root._bokeh_timeout = Date.now() + 5000;\n",
       "    root._bokeh_failed_load = false;\n",
       "  }\n",
       "\n",
       "  var NB_LOAD_WARNING = {'data': {'text/html':\n",
       "     \"<div style='background-color: #fdd'>\\n\"+\n",
       "     \"<p>\\n\"+\n",
       "     \"BokehJS does not appear to have successfully loaded. If loading BokehJS from CDN, this \\n\"+\n",
       "     \"may be due to a slow or bad network connection. Possible fixes:\\n\"+\n",
       "     \"</p>\\n\"+\n",
       "     \"<ul>\\n\"+\n",
       "     \"<li>re-rerun `output_notebook()` to attempt to load from CDN again, or</li>\\n\"+\n",
       "     \"<li>use INLINE resources instead, as so:</li>\\n\"+\n",
       "     \"</ul>\\n\"+\n",
       "     \"<code>\\n\"+\n",
       "     \"from bokeh.resources import INLINE\\n\"+\n",
       "     \"output_notebook(resources=INLINE)\\n\"+\n",
       "     \"</code>\\n\"+\n",
       "     \"</div>\"}};\n",
       "\n",
       "  function display_loaded() {\n",
       "    if (root.Bokeh !== undefined) {\n",
       "      var el = document.getElementById(\"687f4cf2-5d4e-4302-8c0c-4da368decbc2\");\n",
       "      if (el != null) {\n",
       "        el.textContent = \"BokehJS \" + Bokeh.version + \" successfully loaded.\";\n",
       "      }\n",
       "    } else if (Date.now() < root._bokeh_timeout) {\n",
       "      setTimeout(display_loaded, 100)\n",
       "    }\n",
       "  }\n",
       "\n",
       "\n",
       "  function run_callbacks() {\n",
       "    try {\n",
       "      root._bokeh_onload_callbacks.forEach(function(callback) { callback() });\n",
       "    }\n",
       "    finally {\n",
       "      delete root._bokeh_onload_callbacks\n",
       "    }\n",
       "    console.info(\"Bokeh: all callbacks have finished\");\n",
       "  }\n",
       "\n",
       "  function load_libs(js_urls, callback) {\n",
       "    root._bokeh_onload_callbacks.push(callback);\n",
       "    if (root._bokeh_is_loading > 0) {\n",
       "      console.log(\"Bokeh: BokehJS is being loaded, scheduling callback at\", now());\n",
       "      return null;\n",
       "    }\n",
       "    if (js_urls == null || js_urls.length === 0) {\n",
       "      run_callbacks();\n",
       "      return null;\n",
       "    }\n",
       "    console.log(\"Bokeh: BokehJS not loaded, scheduling load and callback at\", now());\n",
       "    root._bokeh_is_loading = js_urls.length;\n",
       "    for (var i = 0; i < js_urls.length; i++) {\n",
       "      var url = js_urls[i];\n",
       "      var s = document.createElement('script');\n",
       "      s.src = url;\n",
       "      s.async = false;\n",
       "      s.onreadystatechange = s.onload = function() {\n",
       "        root._bokeh_is_loading--;\n",
       "        if (root._bokeh_is_loading === 0) {\n",
       "          console.log(\"Bokeh: all BokehJS libraries loaded\");\n",
       "          run_callbacks()\n",
       "        }\n",
       "      };\n",
       "      s.onerror = function() {\n",
       "        console.warn(\"failed to load library \" + url);\n",
       "      };\n",
       "      console.log(\"Bokeh: injecting script tag for BokehJS library: \", url);\n",
       "      document.getElementsByTagName(\"head\")[0].appendChild(s);\n",
       "    }\n",
       "  };var element = document.getElementById(\"687f4cf2-5d4e-4302-8c0c-4da368decbc2\");\n",
       "  if (element == null) {\n",
       "    console.log(\"Bokeh: ERROR: autoload.js configured with elementid '687f4cf2-5d4e-4302-8c0c-4da368decbc2' but no matching script tag was found. \")\n",
       "    return false;\n",
       "  }\n",
       "\n",
       "  var js_urls = [\"https://cdn.pydata.org/bokeh/release/bokeh-0.12.7.min.js\", \"https://cdn.pydata.org/bokeh/release/bokeh-widgets-0.12.7.min.js\", \"https://cdn.pydata.org/bokeh/release/bokeh-tables-0.12.7.min.js\", \"https://cdn.pydata.org/bokeh/release/bokeh-gl-0.12.7.min.js\"];\n",
       "\n",
       "  var inline_js = [\n",
       "    function(Bokeh) {\n",
       "      Bokeh.set_log_level(\"info\");\n",
       "    },\n",
       "    \n",
       "    function(Bokeh) {\n",
       "      \n",
       "    },\n",
       "    \n",
       "    function(Bokeh) {\n",
       "      \n",
       "      document.getElementById(\"687f4cf2-5d4e-4302-8c0c-4da368decbc2\").textContent = \"BokehJS is loading...\";\n",
       "    },\n",
       "    function(Bokeh) {\n",
       "      console.log(\"Bokeh: injecting CSS: https://cdn.pydata.org/bokeh/release/bokeh-0.12.7.min.css\");\n",
       "      Bokeh.embed.inject_css(\"https://cdn.pydata.org/bokeh/release/bokeh-0.12.7.min.css\");\n",
       "      console.log(\"Bokeh: injecting CSS: https://cdn.pydata.org/bokeh/release/bokeh-widgets-0.12.7.min.css\");\n",
       "      Bokeh.embed.inject_css(\"https://cdn.pydata.org/bokeh/release/bokeh-widgets-0.12.7.min.css\");\n",
       "      console.log(\"Bokeh: injecting CSS: https://cdn.pydata.org/bokeh/release/bokeh-tables-0.12.7.min.css\");\n",
       "      Bokeh.embed.inject_css(\"https://cdn.pydata.org/bokeh/release/bokeh-tables-0.12.7.min.css\");\n",
       "    }\n",
       "  ];\n",
       "\n",
       "  function run_inline_js() {\n",
       "    \n",
       "    if ((root.Bokeh !== undefined) || (force === true)) {\n",
       "      for (var i = 0; i < inline_js.length; i++) {\n",
       "        inline_js[i].call(root, root.Bokeh);\n",
       "      }if (force === true) {\n",
       "        display_loaded();\n",
       "      }} else if (Date.now() < root._bokeh_timeout) {\n",
       "      setTimeout(run_inline_js, 100);\n",
       "    } else if (!root._bokeh_failed_load) {\n",
       "      console.log(\"Bokeh: BokehJS failed to load within specified timeout.\");\n",
       "      root._bokeh_failed_load = true;\n",
       "    } else if (force !== true) {\n",
       "      var cell = $(document.getElementById(\"687f4cf2-5d4e-4302-8c0c-4da368decbc2\")).parents('.cell').data().cell;\n",
       "      cell.output_area.append_execute_result(NB_LOAD_WARNING)\n",
       "    }\n",
       "\n",
       "  }\n",
       "\n",
       "  if (root._bokeh_is_loading === 0) {\n",
       "    console.log(\"Bokeh: BokehJS loaded, going straight to plotting\");\n",
       "    run_inline_js();\n",
       "  } else {\n",
       "    load_libs(js_urls, function() {\n",
       "      console.log(\"Bokeh: BokehJS plotting callback run at\", now());\n",
       "      run_inline_js();\n",
       "    });\n",
       "  }\n",
       "}(window));"
      ]
     },
     "metadata": {},
     "output_type": "display_data"
    },
    {
     "data": {
      "text/html": [
       "\n",
       "\n",
       "    <div class=\"bk-root\">\n",
       "        <div class=\"bk-plotdiv\" id=\"f0f27acf-f8a4-436c-bbc9-fcf3a0e45bce\"></div>\n",
       "    </div>\n",
       "<script type=\"text/javascript\">\n",
       "  \n",
       "  (function(root) {\n",
       "    function now() {\n",
       "      return new Date();\n",
       "    }\n",
       "  \n",
       "    var force = false;\n",
       "  \n",
       "    if (typeof (root._bokeh_onload_callbacks) === \"undefined\" || force === true) {\n",
       "      root._bokeh_onload_callbacks = [];\n",
       "      root._bokeh_is_loading = undefined;\n",
       "    }\n",
       "  \n",
       "  \n",
       "    \n",
       "    if (typeof (root._bokeh_timeout) === \"undefined\" || force === true) {\n",
       "      root._bokeh_timeout = Date.now() + 0;\n",
       "      root._bokeh_failed_load = false;\n",
       "    }\n",
       "  \n",
       "    var NB_LOAD_WARNING = {'data': {'text/html':\n",
       "       \"<div style='background-color: #fdd'>\\n\"+\n",
       "       \"<p>\\n\"+\n",
       "       \"BokehJS does not appear to have successfully loaded. If loading BokehJS from CDN, this \\n\"+\n",
       "       \"may be due to a slow or bad network connection. Possible fixes:\\n\"+\n",
       "       \"</p>\\n\"+\n",
       "       \"<ul>\\n\"+\n",
       "       \"<li>re-rerun `output_notebook()` to attempt to load from CDN again, or</li>\\n\"+\n",
       "       \"<li>use INLINE resources instead, as so:</li>\\n\"+\n",
       "       \"</ul>\\n\"+\n",
       "       \"<code>\\n\"+\n",
       "       \"from bokeh.resources import INLINE\\n\"+\n",
       "       \"output_notebook(resources=INLINE)\\n\"+\n",
       "       \"</code>\\n\"+\n",
       "       \"</div>\"}};\n",
       "  \n",
       "    function display_loaded() {\n",
       "      if (root.Bokeh !== undefined) {\n",
       "        var el = document.getElementById(\"f0f27acf-f8a4-436c-bbc9-fcf3a0e45bce\");\n",
       "        if (el != null) {\n",
       "          el.textContent = \"BokehJS \" + Bokeh.version + \" successfully loaded.\";\n",
       "        }\n",
       "      } else if (Date.now() < root._bokeh_timeout) {\n",
       "        setTimeout(display_loaded, 100)\n",
       "      }\n",
       "    }\n",
       "  \n",
       "  \n",
       "    function run_callbacks() {\n",
       "      try {\n",
       "        root._bokeh_onload_callbacks.forEach(function(callback) { callback() });\n",
       "      }\n",
       "      finally {\n",
       "        delete root._bokeh_onload_callbacks\n",
       "      }\n",
       "      console.info(\"Bokeh: all callbacks have finished\");\n",
       "    }\n",
       "  \n",
       "    function load_libs(js_urls, callback) {\n",
       "      root._bokeh_onload_callbacks.push(callback);\n",
       "      if (root._bokeh_is_loading > 0) {\n",
       "        console.log(\"Bokeh: BokehJS is being loaded, scheduling callback at\", now());\n",
       "        return null;\n",
       "      }\n",
       "      if (js_urls == null || js_urls.length === 0) {\n",
       "        run_callbacks();\n",
       "        return null;\n",
       "      }\n",
       "      console.log(\"Bokeh: BokehJS not loaded, scheduling load and callback at\", now());\n",
       "      root._bokeh_is_loading = js_urls.length;\n",
       "      for (var i = 0; i < js_urls.length; i++) {\n",
       "        var url = js_urls[i];\n",
       "        var s = document.createElement('script');\n",
       "        s.src = url;\n",
       "        s.async = false;\n",
       "        s.onreadystatechange = s.onload = function() {\n",
       "          root._bokeh_is_loading--;\n",
       "          if (root._bokeh_is_loading === 0) {\n",
       "            console.log(\"Bokeh: all BokehJS libraries loaded\");\n",
       "            run_callbacks()\n",
       "          }\n",
       "        };\n",
       "        s.onerror = function() {\n",
       "          console.warn(\"failed to load library \" + url);\n",
       "        };\n",
       "        console.log(\"Bokeh: injecting script tag for BokehJS library: \", url);\n",
       "        document.getElementsByTagName(\"head\")[0].appendChild(s);\n",
       "      }\n",
       "    };var element = document.getElementById(\"f0f27acf-f8a4-436c-bbc9-fcf3a0e45bce\");\n",
       "    if (element == null) {\n",
       "      console.log(\"Bokeh: ERROR: autoload.js configured with elementid 'f0f27acf-f8a4-436c-bbc9-fcf3a0e45bce' but no matching script tag was found. \")\n",
       "      return false;\n",
       "    }\n",
       "  \n",
       "    var js_urls = [];\n",
       "  \n",
       "    var inline_js = [\n",
       "      function(Bokeh) {\n",
       "        (function() {\n",
       "          var fn = function() {\n",
       "            var docs_json = {\"d3202c69-4ee5-47b6-8a27-7f1ba50ea6db\":{\"roots\":{\"references\":[{\"attributes\":{\"line_alpha\":{\"value\":0.1},\"line_color\":{\"value\":\"#1f77b4\"},\"line_width\":{\"value\":2},\"x\":{\"field\":\"x\"},\"y\":{\"field\":\"y\"}},\"id\":\"6ada197d-9161-4fcf-a35b-ba83ff438f55\",\"type\":\"Line\"},{\"attributes\":{\"callback\":null,\"column_names\":[\"x\",\"y\"],\"data\":{\"x\":[\"2000\",\"2001\",\"2002\",\"2003\",\"2004\",\"2005\",\"2006\",\"2007\",\"2008\",\"2009\",\"2010\",\"2011\",\"2012\",\"2013\",\"2014\",\"2015\",\"2016\"],\"y\":{\"__ndarray__\":\"OiVFUJrN8T+QM47shmTvPwD366h4f/A/dYjTALhL7z97J0dsZdnvP665Kuzv4u0/hl8CIW7f7T8347V5W3fyP+AXmDC82fA/FbWCDWXV8j8QzsWmYBfyPzC3BtNkJPA/visB5U097T9M2nuYkwTwP5Zgada3nfA/R27EgHul6j/oVpANpFzqPw==\",\"dtype\":\"float64\",\"shape\":[17]}}},\"id\":\"922d4df4-99c2-45d2-a278-2fbff6b986e8\",\"type\":\"ColumnDataSource\"},{\"attributes\":{\"data_source\":{\"id\":\"41f85c88-5378-463e-8824-3b4bded0c034\",\"type\":\"ColumnDataSource\"},\"glyph\":{\"id\":\"801629fb-8e6f-4b41-a757-e2b0862cb626\",\"type\":\"VBar\"},\"hover_glyph\":null,\"muted_glyph\":null,\"nonselection_glyph\":{\"id\":\"2b18031c-a327-4279-bf37-03b74ac0fd52\",\"type\":\"VBar\"},\"selection_glyph\":null,\"view\":{\"id\":\"cc4d7bad-35cb-4da6-9d01-d5a61ed4d2e9\",\"type\":\"CDSView\"}},\"id\":\"04621eee-8fe2-43b0-9769-92e293c9c6aa\",\"type\":\"GlyphRenderer\"},{\"attributes\":{\"source\":{\"id\":\"f561adab-764d-45a7-842c-d325bb568e9e\",\"type\":\"ColumnDataSource\"}},\"id\":\"b6f93236-b4e8-4672-94d1-4f330770ce69\",\"type\":\"CDSView\"},{\"attributes\":{},\"id\":\"92c419cb-c37a-4251-a87e-16d3e810a83f\",\"type\":\"BasicTickFormatter\"},{\"attributes\":{\"callback\":null,\"factors\":[\"2000\",\"2001\",\"2002\",\"2003\",\"2004\",\"2005\",\"2006\",\"2007\",\"2008\",\"2009\",\"2010\",\"2011\",\"2012\",\"2013\",\"2014\",\"2015\",\"2016\"]},\"id\":\"01fc4a28-2b32-4b2a-bf94-ad5f1c6a059e\",\"type\":\"FactorRange\"},{\"attributes\":{},\"id\":\"72869f93-5060-4629-8613-1eb901f908cb\",\"type\":\"CategoricalScale\"},{\"attributes\":{\"dimension\":1,\"plot\":{\"id\":\"c3e7793c-6920-4f61-bb3a-9af4d5145aed\",\"subtype\":\"Figure\",\"type\":\"Plot\"},\"ticker\":{\"id\":\"9be46634-9b25-45d1-96ab-c98324fbb246\",\"type\":\"BasicTicker\"}},\"id\":\"e49a0745-b089-46f2-8fea-49a5f76615e1\",\"type\":\"Grid\"},{\"attributes\":{\"callback\":null,\"factors\":[\"2000\",\"2001\",\"2002\",\"2003\",\"2004\",\"2005\",\"2006\",\"2007\",\"2008\",\"2009\",\"2010\",\"2011\",\"2012\",\"2013\",\"2014\",\"2015\",\"2016\"]},\"id\":\"b4d58361-c53f-4ea2-88d8-acb2bbb6d22b\",\"type\":\"FactorRange\"},{\"attributes\":{\"line_color\":{\"value\":\"red\"},\"line_width\":{\"value\":2},\"x\":{\"field\":\"x\"},\"y\":{\"field\":\"y\"}},\"id\":\"7bf6b55b-cea6-4396-8617-f8e9ff8623f8\",\"type\":\"Line\"},{\"attributes\":{\"data_source\":{\"id\":\"f561adab-764d-45a7-842c-d325bb568e9e\",\"type\":\"ColumnDataSource\"},\"glyph\":{\"id\":\"7bf6b55b-cea6-4396-8617-f8e9ff8623f8\",\"type\":\"Line\"},\"hover_glyph\":null,\"muted_glyph\":null,\"nonselection_glyph\":{\"id\":\"6ada197d-9161-4fcf-a35b-ba83ff438f55\",\"type\":\"Line\"},\"selection_glyph\":null,\"view\":{\"id\":\"b6f93236-b4e8-4672-94d1-4f330770ce69\",\"type\":\"CDSView\"},\"y_range_name\":\"Ratio\"},\"id\":\"0b56b253-3d01-41e6-ba38-78b1263f8aab\",\"type\":\"GlyphRenderer\"},{\"attributes\":{\"line_alpha\":{\"value\":0.1},\"line_color\":{\"value\":\"#1f77b4\"},\"line_width\":{\"value\":2},\"x\":{\"field\":\"x\"},\"y\":{\"field\":\"y\"}},\"id\":\"b57b82eb-ba9a-4058-a1ba-fd12ee056a60\",\"type\":\"Line\"},{\"attributes\":{\"callback\":null,\"column_names\":[\"x\",\"top\"],\"data\":{\"top\":[185,27,111,7999,4365,3521,4609,4489,2732,1718,1851,1394,1407,4011,15010,11251,11128],\"x\":[\"2000\",\"2001\",\"2002\",\"2003\",\"2004\",\"2005\",\"2006\",\"2007\",\"2008\",\"2009\",\"2010\",\"2011\",\"2012\",\"2013\",\"2014\",\"2015\",\"2016\"]}},\"id\":\"41f85c88-5378-463e-8824-3b4bded0c034\",\"type\":\"ColumnDataSource\"},{\"attributes\":{},\"id\":\"97a30274-f2b0-4bac-9ba5-757c421c617c\",\"type\":\"LinearScale\"},{\"attributes\":{\"child\":{\"id\":\"c87867bf-6909-4c94-a25e-166a88068158\",\"subtype\":\"Figure\",\"type\":\"Plot\"},\"title\":\"Pakistan\"},\"id\":\"5826f5cc-ddae-4fb5-8d00-339a5dca1500\",\"type\":\"Panel\"},{\"attributes\":{},\"id\":\"41ae95c9-e1f5-4e21-8f9e-d781f6b69858\",\"type\":\"BasicTickFormatter\"},{\"attributes\":{\"data_source\":{\"id\":\"922d4df4-99c2-45d2-a278-2fbff6b986e8\",\"type\":\"ColumnDataSource\"},\"glyph\":{\"id\":\"a6f63455-2186-437a-b4a9-971c8551c893\",\"type\":\"Line\"},\"hover_glyph\":null,\"muted_glyph\":null,\"nonselection_glyph\":{\"id\":\"485aceba-dad9-4c83-ba8f-1d8df070346e\",\"type\":\"Line\"},\"selection_glyph\":null,\"view\":{\"id\":\"7869de36-20cf-475f-86fe-aecfb4eafcbd\",\"type\":\"CDSView\"},\"y_range_name\":\"Ratio\"},\"id\":\"99169340-4762-402f-bf10-41b0914e12ec\",\"type\":\"GlyphRenderer\"},{\"attributes\":{\"fill_alpha\":{\"value\":0.5},\"fill_color\":{\"value\":\"#1f77b4\"},\"line_alpha\":{\"value\":0.5},\"line_color\":{\"value\":\"#1f77b4\"},\"top\":{\"field\":\"top\"},\"width\":{\"value\":0.9},\"x\":{\"field\":\"x\"}},\"id\":\"05432985-8f0e-44cc-ae43-1328108cf799\",\"type\":\"VBar\"},{\"attributes\":{\"callback\":null,\"factors\":[\"2000\",\"2001\",\"2002\",\"2003\",\"2004\",\"2005\",\"2006\",\"2007\",\"2008\",\"2009\",\"2010\",\"2011\",\"2012\",\"2013\",\"2014\",\"2015\",\"2016\"]},\"id\":\"7089807e-b8ce-4fc6-81f0-490e62d5b34b\",\"type\":\"FactorRange\"},{\"attributes\":{},\"id\":\"67ad1151-aa56-43e8-91ed-23c816a5e20a\",\"type\":\"BasicTicker\"},{\"attributes\":{\"fill_alpha\":{\"value\":0.1},\"fill_color\":{\"value\":\"#1f77b4\"},\"line_alpha\":{\"value\":0.1},\"line_color\":{\"value\":\"#1f77b4\"},\"top\":{\"field\":\"top\"},\"width\":{\"value\":0.9},\"x\":{\"field\":\"x\"}},\"id\":\"0728d6fd-19b6-495e-bd6a-8cc34c40c7ea\",\"type\":\"VBar\"},{\"attributes\":{},\"id\":\"e3d44331-a266-4b0d-87ff-7267c0d376e2\",\"type\":\"CategoricalTickFormatter\"},{\"attributes\":{\"data_source\":{\"id\":\"c8b1ef77-cf60-4c06-8172-e1ad043ed029\",\"type\":\"ColumnDataSource\"},\"glyph\":{\"id\":\"7cda8692-721c-47b5-9e48-57f59a047da4\",\"type\":\"Line\"},\"hover_glyph\":null,\"muted_glyph\":null,\"nonselection_glyph\":{\"id\":\"86442ad0-004d-4eb0-8d3b-1c5b1d9be7d3\",\"type\":\"Line\"},\"selection_glyph\":null,\"view\":{\"id\":\"44a2ca00-8e16-4918-b1ad-547573f5cc21\",\"type\":\"CDSView\"},\"y_range_name\":\"Ratio\"},\"id\":\"ed626ebd-c42c-46a4-9724-82e915725e10\",\"type\":\"GlyphRenderer\"},{\"attributes\":{\"fill_alpha\":{\"value\":0.5},\"fill_color\":{\"value\":\"#1f77b4\"},\"line_alpha\":{\"value\":0.5},\"line_color\":{\"value\":\"#1f77b4\"},\"top\":{\"field\":\"top\"},\"width\":{\"value\":0.9},\"x\":{\"field\":\"x\"}},\"id\":\"d93bd7e1-52a2-4228-9ae6-c3b0017bbaf7\",\"type\":\"VBar\"},{\"attributes\":{\"callback\":null,\"column_names\":[\"x\",\"y\"],\"data\":{\"x\":[\"2000\",\"2001\",\"2002\",\"2003\",\"2004\",\"2005\",\"2006\",\"2007\",\"2008\",\"2009\",\"2010\",\"2011\",\"2012\",\"2013\",\"2014\",\"2015\",\"2016\"],\"y\":{\"__ndarray__\":\"DpqzCp0u8D+E7Sve2WXrPz3BJVJlJus/yXcLBmoT7D8H8looikzsP7K9i+Mx3vQ/S9i/kkhA7j+qudy8oS/wP57tOWMGwvE/hja3fbHG8j81FEm+uHX3P+QiGo3oIfQ/mnMf7H398j//ic/LLw/yPwy5tsZjE/E/w88Hm/BL8D9Hn4ztF83wPw==\",\"dtype\":\"float64\",\"shape\":[17]}}},\"id\":\"c8b1ef77-cf60-4c06-8172-e1ad043ed029\",\"type\":\"ColumnDataSource\"},{\"attributes\":{\"below\":[{\"id\":\"3edb9d74-f11f-4d48-a711-2ad7c5aa31b9\",\"type\":\"CategoricalAxis\"}],\"extra_y_ranges\":{\"Ratio\":{\"id\":\"b3b900d5-fb8d-4a7f-8fde-96340e3ab7ed\",\"type\":\"Range1d\"}},\"left\":[{\"id\":\"bd570e83-1928-4c73-8b28-dc44bfaefdb1\",\"type\":\"LinearAxis\"}],\"plot_height\":350,\"renderers\":[{\"id\":\"3edb9d74-f11f-4d48-a711-2ad7c5aa31b9\",\"type\":\"CategoricalAxis\"},{\"id\":\"e7b177ec-bf55-4cc8-b6b1-a55c651ff35c\",\"type\":\"Grid\"},{\"id\":\"bd570e83-1928-4c73-8b28-dc44bfaefdb1\",\"type\":\"LinearAxis\"},{\"id\":\"22698c61-af2f-4950-b5a2-f407e02d29f1\",\"type\":\"Grid\"},{\"id\":\"2151563f-d259-49b1-b7f9-cc9c6e1ef1d1\",\"type\":\"GlyphRenderer\"},{\"id\":\"f4369a83-6b49-4b85-80f7-3ad0b3717be9\",\"type\":\"LinearAxis\"},{\"id\":\"99169340-4762-402f-bf10-41b0914e12ec\",\"type\":\"GlyphRenderer\"}],\"right\":[{\"id\":\"f4369a83-6b49-4b85-80f7-3ad0b3717be9\",\"type\":\"LinearAxis\"}],\"title\":{\"id\":\"d8745eda-e141-434f-ac69-444fea564e7c\",\"type\":\"Title\"},\"toolbar\":{\"id\":\"0fe84c2a-7bd5-46e1-97b9-ff11412f59fe\",\"type\":\"Toolbar\"},\"toolbar_location\":null,\"x_range\":{\"id\":\"7089807e-b8ce-4fc6-81f0-490e62d5b34b\",\"type\":\"FactorRange\"},\"x_scale\":{\"id\":\"7cfdc3ca-e0b5-425f-8ce7-3a03888a71da\",\"type\":\"CategoricalScale\"},\"y_range\":{\"id\":\"090fa811-ca5a-46e4-bab7-37607a164af5\",\"type\":\"DataRange1d\"},\"y_scale\":{\"id\":\"3bcedffa-87b5-417c-a23d-f93021495cb4\",\"type\":\"LinearScale\"}},\"id\":\"c87867bf-6909-4c94-a25e-166a88068158\",\"subtype\":\"Figure\",\"type\":\"Plot\"},{\"attributes\":{},\"id\":\"7323e05e-48c4-4a24-a899-38ae60c44dbf\",\"type\":\"BasicTicker\"},{\"attributes\":{\"fill_alpha\":{\"value\":0.1},\"fill_color\":{\"value\":\"#1f77b4\"},\"line_alpha\":{\"value\":0.1},\"line_color\":{\"value\":\"#1f77b4\"},\"top\":{\"field\":\"top\"},\"width\":{\"value\":0.9},\"x\":{\"field\":\"x\"}},\"id\":\"2b18031c-a327-4279-bf37-03b74ac0fd52\",\"type\":\"VBar\"},{\"attributes\":{},\"id\":\"dab5d3aa-2856-4d03-b0c4-6723852463c8\",\"type\":\"CategoricalTickFormatter\"},{\"attributes\":{\"data_source\":{\"id\":\"d90c8d4e-b0ee-4415-81e9-5ac28b671861\",\"type\":\"ColumnDataSource\"},\"glyph\":{\"id\":\"d93bd7e1-52a2-4228-9ae6-c3b0017bbaf7\",\"type\":\"VBar\"},\"hover_glyph\":null,\"muted_glyph\":null,\"nonselection_glyph\":{\"id\":\"31814b02-f04d-44ca-9abb-651b24c2fc0c\",\"type\":\"VBar\"},\"selection_glyph\":null,\"view\":{\"id\":\"fbceee63-6580-4d85-bf71-a630f20976c3\",\"type\":\"CDSView\"}},\"id\":\"ad24090b-d4e0-477e-ab53-74f6e0d71647\",\"type\":\"GlyphRenderer\"},{\"attributes\":{\"callback\":null,\"factors\":[\"2000\",\"2001\",\"2002\",\"2003\",\"2004\",\"2005\",\"2006\",\"2007\",\"2008\",\"2009\",\"2010\",\"2011\",\"2012\",\"2013\",\"2014\",\"2015\",\"2016\"]},\"id\":\"497aa5ca-264b-40b0-a1c7-4fd6a4f7b16c\",\"type\":\"FactorRange\"},{\"attributes\":{\"callback\":null,\"tabs\":[{\"id\":\"6769e7dd-9e99-44ce-9f9d-39a697f72270\",\"type\":\"Panel\"},{\"id\":\"ad9d1667-c9c0-42d3-a6a6-3de8b9900c21\",\"type\":\"Panel\"},{\"id\":\"da2e3d1c-4167-4bba-a2b1-d3675f4beb06\",\"type\":\"Panel\"},{\"id\":\"5826f5cc-ddae-4fb5-8d00-339a5dca1500\",\"type\":\"Panel\"}]},\"id\":\"8fac3907-3af4-4638-b95e-2188996e5b5b\",\"type\":\"Tabs\"},{\"attributes\":{\"child\":{\"id\":\"b982fc64-48f8-4981-a9c1-fbeaf0d597e1\",\"subtype\":\"Figure\",\"type\":\"Plot\"},\"title\":\"Iraq\"},\"id\":\"6769e7dd-9e99-44ce-9f9d-39a697f72270\",\"type\":\"Panel\"},{\"attributes\":{\"below\":[{\"id\":\"868f8bde-6458-4e3f-8d75-7719406bec63\",\"type\":\"CategoricalAxis\"}],\"extra_y_ranges\":{\"Ratio\":{\"id\":\"0c95b527-cc32-4e7c-842d-1bf42996480a\",\"type\":\"Range1d\"}},\"left\":[{\"id\":\"34cefeac-c220-43dd-82f0-7f068100861c\",\"type\":\"LinearAxis\"}],\"plot_height\":350,\"renderers\":[{\"id\":\"868f8bde-6458-4e3f-8d75-7719406bec63\",\"type\":\"CategoricalAxis\"},{\"id\":\"877b60c0-3229-4178-8aa0-555604d214c3\",\"type\":\"Grid\"},{\"id\":\"34cefeac-c220-43dd-82f0-7f068100861c\",\"type\":\"LinearAxis\"},{\"id\":\"3e749cb5-72ac-4931-bde9-155acd5deb06\",\"type\":\"Grid\"},{\"id\":\"04621eee-8fe2-43b0-9769-92e293c9c6aa\",\"type\":\"GlyphRenderer\"},{\"id\":\"ef1f48f5-48c1-4296-8bf4-95df620f2e33\",\"type\":\"LinearAxis\"},{\"id\":\"c3a1367b-28e0-43e2-88c0-8d8965e1b140\",\"type\":\"GlyphRenderer\"}],\"right\":[{\"id\":\"ef1f48f5-48c1-4296-8bf4-95df620f2e33\",\"type\":\"LinearAxis\"}],\"title\":{\"id\":\"5759d93e-c9aa-4c44-a9bb-3435ccba0e84\",\"type\":\"Title\"},\"toolbar\":{\"id\":\"b6e987c1-a45b-46b9-850b-cdfcbe0cab01\",\"type\":\"Toolbar\"},\"toolbar_location\":null,\"x_range\":{\"id\":\"01fc4a28-2b32-4b2a-bf94-ad5f1c6a059e\",\"type\":\"FactorRange\"},\"x_scale\":{\"id\":\"d160ff1b-bf6a-45cd-9883-1fa8fb0eeb5f\",\"type\":\"CategoricalScale\"},\"y_range\":{\"id\":\"f3628835-d6a6-4ee6-aba6-c5608164753d\",\"type\":\"DataRange1d\"},\"y_scale\":{\"id\":\"97a30274-f2b0-4bac-9ba5-757c421c617c\",\"type\":\"LinearScale\"}},\"id\":\"b982fc64-48f8-4981-a9c1-fbeaf0d597e1\",\"subtype\":\"Figure\",\"type\":\"Plot\"},{\"attributes\":{\"callback\":null},\"id\":\"090fa811-ca5a-46e4-bab7-37607a164af5\",\"type\":\"DataRange1d\"},{\"attributes\":{},\"id\":\"75153939-2826-489a-9e3b-05182d6eafbe\",\"type\":\"BasicTickFormatter\"},{\"attributes\":{\"axis_label\":\"Death\",\"formatter\":{\"id\":\"92c419cb-c37a-4251-a87e-16d3e810a83f\",\"type\":\"BasicTickFormatter\"},\"plot\":{\"id\":\"c87867bf-6909-4c94-a25e-166a88068158\",\"subtype\":\"Figure\",\"type\":\"Plot\"},\"ticker\":{\"id\":\"4f1089bd-23a0-4b49-b0b2-a49df41be4d8\",\"type\":\"BasicTicker\"}},\"id\":\"bd570e83-1928-4c73-8b28-dc44bfaefdb1\",\"type\":\"LinearAxis\"},{\"attributes\":{},\"id\":\"3621891d-c5e3-4a3a-8342-56f3e2838c54\",\"type\":\"CategoricalScale\"},{\"attributes\":{\"callback\":null},\"id\":\"f3628835-d6a6-4ee6-aba6-c5608164753d\",\"type\":\"DataRange1d\"},{\"attributes\":{\"data_source\":{\"id\":\"d5d78b4d-6ef7-4248-b73d-6563bc169009\",\"type\":\"ColumnDataSource\"},\"glyph\":{\"id\":\"1d3624a4-4f07-475d-9b9f-d57ecbd0efc5\",\"type\":\"VBar\"},\"hover_glyph\":null,\"muted_glyph\":null,\"nonselection_glyph\":{\"id\":\"0728d6fd-19b6-495e-bd6a-8cc34c40c7ea\",\"type\":\"VBar\"},\"selection_glyph\":null,\"view\":{\"id\":\"4638b5c1-b015-43c2-8675-c9e9f344cf36\",\"type\":\"CDSView\"}},\"id\":\"2151563f-d259-49b1-b7f9-cc9c6e1ef1d1\",\"type\":\"GlyphRenderer\"},{\"attributes\":{},\"id\":\"9be46634-9b25-45d1-96ab-c98324fbb246\",\"type\":\"BasicTicker\"},{\"attributes\":{},\"id\":\"154e04f8-b057-4cce-81c2-591b27ae4102\",\"type\":\"BasicTicker\"},{\"attributes\":{\"data_source\":{\"id\":\"906496ea-4a34-4c54-b442-9d96dbc09c74\",\"type\":\"ColumnDataSource\"},\"glyph\":{\"id\":\"05432985-8f0e-44cc-ae43-1328108cf799\",\"type\":\"VBar\"},\"hover_glyph\":null,\"muted_glyph\":null,\"nonselection_glyph\":{\"id\":\"e12e79ee-7c75-43b8-8e57-d9d9c3f68425\",\"type\":\"VBar\"},\"selection_glyph\":null,\"view\":{\"id\":\"87f56c82-93fe-49ad-9022-69c92035ac2c\",\"type\":\"CDSView\"}},\"id\":\"3dddd237-5105-49ac-98e4-7f4597815729\",\"type\":\"GlyphRenderer\"},{\"attributes\":{},\"id\":\"2a3c89a1-7797-442a-9488-6bf258d13f67\",\"type\":\"BasicTickFormatter\"},{\"attributes\":{},\"id\":\"3bcedffa-87b5-417c-a23d-f93021495cb4\",\"type\":\"LinearScale\"},{\"attributes\":{\"line_alpha\":{\"value\":0.1},\"line_color\":{\"value\":\"#1f77b4\"},\"line_width\":{\"value\":2},\"x\":{\"field\":\"x\"},\"y\":{\"field\":\"y\"}},\"id\":\"86442ad0-004d-4eb0-8d3b-1c5b1d9be7d3\",\"type\":\"Line\"},{\"attributes\":{\"line_color\":{\"value\":\"red\"},\"line_width\":{\"value\":2},\"x\":{\"field\":\"x\"},\"y\":{\"field\":\"y\"}},\"id\":\"7cda8692-721c-47b5-9e48-57f59a047da4\",\"type\":\"Line\"},{\"attributes\":{},\"id\":\"4f1089bd-23a0-4b49-b0b2-a49df41be4d8\",\"type\":\"BasicTicker\"},{\"attributes\":{\"child\":{\"id\":\"c3e7793c-6920-4f61-bb3a-9af4d5145aed\",\"subtype\":\"Figure\",\"type\":\"Plot\"},\"title\":\"Afghanistan\"},\"id\":\"ad9d1667-c9c0-42d3-a6a6-3de8b9900c21\",\"type\":\"Panel\"},{\"attributes\":{\"source\":{\"id\":\"41f85c88-5378-463e-8824-3b4bded0c034\",\"type\":\"ColumnDataSource\"}},\"id\":\"cc4d7bad-35cb-4da6-9d01-d5a61ed4d2e9\",\"type\":\"CDSView\"},{\"attributes\":{},\"id\":\"20265441-3338-45a0-841d-338de614a79f\",\"type\":\"CategoricalTicker\"},{\"attributes\":{\"axis_label\":\"Ratio\",\"formatter\":{\"id\":\"091f6bb1-50f2-444a-b92e-f9bd66a389bd\",\"type\":\"BasicTickFormatter\"},\"plot\":{\"id\":\"73fe69c1-6923-4aed-bd76-316ff3e55c80\",\"subtype\":\"Figure\",\"type\":\"Plot\"},\"ticker\":{\"id\":\"154e04f8-b057-4cce-81c2-591b27ae4102\",\"type\":\"BasicTicker\"},\"y_range_name\":\"Ratio\"},\"id\":\"e5a703a6-a305-40af-8a63-08e83083076a\",\"type\":\"LinearAxis\"},{\"attributes\":{\"dimension\":1,\"plot\":{\"id\":\"c87867bf-6909-4c94-a25e-166a88068158\",\"subtype\":\"Figure\",\"type\":\"Plot\"},\"ticker\":{\"id\":\"4f1089bd-23a0-4b49-b0b2-a49df41be4d8\",\"type\":\"BasicTicker\"}},\"id\":\"22698c61-af2f-4950-b5a2-f407e02d29f1\",\"type\":\"Grid\"},{\"attributes\":{\"fill_alpha\":{\"value\":0.1},\"fill_color\":{\"value\":\"#1f77b4\"},\"line_alpha\":{\"value\":0.1},\"line_color\":{\"value\":\"#1f77b4\"},\"top\":{\"field\":\"top\"},\"width\":{\"value\":0.9},\"x\":{\"field\":\"x\"}},\"id\":\"31814b02-f04d-44ca-9abb-651b24c2fc0c\",\"type\":\"VBar\"},{\"attributes\":{\"plot\":null,\"text\":\"Ratio vs Death\"},\"id\":\"7f193119-3919-4d25-afa5-04955de3ecaf\",\"type\":\"Title\"},{\"attributes\":{\"callback\":null,\"column_names\":[\"x\",\"y\"],\"data\":{\"x\":[\"2000\",\"2001\",\"2002\",\"2003\",\"2004\",\"2005\",\"2006\",\"2007\",\"2008\",\"2009\",\"2010\",\"2011\",\"2012\",\"2013\",\"2014\",\"2015\",\"2016\"],\"y\":{\"__ndarray__\":\"8ripM8MY7z/eg+hJ7ZfwP/WsvhE7k/A/GWgIxqB58D836PBM8oLwP2fqMm+4pfA/x6Wq3xce8T923zzf0UfxP6u10Rb54fE/cBmwtHFP9D+fM8Td7+71P4/TGCmSYPc/rO7mk+jo9T9IqlOM5KT0PyKhCc6SLvU/OoLI0QnE8z9b6uiVfLHxPw==\",\"dtype\":\"float64\",\"shape\":[17]}}},\"id\":\"f561adab-764d-45a7-842c-d325bb568e9e\",\"type\":\"ColumnDataSource\"},{\"attributes\":{},\"id\":\"4893b11e-ed45-4a91-ad54-1ed0e15baef8\",\"type\":\"BasicTickFormatter\"},{\"attributes\":{\"plot\":{\"id\":\"73fe69c1-6923-4aed-bd76-316ff3e55c80\",\"subtype\":\"Figure\",\"type\":\"Plot\"},\"ticker\":{\"id\":\"35dad5fd-cb11-483b-b95c-bb18c5a0e36b\",\"type\":\"CategoricalTicker\"}},\"id\":\"1de40ab7-c79e-428f-8af8-009e6b5ce3a6\",\"type\":\"Grid\"},{\"attributes\":{\"active_drag\":\"auto\",\"active_inspect\":\"auto\",\"active_scroll\":\"auto\",\"active_tap\":\"auto\"},\"id\":\"0fe84c2a-7bd5-46e1-97b9-ff11412f59fe\",\"type\":\"Toolbar\"},{\"attributes\":{\"callback\":null,\"end\":2,\"start\":0.8},\"id\":\"09c061ff-b6f8-4dc1-85c5-9008e00a82ec\",\"type\":\"Range1d\"},{\"attributes\":{},\"id\":\"d160ff1b-bf6a-45cd-9883-1fa8fb0eeb5f\",\"type\":\"CategoricalScale\"},{\"attributes\":{\"axis_label\":\"Year\",\"formatter\":{\"id\":\"84db1967-ef12-4437-9f50-be27815b365d\",\"type\":\"CategoricalTickFormatter\"},\"plot\":{\"id\":\"b982fc64-48f8-4981-a9c1-fbeaf0d597e1\",\"subtype\":\"Figure\",\"type\":\"Plot\"},\"ticker\":{\"id\":\"5ae82347-8abe-4e2b-9286-c77da7580a31\",\"type\":\"CategoricalTicker\"}},\"id\":\"868f8bde-6458-4e3f-8d75-7719406bec63\",\"type\":\"CategoricalAxis\"},{\"attributes\":{},\"id\":\"7cfdc3ca-e0b5-425f-8ce7-3a03888a71da\",\"type\":\"CategoricalScale\"},{\"attributes\":{},\"id\":\"5d7c5975-ed7f-434a-9746-d6a93feda436\",\"type\":\"BasicTicker\"},{\"attributes\":{\"axis_label\":\"Ratio\",\"formatter\":{\"id\":\"41ae95c9-e1f5-4e21-8f9e-d781f6b69858\",\"type\":\"BasicTickFormatter\"},\"plot\":{\"id\":\"b982fc64-48f8-4981-a9c1-fbeaf0d597e1\",\"subtype\":\"Figure\",\"type\":\"Plot\"},\"ticker\":{\"id\":\"7323e05e-48c4-4a24-a899-38ae60c44dbf\",\"type\":\"BasicTicker\"},\"y_range_name\":\"Ratio\"},\"id\":\"ef1f48f5-48c1-4296-8bf4-95df620f2e33\",\"type\":\"LinearAxis\"},{\"attributes\":{\"callback\":null},\"id\":\"d47d8f58-1039-4d83-9be1-9e3bbb102498\",\"type\":\"DataRange1d\"},{\"attributes\":{},\"id\":\"dccf4843-208f-493b-a345-e3366882bb1f\",\"type\":\"BasicTicker\"},{\"attributes\":{\"below\":[{\"id\":\"dbb970eb-1e23-4a8e-9130-1ac10c3db2a9\",\"type\":\"CategoricalAxis\"}],\"extra_y_ranges\":{\"Ratio\":{\"id\":\"966b2263-cb68-4730-8aa0-75c8922430c4\",\"type\":\"Range1d\"}},\"left\":[{\"id\":\"18a2188c-e0aa-4933-9b97-495dbf9cb8c6\",\"type\":\"LinearAxis\"}],\"plot_height\":350,\"renderers\":[{\"id\":\"dbb970eb-1e23-4a8e-9130-1ac10c3db2a9\",\"type\":\"CategoricalAxis\"},{\"id\":\"1de40ab7-c79e-428f-8af8-009e6b5ce3a6\",\"type\":\"Grid\"},{\"id\":\"18a2188c-e0aa-4933-9b97-495dbf9cb8c6\",\"type\":\"LinearAxis\"},{\"id\":\"e92a705d-fa34-47a9-b448-3147d14a03d1\",\"type\":\"Grid\"},{\"id\":\"3dddd237-5105-49ac-98e4-7f4597815729\",\"type\":\"GlyphRenderer\"},{\"id\":\"e5a703a6-a305-40af-8a63-08e83083076a\",\"type\":\"LinearAxis\"},{\"id\":\"ed626ebd-c42c-46a4-9724-82e915725e10\",\"type\":\"GlyphRenderer\"}],\"right\":[{\"id\":\"e5a703a6-a305-40af-8a63-08e83083076a\",\"type\":\"LinearAxis\"}],\"title\":{\"id\":\"7f193119-3919-4d25-afa5-04955de3ecaf\",\"type\":\"Title\"},\"toolbar\":{\"id\":\"51bec6fb-b677-44df-add8-5827951c77ce\",\"type\":\"Toolbar\"},\"toolbar_location\":null,\"x_range\":{\"id\":\"b4d58361-c53f-4ea2-88d8-acb2bbb6d22b\",\"type\":\"FactorRange\"},\"x_scale\":{\"id\":\"3621891d-c5e3-4a3a-8342-56f3e2838c54\",\"type\":\"CategoricalScale\"},\"y_range\":{\"id\":\"97d0fffe-0ea7-408c-9c70-1591944aabc8\",\"type\":\"DataRange1d\"},\"y_scale\":{\"id\":\"fde2ad34-2a44-4119-aa47-0d566ca0ebc4\",\"type\":\"LinearScale\"}},\"id\":\"73fe69c1-6923-4aed-bd76-316ff3e55c80\",\"subtype\":\"Figure\",\"type\":\"Plot\"},{\"attributes\":{\"data_source\":{\"id\":\"06e014b5-32f9-43fb-8b7e-49a64de67a72\",\"type\":\"ColumnDataSource\"},\"glyph\":{\"id\":\"ee8278be-d81b-486d-85ef-55a3fc4b0130\",\"type\":\"Line\"},\"hover_glyph\":null,\"muted_glyph\":null,\"nonselection_glyph\":{\"id\":\"b57b82eb-ba9a-4058-a1ba-fd12ee056a60\",\"type\":\"Line\"},\"selection_glyph\":null,\"view\":{\"id\":\"7ed85858-64ae-4b75-83ba-b761065e0ad3\",\"type\":\"CDSView\"},\"y_range_name\":\"Ratio\"},\"id\":\"c3a1367b-28e0-43e2-88c0-8d8965e1b140\",\"type\":\"GlyphRenderer\"},{\"attributes\":{\"source\":{\"id\":\"06e014b5-32f9-43fb-8b7e-49a64de67a72\",\"type\":\"ColumnDataSource\"}},\"id\":\"7ed85858-64ae-4b75-83ba-b761065e0ad3\",\"type\":\"CDSView\"},{\"attributes\":{\"plot\":null,\"text\":\"Ratio vs Death\"},\"id\":\"f1b7c6e2-5f8a-4924-a0c4-42e31f060cf1\",\"type\":\"Title\"},{\"attributes\":{\"active_drag\":\"auto\",\"active_inspect\":\"auto\",\"active_scroll\":\"auto\",\"active_tap\":\"auto\"},\"id\":\"51bec6fb-b677-44df-add8-5827951c77ce\",\"type\":\"Toolbar\"},{\"attributes\":{\"source\":{\"id\":\"906496ea-4a34-4c54-b442-9d96dbc09c74\",\"type\":\"ColumnDataSource\"}},\"id\":\"87f56c82-93fe-49ad-9022-69c92035ac2c\",\"type\":\"CDSView\"},{\"attributes\":{},\"id\":\"0bb823a4-1b37-4a32-a25c-ab262ce74263\",\"type\":\"BasicTickFormatter\"},{\"attributes\":{\"line_color\":{\"value\":\"red\"},\"line_width\":{\"value\":2},\"x\":{\"field\":\"x\"},\"y\":{\"field\":\"y\"}},\"id\":\"ee8278be-d81b-486d-85ef-55a3fc4b0130\",\"type\":\"Line\"},{\"attributes\":{\"axis_label\":\"Death\",\"formatter\":{\"id\":\"6615b4b8-18e3-4740-afc8-5b08af167682\",\"type\":\"BasicTickFormatter\"},\"plot\":{\"id\":\"b982fc64-48f8-4981-a9c1-fbeaf0d597e1\",\"subtype\":\"Figure\",\"type\":\"Plot\"},\"ticker\":{\"id\":\"dccf4843-208f-493b-a345-e3366882bb1f\",\"type\":\"BasicTicker\"}},\"id\":\"34cefeac-c220-43dd-82f0-7f068100861c\",\"type\":\"LinearAxis\"},{\"attributes\":{},\"id\":\"84db1967-ef12-4437-9f50-be27815b365d\",\"type\":\"CategoricalTickFormatter\"},{\"attributes\":{\"callback\":null,\"column_names\":[\"x\",\"top\"],\"data\":{\"top\":[0,0,26,0,220,187,686,610,1869,2263,3313,2715,1699,776,1642,1653,1309],\"x\":[\"2000\",\"2001\",\"2002\",\"2003\",\"2004\",\"2005\",\"2006\",\"2007\",\"2008\",\"2009\",\"2010\",\"2011\",\"2012\",\"2013\",\"2014\",\"2015\",\"2016\"]}},\"id\":\"906496ea-4a34-4c54-b442-9d96dbc09c74\",\"type\":\"ColumnDataSource\"},{\"attributes\":{\"dimension\":1,\"plot\":{\"id\":\"73fe69c1-6923-4aed-bd76-316ff3e55c80\",\"subtype\":\"Figure\",\"type\":\"Plot\"},\"ticker\":{\"id\":\"8ef058c5-ce9f-43e5-a79b-5cdf78d3692d\",\"type\":\"BasicTicker\"}},\"id\":\"e92a705d-fa34-47a9-b448-3147d14a03d1\",\"type\":\"Grid\"},{\"attributes\":{},\"id\":\"6615b4b8-18e3-4740-afc8-5b08af167682\",\"type\":\"BasicTickFormatter\"},{\"attributes\":{\"plot\":{\"id\":\"b982fc64-48f8-4981-a9c1-fbeaf0d597e1\",\"subtype\":\"Figure\",\"type\":\"Plot\"},\"ticker\":{\"id\":\"5ae82347-8abe-4e2b-9286-c77da7580a31\",\"type\":\"CategoricalTicker\"}},\"id\":\"877b60c0-3229-4178-8aa0-555604d214c3\",\"type\":\"Grid\"},{\"attributes\":{\"plot\":{\"id\":\"c3e7793c-6920-4f61-bb3a-9af4d5145aed\",\"subtype\":\"Figure\",\"type\":\"Plot\"},\"ticker\":{\"id\":\"eb9eacb4-448a-44cd-9910-d0595f701e68\",\"type\":\"CategoricalTicker\"}},\"id\":\"b505ea46-29c7-4ae3-bda3-055fb0eee8b7\",\"type\":\"Grid\"},{\"attributes\":{\"callback\":null,\"column_names\":[\"x\",\"top\"],\"data\":{\"top\":[5394,5553,1157,944,817,1711,4982,7020,5660,6499,7151,7565,7822,8131,12550,17986,18707],\"x\":[\"2000\",\"2001\",\"2002\",\"2003\",\"2004\",\"2005\",\"2006\",\"2007\",\"2008\",\"2009\",\"2010\",\"2011\",\"2012\",\"2013\",\"2014\",\"2015\",\"2016\"]}},\"id\":\"d90c8d4e-b0ee-4415-81e9-5ac28b671861\",\"type\":\"ColumnDataSource\"},{\"attributes\":{},\"id\":\"982e1fb5-8d89-41b6-b341-8de9b940edb5\",\"type\":\"CategoricalTickFormatter\"},{\"attributes\":{\"source\":{\"id\":\"c8b1ef77-cf60-4c06-8172-e1ad043ed029\",\"type\":\"ColumnDataSource\"}},\"id\":\"44a2ca00-8e16-4918-b1ad-547573f5cc21\",\"type\":\"CDSView\"},{\"attributes\":{},\"id\":\"8ef058c5-ce9f-43e5-a79b-5cdf78d3692d\",\"type\":\"BasicTicker\"},{\"attributes\":{\"fill_alpha\":{\"value\":0.1},\"fill_color\":{\"value\":\"#1f77b4\"},\"line_alpha\":{\"value\":0.1},\"line_color\":{\"value\":\"#1f77b4\"},\"top\":{\"field\":\"top\"},\"width\":{\"value\":0.9},\"x\":{\"field\":\"x\"}},\"id\":\"e12e79ee-7c75-43b8-8e57-d9d9c3f68425\",\"type\":\"VBar\"},{\"attributes\":{\"active_drag\":\"auto\",\"active_inspect\":\"auto\",\"active_scroll\":\"auto\",\"active_tap\":\"auto\"},\"id\":\"f7da4501-e662-40df-a750-91f9c017313c\",\"type\":\"Toolbar\"},{\"attributes\":{\"callback\":null,\"column_names\":[\"x\",\"y\"],\"data\":{\"x\":[\"2000\",\"2001\",\"2002\",\"2003\",\"2004\",\"2005\",\"2006\",\"2007\",\"2008\",\"2009\",\"2010\",\"2011\",\"2012\",\"2013\",\"2014\",\"2015\",\"2016\"],\"y\":{\"__ndarray__\":\"m/LrGmEu7z/i3ciCeFTwP+SZvjP4NPE/SZYowtqN8j+r+wOIzJ/xP73PtO8AqfI/a4ngNGFc8z+eaP+tz+fyP6N5iLk2nvI/INwD/Fut9D8XbuY2+MX2P4ZTQXe4YfY/a5qDUs8U+D+XVjsI7pb8P6ykfH0QOfU/IKFUTQ3d8T8q0vMh3Vv1Pw==\",\"dtype\":\"float64\",\"shape\":[17]}}},\"id\":\"06e014b5-32f9-43fb-8b7e-49a64de67a72\",\"type\":\"ColumnDataSource\"},{\"attributes\":{\"callback\":null,\"column_names\":[\"x\",\"top\"],\"data\":{\"top\":[1,26,54,241,430,153,427,1366,4620,7460,7226,3474,3540,2902,3604,2387,1034],\"x\":[\"2000\",\"2001\",\"2002\",\"2003\",\"2004\",\"2005\",\"2006\",\"2007\",\"2008\",\"2009\",\"2010\",\"2011\",\"2012\",\"2013\",\"2014\",\"2015\",\"2016\"]}},\"id\":\"d5d78b4d-6ef7-4248-b73d-6563bc169009\",\"type\":\"ColumnDataSource\"},{\"attributes\":{\"axis_label\":\"Death\",\"formatter\":{\"id\":\"4893b11e-ed45-4a91-ad54-1ed0e15baef8\",\"type\":\"BasicTickFormatter\"},\"plot\":{\"id\":\"73fe69c1-6923-4aed-bd76-316ff3e55c80\",\"subtype\":\"Figure\",\"type\":\"Plot\"},\"ticker\":{\"id\":\"8ef058c5-ce9f-43e5-a79b-5cdf78d3692d\",\"type\":\"BasicTicker\"}},\"id\":\"18a2188c-e0aa-4933-9b97-495dbf9cb8c6\",\"type\":\"LinearAxis\"},{\"attributes\":{\"plot\":{\"id\":\"c87867bf-6909-4c94-a25e-166a88068158\",\"subtype\":\"Figure\",\"type\":\"Plot\"},\"ticker\":{\"id\":\"20265441-3338-45a0-841d-338de614a79f\",\"type\":\"CategoricalTicker\"}},\"id\":\"e7b177ec-bf55-4cc8-b6b1-a55c651ff35c\",\"type\":\"Grid\"},{\"attributes\":{},\"id\":\"091f6bb1-50f2-444a-b92e-f9bd66a389bd\",\"type\":\"BasicTickFormatter\"},{\"attributes\":{\"axis_label\":\"Year\",\"formatter\":{\"id\":\"e3d44331-a266-4b0d-87ff-7267c0d376e2\",\"type\":\"CategoricalTickFormatter\"},\"plot\":{\"id\":\"c3e7793c-6920-4f61-bb3a-9af4d5145aed\",\"subtype\":\"Figure\",\"type\":\"Plot\"},\"ticker\":{\"id\":\"eb9eacb4-448a-44cd-9910-d0595f701e68\",\"type\":\"CategoricalTicker\"}},\"id\":\"b2b485e9-d705-412c-b323-c80b7f4ee4cb\",\"type\":\"CategoricalAxis\"},{\"attributes\":{\"callback\":null},\"id\":\"97d0fffe-0ea7-408c-9c70-1591944aabc8\",\"type\":\"DataRange1d\"},{\"attributes\":{\"fill_alpha\":{\"value\":0.5},\"fill_color\":{\"value\":\"#1f77b4\"},\"line_alpha\":{\"value\":0.5},\"line_color\":{\"value\":\"#1f77b4\"},\"top\":{\"field\":\"top\"},\"width\":{\"value\":0.9},\"x\":{\"field\":\"x\"}},\"id\":\"1d3624a4-4f07-475d-9b9f-d57ecbd0efc5\",\"type\":\"VBar\"},{\"attributes\":{\"source\":{\"id\":\"922d4df4-99c2-45d2-a278-2fbff6b986e8\",\"type\":\"ColumnDataSource\"}},\"id\":\"7869de36-20cf-475f-86fe-aecfb4eafcbd\",\"type\":\"CDSView\"},{\"attributes\":{},\"id\":\"5ae82347-8abe-4e2b-9286-c77da7580a31\",\"type\":\"CategoricalTicker\"},{\"attributes\":{\"plot\":null,\"text\":\"Ratio vs Death\"},\"id\":\"5759d93e-c9aa-4c44-a9bb-3435ccba0e84\",\"type\":\"Title\"},{\"attributes\":{\"axis_label\":\"Year\",\"formatter\":{\"id\":\"982e1fb5-8d89-41b6-b341-8de9b940edb5\",\"type\":\"CategoricalTickFormatter\"},\"plot\":{\"id\":\"73fe69c1-6923-4aed-bd76-316ff3e55c80\",\"subtype\":\"Figure\",\"type\":\"Plot\"},\"ticker\":{\"id\":\"35dad5fd-cb11-483b-b95c-bb18c5a0e36b\",\"type\":\"CategoricalTicker\"}},\"id\":\"dbb970eb-1e23-4a8e-9130-1ac10c3db2a9\",\"type\":\"CategoricalAxis\"},{\"attributes\":{},\"id\":\"35dad5fd-cb11-483b-b95c-bb18c5a0e36b\",\"type\":\"CategoricalTicker\"},{\"attributes\":{\"active_drag\":\"auto\",\"active_inspect\":\"auto\",\"active_scroll\":\"auto\",\"active_tap\":\"auto\"},\"id\":\"b6e987c1-a45b-46b9-850b-cdfcbe0cab01\",\"type\":\"Toolbar\"},{\"attributes\":{\"axis_label\":\"Death\",\"formatter\":{\"id\":\"2a3c89a1-7797-442a-9488-6bf258d13f67\",\"type\":\"BasicTickFormatter\"},\"plot\":{\"id\":\"c3e7793c-6920-4f61-bb3a-9af4d5145aed\",\"subtype\":\"Figure\",\"type\":\"Plot\"},\"ticker\":{\"id\":\"9be46634-9b25-45d1-96ab-c98324fbb246\",\"type\":\"BasicTicker\"}},\"id\":\"e5a21537-010b-4bd2-9d77-a15dcd7fa7e1\",\"type\":\"LinearAxis\"},{\"attributes\":{\"callback\":null,\"end\":2,\"start\":0.8},\"id\":\"b3b900d5-fb8d-4a7f-8fde-96340e3ab7ed\",\"type\":\"Range1d\"},{\"attributes\":{},\"id\":\"d401a28b-0346-4d77-8a3c-ebcb1865f7aa\",\"type\":\"LinearScale\"},{\"attributes\":{\"fill_alpha\":{\"value\":0.5},\"fill_color\":{\"value\":\"#1f77b4\"},\"line_alpha\":{\"value\":0.5},\"line_color\":{\"value\":\"#1f77b4\"},\"top\":{\"field\":\"top\"},\"width\":{\"value\":0.9},\"x\":{\"field\":\"x\"}},\"id\":\"801629fb-8e6f-4b41-a757-e2b0862cb626\",\"type\":\"VBar\"},{\"attributes\":{\"callback\":null,\"end\":2,\"start\":0.8},\"id\":\"0c95b527-cc32-4e7c-842d-1bf42996480a\",\"type\":\"Range1d\"},{\"attributes\":{\"axis_label\":\"Year\",\"formatter\":{\"id\":\"dab5d3aa-2856-4d03-b0c4-6723852463c8\",\"type\":\"CategoricalTickFormatter\"},\"plot\":{\"id\":\"c87867bf-6909-4c94-a25e-166a88068158\",\"subtype\":\"Figure\",\"type\":\"Plot\"},\"ticker\":{\"id\":\"20265441-3338-45a0-841d-338de614a79f\",\"type\":\"CategoricalTicker\"}},\"id\":\"3edb9d74-f11f-4d48-a711-2ad7c5aa31b9\",\"type\":\"CategoricalAxis\"},{\"attributes\":{},\"id\":\"fde2ad34-2a44-4119-aa47-0d566ca0ebc4\",\"type\":\"LinearScale\"},{\"attributes\":{\"plot\":null,\"text\":\"Ratio vs Death\"},\"id\":\"d8745eda-e141-434f-ac69-444fea564e7c\",\"type\":\"Title\"},{\"attributes\":{\"source\":{\"id\":\"d90c8d4e-b0ee-4415-81e9-5ac28b671861\",\"type\":\"ColumnDataSource\"}},\"id\":\"fbceee63-6580-4d85-bf71-a630f20976c3\",\"type\":\"CDSView\"},{\"attributes\":{\"line_alpha\":{\"value\":0.1},\"line_color\":{\"value\":\"#1f77b4\"},\"line_width\":{\"value\":2},\"x\":{\"field\":\"x\"},\"y\":{\"field\":\"y\"}},\"id\":\"485aceba-dad9-4c83-ba8f-1d8df070346e\",\"type\":\"Line\"},{\"attributes\":{\"axis_label\":\"Ratio\",\"formatter\":{\"id\":\"75153939-2826-489a-9e3b-05182d6eafbe\",\"type\":\"BasicTickFormatter\"},\"plot\":{\"id\":\"c3e7793c-6920-4f61-bb3a-9af4d5145aed\",\"subtype\":\"Figure\",\"type\":\"Plot\"},\"ticker\":{\"id\":\"5d7c5975-ed7f-434a-9746-d6a93feda436\",\"type\":\"BasicTicker\"},\"y_range_name\":\"Ratio\"},\"id\":\"d6438c21-7f04-47e2-b05a-f871382e79f5\",\"type\":\"LinearAxis\"},{\"attributes\":{\"dimension\":1,\"plot\":{\"id\":\"b982fc64-48f8-4981-a9c1-fbeaf0d597e1\",\"subtype\":\"Figure\",\"type\":\"Plot\"},\"ticker\":{\"id\":\"dccf4843-208f-493b-a345-e3366882bb1f\",\"type\":\"BasicTicker\"}},\"id\":\"3e749cb5-72ac-4931-bde9-155acd5deb06\",\"type\":\"Grid\"},{\"attributes\":{\"child\":{\"id\":\"73fe69c1-6923-4aed-bd76-316ff3e55c80\",\"subtype\":\"Figure\",\"type\":\"Plot\"},\"title\":\"Mexico\"},\"id\":\"da2e3d1c-4167-4bba-a2b1-d3675f4beb06\",\"type\":\"Panel\"},{\"attributes\":{\"below\":[{\"id\":\"b2b485e9-d705-412c-b323-c80b7f4ee4cb\",\"type\":\"CategoricalAxis\"}],\"extra_y_ranges\":{\"Ratio\":{\"id\":\"09c061ff-b6f8-4dc1-85c5-9008e00a82ec\",\"type\":\"Range1d\"}},\"left\":[{\"id\":\"e5a21537-010b-4bd2-9d77-a15dcd7fa7e1\",\"type\":\"LinearAxis\"}],\"plot_height\":350,\"renderers\":[{\"id\":\"b2b485e9-d705-412c-b323-c80b7f4ee4cb\",\"type\":\"CategoricalAxis\"},{\"id\":\"b505ea46-29c7-4ae3-bda3-055fb0eee8b7\",\"type\":\"Grid\"},{\"id\":\"e5a21537-010b-4bd2-9d77-a15dcd7fa7e1\",\"type\":\"LinearAxis\"},{\"id\":\"e49a0745-b089-46f2-8fea-49a5f76615e1\",\"type\":\"Grid\"},{\"id\":\"ad24090b-d4e0-477e-ab53-74f6e0d71647\",\"type\":\"GlyphRenderer\"},{\"id\":\"d6438c21-7f04-47e2-b05a-f871382e79f5\",\"type\":\"LinearAxis\"},{\"id\":\"0b56b253-3d01-41e6-ba38-78b1263f8aab\",\"type\":\"GlyphRenderer\"}],\"right\":[{\"id\":\"d6438c21-7f04-47e2-b05a-f871382e79f5\",\"type\":\"LinearAxis\"}],\"title\":{\"id\":\"f1b7c6e2-5f8a-4924-a0c4-42e31f060cf1\",\"type\":\"Title\"},\"toolbar\":{\"id\":\"f7da4501-e662-40df-a750-91f9c017313c\",\"type\":\"Toolbar\"},\"toolbar_location\":null,\"x_range\":{\"id\":\"497aa5ca-264b-40b0-a1c7-4fd6a4f7b16c\",\"type\":\"FactorRange\"},\"x_scale\":{\"id\":\"72869f93-5060-4629-8613-1eb901f908cb\",\"type\":\"CategoricalScale\"},\"y_range\":{\"id\":\"d47d8f58-1039-4d83-9be1-9e3bbb102498\",\"type\":\"DataRange1d\"},\"y_scale\":{\"id\":\"d401a28b-0346-4d77-8a3c-ebcb1865f7aa\",\"type\":\"LinearScale\"}},\"id\":\"c3e7793c-6920-4f61-bb3a-9af4d5145aed\",\"subtype\":\"Figure\",\"type\":\"Plot\"},{\"attributes\":{\"axis_label\":\"Ratio\",\"formatter\":{\"id\":\"0bb823a4-1b37-4a32-a25c-ab262ce74263\",\"type\":\"BasicTickFormatter\"},\"plot\":{\"id\":\"c87867bf-6909-4c94-a25e-166a88068158\",\"subtype\":\"Figure\",\"type\":\"Plot\"},\"ticker\":{\"id\":\"67ad1151-aa56-43e8-91ed-23c816a5e20a\",\"type\":\"BasicTicker\"},\"y_range_name\":\"Ratio\"},\"id\":\"f4369a83-6b49-4b85-80f7-3ad0b3717be9\",\"type\":\"LinearAxis\"},{\"attributes\":{\"callback\":null,\"end\":2,\"start\":0.8},\"id\":\"966b2263-cb68-4730-8aa0-75c8922430c4\",\"type\":\"Range1d\"},{\"attributes\":{},\"id\":\"eb9eacb4-448a-44cd-9910-d0595f701e68\",\"type\":\"CategoricalTicker\"},{\"attributes\":{\"line_color\":{\"value\":\"red\"},\"line_width\":{\"value\":2},\"x\":{\"field\":\"x\"},\"y\":{\"field\":\"y\"}},\"id\":\"a6f63455-2186-437a-b4a9-971c8551c893\",\"type\":\"Line\"},{\"attributes\":{\"source\":{\"id\":\"d5d78b4d-6ef7-4248-b73d-6563bc169009\",\"type\":\"ColumnDataSource\"}},\"id\":\"4638b5c1-b015-43c2-8675-c9e9f344cf36\",\"type\":\"CDSView\"}],\"root_ids\":[\"8fac3907-3af4-4638-b95e-2188996e5b5b\"]},\"title\":\"Bokeh Application\",\"version\":\"0.12.7\"}};\n",
       "            var render_items = [{\"docid\":\"d3202c69-4ee5-47b6-8a27-7f1ba50ea6db\",\"elementid\":\"f0f27acf-f8a4-436c-bbc9-fcf3a0e45bce\",\"modelid\":\"8fac3907-3af4-4638-b95e-2188996e5b5b\"}];\n",
       "            \n",
       "            Bokeh.embed.embed_items(docs_json, render_items);\n",
       "          };\n",
       "          if (document.readyState != \"loading\") fn();\n",
       "          else document.addEventListener(\"DOMContentLoaded\", fn);\n",
       "        })();\n",
       "      },\n",
       "      function(Bokeh) {\n",
       "      }\n",
       "    ];\n",
       "  \n",
       "    function run_inline_js() {\n",
       "      \n",
       "      if ((root.Bokeh !== undefined) || (force === true)) {\n",
       "        for (var i = 0; i < inline_js.length; i++) {\n",
       "          inline_js[i].call(root, root.Bokeh);\n",
       "        }if (force === true) {\n",
       "          display_loaded();\n",
       "        }} else if (Date.now() < root._bokeh_timeout) {\n",
       "        setTimeout(run_inline_js, 100);\n",
       "      } else if (!root._bokeh_failed_load) {\n",
       "        console.log(\"Bokeh: BokehJS failed to load within specified timeout.\");\n",
       "        root._bokeh_failed_load = true;\n",
       "      } else if (force !== true) {\n",
       "        var cell = $(document.getElementById(\"f0f27acf-f8a4-436c-bbc9-fcf3a0e45bce\")).parents('.cell').data().cell;\n",
       "        cell.output_area.append_execute_result(NB_LOAD_WARNING)\n",
       "      }\n",
       "  \n",
       "    }\n",
       "  \n",
       "    if (root._bokeh_is_loading === 0) {\n",
       "      console.log(\"Bokeh: BokehJS loaded, going straight to plotting\");\n",
       "      run_inline_js();\n",
       "    } else {\n",
       "      load_libs(js_urls, function() {\n",
       "        console.log(\"Bokeh: BokehJS plotting callback run at\", now());\n",
       "        run_inline_js();\n",
       "      });\n",
       "    }\n",
       "  }(window));\n",
       "</script>"
      ]
     },
     "metadata": {},
     "output_type": "display_data"
    }
   ],
   "source": [
    "tab_irq = country_tab('Iraq', irq_year['Deaths'], irq_year['Ratio'])\n",
    "tab_afg = country_tab('Afghanistan', afg_year['Deaths'], afg_year['Ratio'])\n",
    "tab_mex = country_tab('Mexico', mex_year['Deaths'], mex_year['Ratio'])\n",
    "tab_pak = country_tab('Pakistan', pak_year['Deaths'], pak_year['Ratio'])\n",
    "tabs = Tabs(tabs=[ tab_irq, tab_afg, tab_mex, tab_pak ])\n",
    "output_notebook()\n",
    "show(tabs)"
   ]
  },
  {
   "cell_type": "markdown",
   "metadata": {},
   "source": [
    "We will do one analysis per country since the goal of this plot is not to compare country directly to each other since the scale of deaths is not fixed.\n",
    "\n",
    "- Iraq:<br>\n",
    "    The first important point is that in 2003 it is the beginning of the war. Ragarding the ratio we can see an increasing in the number of articles per event. Until 2008 it looks like the ratio is proportional. However after that the ratio increase but not the number of death. A possible explaination is that the US combat force started withdraw in 2009. It is logical that such an event is picked up by the press. Between 2011 and 2013 we see a big increase in the ratio. This period correspond to the \"Arab Spring\". Given that the articles talking about Iraq's border countries has exploded the media naturally covered events in Iraq as well. In 2015 the ratio drastically dropped while the number of deaths remains very high. Events in Iraq may have been \"drowned\" by other events e.g French terrorist attacks, Syria situations...\n",
    "<br>\n",
    "- Afghanistan:<br>\n",
    "    Afghanistan's data seem to be logical from 2000 to around 2011, i.e. the ratio follows more or less the number of deaths (while being slightly higher between 2002 and 2005). However from 2011, the ratio dropped dramatically whereas the number of deaths increased a lot. This may be explained in part by the beginning of war in Syria for example but the difference between the ratio and deaths is too high to only be explained by this. It seems that the interest of media for Afghanistan dropped when it shouldn't have.\n",
    "<br>\n",
    "- Mexico:<br>\n",
    "    The case of Mexico is different, most of armed conflicts in this country come from cartel wars and not international wars. The ratio of articles over events seem to follow quite logically the number of deaths.\n",
    "<br>\n",
    "- Pakistan:<br>\n",
    "    Pakistan coverage by media seems to be quite good until 2011. After, the ratio drops significantly. Once again this can be due to the increase of events in the rest of the world, but it looks like it might be a case of loss of interest as well.\n",
    "    \n",
    "    \n",
    "Overall, it seems like the coverage of media really isn't very fair since the ratio between the number of articles and number of events doesn't follow the curve of number of deaths at some points.\n"
   ]
  },
  {
   "cell_type": "markdown",
   "metadata": {},
   "source": [
    "## 4.4 Articles distributions for violent events"
   ]
  },
  {
   "cell_type": "markdown",
   "metadata": {},
   "source": [
    "The analysis of the evolution of the ratio was a good mesures to see how well the media reacts to events identified. However another useful information is the distribution of the number of articles per year in the coutries of interest.<br>\n",
    "Below are two visualizations of this infomation one is the analysis per year isolating the countries of interest the other is a world map with the entire distribution."
   ]
  },
  {
   "cell_type": "code",
   "execution_count": 26,
   "metadata": {
    "collapsed": true
   },
   "outputs": [],
   "source": [
    "article_ratio_per_country = df_year[[\"Date\", \"Country\", \"Articles\"]]"
   ]
  },
  {
   "cell_type": "code",
   "execution_count": 27,
   "metadata": {},
   "outputs": [
    {
     "data": {
      "text/html": [
       "\n",
       "    <div class=\"bk-root\">\n",
       "        <a href=\"https://bokeh.pydata.org\" target=\"_blank\" class=\"bk-logo bk-logo-small bk-logo-notebook\"></a>\n",
       "        <span id=\"8b34af0e-05b5-4cf4-936d-c694044645d6\">Loading BokehJS ...</span>\n",
       "    </div>"
      ]
     },
     "metadata": {},
     "output_type": "display_data"
    },
    {
     "data": {
      "application/javascript": [
       "\n",
       "(function(root) {\n",
       "  function now() {\n",
       "    return new Date();\n",
       "  }\n",
       "\n",
       "  var force = true;\n",
       "\n",
       "  if (typeof (root._bokeh_onload_callbacks) === \"undefined\" || force === true) {\n",
       "    root._bokeh_onload_callbacks = [];\n",
       "    root._bokeh_is_loading = undefined;\n",
       "  }\n",
       "\n",
       "\n",
       "  \n",
       "  if (typeof (root._bokeh_timeout) === \"undefined\" || force === true) {\n",
       "    root._bokeh_timeout = Date.now() + 5000;\n",
       "    root._bokeh_failed_load = false;\n",
       "  }\n",
       "\n",
       "  var NB_LOAD_WARNING = {'data': {'text/html':\n",
       "     \"<div style='background-color: #fdd'>\\n\"+\n",
       "     \"<p>\\n\"+\n",
       "     \"BokehJS does not appear to have successfully loaded. If loading BokehJS from CDN, this \\n\"+\n",
       "     \"may be due to a slow or bad network connection. Possible fixes:\\n\"+\n",
       "     \"</p>\\n\"+\n",
       "     \"<ul>\\n\"+\n",
       "     \"<li>re-rerun `output_notebook()` to attempt to load from CDN again, or</li>\\n\"+\n",
       "     \"<li>use INLINE resources instead, as so:</li>\\n\"+\n",
       "     \"</ul>\\n\"+\n",
       "     \"<code>\\n\"+\n",
       "     \"from bokeh.resources import INLINE\\n\"+\n",
       "     \"output_notebook(resources=INLINE)\\n\"+\n",
       "     \"</code>\\n\"+\n",
       "     \"</div>\"}};\n",
       "\n",
       "  function display_loaded() {\n",
       "    if (root.Bokeh !== undefined) {\n",
       "      var el = document.getElementById(\"8b34af0e-05b5-4cf4-936d-c694044645d6\");\n",
       "      if (el != null) {\n",
       "        el.textContent = \"BokehJS \" + Bokeh.version + \" successfully loaded.\";\n",
       "      }\n",
       "    } else if (Date.now() < root._bokeh_timeout) {\n",
       "      setTimeout(display_loaded, 100)\n",
       "    }\n",
       "  }\n",
       "\n",
       "\n",
       "  function run_callbacks() {\n",
       "    try {\n",
       "      root._bokeh_onload_callbacks.forEach(function(callback) { callback() });\n",
       "    }\n",
       "    finally {\n",
       "      delete root._bokeh_onload_callbacks\n",
       "    }\n",
       "    console.info(\"Bokeh: all callbacks have finished\");\n",
       "  }\n",
       "\n",
       "  function load_libs(js_urls, callback) {\n",
       "    root._bokeh_onload_callbacks.push(callback);\n",
       "    if (root._bokeh_is_loading > 0) {\n",
       "      console.log(\"Bokeh: BokehJS is being loaded, scheduling callback at\", now());\n",
       "      return null;\n",
       "    }\n",
       "    if (js_urls == null || js_urls.length === 0) {\n",
       "      run_callbacks();\n",
       "      return null;\n",
       "    }\n",
       "    console.log(\"Bokeh: BokehJS not loaded, scheduling load and callback at\", now());\n",
       "    root._bokeh_is_loading = js_urls.length;\n",
       "    for (var i = 0; i < js_urls.length; i++) {\n",
       "      var url = js_urls[i];\n",
       "      var s = document.createElement('script');\n",
       "      s.src = url;\n",
       "      s.async = false;\n",
       "      s.onreadystatechange = s.onload = function() {\n",
       "        root._bokeh_is_loading--;\n",
       "        if (root._bokeh_is_loading === 0) {\n",
       "          console.log(\"Bokeh: all BokehJS libraries loaded\");\n",
       "          run_callbacks()\n",
       "        }\n",
       "      };\n",
       "      s.onerror = function() {\n",
       "        console.warn(\"failed to load library \" + url);\n",
       "      };\n",
       "      console.log(\"Bokeh: injecting script tag for BokehJS library: \", url);\n",
       "      document.getElementsByTagName(\"head\")[0].appendChild(s);\n",
       "    }\n",
       "  };var element = document.getElementById(\"8b34af0e-05b5-4cf4-936d-c694044645d6\");\n",
       "  if (element == null) {\n",
       "    console.log(\"Bokeh: ERROR: autoload.js configured with elementid '8b34af0e-05b5-4cf4-936d-c694044645d6' but no matching script tag was found. \")\n",
       "    return false;\n",
       "  }\n",
       "\n",
       "  var js_urls = [\"https://cdn.pydata.org/bokeh/release/bokeh-0.12.7.min.js\", \"https://cdn.pydata.org/bokeh/release/bokeh-widgets-0.12.7.min.js\", \"https://cdn.pydata.org/bokeh/release/bokeh-tables-0.12.7.min.js\", \"https://cdn.pydata.org/bokeh/release/bokeh-gl-0.12.7.min.js\"];\n",
       "\n",
       "  var inline_js = [\n",
       "    function(Bokeh) {\n",
       "      Bokeh.set_log_level(\"info\");\n",
       "    },\n",
       "    \n",
       "    function(Bokeh) {\n",
       "      \n",
       "    },\n",
       "    \n",
       "    function(Bokeh) {\n",
       "      \n",
       "      document.getElementById(\"8b34af0e-05b5-4cf4-936d-c694044645d6\").textContent = \"BokehJS is loading...\";\n",
       "    },\n",
       "    function(Bokeh) {\n",
       "      console.log(\"Bokeh: injecting CSS: https://cdn.pydata.org/bokeh/release/bokeh-0.12.7.min.css\");\n",
       "      Bokeh.embed.inject_css(\"https://cdn.pydata.org/bokeh/release/bokeh-0.12.7.min.css\");\n",
       "      console.log(\"Bokeh: injecting CSS: https://cdn.pydata.org/bokeh/release/bokeh-widgets-0.12.7.min.css\");\n",
       "      Bokeh.embed.inject_css(\"https://cdn.pydata.org/bokeh/release/bokeh-widgets-0.12.7.min.css\");\n",
       "      console.log(\"Bokeh: injecting CSS: https://cdn.pydata.org/bokeh/release/bokeh-tables-0.12.7.min.css\");\n",
       "      Bokeh.embed.inject_css(\"https://cdn.pydata.org/bokeh/release/bokeh-tables-0.12.7.min.css\");\n",
       "    }\n",
       "  ];\n",
       "\n",
       "  function run_inline_js() {\n",
       "    \n",
       "    if ((root.Bokeh !== undefined) || (force === true)) {\n",
       "      for (var i = 0; i < inline_js.length; i++) {\n",
       "        inline_js[i].call(root, root.Bokeh);\n",
       "      }if (force === true) {\n",
       "        display_loaded();\n",
       "      }} else if (Date.now() < root._bokeh_timeout) {\n",
       "      setTimeout(run_inline_js, 100);\n",
       "    } else if (!root._bokeh_failed_load) {\n",
       "      console.log(\"Bokeh: BokehJS failed to load within specified timeout.\");\n",
       "      root._bokeh_failed_load = true;\n",
       "    } else if (force !== true) {\n",
       "      var cell = $(document.getElementById(\"8b34af0e-05b5-4cf4-936d-c694044645d6\")).parents('.cell').data().cell;\n",
       "      cell.output_area.append_execute_result(NB_LOAD_WARNING)\n",
       "    }\n",
       "\n",
       "  }\n",
       "\n",
       "  if (root._bokeh_is_loading === 0) {\n",
       "    console.log(\"Bokeh: BokehJS loaded, going straight to plotting\");\n",
       "    run_inline_js();\n",
       "  } else {\n",
       "    load_libs(js_urls, function() {\n",
       "      console.log(\"Bokeh: BokehJS plotting callback run at\", now());\n",
       "      run_inline_js();\n",
       "    });\n",
       "  }\n",
       "}(window));"
      ]
     },
     "metadata": {},
     "output_type": "display_data"
    },
    {
     "data": {
      "text/html": [
       "\n",
       "\n",
       "    <div class=\"bk-root\">\n",
       "        <div class=\"bk-plotdiv\" id=\"2b85cce7-9767-49fe-acd1-8a400814d69e\"></div>\n",
       "    </div>\n",
       "<script type=\"text/javascript\">\n",
       "  \n",
       "  (function(root) {\n",
       "    function now() {\n",
       "      return new Date();\n",
       "    }\n",
       "  \n",
       "    var force = false;\n",
       "  \n",
       "    if (typeof (root._bokeh_onload_callbacks) === \"undefined\" || force === true) {\n",
       "      root._bokeh_onload_callbacks = [];\n",
       "      root._bokeh_is_loading = undefined;\n",
       "    }\n",
       "  \n",
       "  \n",
       "    \n",
       "    if (typeof (root._bokeh_timeout) === \"undefined\" || force === true) {\n",
       "      root._bokeh_timeout = Date.now() + 0;\n",
       "      root._bokeh_failed_load = false;\n",
       "    }\n",
       "  \n",
       "    var NB_LOAD_WARNING = {'data': {'text/html':\n",
       "       \"<div style='background-color: #fdd'>\\n\"+\n",
       "       \"<p>\\n\"+\n",
       "       \"BokehJS does not appear to have successfully loaded. If loading BokehJS from CDN, this \\n\"+\n",
       "       \"may be due to a slow or bad network connection. Possible fixes:\\n\"+\n",
       "       \"</p>\\n\"+\n",
       "       \"<ul>\\n\"+\n",
       "       \"<li>re-rerun `output_notebook()` to attempt to load from CDN again, or</li>\\n\"+\n",
       "       \"<li>use INLINE resources instead, as so:</li>\\n\"+\n",
       "       \"</ul>\\n\"+\n",
       "       \"<code>\\n\"+\n",
       "       \"from bokeh.resources import INLINE\\n\"+\n",
       "       \"output_notebook(resources=INLINE)\\n\"+\n",
       "       \"</code>\\n\"+\n",
       "       \"</div>\"}};\n",
       "  \n",
       "    function display_loaded() {\n",
       "      if (root.Bokeh !== undefined) {\n",
       "        var el = document.getElementById(\"2b85cce7-9767-49fe-acd1-8a400814d69e\");\n",
       "        if (el != null) {\n",
       "          el.textContent = \"BokehJS \" + Bokeh.version + \" successfully loaded.\";\n",
       "        }\n",
       "      } else if (Date.now() < root._bokeh_timeout) {\n",
       "        setTimeout(display_loaded, 100)\n",
       "      }\n",
       "    }\n",
       "  \n",
       "  \n",
       "    function run_callbacks() {\n",
       "      try {\n",
       "        root._bokeh_onload_callbacks.forEach(function(callback) { callback() });\n",
       "      }\n",
       "      finally {\n",
       "        delete root._bokeh_onload_callbacks\n",
       "      }\n",
       "      console.info(\"Bokeh: all callbacks have finished\");\n",
       "    }\n",
       "  \n",
       "    function load_libs(js_urls, callback) {\n",
       "      root._bokeh_onload_callbacks.push(callback);\n",
       "      if (root._bokeh_is_loading > 0) {\n",
       "        console.log(\"Bokeh: BokehJS is being loaded, scheduling callback at\", now());\n",
       "        return null;\n",
       "      }\n",
       "      if (js_urls == null || js_urls.length === 0) {\n",
       "        run_callbacks();\n",
       "        return null;\n",
       "      }\n",
       "      console.log(\"Bokeh: BokehJS not loaded, scheduling load and callback at\", now());\n",
       "      root._bokeh_is_loading = js_urls.length;\n",
       "      for (var i = 0; i < js_urls.length; i++) {\n",
       "        var url = js_urls[i];\n",
       "        var s = document.createElement('script');\n",
       "        s.src = url;\n",
       "        s.async = false;\n",
       "        s.onreadystatechange = s.onload = function() {\n",
       "          root._bokeh_is_loading--;\n",
       "          if (root._bokeh_is_loading === 0) {\n",
       "            console.log(\"Bokeh: all BokehJS libraries loaded\");\n",
       "            run_callbacks()\n",
       "          }\n",
       "        };\n",
       "        s.onerror = function() {\n",
       "          console.warn(\"failed to load library \" + url);\n",
       "        };\n",
       "        console.log(\"Bokeh: injecting script tag for BokehJS library: \", url);\n",
       "        document.getElementsByTagName(\"head\")[0].appendChild(s);\n",
       "      }\n",
       "    };var element = document.getElementById(\"2b85cce7-9767-49fe-acd1-8a400814d69e\");\n",
       "    if (element == null) {\n",
       "      console.log(\"Bokeh: ERROR: autoload.js configured with elementid '2b85cce7-9767-49fe-acd1-8a400814d69e' but no matching script tag was found. \")\n",
       "      return false;\n",
       "    }\n",
       "  \n",
       "    var js_urls = [];\n",
       "  \n",
       "    var inline_js = [\n",
       "      function(Bokeh) {\n",
       "        (function() {\n",
       "          var fn = function() {\n",
       "            var docs_json = {\"a05f94e8-965e-4b6f-a09d-b9f9d89736c9\":{\"roots\":{\"references\":[{\"attributes\":{\"callback\":null,\"column_names\":[\"x\",\"y\"],\"data\":{\"x\":[\"AF\",\"IZ\",\"MX\",\"PK\",\"SY\"],\"y\":{\"__ndarray__\":\"ePkEgpXwsT8qgxWaRsucPz5uR2LH4o8/fId4Cu14qD8QVr4tG76jPw==\",\"dtype\":\"float64\",\"shape\":[5]}}},\"id\":\"3ac979c3-98d8-4568-9dba-6cbad058cb56\",\"type\":\"ColumnDataSource\"},{\"attributes\":{\"callback\":null,\"column_names\":[\"x\",\"y\"],\"data\":{\"x\":[\"AF\",\"IZ\",\"MX\",\"PK\",\"SY\"],\"y\":{\"__ndarray__\":\"KgT/gKAWsz/u4naGCkbBPxYe8BBMp3Y//kvdWNqhrz9INUIya8J2Pw==\",\"dtype\":\"float64\",\"shape\":[5]}}},\"id\":\"e3620845-0cf8-4c9c-92d1-5585b4a220b8\",\"type\":\"ColumnDataSource\"},{\"attributes\":{\"callback\":null,\"column_names\":[\"x\",\"y\"],\"data\":{\"x\":[\"AF\",\"IZ\",\"MX\",\"PK\",\"SY\"],\"y\":{\"__ndarray__\":\"V5i1LD/hiD+rBb3ym56GPz+g2GHFl3Y/pNCR5eG+mz9+K2VndrlpPw==\",\"dtype\":\"float64\",\"shape\":[5]}}},\"id\":\"fdbca184-d997-4ccf-9108-c1d9b8c188f3\",\"type\":\"ColumnDataSource\"},{\"attributes\":{\"below\":[{\"id\":\"dd6c34c4-798a-4459-842a-901d7acac11c\",\"type\":\"CategoricalAxis\"}],\"left\":[{\"id\":\"02bac058-0115-4bb8-bf61-ce6c945b142a\",\"type\":\"LinearAxis\"}],\"plot_height\":350,\"renderers\":[{\"id\":\"dd6c34c4-798a-4459-842a-901d7acac11c\",\"type\":\"CategoricalAxis\"},{\"id\":\"e3059c37-7610-46f3-ade5-4795df380741\",\"type\":\"Grid\"},{\"id\":\"02bac058-0115-4bb8-bf61-ce6c945b142a\",\"type\":\"LinearAxis\"},{\"id\":\"09642d8c-d12f-4a42-86d5-2bcd6693a65d\",\"type\":\"Grid\"},{\"id\":\"32569faa-e54a-4edf-a431-c921cbef5a07\",\"type\":\"GlyphRenderer\"},{\"id\":\"d0269b88-aa42-44c5-9d03-e9daa454dedb\",\"type\":\"GlyphRenderer\"}],\"title\":{\"id\":\"2531f113-eac6-4286-bb68-f77858bdc2db\",\"type\":\"Title\"},\"toolbar\":{\"id\":\"a0596dbf-5837-4cc5-91af-4b87d3081bcf\",\"type\":\"Toolbar\"},\"toolbar_location\":null,\"x_range\":{\"id\":\"ceefa27c-80b4-49df-aaa1-4e6770cf013e\",\"type\":\"FactorRange\"},\"x_scale\":{\"id\":\"bfc2f284-461f-4f31-9b2b-2783b8514a28\",\"type\":\"CategoricalScale\"},\"y_range\":{\"id\":\"bcc605eb-1743-4bbe-9f99-7332fdae2725\",\"type\":\"DataRange1d\"},\"y_scale\":{\"id\":\"56dd9ba9-2f87-4e63-a5bd-5d0f35b5e9dc\",\"type\":\"LinearScale\"}},\"id\":\"40e69d8e-026b-4127-bd9d-341630add989\",\"subtype\":\"Figure\",\"type\":\"Plot\"},{\"attributes\":{\"axis_label\":\"Country\",\"formatter\":{\"id\":\"209f5ca8-8584-42a2-9c68-50d2b5b41c81\",\"type\":\"CategoricalTickFormatter\"},\"plot\":{\"id\":\"40e69d8e-026b-4127-bd9d-341630add989\",\"subtype\":\"Figure\",\"type\":\"Plot\"},\"ticker\":{\"id\":\"529b2a86-91cd-4381-a32b-1fe78acd8636\",\"type\":\"CategoricalTicker\"}},\"id\":\"dd6c34c4-798a-4459-842a-901d7acac11c\",\"type\":\"CategoricalAxis\"},{\"attributes\":{\"callback\":null,\"column_names\":[\"x\",\"y\"],\"data\":{\"x\":[\"AF\",\"IZ\",\"MX\",\"PK\",\"SY\"],\"y\":{\"__ndarray__\":\"Xwt/vfh0pz/RIbSRPOLGP6n8NRSaZII/eQKF6qw2nT9eEj+suLiKPw==\",\"dtype\":\"float64\",\"shape\":[5]}}},\"id\":\"018afbe0-068b-4a19-b9e4-341df4abecc4\",\"type\":\"ColumnDataSource\"},{\"attributes\":{\"callback\":null,\"column_names\":[\"x\",\"y\"],\"data\":{\"x\":[\"AF\",\"IZ\",\"MX\",\"PK\",\"SY\"],\"y\":{\"__ndarray__\":\"+PJQQiLTpD+IAdekDzaWP5+fCgQoHW8/HAr/RSngqT8IZJIOBGJYPw==\",\"dtype\":\"float64\",\"shape\":[5]}}},\"id\":\"2eb65e30-1c1f-4b68-a994-1f46a7b215b3\",\"type\":\"ColumnDataSource\"},{\"attributes\":{\"data_source\":{\"id\":\"fdbca184-d997-4ccf-9108-c1d9b8c188f3\",\"type\":\"ColumnDataSource\"},\"glyph\":{\"id\":\"cc9fd241-0921-4ba9-bec9-81d1c22750a4\",\"type\":\"VBar\"},\"hover_glyph\":null,\"muted_glyph\":null,\"view\":{\"id\":\"d93e735d-d7a0-4d59-83e8-c7387b9b8dc7\",\"type\":\"CDSView\"}},\"id\":\"32569faa-e54a-4edf-a431-c921cbef5a07\",\"type\":\"GlyphRenderer\"},{\"attributes\":{},\"id\":\"3944bd3f-6564-4b29-94a9-49a812cfc040\",\"type\":\"BasicTickFormatter\"},{\"attributes\":{\"grid_line_color\":{\"value\":null},\"plot\":{\"id\":\"40e69d8e-026b-4127-bd9d-341630add989\",\"subtype\":\"Figure\",\"type\":\"Plot\"},\"ticker\":{\"id\":\"529b2a86-91cd-4381-a32b-1fe78acd8636\",\"type\":\"CategoricalTicker\"}},\"id\":\"e3059c37-7610-46f3-ade5-4795df380741\",\"type\":\"Grid\"},{\"attributes\":{\"callback\":null,\"end\":0.2,\"start\":0.0},\"id\":\"bcc605eb-1743-4bbe-9f99-7332fdae2725\",\"type\":\"DataRange1d\"},{\"attributes\":{\"callback\":null,\"column_names\":[\"x\",\"y\"],\"data\":{\"x\":[\"AF\",\"IZ\",\"MX\",\"PK\",\"SY\"],\"y\":{\"__ndarray__\":\"AkLU7M1Hqj8GI5/pEF6KP/TadvWVc2s/yg3PiiN+nz+O57EYdAxpPw==\",\"dtype\":\"float64\",\"shape\":[5]}}},\"id\":\"435e893f-b70c-43c5-86ad-af2be8364bbc\",\"type\":\"ColumnDataSource\"},{\"attributes\":{\"callback\":null,\"column_names\":[\"x\",\"y\"],\"data\":{\"x\":[\"AF\",\"IZ\",\"MX\",\"PK\",\"SY\"],\"y\":{\"__ndarray__\":\"95lcAfh/nD8mDsFT46igP9qdR+1YF4A/mAgHatbvmT/ynSz6gb6nPw==\",\"dtype\":\"float64\",\"shape\":[5]}}},\"id\":\"d7da88dc-f466-481a-b828-935ca261958d\",\"type\":\"ColumnDataSource\"},{\"attributes\":{},\"id\":\"0d70c36b-e066-43df-a34c-6a02196858fc\",\"type\":\"BasicTicker\"},{\"attributes\":{},\"id\":\"56dd9ba9-2f87-4e63-a5bd-5d0f35b5e9dc\",\"type\":\"LinearScale\"},{\"attributes\":{\"fill_color\":{\"value\":\"#3288bd\"},\"top\":{\"field\":\"y\"},\"width\":{\"value\":0.5},\"x\":{\"field\":\"x\"}},\"id\":\"cc9fd241-0921-4ba9-bec9-81d1c22750a4\",\"type\":\"VBar\"},{\"attributes\":{\"children\":[{\"id\":\"40e69d8e-026b-4127-bd9d-341630add989\",\"subtype\":\"Figure\",\"type\":\"Plot\"},{\"id\":\"d8f3862f-2ee1-4dfe-87aa-d28f2af87a67\",\"type\":\"WidgetBox\"}]},\"id\":\"1f7ec82c-acd8-4ce0-9e32-3e1d729b2c8f\",\"type\":\"Column\"},{\"attributes\":{\"callback\":null,\"column_names\":[\"x\",\"y\"],\"data\":{\"x\":[\"AF\",\"IZ\",\"MX\",\"PK\",\"SY\"],\"y\":{\"__ndarray__\":\"cVvJrKcPsj+8rPem/IPDP3ormG83Xng/6Z84eB70oT95bPngjjp9Pw==\",\"dtype\":\"float64\",\"shape\":[5]}}},\"id\":\"f184ab9c-39f0-42f0-950e-9c10f5abeac7\",\"type\":\"ColumnDataSource\"},{\"attributes\":{},\"id\":\"529b2a86-91cd-4381-a32b-1fe78acd8636\",\"type\":\"CategoricalTicker\"},{\"attributes\":{},\"id\":\"bfc2f284-461f-4f31-9b2b-2783b8514a28\",\"type\":\"CategoricalScale\"},{\"attributes\":{\"callback\":null,\"column_names\":[\"x\",\"y\"],\"data\":{\"x\":[\"AF\",\"IZ\",\"MX\",\"PK\",\"SY\"],\"y\":{\"__ndarray__\":\"NGeXMKQdmj9RYtJqwnuiP5G5RHzBCIE/UiyCwSthmT9fZFr+THSrPw==\",\"dtype\":\"float64\",\"shape\":[5]}}},\"id\":\"071741fb-48dc-4823-ba99-a5e689cfc807\",\"type\":\"ColumnDataSource\"},{\"attributes\":{\"text\":{\"field\":\"year\"},\"text_color\":{\"value\":\"#EEEEEE\"},\"text_font_size\":{\"value\":\"50pt\"},\"x\":{\"value\":3.5},\"y\":{\"value\":0.15}},\"id\":\"406a6e89-62a4-4dec-bbd0-a43596fb3723\",\"type\":\"Text\"},{\"attributes\":{\"callback\":null,\"factors\":[\"AF\",\"IZ\",\"MX\",\"PK\",\"SY\"]},\"id\":\"ceefa27c-80b4-49df-aaa1-4e6770cf013e\",\"type\":\"FactorRange\"},{\"attributes\":{\"args\":{\"_2000\":{\"id\":\"fdbca184-d997-4ccf-9108-c1d9b8c188f3\",\"type\":\"ColumnDataSource\"},\"_2001\":{\"id\":\"435e893f-b70c-43c5-86ad-af2be8364bbc\",\"type\":\"ColumnDataSource\"},\"_2002\":{\"id\":\"2eb65e30-1c1f-4b68-a994-1f46a7b215b3\",\"type\":\"ColumnDataSource\"},\"_2003\":{\"id\":\"7012b06a-cf06-438c-9ff0-98177623c0b3\",\"type\":\"ColumnDataSource\"},\"_2004\":{\"id\":\"2ce00060-bf42-459e-9e7d-be6e012fcbcc\",\"type\":\"ColumnDataSource\"},\"_2005\":{\"id\":\"018afbe0-068b-4a19-b9e4-341df4abecc4\",\"type\":\"ColumnDataSource\"},\"_2006\":{\"id\":\"f184ab9c-39f0-42f0-950e-9c10f5abeac7\",\"type\":\"ColumnDataSource\"},\"_2007\":{\"id\":\"e3620845-0cf8-4c9c-92d1-5585b4a220b8\",\"type\":\"ColumnDataSource\"},\"_2008\":{\"id\":\"db0fa76f-d6b8-40e5-897e-e177f1c2feeb\",\"type\":\"ColumnDataSource\"},\"_2009\":{\"id\":\"e1c652cc-8c6f-4d79-9f7c-bdd248c38c2a\",\"type\":\"ColumnDataSource\"},\"_2010\":{\"id\":\"fb6fb979-c122-4402-b7f3-95073f422003\",\"type\":\"ColumnDataSource\"},\"_2011\":{\"id\":\"3ac979c3-98d8-4568-9dba-6cbad058cb56\",\"type\":\"ColumnDataSource\"},\"_2012\":{\"id\":\"c3859978-96c7-4a06-a7c7-536457460416\",\"type\":\"ColumnDataSource\"},\"_2013\":{\"id\":\"855d45b1-4295-49fa-adaf-32ecc2c6a05c\",\"type\":\"ColumnDataSource\"},\"_2014\":{\"id\":\"bbdec578-c2ff-42e3-b84a-eff44cfa2893\",\"type\":\"ColumnDataSource\"},\"_2015\":{\"id\":\"d7da88dc-f466-481a-b828-935ca261958d\",\"type\":\"ColumnDataSource\"},\"_2016\":{\"id\":\"071741fb-48dc-4823-ba99-a5e689cfc807\",\"type\":\"ColumnDataSource\"},\"renderer_source\":{\"id\":\"fdbca184-d997-4ccf-9108-c1d9b8c188f3\",\"type\":\"ColumnDataSource\"},\"text_source\":{\"id\":\"358bb65c-4ddc-4be8-aa8a-598dfb7c2b2f\",\"type\":\"ColumnDataSource\"},\"year_slider\":{\"id\":\"b1f58d34-1241-4086-b918-1144208c9d0c\",\"type\":\"Slider\"}},\"code\":\"\\n\\t    var year = year_slider.get('value'),\\n\\t        sources = {2000: _2000, 2001: _2001, 2002: _2002, 2003: _2003, 2004: _2004, 2005: _2005, 2006: _2006, 2007: _2007, 2008: _2008, 2009: _2009, 2010: _2010, 2011: _2011, 2012: _2012, 2013: _2013, 2014: _2014, 2015: _2015, 2016: _2016},\\n\\t        new_source_data = sources[year].get('data');\\n\\t    renderer_source.set('data', new_source_data);\\n\\t    text_source.set('data', {'year': [String(year)]});\\n\\t\"},\"id\":\"7428d894-fdf8-4fe7-83cb-a7f1cba61fec\",\"type\":\"CustomJS\"},{\"attributes\":{\"callback\":null,\"column_names\":[\"x\",\"y\"],\"data\":{\"x\":[\"AF\",\"IZ\",\"MX\",\"PK\",\"SY\"],\"y\":{\"__ndarray__\":\"PjB3TjWynT/OUapNza2sPzFpgnQToIA/QtjRo72Uoz8MVC1BtiGqPw==\",\"dtype\":\"float64\",\"shape\":[5]}}},\"id\":\"bbdec578-c2ff-42e3-b84a-eff44cfa2893\",\"type\":\"ColumnDataSource\"},{\"attributes\":{\"callback\":null,\"column_names\":[\"x\",\"y\"],\"data\":{\"x\":[\"AF\",\"IZ\",\"MX\",\"PK\",\"SY\"],\"y\":{\"__ndarray__\":\"V/7PET+1oz8I3J8UVJnGP2MU/3SeSWw/4/R7AKgxoT9UsUsfbBRyPw==\",\"dtype\":\"float64\",\"shape\":[5]}}},\"id\":\"2ce00060-bf42-459e-9e7d-be6e012fcbcc\",\"type\":\"ColumnDataSource\"},{\"attributes\":{},\"id\":\"209f5ca8-8584-42a2-9c68-50d2b5b41c81\",\"type\":\"CategoricalTickFormatter\"},{\"attributes\":{\"callback\":null,\"column_names\":[\"x\",\"y\"],\"data\":{\"x\":[\"AF\",\"IZ\",\"MX\",\"PK\",\"SY\"],\"y\":{\"__ndarray__\":\"OAPxZEKbqT9l7zGgGFyWPyug5Mz7+YU/XF8+BPPGoT8Z4L3EQmG4Pw==\",\"dtype\":\"float64\",\"shape\":[5]}}},\"id\":\"c3859978-96c7-4a06-a7c7-536457460416\",\"type\":\"ColumnDataSource\"},{\"attributes\":{\"data_source\":{\"id\":\"358bb65c-4ddc-4be8-aa8a-598dfb7c2b2f\",\"type\":\"ColumnDataSource\"},\"glyph\":{\"id\":\"406a6e89-62a4-4dec-bbd0-a43596fb3723\",\"type\":\"Text\"},\"hover_glyph\":null,\"muted_glyph\":null,\"view\":{\"id\":\"15ae3fc5-642a-4f41-8af6-86dc4127deaf\",\"type\":\"CDSView\"}},\"id\":\"d0269b88-aa42-44c5-9d03-e9daa454dedb\",\"type\":\"GlyphRenderer\"},{\"attributes\":{\"callback\":null,\"column_names\":[\"x\",\"y\"],\"data\":{\"x\":[\"AF\",\"IZ\",\"MX\",\"PK\",\"SY\"],\"y\":{\"__ndarray__\":\"KE5AQF2JsT/msPC79T6zP3oNQZbKa4U/T73k06SosT9+mx/tCTB3Pw==\",\"dtype\":\"float64\",\"shape\":[5]}}},\"id\":\"db0fa76f-d6b8-40e5-897e-e177f1c2feeb\",\"type\":\"ColumnDataSource\"},{\"attributes\":{\"active_drag\":\"auto\",\"active_inspect\":\"auto\",\"active_scroll\":\"auto\",\"active_tap\":\"auto\"},\"id\":\"a0596dbf-5837-4cc5-91af-4b87d3081bcf\",\"type\":\"Toolbar\"},{\"attributes\":{\"callback\":{\"id\":\"7428d894-fdf8-4fe7-83cb-a7f1cba61fec\",\"type\":\"CustomJS\"},\"end\":2016,\"start\":2000,\"title\":\"Year\",\"value\":2000},\"id\":\"b1f58d34-1241-4086-b918-1144208c9d0c\",\"type\":\"Slider\"},{\"attributes\":{\"axis_label\":\"Articles\",\"formatter\":{\"id\":\"3944bd3f-6564-4b29-94a9-49a812cfc040\",\"type\":\"BasicTickFormatter\"},\"plot\":{\"id\":\"40e69d8e-026b-4127-bd9d-341630add989\",\"subtype\":\"Figure\",\"type\":\"Plot\"},\"ticker\":{\"id\":\"0d70c36b-e066-43df-a34c-6a02196858fc\",\"type\":\"BasicTicker\"}},\"id\":\"02bac058-0115-4bb8-bf61-ce6c945b142a\",\"type\":\"LinearAxis\"},{\"attributes\":{\"source\":{\"id\":\"358bb65c-4ddc-4be8-aa8a-598dfb7c2b2f\",\"type\":\"ColumnDataSource\"}},\"id\":\"15ae3fc5-642a-4f41-8af6-86dc4127deaf\",\"type\":\"CDSView\"},{\"attributes\":{\"children\":[{\"id\":\"b1f58d34-1241-4086-b918-1144208c9d0c\",\"type\":\"Slider\"}]},\"id\":\"d8f3862f-2ee1-4dfe-87aa-d28f2af87a67\",\"type\":\"WidgetBox\"},{\"attributes\":{\"callback\":null,\"column_names\":[\"x\",\"y\"],\"data\":{\"x\":[\"AF\",\"IZ\",\"MX\",\"PK\",\"SY\"],\"y\":{\"__ndarray__\":\"rLmvHJ21tD9h1st3LxymP0o7/+9KgIw//nFnAPM2uj/arKnWbQ1hPw==\",\"dtype\":\"float64\",\"shape\":[5]}}},\"id\":\"e1c652cc-8c6f-4d79-9f7c-bdd248c38c2a\",\"type\":\"ColumnDataSource\"},{\"attributes\":{\"dimension\":1,\"grid_line_color\":{\"value\":null},\"plot\":{\"id\":\"40e69d8e-026b-4127-bd9d-341630add989\",\"subtype\":\"Figure\",\"type\":\"Plot\"},\"ticker\":{\"id\":\"0d70c36b-e066-43df-a34c-6a02196858fc\",\"type\":\"BasicTicker\"}},\"id\":\"09642d8c-d12f-4a42-86d5-2bcd6693a65d\",\"type\":\"Grid\"},{\"attributes\":{\"callback\":null,\"column_names\":[\"x\",\"y\"],\"data\":{\"x\":[\"AF\",\"IZ\",\"MX\",\"PK\",\"SY\"],\"y\":{\"__ndarray__\":\"XW0AjE0btz/gsm1WsMmlP6KRc3A8754/s4D3GDXVsD97VgrwDwhZPw==\",\"dtype\":\"float64\",\"shape\":[5]}}},\"id\":\"fb6fb979-c122-4402-b7f3-95073f422003\",\"type\":\"ColumnDataSource\"},{\"attributes\":{\"callback\":null,\"column_names\":[\"x\",\"y\"],\"data\":{\"x\":[\"AF\",\"IZ\",\"MX\",\"PK\",\"SY\"],\"y\":{\"__ndarray__\":\"CN8oxfEcnT/qIrgL6VGkPzL8VxsapIA/pXC6uADqpT/rP1qhWHewPw==\",\"dtype\":\"float64\",\"shape\":[5]}}},\"id\":\"855d45b1-4295-49fa-adaf-32ecc2c6a05c\",\"type\":\"ColumnDataSource\"},{\"attributes\":{\"plot\":null,\"text\":\"The Proportion Of Articles Per Year and Per Country\"},\"id\":\"2531f113-eac6-4286-bb68-f77858bdc2db\",\"type\":\"Title\"},{\"attributes\":{\"callback\":null,\"column_names\":[\"year\"],\"data\":{\"year\":[\"2000\"]}},\"id\":\"358bb65c-4ddc-4be8-aa8a-598dfb7c2b2f\",\"type\":\"ColumnDataSource\"},{\"attributes\":{\"source\":{\"id\":\"fdbca184-d997-4ccf-9108-c1d9b8c188f3\",\"type\":\"ColumnDataSource\"}},\"id\":\"d93e735d-d7a0-4d59-83e8-c7387b9b8dc7\",\"type\":\"CDSView\"},{\"attributes\":{\"callback\":null,\"column_names\":[\"x\",\"y\"],\"data\":{\"x\":[\"AF\",\"IZ\",\"MX\",\"PK\",\"SY\"],\"y\":{\"__ndarray__\":\"gTLG6O4LqD8voVj444rBP4DEZdeG5W0/0672hffDoT+1hQaQbtZuPw==\",\"dtype\":\"float64\",\"shape\":[5]}}},\"id\":\"7012b06a-cf06-438c-9ff0-98177623c0b3\",\"type\":\"ColumnDataSource\"}],\"root_ids\":[\"1f7ec82c-acd8-4ce0-9e32-3e1d729b2c8f\"]},\"title\":\"Bokeh Application\",\"version\":\"0.12.7\"}};\n",
       "            var render_items = [{\"docid\":\"a05f94e8-965e-4b6f-a09d-b9f9d89736c9\",\"elementid\":\"2b85cce7-9767-49fe-acd1-8a400814d69e\",\"modelid\":\"1f7ec82c-acd8-4ce0-9e32-3e1d729b2c8f\"}];\n",
       "            \n",
       "            Bokeh.embed.embed_items(docs_json, render_items);\n",
       "          };\n",
       "          if (document.readyState != \"loading\") fn();\n",
       "          else document.addEventListener(\"DOMContentLoaded\", fn);\n",
       "        })();\n",
       "      },\n",
       "      function(Bokeh) {\n",
       "      }\n",
       "    ];\n",
       "  \n",
       "    function run_inline_js() {\n",
       "      \n",
       "      if ((root.Bokeh !== undefined) || (force === true)) {\n",
       "        for (var i = 0; i < inline_js.length; i++) {\n",
       "          inline_js[i].call(root, root.Bokeh);\n",
       "        }if (force === true) {\n",
       "          display_loaded();\n",
       "        }} else if (Date.now() < root._bokeh_timeout) {\n",
       "        setTimeout(run_inline_js, 100);\n",
       "      } else if (!root._bokeh_failed_load) {\n",
       "        console.log(\"Bokeh: BokehJS failed to load within specified timeout.\");\n",
       "        root._bokeh_failed_load = true;\n",
       "      } else if (force !== true) {\n",
       "        var cell = $(document.getElementById(\"2b85cce7-9767-49fe-acd1-8a400814d69e\")).parents('.cell').data().cell;\n",
       "        cell.output_area.append_execute_result(NB_LOAD_WARNING)\n",
       "      }\n",
       "  \n",
       "    }\n",
       "  \n",
       "    if (root._bokeh_is_loading === 0) {\n",
       "      console.log(\"Bokeh: BokehJS loaded, going straight to plotting\");\n",
       "      run_inline_js();\n",
       "    } else {\n",
       "      load_libs(js_urls, function() {\n",
       "        console.log(\"Bokeh: BokehJS plotting callback run at\", now());\n",
       "        run_inline_js();\n",
       "      });\n",
       "    }\n",
       "  }(window));\n",
       "</script>"
      ]
     },
     "metadata": {},
     "output_type": "display_data"
    }
   ],
   "source": [
    "sum_article_world = pd.read_csv(\"Articles_year.csv\")\n",
    "#Filter from 2000-20016\n",
    "sum_article_world = sum_article_world[(sum_article_world.Year >1999)]\n",
    "sum_article_world = sum_article_world[(sum_article_world.Year <2017)]\n",
    "sum_article_world=sum_article_world.rename_axis({\"Year\":\"Date\", \"NbArticles_Year\":\"NbArticles\"}, axis=1)\n",
    "sum_article_world\n",
    "\n",
    "years = np.ndarray.tolist(np.arange(2000,2017,1))\n",
    "years_dict = dict()\n",
    "for y in years:\n",
    "    art = article_ratio_per_country[article_ratio_per_country.Date== y]\n",
    "    years_dict[\"_\"+str(y)] = art\n",
    "    y_str = \"_\"+str(y)\n",
    "layout = year_slider_plot(\"The Proportion Of Articles Per Year and Per Country\", years_dict,\n",
    "                          FactorRange(*years_dict[y_str]['Country']),\n",
    "                          DataRange1d(start=0.0, end=0.2),\n",
    "                          \"Country\", \"Articles\",\n",
    "                          3.5, 0.15)\n",
    "output_notebook()\n",
    "show(layout)"
   ]
  },
  {
   "cell_type": "markdown",
   "metadata": {},
   "source": [
    "This plot shows a relatively normal behavior. The articles about Iraq represented between 2003 and 2007 around 15% of all articles treating violent event in the world. In terms of proportion other countries were small compared to it. One should noticed that Afghanistan never had more than 10% of articles even if, except for years 2002 to 2005, it has the highest number of deaths.<br>\n",
    "In 2010 Mexico reaches his peak, that year in this country, 3000 people were killed close to the U.S frontier and a peak for Pakistan was reached in 2009 were the country suffered from more than 6000 deaths from state based violence.\n",
    " \n",
    "In 2012, the Syrian war began and we can see the ratio of it growing significanlty. As many countries have a p\n"
   ]
  },
  {
   "cell_type": "markdown",
   "metadata": {},
   "source": [
    "## 4.3 Analysis by Country per Event Code"
   ]
  },
  {
   "cell_type": "code",
   "execution_count": 28,
   "metadata": {},
   "outputs": [
    {
     "data": {
      "text/html": [
       "<div>\n",
       "<style>\n",
       "    .dataframe thead tr:only-child th {\n",
       "        text-align: right;\n",
       "    }\n",
       "\n",
       "    .dataframe thead th {\n",
       "        text-align: left;\n",
       "    }\n",
       "\n",
       "    .dataframe tbody tr th {\n",
       "        vertical-align: top;\n",
       "    }\n",
       "</style>\n",
       "<table border=\"1\" class=\"dataframe\">\n",
       "  <thead>\n",
       "    <tr style=\"text-align: right;\">\n",
       "      <th></th>\n",
       "      <th>Country</th>\n",
       "      <th>Date</th>\n",
       "      <th>EventCode</th>\n",
       "      <th>Events</th>\n",
       "      <th>Articles</th>\n",
       "    </tr>\n",
       "  </thead>\n",
       "  <tbody>\n",
       "    <tr>\n",
       "      <th>0</th>\n",
       "      <td>SY</td>\n",
       "      <td>201609</td>\n",
       "      <td>19</td>\n",
       "      <td>26118</td>\n",
       "      <td>558078</td>\n",
       "    </tr>\n",
       "    <tr>\n",
       "      <th>1</th>\n",
       "      <td>SY</td>\n",
       "      <td>201608</td>\n",
       "      <td>19</td>\n",
       "      <td>23797</td>\n",
       "      <td>513882</td>\n",
       "    </tr>\n",
       "    <tr>\n",
       "      <th>2</th>\n",
       "      <td>SY</td>\n",
       "      <td>201602</td>\n",
       "      <td>19</td>\n",
       "      <td>27567</td>\n",
       "      <td>483618</td>\n",
       "    </tr>\n",
       "    <tr>\n",
       "      <th>3</th>\n",
       "      <td>SY</td>\n",
       "      <td>201510</td>\n",
       "      <td>19</td>\n",
       "      <td>27216</td>\n",
       "      <td>469990</td>\n",
       "    </tr>\n",
       "    <tr>\n",
       "      <th>4</th>\n",
       "      <td>SY</td>\n",
       "      <td>201612</td>\n",
       "      <td>19</td>\n",
       "      <td>22474</td>\n",
       "      <td>468685</td>\n",
       "    </tr>\n",
       "  </tbody>\n",
       "</table>\n",
       "</div>"
      ],
      "text/plain": [
       "  Country    Date  EventCode  Events  Articles\n",
       "0      SY  201609         19   26118    558078\n",
       "1      SY  201608         19   23797    513882\n",
       "2      SY  201602         19   27567    483618\n",
       "3      SY  201510         19   27216    469990\n",
       "4      SY  201612         19   22474    468685"
      ]
     },
     "execution_count": 28,
     "metadata": {},
     "output_type": "execute_result"
    }
   ],
   "source": [
    "df.head()"
   ]
  },
  {
   "cell_type": "code",
   "execution_count": 29,
   "metadata": {
    "collapsed": true
   },
   "outputs": [],
   "source": [
    "def df_env_year(_df, country_code):\n",
    "    x = _df[_df['Country'] == country_code].drop('Country', axis=1)\n",
    "    x['Date'] = x['Date'].apply(lambda d: int(d / 100))\n",
    "    return x.groupby(['Date', 'EventCode']).mean()"
   ]
  },
  {
   "cell_type": "code",
   "execution_count": 30,
   "metadata": {
    "collapsed": true
   },
   "outputs": [],
   "source": [
    "df_env = df_normalized.copy()\n",
    "\n",
    "df_env['Ratio'] = df_env['Articles'] / df_env['Events'].astype('float')\n",
    "\n",
    "df_env.drop(['Articles', 'Events'], axis=1, inplace=True)\n",
    "\n",
    "irq_ev = df_env_year(df_env, 'IZ')\n",
    "mex_ev = df_env_year(df_env, 'MX')\n",
    "afg_ev = df_env_year(df_env, 'AF')\n",
    "pak_ev = df_env_year(df_env, 'PK')\n",
    "syr_ev = df_env_year(df_env, 'SY')"
   ]
  },
  {
   "cell_type": "markdown",
   "metadata": {},
   "source": [
    "## Iraq"
   ]
  },
  {
   "cell_type": "code",
   "execution_count": 31,
   "metadata": {},
   "outputs": [
    {
     "data": {
      "image/png": "[encoded data removed]",
      "text/plain": [
       "<matplotlib.figure.Figure at 0x1a1c44dc88>"
      ]
     },
     "metadata": {},
     "output_type": "display_data"
    }
   ],
   "source": [
    "irq_ev.groupby(['Date', 'EventCode']).mean().unstack(level=1).plot(kind='line', subplots=True);"
   ]
  },
  {
   "cell_type": "markdown",
   "metadata": {},
   "source": [
    "## Afghanistan"
   ]
  },
  {
   "cell_type": "code",
   "execution_count": 32,
   "metadata": {},
   "outputs": [
    {
     "data": {
      "image/png": "[encoded data removed]",
      "text/plain": [
       "<matplotlib.figure.Figure at 0x1a199259b0>"
      ]
     },
     "metadata": {},
     "output_type": "display_data"
    }
   ],
   "source": [
    "afg_ev.groupby(['Date', 'EventCode']).mean().unstack(level=1).plot(kind='line', subplots=True);"
   ]
  },
  {
   "cell_type": "markdown",
   "metadata": {},
   "source": [
    "## Pakistan"
   ]
  },
  {
   "cell_type": "code",
   "execution_count": 33,
   "metadata": {},
   "outputs": [
    {
     "data": {
      "image/png": "[encoded data removed]",
      "text/plain": [
       "<matplotlib.figure.Figure at 0x1a18f76ef0>"
      ]
     },
     "metadata": {},
     "output_type": "display_data"
    }
   ],
   "source": [
    "pak_ev.groupby(['Date', 'EventCode']).mean().unstack(level=1).plot(kind='line', subplots=True);"
   ]
  },
  {
   "cell_type": "markdown",
   "metadata": {},
   "source": [
    "## Mexico"
   ]
  },
  {
   "cell_type": "code",
   "execution_count": 34,
   "metadata": {},
   "outputs": [
    {
     "data": {
      "image/png": "[encoded data removed]",
      "text/plain": [
       "<matplotlib.figure.Figure at 0x1a1a2837b8>"
      ]
     },
     "metadata": {},
     "output_type": "display_data"
    }
   ],
   "source": [
    "mex_ev.groupby(['Date', 'EventCode']).mean().unstack(level=1).plot(kind='line', subplots=True);"
   ]
  },
  {
   "cell_type": "markdown",
   "metadata": {},
   "source": [
    "## Syria"
   ]
  },
  {
   "cell_type": "code",
   "execution_count": 35,
   "metadata": {},
   "outputs": [
    {
     "data": {
      "image/png": "[encoded data removed]",
      "text/plain": [
       "<matplotlib.figure.Figure at 0x1a18b7e320>"
      ]
     },
     "metadata": {},
     "output_type": "display_data"
    }
   ],
   "source": [
    "syr_ev.groupby(['Date', 'EventCode']).mean().unstack(level=1).plot(kind='line', subplots=True);"
   ]
  },
  {
   "cell_type": "markdown",
   "metadata": {},
   "source": [
    "As we can see, the type of the events (18, 19 or 20) seems not to influence too much the final ratio between the number of events (i.e. each event has a relatively similar curve shape). This means that our choice of events is sound and can be used without worrying too much about event importance."
   ]
  },
  {
   "cell_type": "markdown",
   "metadata": {},
   "source": [
    "## 5. Conclusion"
   ]
  },
  {
   "cell_type": "code",
   "execution_count": null,
   "metadata": {
    "collapsed": true
   },
   "outputs": [],
   "source": []
  }
 ],
 "metadata": {
  "kernelspec": {
   "display_name": "Python 3",
   "language": "python",
   "name": "python3"
  },
  "language_info": {
   "codemirror_mode": {
    "name": "ipython",
    "version": 3
   },
   "file_extension": ".py",
   "mimetype": "text/x-python",
   "name": "python",
   "nbconvert_exporter": "python",
   "pygments_lexer": "ipython3",
   "version": "3.6.2"
  }
 },
 "nbformat": 4,
 "nbformat_minor": 2
}
